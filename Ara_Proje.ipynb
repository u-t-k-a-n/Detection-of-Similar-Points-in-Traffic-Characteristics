{
  "nbformat": 4,
  "nbformat_minor": 0,
  "metadata": {
    "colab": {
      "name": "Ara_Proje",
      "provenance": [],
      "collapsed_sections": [],
      "authorship_tag": "ABX9TyPAsiJo132/CUrHlV/IARA0",
      "include_colab_link": true
    },
    "kernelspec": {
      "name": "python3",
      "display_name": "Python 3"
    },
    "language_info": {
      "name": "python"
    }
  },
  "cells": [
    {
      "cell_type": "markdown",
      "metadata": {
        "id": "view-in-github",
        "colab_type": "text"
      },
      "source": [
        "<a href=\"https://colab.research.google.com/github/u-t-k-a-n/Detection-of-Similar-Points-in-Traffic-Characteristics/blob/main/Ara_Proje.ipynb\" target=\"_parent\"><img src=\"https://colab.research.google.com/assets/colab-badge.svg\" alt=\"Open In Colab\"/></a>"
      ]
    },
    {
      "cell_type": "code",
      "metadata": {
        "id": "o2My-WbA4b2l"
      },
      "source": [
        "import os\n",
        "import pandas as pd"
      ],
      "execution_count": 2,
      "outputs": []
    },
    {
      "cell_type": "code",
      "metadata": {
        "colab": {
          "base_uri": "https://localhost:8080/"
        },
        "id": "SRBpcCa28Z5v",
        "outputId": "667e220c-3f4d-4e91-cb30-c2c058591197"
      },
      "source": [
        "from google.colab import drive\n",
        "drive.mount('/content/drive')"
      ],
      "execution_count": 17,
      "outputs": [
        {
          "output_type": "stream",
          "name": "stdout",
          "text": [
            "Mounted at /content/drive\n"
          ]
        }
      ]
    },
    {
      "cell_type": "code",
      "metadata": {
        "id": "k0L1ZpQD87TU"
      },
      "source": [
        "path = \"drive/MyDrive/2017\"\n",
        "files = list()"
      ],
      "execution_count": 3,
      "outputs": []
    },
    {
      "cell_type": "code",
      "metadata": {
        "id": "AlgKZ5lQ5dyl"
      },
      "source": [
        "for dirname, _, filenames in os.walk(path):\n",
        "    for filename in filenames:\n",
        "        files.append(os.path.join(dirname, filename))\n",
        "        "
      ],
      "execution_count": 4,
      "outputs": []
    },
    {
      "cell_type": "code",
      "metadata": {
        "id": "rJEZbGOv9ayD"
      },
      "source": [
        "len_files = len(files)"
      ],
      "execution_count": 5,
      "outputs": []
    },
    {
      "cell_type": "code",
      "metadata": {
        "id": "XnpB4OH5A1rn"
      },
      "source": [
        "len_under_10 = 0\n",
        "len_over_130 = 0\n",
        "\n",
        "for i in range(len_files):\n",
        "  df = pd.read_csv(files[i])\n",
        "  if df[\"1\"].min() < 10:\n",
        "    len_under_10 += 1\n",
        "  if df[\"1\"].max() > 130:\n",
        "    len_over_130 += 1\n",
        "  print(\"over 130: \", len_over_130)\n",
        "  print(\"i: \",i)\n",
        "  "
      ],
      "execution_count": null,
      "outputs": []
    },
    {
      "cell_type": "code",
      "metadata": {
        "colab": {
          "base_uri": "https://localhost:8080/"
        },
        "id": "cMflPD-AIiVl",
        "outputId": "7d9152d4-646e-4da8-ca87-9515428ca326"
      },
      "source": [
        "len_over_130"
      ],
      "execution_count": 13,
      "outputs": [
        {
          "output_type": "execute_result",
          "data": {
            "text/plain": [
              "886"
            ]
          },
          "metadata": {},
          "execution_count": 13
        }
      ]
    },
    {
      "cell_type": "code",
      "metadata": {
        "colab": {
          "base_uri": "https://localhost:8080/"
        },
        "id": "7TXh5fKkIiHO",
        "outputId": "d167c4b3-3fd2-45d7-c5cc-768227aca5e7"
      },
      "source": [
        "len_under_10"
      ],
      "execution_count": 14,
      "outputs": [
        {
          "output_type": "execute_result",
          "data": {
            "text/plain": [
              "1656"
            ]
          },
          "metadata": {},
          "execution_count": 14
        }
      ]
    },
    {
      "cell_type": "code",
      "metadata": {
        "id": "ZMhaVhnVJ5yL"
      },
      "source": [
        "frequency_over_130 = (len_over_130/len_files)*100\n",
        "frequency_under_10 = (len_under_10/len_files)*100"
      ],
      "execution_count": 15,
      "outputs": []
    },
    {
      "cell_type": "code",
      "metadata": {
        "colab": {
          "base_uri": "https://localhost:8080/"
        },
        "id": "BdYcarBcJ5n5",
        "outputId": "37af7cde-1599-460c-f7fb-9125a2991c51"
      },
      "source": [
        "frequency_over_130"
      ],
      "execution_count": 16,
      "outputs": [
        {
          "output_type": "execute_result",
          "data": {
            "text/plain": [
              "53.5024154589372"
            ]
          },
          "metadata": {},
          "execution_count": 16
        }
      ]
    },
    {
      "cell_type": "code",
      "metadata": {
        "colab": {
          "base_uri": "https://localhost:8080/"
        },
        "id": "uHKuJou0KNy1",
        "outputId": "05677daf-524e-4a12-eeb5-ca9813f55436"
      },
      "source": [
        "frequency_under_10"
      ],
      "execution_count": 20,
      "outputs": [
        {
          "output_type": "execute_result",
          "data": {
            "text/plain": [
              "100.0"
            ]
          },
          "metadata": {},
          "execution_count": 20
        }
      ]
    },
    {
      "cell_type": "code",
      "metadata": {
        "id": "KngwfNr990Bt"
      },
      "source": [
        "df = pd.read_csv(files[1])"
      ],
      "execution_count": 45,
      "outputs": []
    },
    {
      "cell_type": "code",
      "metadata": {
        "colab": {
          "base_uri": "https://localhost:8080/"
        },
        "id": "z4vboXcff7Qn",
        "outputId": "2a326a72-bd44-4389-c334-5bdf7d899535"
      },
      "source": [
        "type(df[\"1\"].min())"
      ],
      "execution_count": 64,
      "outputs": [
        {
          "output_type": "execute_result",
          "data": {
            "text/plain": [
              "float"
            ]
          },
          "metadata": {},
          "execution_count": 64
        }
      ]
    },
    {
      "cell_type": "code",
      "metadata": {
        "id": "PpXvlw-YaPNk"
      },
      "source": [
        "len_file = len(df)"
      ],
      "execution_count": 26,
      "outputs": []
    },
    {
      "cell_type": "code",
      "metadata": {
        "id": "TToZRJx0dH3C"
      },
      "source": [
        "file_info = pd.DataFrame(columns=[\"under_10\",\"over_130\",\"freq_under_10\",\"freq_over_130\"])"
      ],
      "execution_count": 55,
      "outputs": []
    },
    {
      "cell_type": "code",
      "metadata": {
        "colab": {
          "base_uri": "https://localhost:8080/",
          "height": 49
        },
        "id": "T-Bk97nddmbg",
        "outputId": "47a292aa-1c19-4a03-a6eb-dff6e308164c"
      },
      "source": [
        "file_info"
      ],
      "execution_count": 56,
      "outputs": [
        {
          "output_type": "execute_result",
          "data": {
            "text/html": [
              "<div>\n",
              "<style scoped>\n",
              "    .dataframe tbody tr th:only-of-type {\n",
              "        vertical-align: middle;\n",
              "    }\n",
              "\n",
              "    .dataframe tbody tr th {\n",
              "        vertical-align: top;\n",
              "    }\n",
              "\n",
              "    .dataframe thead th {\n",
              "        text-align: right;\n",
              "    }\n",
              "</style>\n",
              "<table border=\"1\" class=\"dataframe\">\n",
              "  <thead>\n",
              "    <tr style=\"text-align: right;\">\n",
              "      <th></th>\n",
              "      <th>under_10</th>\n",
              "      <th>over_130</th>\n",
              "      <th>freq_under_10</th>\n",
              "      <th>freq_over_130</th>\n",
              "    </tr>\n",
              "  </thead>\n",
              "  <tbody>\n",
              "  </tbody>\n",
              "</table>\n",
              "</div>"
            ],
            "text/plain": [
              "Empty DataFrame\n",
              "Columns: [under_10, over_130, freq_under_10, freq_over_130]\n",
              "Index: []"
            ]
          },
          "metadata": {},
          "execution_count": 56
        }
      ]
    },
    {
      "cell_type": "code",
      "metadata": {
        "id": "Wz14Rw75aXQp"
      },
      "source": [
        "for i in range(len_files):\n",
        "  df = pd.read_csv(files[i]) \n",
        "  file_info.loc[files[i]] = [df[\"1\"].min() < 10,\n",
        "                        df[\"1\"].max() > 130,\n",
        "                        len(df[\"1\"][df[\"1\"] < 10]) / len_file,\n",
        "                        len(df[\"1\"][df[\"1\"] > 130]) / len_file]\n",
        "  \n",
        "  print(\"i: \",i)"
      ],
      "execution_count": null,
      "outputs": []
    },
    {
      "cell_type": "code",
      "metadata": {
        "colab": {
          "base_uri": "https://localhost:8080/",
          "height": 300
        },
        "id": "vEdqgUhliLkK",
        "outputId": "1d4d1c13-b0dc-4239-d150-9968f9a9f0b5"
      },
      "source": [
        "file_info.describe()"
      ],
      "execution_count": 67,
      "outputs": [
        {
          "output_type": "execute_result",
          "data": {
            "text/html": [
              "<div>\n",
              "<style scoped>\n",
              "    .dataframe tbody tr th:only-of-type {\n",
              "        vertical-align: middle;\n",
              "    }\n",
              "\n",
              "    .dataframe tbody tr th {\n",
              "        vertical-align: top;\n",
              "    }\n",
              "\n",
              "    .dataframe thead th {\n",
              "        text-align: right;\n",
              "    }\n",
              "</style>\n",
              "<table border=\"1\" class=\"dataframe\">\n",
              "  <thead>\n",
              "    <tr style=\"text-align: right;\">\n",
              "      <th></th>\n",
              "      <th>freq_under_10</th>\n",
              "      <th>freq_over_130</th>\n",
              "    </tr>\n",
              "  </thead>\n",
              "  <tbody>\n",
              "    <tr>\n",
              "      <th>count</th>\n",
              "      <td>1656.000000</td>\n",
              "      <td>1656.000000</td>\n",
              "    </tr>\n",
              "    <tr>\n",
              "      <th>mean</th>\n",
              "      <td>0.137683</td>\n",
              "      <td>0.001307</td>\n",
              "    </tr>\n",
              "    <tr>\n",
              "      <th>std</th>\n",
              "      <td>0.158675</td>\n",
              "      <td>0.007115</td>\n",
              "    </tr>\n",
              "    <tr>\n",
              "      <th>min</th>\n",
              "      <td>0.031849</td>\n",
              "      <td>0.000000</td>\n",
              "    </tr>\n",
              "    <tr>\n",
              "      <th>25%</th>\n",
              "      <td>0.036116</td>\n",
              "      <td>0.000000</td>\n",
              "    </tr>\n",
              "    <tr>\n",
              "      <th>50%</th>\n",
              "      <td>0.072950</td>\n",
              "      <td>0.000010</td>\n",
              "    </tr>\n",
              "    <tr>\n",
              "      <th>75%</th>\n",
              "      <td>0.177616</td>\n",
              "      <td>0.000314</td>\n",
              "    </tr>\n",
              "    <tr>\n",
              "      <th>max</th>\n",
              "      <td>1.000000</td>\n",
              "      <td>0.122479</td>\n",
              "    </tr>\n",
              "  </tbody>\n",
              "</table>\n",
              "</div>"
            ],
            "text/plain": [
              "       freq_under_10  freq_over_130\n",
              "count    1656.000000    1656.000000\n",
              "mean        0.137683       0.001307\n",
              "std         0.158675       0.007115\n",
              "min         0.031849       0.000000\n",
              "25%         0.036116       0.000000\n",
              "50%         0.072950       0.000010\n",
              "75%         0.177616       0.000314\n",
              "max         1.000000       0.122479"
            ]
          },
          "metadata": {},
          "execution_count": 67
        }
      ]
    },
    {
      "cell_type": "code",
      "metadata": {
        "colab": {
          "base_uri": "https://localhost:8080/",
          "height": 424
        },
        "id": "VOIVsMx_lOgh",
        "outputId": "fa857b8b-6aec-4c29-f83c-0a1ebf1b2bad"
      },
      "source": [
        "file_info.sort_values(\"freq_under_10\",ascending=False)"
      ],
      "execution_count": 71,
      "outputs": [
        {
          "output_type": "execute_result",
          "data": {
            "text/html": [
              "<div>\n",
              "<style scoped>\n",
              "    .dataframe tbody tr th:only-of-type {\n",
              "        vertical-align: middle;\n",
              "    }\n",
              "\n",
              "    .dataframe tbody tr th {\n",
              "        vertical-align: top;\n",
              "    }\n",
              "\n",
              "    .dataframe thead th {\n",
              "        text-align: right;\n",
              "    }\n",
              "</style>\n",
              "<table border=\"1\" class=\"dataframe\">\n",
              "  <thead>\n",
              "    <tr style=\"text-align: right;\">\n",
              "      <th></th>\n",
              "      <th>under_10</th>\n",
              "      <th>over_130</th>\n",
              "      <th>freq_under_10</th>\n",
              "      <th>freq_over_130</th>\n",
              "    </tr>\n",
              "  </thead>\n",
              "  <tbody>\n",
              "    <tr>\n",
              "      <th>drive/MyDrive/2017/926_1_2017.csv</th>\n",
              "      <td>True</td>\n",
              "      <td>False</td>\n",
              "      <td>1.000000</td>\n",
              "      <td>0.000000</td>\n",
              "    </tr>\n",
              "    <tr>\n",
              "      <th>drive/MyDrive/2017/929_0_2017.csv</th>\n",
              "      <td>True</td>\n",
              "      <td>False</td>\n",
              "      <td>1.000000</td>\n",
              "      <td>0.000000</td>\n",
              "    </tr>\n",
              "    <tr>\n",
              "      <th>drive/MyDrive/2017/926_0_2017.csv</th>\n",
              "      <td>True</td>\n",
              "      <td>False</td>\n",
              "      <td>1.000000</td>\n",
              "      <td>0.000000</td>\n",
              "    </tr>\n",
              "    <tr>\n",
              "      <th>drive/MyDrive/2017/928_0_2017.csv</th>\n",
              "      <td>True</td>\n",
              "      <td>False</td>\n",
              "      <td>1.000000</td>\n",
              "      <td>0.000000</td>\n",
              "    </tr>\n",
              "    <tr>\n",
              "      <th>drive/MyDrive/2017/921_1_2017.csv</th>\n",
              "      <td>True</td>\n",
              "      <td>False</td>\n",
              "      <td>1.000000</td>\n",
              "      <td>0.000000</td>\n",
              "    </tr>\n",
              "    <tr>\n",
              "      <th>...</th>\n",
              "      <td>...</td>\n",
              "      <td>...</td>\n",
              "      <td>...</td>\n",
              "      <td>...</td>\n",
              "    </tr>\n",
              "    <tr>\n",
              "      <th>drive/MyDrive/2017/467_1_2017.csv</th>\n",
              "      <td>True</td>\n",
              "      <td>False</td>\n",
              "      <td>0.031963</td>\n",
              "      <td>0.000000</td>\n",
              "    </tr>\n",
              "    <tr>\n",
              "      <th>drive/MyDrive/2017/329_1_2017.csv</th>\n",
              "      <td>True</td>\n",
              "      <td>True</td>\n",
              "      <td>0.031954</td>\n",
              "      <td>0.000010</td>\n",
              "    </tr>\n",
              "    <tr>\n",
              "      <th>drive/MyDrive/2017/328_1_2017.csv</th>\n",
              "      <td>True</td>\n",
              "      <td>True</td>\n",
              "      <td>0.031859</td>\n",
              "      <td>0.000010</td>\n",
              "    </tr>\n",
              "    <tr>\n",
              "      <th>drive/MyDrive/2017/255_1_2017.csv</th>\n",
              "      <td>True</td>\n",
              "      <td>False</td>\n",
              "      <td>0.031849</td>\n",
              "      <td>0.000000</td>\n",
              "    </tr>\n",
              "    <tr>\n",
              "      <th>drive/MyDrive/2017/327_1_2017.csv</th>\n",
              "      <td>True</td>\n",
              "      <td>True</td>\n",
              "      <td>0.031849</td>\n",
              "      <td>0.000029</td>\n",
              "    </tr>\n",
              "  </tbody>\n",
              "</table>\n",
              "<p>1656 rows × 4 columns</p>\n",
              "</div>"
            ],
            "text/plain": [
              "                                  under_10  ... freq_over_130\n",
              "drive/MyDrive/2017/926_1_2017.csv     True  ...      0.000000\n",
              "drive/MyDrive/2017/929_0_2017.csv     True  ...      0.000000\n",
              "drive/MyDrive/2017/926_0_2017.csv     True  ...      0.000000\n",
              "drive/MyDrive/2017/928_0_2017.csv     True  ...      0.000000\n",
              "drive/MyDrive/2017/921_1_2017.csv     True  ...      0.000000\n",
              "...                                    ...  ...           ...\n",
              "drive/MyDrive/2017/467_1_2017.csv     True  ...      0.000000\n",
              "drive/MyDrive/2017/329_1_2017.csv     True  ...      0.000010\n",
              "drive/MyDrive/2017/328_1_2017.csv     True  ...      0.000010\n",
              "drive/MyDrive/2017/255_1_2017.csv     True  ...      0.000000\n",
              "drive/MyDrive/2017/327_1_2017.csv     True  ...      0.000029\n",
              "\n",
              "[1656 rows x 4 columns]"
            ]
          },
          "metadata": {},
          "execution_count": 71
        }
      ]
    },
    {
      "cell_type": "code",
      "metadata": {
        "id": "Q22bZKmM9zpz"
      },
      "source": [
        "import seaborn as sns"
      ],
      "execution_count": 32,
      "outputs": []
    },
    {
      "cell_type": "code",
      "metadata": {
        "colab": {
          "base_uri": "https://localhost:8080/",
          "height": 297
        },
        "id": "eCU908ig-iY7",
        "outputId": "483c137b-a38b-4e27-af87-69bc1b736f6c"
      },
      "source": [
        "sns.barplot(x=df[\"0\"][:100],y=df[\"1\"][:100])"
      ],
      "execution_count": 35,
      "outputs": [
        {
          "output_type": "execute_result",
          "data": {
            "text/plain": [
              "<matplotlib.axes._subplots.AxesSubplot at 0x7fdb35bbd990>"
            ]
          },
          "metadata": {},
          "execution_count": 35
        },
        {
          "output_type": "display_data",
          "data": {
            "image/png": "[encoded data removed]",
            "text/plain": [
              "<Figure size 432x288 with 1 Axes>"
            ]
          },
          "metadata": {
            "needs_background": "light"
          }
        }
      ]
    },
    {
      "cell_type": "code",
      "metadata": {
        "colab": {
          "base_uri": "https://localhost:8080/",
          "height": 354
        },
        "id": "m8638UWz-iVy",
        "outputId": "b0d3ceb7-3221-4dd8-a42a-ed99d0a66f77"
      },
      "source": [
        "sns.boxplot(df[\"1\"])"
      ],
      "execution_count": 37,
      "outputs": [
        {
          "output_type": "stream",
          "name": "stderr",
          "text": [
            "/usr/local/lib/python3.7/dist-packages/seaborn/_decorators.py:43: FutureWarning: Pass the following variable as a keyword arg: x. From version 0.12, the only valid positional argument will be `data`, and passing other arguments without an explicit keyword will result in an error or misinterpretation.\n",
            "  FutureWarning\n"
          ]
        },
        {
          "output_type": "execute_result",
          "data": {
            "text/plain": [
              "<matplotlib.axes._subplots.AxesSubplot at 0x7fdb359f0dd0>"
            ]
          },
          "metadata": {},
          "execution_count": 37
        },
        {
          "output_type": "display_data",
          "data": {
            "image/png": "[encoded data removed]",
            "text/plain": [
              "<Figure size 432x288 with 1 Axes>"
            ]
          },
          "metadata": {
            "needs_background": "light"
          }
        }
      ]
    },
    {
      "cell_type": "code",
      "metadata": {
        "colab": {
          "base_uri": "https://localhost:8080/",
          "height": 297
        },
        "id": "XGISQZEXACei",
        "outputId": "0ff85bd5-c07f-4cb5-ca3c-94c8c30e464b"
      },
      "source": [
        "sns.lineplot(y=df[\"1\"][:100],x=df[\"0\"][:100])"
      ],
      "execution_count": 41,
      "outputs": [
        {
          "output_type": "execute_result",
          "data": {
            "text/plain": [
              "<matplotlib.axes._subplots.AxesSubplot at 0x7fdb340e6690>"
            ]
          },
          "metadata": {},
          "execution_count": 41
        },
        {
          "output_type": "display_data",
          "data": {
            "image/png": "[encoded data removed]",
            "text/plain": [
              "<Figure size 432x288 with 1 Axes>"
            ]
          },
          "metadata": {
            "needs_background": "light"
          }
        }
      ]
    }
  ]
}