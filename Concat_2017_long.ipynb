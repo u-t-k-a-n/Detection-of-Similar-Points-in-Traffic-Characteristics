{
  "nbformat": 4,
  "nbformat_minor": 0,
  "metadata": {
    "colab": {
      "name": "Concat_2017_long.ipynb",
      "provenance": [],
      "collapsed_sections": [],
      "authorship_tag": "ABX9TyOrBQMquEZigL5xe2Kv3mgF",
      "include_colab_link": true
    },
    "kernelspec": {
      "name": "python3",
      "display_name": "Python 3"
    },
    "language_info": {
      "name": "python"
    }
  },
  "cells": [
    {
      "cell_type": "markdown",
      "metadata": {
        "id": "view-in-github",
        "colab_type": "text"
      },
      "source": [
        "<a href=\"https://colab.research.google.com/github/u-t-k-a-n/Detection-of-Similar-Points-in-Traffic-Characteristics/blob/main/Concat_2017_long.ipynb\" target=\"_parent\"><img src=\"https://colab.research.google.com/assets/colab-badge.svg\" alt=\"Open In Colab\"/></a>"
      ]
    },
    {
      "cell_type": "code",
      "source": [
        "import pandas as pd\n",
        "from google.colab import drive\n",
        "drive.mount('/content/drive')\n",
        "import os\n",
        "path = \"drive/MyDrive/2017_v1\"\n",
        "files = list()\n",
        "for dirname, _, filenames in os.walk(path):\n",
        "    for filename in filenames:\n",
        "        files.append(os.path.join(dirname, filename))"
      ],
      "metadata": {
        "id": "7DfvJifkPF2G"
      },
      "execution_count": null,
      "outputs": []
    },
    {
      "cell_type": "code",
      "source": [
        "df = pd.DataFrame(columns=[\"time\",\"speed\",\"id\"]) # id -> files[i]"
      ],
      "metadata": {
        "id": "3GZLZgg8IMSM"
      },
      "execution_count": null,
      "outputs": []
    },
    {
      "cell_type": "code",
      "source": [
        "for i in range(len(files)):\n",
        "  df2 = pd.read_csv(files[i])\n",
        "  df2.drop(columns = [\"is_under_10\",\"is_over_130\"],inplace=True)\n",
        "  df2[\"id\"] = i\n",
        "  df = pd.concat([df,df2])\n"
      ],
      "metadata": {
        "id": "-m7RseOMIMVO"
      },
      "execution_count": null,
      "outputs": []
    },
    {
      "cell_type": "code",
      "source": [
        "df.to_csv(\"drive/MyDrive/2017_concat/Concat_2017_v1_00.csv\")"
      ],
      "metadata": {
        "id": "O5K-VtdmIMYB"
      },
      "execution_count": null,
      "outputs": []
    },
    {
      "cell_type": "code",
      "source": [
        ""
      ],
      "metadata": {
        "id": "_2AcZepxIMgB"
      },
      "execution_count": null,
      "outputs": []
    },
    {
      "cell_type": "code",
      "source": [
        ""
      ],
      "metadata": {
        "id": "e-_5QpiRPF4f"
      },
      "execution_count": null,
      "outputs": []
    }
  ]
}