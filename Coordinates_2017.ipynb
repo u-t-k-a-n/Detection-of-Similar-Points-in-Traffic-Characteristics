{
  "nbformat": 4,
  "nbformat_minor": 0,
  "metadata": {
    "colab": {
      "name": "Coordinates_2017",
      "provenance": [],
      "collapsed_sections": [],
      "authorship_tag": "ABX9TyOZUItWOUfrkcLiGNmrYehS",
      "include_colab_link": true
    },
    "kernelspec": {
      "name": "python3",
      "display_name": "Python 3"
    },
    "language_info": {
      "name": "python"
    }
  },
  "cells": [
    {
      "cell_type": "markdown",
      "metadata": {
        "id": "view-in-github",
        "colab_type": "text"
      },
      "source": [
        "<a href=\"https://colab.research.google.com/github/u-t-k-a-n/Detection-of-Similar-Points-in-Traffic-Characteristics/blob/main/Coordinates_2017.ipynb\" target=\"_parent\"><img src=\"https://colab.research.google.com/assets/colab-badge.svg\" alt=\"Open In Colab\"/></a>"
      ]
    },
    {
      "cell_type": "code",
      "metadata": {
        "id": "7U9Sw6KiydBF"
      },
      "source": [
        "import os\n",
        "import pandas as pd"
      ],
      "execution_count": 1,
      "outputs": []
    },
    {
      "cell_type": "code",
      "metadata": {
        "colab": {
          "base_uri": "https://localhost:8080/"
        },
        "id": "enWxGUpy6qv6",
        "outputId": "2aed38af-4b56-4a50-a19b-5ea7b50cebc4"
      },
      "source": [
        "from google.colab import drive\n",
        "drive.mount('/content/drive')"
      ],
      "execution_count": 2,
      "outputs": [
        {
          "output_type": "stream",
          "name": "stdout",
          "text": [
            "Mounted at /content/drive\n"
          ]
        }
      ]
    },
    {
      "cell_type": "code",
      "metadata": {
        "id": "DObD5GeSydD1"
      },
      "source": [
        "path = \"drive/MyDrive/2017_v1\"\n",
        "files = list()"
      ],
      "execution_count": 3,
      "outputs": []
    },
    {
      "cell_type": "code",
      "metadata": {
        "id": "eo8q2ftwydGs"
      },
      "source": [
        "for dirname, _, filenames in os.walk(path):\n",
        "    for filename in filenames:\n",
        "        files.append(os.path.join(dirname, filename))"
      ],
      "execution_count": 4,
      "outputs": []
    },
    {
      "cell_type": "code",
      "metadata": {
        "colab": {
          "base_uri": "https://localhost:8080/"
        },
        "id": "PQqo8TKUydJv",
        "outputId": "bb0bcae7-47dc-4847-d5ca-95e159ea2483"
      },
      "source": [
        "len(files)"
      ],
      "execution_count": 5,
      "outputs": [
        {
          "output_type": "execute_result",
          "data": {
            "text/plain": [
              "1466"
            ]
          },
          "metadata": {},
          "execution_count": 5
        }
      ]
    },
    {
      "cell_type": "code",
      "metadata": {
        "id": "XPC7ZLb759Uf"
      },
      "source": [
        "files.sort()"
      ],
      "execution_count": 6,
      "outputs": []
    },
    {
      "cell_type": "code",
      "metadata": {
        "id": "jpb586-F6BmL"
      },
      "source": [
        "files"
      ],
      "execution_count": null,
      "outputs": []
    },
    {
      "cell_type": "code",
      "metadata": {
        "id": "fE_Fgbxw7R_U"
      },
      "source": [
        "new_files = list()"
      ],
      "execution_count": 8,
      "outputs": []
    },
    {
      "cell_type": "code",
      "metadata": {
        "id": "lW7srBb061xB"
      },
      "source": [
        "for file_name in files:\n",
        "  name = file_name.split(\"/\")\n",
        "  name = name[-1]\n",
        "  name = name.rstrip(\"2017.csv\")\n",
        "  name = name.strip(\"_\")\n",
        "  id,direction = name.split(\"_\")\n",
        "  new_files.append((int(id),int(direction)))"
      ],
      "execution_count": 9,
      "outputs": []
    },
    {
      "cell_type": "code",
      "metadata": {
        "id": "-gwR2Irf9Dtg"
      },
      "source": [
        "new_files"
      ],
      "execution_count": null,
      "outputs": []
    },
    {
      "cell_type": "code",
      "metadata": {
        "id": "dEEjHCkbydL9"
      },
      "source": [
        "data = pd.read_json('drive/MyDrive/Metadata/Coordinates.json')"
      ],
      "execution_count": 11,
      "outputs": []
    },
    {
      "cell_type": "code",
      "metadata": {
        "colab": {
          "base_uri": "https://localhost:8080/",
          "height": 677
        },
        "id": "Fob-8g6OydOt",
        "outputId": "5e2433df-0479-4e93-86e9-e5e2528d0513"
      },
      "source": [
        "data.iloc[180:200]"
      ],
      "execution_count": 12,
      "outputs": [
        {
          "output_type": "execute_result",
          "data": {
            "text/html": [
              "<div>\n",
              "<style scoped>\n",
              "    .dataframe tbody tr th:only-of-type {\n",
              "        vertical-align: middle;\n",
              "    }\n",
              "\n",
              "    .dataframe tbody tr th {\n",
              "        vertical-align: top;\n",
              "    }\n",
              "\n",
              "    .dataframe thead th {\n",
              "        text-align: right;\n",
              "    }\n",
              "</style>\n",
              "<table border=\"1\" class=\"dataframe\">\n",
              "  <thead>\n",
              "    <tr style=\"text-align: right;\">\n",
              "      <th></th>\n",
              "      <th>vSegID</th>\n",
              "      <th>vSegDir</th>\n",
              "      <th>gCoordinate</th>\n",
              "    </tr>\n",
              "  </thead>\n",
              "  <tbody>\n",
              "    <tr>\n",
              "      <th>180</th>\n",
              "      <td>99</td>\n",
              "      <td>1</td>\n",
              "      <td>[[41.0324449, 28.9365895], [41.0331218, 28.937...</td>\n",
              "    </tr>\n",
              "    <tr>\n",
              "      <th>181</th>\n",
              "      <td>100</td>\n",
              "      <td>0</td>\n",
              "      <td>[[41.0325301, 28.9365657], [41.0318514, 28.935...</td>\n",
              "    </tr>\n",
              "    <tr>\n",
              "      <th>182</th>\n",
              "      <td>100</td>\n",
              "      <td>1</td>\n",
              "      <td>[[41.025294, 28.92955], [41.0268473, 28.931072...</td>\n",
              "    </tr>\n",
              "    <tr>\n",
              "      <th>183</th>\n",
              "      <td>101</td>\n",
              "      <td>0</td>\n",
              "      <td>[[41.025396, 28.929454], [41.02492, 28.929003]...</td>\n",
              "    </tr>\n",
              "    <tr>\n",
              "      <th>184</th>\n",
              "      <td>101</td>\n",
              "      <td>1</td>\n",
              "      <td>[[41.018156, 28.922682000000002], [41.01816, 2...</td>\n",
              "    </tr>\n",
              "    <tr>\n",
              "      <th>185</th>\n",
              "      <td>102</td>\n",
              "      <td>0</td>\n",
              "      <td>[[41.01822, 28.922559], [41.015674, 28.921473]...</td>\n",
              "    </tr>\n",
              "    <tr>\n",
              "      <th>186</th>\n",
              "      <td>102</td>\n",
              "      <td>1</td>\n",
              "      <td>[[41.00946, 28.921622], [41.011608, 28.92168],...</td>\n",
              "    </tr>\n",
              "    <tr>\n",
              "      <th>187</th>\n",
              "      <td>103</td>\n",
              "      <td>0</td>\n",
              "      <td>[[41.009464, 28.921482], [41.008938, 28.921468...</td>\n",
              "    </tr>\n",
              "    <tr>\n",
              "      <th>188</th>\n",
              "      <td>103</td>\n",
              "      <td>1</td>\n",
              "      <td>[[41.000631, 28.919852], [41.005837, 28.920954...</td>\n",
              "    </tr>\n",
              "    <tr>\n",
              "      <th>189</th>\n",
              "      <td>104</td>\n",
              "      <td>0</td>\n",
              "      <td>[[40.993921, 28.920229], [40.993462, 28.919996...</td>\n",
              "    </tr>\n",
              "    <tr>\n",
              "      <th>190</th>\n",
              "      <td>104</td>\n",
              "      <td>1</td>\n",
              "      <td>[[40.988264, 28.919945], [40.988434, 28.919378...</td>\n",
              "    </tr>\n",
              "    <tr>\n",
              "      <th>191</th>\n",
              "      <td>105</td>\n",
              "      <td>0</td>\n",
              "      <td>[[41.016546, 28.910908], [41.017353, 28.913161...</td>\n",
              "    </tr>\n",
              "    <tr>\n",
              "      <th>192</th>\n",
              "      <td>105</td>\n",
              "      <td>1</td>\n",
              "      <td>[[41.019232, 28.91973], [41.018893, 28.917758]...</td>\n",
              "    </tr>\n",
              "    <tr>\n",
              "      <th>193</th>\n",
              "      <td>106</td>\n",
              "      <td>0</td>\n",
              "      <td>[[41.01859, 28.926306], [41.016547, 28.930484]...</td>\n",
              "    </tr>\n",
              "    <tr>\n",
              "      <th>194</th>\n",
              "      <td>106</td>\n",
              "      <td>1</td>\n",
              "      <td>[[41.015294, 28.933397], [41.015781, 28.932369...</td>\n",
              "    </tr>\n",
              "    <tr>\n",
              "      <th>195</th>\n",
              "      <td>107</td>\n",
              "      <td>0</td>\n",
              "      <td>[[41.015172, 28.933328], [41.014095, 28.935604...</td>\n",
              "    </tr>\n",
              "    <tr>\n",
              "      <th>196</th>\n",
              "      <td>107</td>\n",
              "      <td>1</td>\n",
              "      <td>[[41.011918, 28.940334], [41.012072, 28.939809...</td>\n",
              "    </tr>\n",
              "    <tr>\n",
              "      <th>197</th>\n",
              "      <td>108</td>\n",
              "      <td>0</td>\n",
              "      <td>[[41.011787, 28.940286], [41.011133, 28.942514...</td>\n",
              "    </tr>\n",
              "    <tr>\n",
              "      <th>198</th>\n",
              "      <td>108</td>\n",
              "      <td>1</td>\n",
              "      <td>[[41.009855, 28.948166], [41.010377, 28.945585...</td>\n",
              "    </tr>\n",
              "    <tr>\n",
              "      <th>199</th>\n",
              "      <td>109</td>\n",
              "      <td>0</td>\n",
              "      <td>[[41.00959, 28.954073], [41.009586, 28.961201]]</td>\n",
              "    </tr>\n",
              "  </tbody>\n",
              "</table>\n",
              "</div>"
            ],
            "text/plain": [
              "     vSegID  vSegDir                                        gCoordinate\n",
              "180      99        1  [[41.0324449, 28.9365895], [41.0331218, 28.937...\n",
              "181     100        0  [[41.0325301, 28.9365657], [41.0318514, 28.935...\n",
              "182     100        1  [[41.025294, 28.92955], [41.0268473, 28.931072...\n",
              "183     101        0  [[41.025396, 28.929454], [41.02492, 28.929003]...\n",
              "184     101        1  [[41.018156, 28.922682000000002], [41.01816, 2...\n",
              "185     102        0  [[41.01822, 28.922559], [41.015674, 28.921473]...\n",
              "186     102        1  [[41.00946, 28.921622], [41.011608, 28.92168],...\n",
              "187     103        0  [[41.009464, 28.921482], [41.008938, 28.921468...\n",
              "188     103        1  [[41.000631, 28.919852], [41.005837, 28.920954...\n",
              "189     104        0  [[40.993921, 28.920229], [40.993462, 28.919996...\n",
              "190     104        1  [[40.988264, 28.919945], [40.988434, 28.919378...\n",
              "191     105        0  [[41.016546, 28.910908], [41.017353, 28.913161...\n",
              "192     105        1  [[41.019232, 28.91973], [41.018893, 28.917758]...\n",
              "193     106        0  [[41.01859, 28.926306], [41.016547, 28.930484]...\n",
              "194     106        1  [[41.015294, 28.933397], [41.015781, 28.932369...\n",
              "195     107        0  [[41.015172, 28.933328], [41.014095, 28.935604...\n",
              "196     107        1  [[41.011918, 28.940334], [41.012072, 28.939809...\n",
              "197     108        0  [[41.011787, 28.940286], [41.011133, 28.942514...\n",
              "198     108        1  [[41.009855, 28.948166], [41.010377, 28.945585...\n",
              "199     109        0    [[41.00959, 28.954073], [41.009586, 28.961201]]"
            ]
          },
          "metadata": {},
          "execution_count": 12
        }
      ]
    },
    {
      "cell_type": "code",
      "metadata": {
        "colab": {
          "base_uri": "https://localhost:8080/"
        },
        "id": "xMdQvU505ld6",
        "outputId": "9ea38a81-c6c4-4f24-f332-db10f1487ab6"
      },
      "source": [
        "all_coordinates = list()\n",
        "coordinate_set = set()\n",
        "different_coord = list()\n",
        "\n",
        "for new_file in new_files:\n",
        "  \n",
        "  if ((data[\"vSegID\"] == new_file[0]) & (data[\"vSegDir\"] == new_file[1])).sum():\n",
        "    if (list(data[(data[\"vSegID\"] == new_file[0]) & (data[\"vSegDir\"] == new_file[1])][\"gCoordinate\"])[0][0][0],\n",
        "         list(data[(data[\"vSegID\"] == new_file[0]) & (data[\"vSegDir\"] == new_file[1])][\"gCoordinate\"])[0][0][1]\n",
        "         ) in coordinate_set:\n",
        "\n",
        "         different_coord.append((new_file[0],new_file[1],\n",
        "                                 list(data[(data[\"vSegID\"] == new_file[0]) & (data[\"vSegDir\"] == new_file[1])][\"gCoordinate\"])[0][0][0],\n",
        "                                 list(data[(data[\"vSegID\"] == new_file[0]) & (data[\"vSegDir\"] == new_file[1])][\"gCoordinate\"])[0][0][1]))\n",
        "\n",
        "         print(new_file,list(data[(data[\"vSegID\"] == new_file[0]) & (data[\"vSegDir\"] == new_file[1])][\"gCoordinate\"])[0][0][0],\n",
        "               list(data[(data[\"vSegID\"] == new_file[0]) & (data[\"vSegDir\"] == new_file[1])][\"gCoordinate\"])[0][0][1])\n",
        "    \n",
        "\n",
        "    coordinate_set.add(\n",
        "        (list(data[(data[\"vSegID\"] == new_file[0]) & (data[\"vSegDir\"] == new_file[1])][\"gCoordinate\"])[0][0][0],\n",
        "         list(data[(data[\"vSegID\"] == new_file[0]) & (data[\"vSegDir\"] == new_file[1])][\"gCoordinate\"])[0][0][1]\n",
        "         )\n",
        "        )\n",
        "    \n",
        "    all_coordinates.append(\n",
        "        (new_file[0],new_file[1],\n",
        "         list(data[(data[\"vSegID\"] == new_file[0]) & (data[\"vSegDir\"] == new_file[1])][\"gCoordinate\"])[0][0][0],\n",
        "         list(data[(data[\"vSegID\"] == new_file[0]) & (data[\"vSegDir\"] == new_file[1])][\"gCoordinate\"])[0][0][1]         \n",
        "         )\n",
        "    )\n",
        "    "
      ],
      "execution_count": 55,
      "outputs": [
        {
          "output_type": "stream",
          "name": "stdout",
          "text": [
            "(2083, 0) 40.997579 28.932985\n",
            "(76, 1) 41.0721772 29.0161166\n"
          ]
        }
      ]
    },
    {
      "cell_type": "code",
      "metadata": {
        "colab": {
          "base_uri": "https://localhost:8080/"
        },
        "id": "H4CbSSS-G_K7",
        "outputId": "9174b23d-0047-4885-b5cf-fce20c28c8e7"
      },
      "source": [
        "len(coordinate_set)"
      ],
      "execution_count": 23,
      "outputs": [
        {
          "output_type": "execute_result",
          "data": {
            "text/plain": [
              "1464"
            ]
          },
          "metadata": {},
          "execution_count": 23
        }
      ]
    },
    {
      "cell_type": "code",
      "metadata": {
        "colab": {
          "base_uri": "https://localhost:8080/"
        },
        "id": "q_s2ON_0B6K7",
        "outputId": "a6d5778c-cd80-49ce-96ec-c8518ac2160c"
      },
      "source": [
        "len(all_coordinates)"
      ],
      "execution_count": 24,
      "outputs": [
        {
          "output_type": "execute_result",
          "data": {
            "text/plain": [
              "1466"
            ]
          },
          "metadata": {},
          "execution_count": 24
        }
      ]
    },
    {
      "cell_type": "code",
      "metadata": {
        "colab": {
          "base_uri": "https://localhost:8080/"
        },
        "id": "0lAgYE6LAwqC",
        "outputId": "2ad1a881-2f91-461b-9c5d-cb1ea7c40ec9"
      },
      "source": [
        "(list(data[(data[\"vSegID\"] == 2083) & (data[\"vSegDir\"] == 0)][\"gCoordinate\"])[0][1][0],\n",
        "         list(data[(data[\"vSegID\"] == 2083) & (data[\"vSegDir\"] == 0)][\"gCoordinate\"])[0][1][1]\n",
        "         ) in coordinate_set"
      ],
      "execution_count": 42,
      "outputs": [
        {
          "output_type": "execute_result",
          "data": {
            "text/plain": [
              "False"
            ]
          },
          "metadata": {},
          "execution_count": 42
        }
      ]
    },
    {
      "cell_type": "code",
      "metadata": {
        "colab": {
          "base_uri": "https://localhost:8080/"
        },
        "id": "pYsJrfnKBOu6",
        "outputId": "4cfbfb02-1f5d-4d25-d4aa-66ba7f2faba7"
      },
      "source": [
        "(list(data[(data[\"vSegID\"] == 76) & (data[\"vSegDir\"] == 1)][\"gCoordinate\"])[0][1][0],\\\n",
        "        list(data[(data[\"vSegID\"] == 76) & (data[\"vSegDir\"] == 1)][\"gCoordinate\"])[0][1][1]\\\n",
        "         ) in coordinate_set"
      ],
      "execution_count": 43,
      "outputs": [
        {
          "output_type": "execute_result",
          "data": {
            "text/plain": [
              "False"
            ]
          },
          "metadata": {},
          "execution_count": 43
        }
      ]
    },
    {
      "cell_type": "code",
      "metadata": {
        "colab": {
          "base_uri": "https://localhost:8080/"
        },
        "id": "gI-fxmbw_fl6",
        "outputId": "bf481b32-75b7-47af-bd80-b4877c26ed00"
      },
      "source": [
        "all_coordinates[:10]"
      ],
      "execution_count": 53,
      "outputs": [
        {
          "output_type": "execute_result",
          "data": {
            "text/plain": [
              "[(100, 0, 41.0325301, 28.9365657),\n",
              " (100, 1, 41.025294, 28.92955),\n",
              " (101, 0, 41.025396, 28.929454),\n",
              " (101, 1, 41.018156, 28.922682000000002),\n",
              " (1026, 1, 40.9909258, 28.6798182),\n",
              " (102, 0, 41.01822, 28.922559),\n",
              " (102, 1, 41.00946, 28.921622),\n",
              " (103, 0, 41.009464, 28.921482),\n",
              " (103, 1, 41.000631, 28.919852),\n",
              " (104, 0, 40.993921, 28.920229)]"
            ]
          },
          "metadata": {},
          "execution_count": 53
        }
      ]
    },
    {
      "cell_type": "code",
      "metadata": {
        "colab": {
          "base_uri": "https://localhost:8080/"
        },
        "id": "jw0UMfpo_SH7",
        "outputId": "b2fee46d-4ea3-4dcd-8ac6-1e737b17038c"
      },
      "source": [
        "for name,direction,x,y in all_coordinates:\n",
        "  if x == 40.997579 or x == 41.0721772:\n",
        "    print(x,y,name,direction)"
      ],
      "execution_count": 56,
      "outputs": [
        {
          "output_type": "stream",
          "name": "stdout",
          "text": [
            "40.997579 28.932985 2082 0\n",
            "40.997579 28.932985 2083 0\n",
            "41.0721772 29.0161166 744 0\n",
            "41.0721772 29.0161166 76 1\n"
          ]
        }
      ]
    },
    {
      "cell_type": "code",
      "metadata": {
        "colab": {
          "base_uri": "https://localhost:8080/"
        },
        "id": "ART-AZFVGyeJ",
        "outputId": "2d32b6f1-7320-4ae6-827f-187108f17783"
      },
      "source": [
        "different_coord"
      ],
      "execution_count": 57,
      "outputs": [
        {
          "output_type": "execute_result",
          "data": {
            "text/plain": [
              "[(2083, 0, 40.997579, 28.932985), (76, 1, 41.0721772, 29.0161166)]"
            ]
          },
          "metadata": {},
          "execution_count": 57
        }
      ]
    },
    {
      "cell_type": "code",
      "metadata": {
        "id": "3pLaIectFgrp"
      },
      "source": [
        "for name_diff_coord,dir_diff_coord,x,y in different_coord:\n",
        "    all_coordinates.remove((name_diff_coord,dir_diff_coord,x,y))\n",
        "\n"
      ],
      "execution_count": 58,
      "outputs": []
    },
    {
      "cell_type": "code",
      "metadata": {
        "colab": {
          "base_uri": "https://localhost:8080/"
        },
        "id": "SjYHLBGbIWxQ",
        "outputId": "048d9dff-6a89-4ac0-9fac-f9ac7b1c357a"
      },
      "source": [
        "len(all_coordinates)"
      ],
      "execution_count": 59,
      "outputs": [
        {
          "output_type": "execute_result",
          "data": {
            "text/plain": [
              "1464"
            ]
          },
          "metadata": {},
          "execution_count": 59
        }
      ]
    },
    {
      "cell_type": "code",
      "metadata": {
        "colab": {
          "base_uri": "https://localhost:8080/"
        },
        "id": "TY_EbeY1I3rJ",
        "outputId": "b1104ae3-4e30-4cb9-b039-8dfa66943c6c"
      },
      "source": [
        "different_coord"
      ],
      "execution_count": 62,
      "outputs": [
        {
          "output_type": "execute_result",
          "data": {
            "text/plain": [
              "[(2083, 0, 40.997579, 28.932985), (76, 1, 41.0721772, 29.0161166)]"
            ]
          },
          "metadata": {},
          "execution_count": 62
        }
      ]
    },
    {
      "cell_type": "code",
      "metadata": {
        "id": "u2piGY8L_SCy"
      },
      "source": [
        "for name,direction,x,y in different_coord:\n",
        "  if ((data[\"vSegID\"] == name) & (data[\"vSegDir\"] == direction)).sum():\n",
        "    \n",
        "    if (list(data[(data[\"vSegID\"] == name) & (data[\"vSegDir\"] == direction)][\"gCoordinate\"])[0][1][0],\n",
        "         list(data[(data[\"vSegID\"] == name) & (data[\"vSegDir\"] == direction)][\"gCoordinate\"])[0][1][1]\n",
        "         ) in coordinate_set:\n",
        "         \n",
        "         print(name,direction,(list(data[(data[\"vSegID\"] == name) & (data[\"vSegDir\"] == direction)][\"gCoordinate\"])[0][1][0],\n",
        "         list(data[(data[\"vSegID\"] == name) & (data[\"vSegDir\"] == direction)][\"gCoordinate\"])[0][1][1]))\n",
        "         \n",
        "    coordinate_set.add(\n",
        "        (list(data[(data[\"vSegID\"] == name) & (data[\"vSegDir\"] == direction)][\"gCoordinate\"])[0][1][0],\n",
        "         list(data[(data[\"vSegID\"] == name) & (data[\"vSegDir\"] == direction)][\"gCoordinate\"])[0][1][1]\n",
        "         )\n",
        "        )\n",
        "\n",
        "    all_coordinates.append(\n",
        "        (name,direction,\n",
        "         list(data[(data[\"vSegID\"] == name) & (data[\"vSegDir\"] == direction)][\"gCoordinate\"])[0][1][0],\n",
        "         list(data[(data[\"vSegID\"] == name) & (data[\"vSegDir\"] == direction)][\"gCoordinate\"])[0][1][1]         \n",
        "         )\n",
        "    )\n",
        "    \n"
      ],
      "execution_count": 64,
      "outputs": []
    },
    {
      "cell_type": "code",
      "metadata": {
        "colab": {
          "base_uri": "https://localhost:8080/"
        },
        "id": "I7ImTPUBJWqZ",
        "outputId": "7840a343-c9a1-412d-e139-54c77e1ad43a"
      },
      "source": [
        "len(all_coordinates)"
      ],
      "execution_count": 65,
      "outputs": [
        {
          "output_type": "execute_result",
          "data": {
            "text/plain": [
              "1466"
            ]
          },
          "metadata": {},
          "execution_count": 65
        }
      ]
    },
    {
      "cell_type": "code",
      "metadata": {
        "colab": {
          "base_uri": "https://localhost:8080/"
        },
        "id": "JK3JZnBzJZK9",
        "outputId": "27a12a9a-81d0-484d-c718-e90efbb05828"
      },
      "source": [
        "all_coordinates[-1]"
      ],
      "execution_count": 71,
      "outputs": [
        {
          "output_type": "execute_result",
          "data": {
            "text/plain": [
              "(76, 1, 41.072672, 29.0161176)"
            ]
          },
          "metadata": {},
          "execution_count": 71
        }
      ]
    },
    {
      "cell_type": "code",
      "metadata": {
        "id": "kzm8TOk0KArU"
      },
      "source": [
        "df = pd.DataFrame(columns=[\"vSegID\",\"vSegDir\",\"longitude\",\"latitude\"],data=all_coordinates)"
      ],
      "execution_count": 72,
      "outputs": []
    },
    {
      "cell_type": "code",
      "metadata": {
        "colab": {
          "base_uri": "https://localhost:8080/",
          "height": 424
        },
        "id": "t7-IFC0QMvMf",
        "outputId": "d7e97828-12c0-43aa-ba85-3a7f35c05a88"
      },
      "source": [
        "df"
      ],
      "execution_count": 73,
      "outputs": [
        {
          "output_type": "execute_result",
          "data": {
            "text/html": [
              "<div>\n",
              "<style scoped>\n",
              "    .dataframe tbody tr th:only-of-type {\n",
              "        vertical-align: middle;\n",
              "    }\n",
              "\n",
              "    .dataframe tbody tr th {\n",
              "        vertical-align: top;\n",
              "    }\n",
              "\n",
              "    .dataframe thead th {\n",
              "        text-align: right;\n",
              "    }\n",
              "</style>\n",
              "<table border=\"1\" class=\"dataframe\">\n",
              "  <thead>\n",
              "    <tr style=\"text-align: right;\">\n",
              "      <th></th>\n",
              "      <th>vSegID</th>\n",
              "      <th>vSegDir</th>\n",
              "      <th>longitude</th>\n",
              "      <th>latitude</th>\n",
              "    </tr>\n",
              "  </thead>\n",
              "  <tbody>\n",
              "    <tr>\n",
              "      <th>0</th>\n",
              "      <td>100</td>\n",
              "      <td>0</td>\n",
              "      <td>41.032530</td>\n",
              "      <td>28.936566</td>\n",
              "    </tr>\n",
              "    <tr>\n",
              "      <th>1</th>\n",
              "      <td>100</td>\n",
              "      <td>1</td>\n",
              "      <td>41.025294</td>\n",
              "      <td>28.929550</td>\n",
              "    </tr>\n",
              "    <tr>\n",
              "      <th>2</th>\n",
              "      <td>101</td>\n",
              "      <td>0</td>\n",
              "      <td>41.025396</td>\n",
              "      <td>28.929454</td>\n",
              "    </tr>\n",
              "    <tr>\n",
              "      <th>3</th>\n",
              "      <td>101</td>\n",
              "      <td>1</td>\n",
              "      <td>41.018156</td>\n",
              "      <td>28.922682</td>\n",
              "    </tr>\n",
              "    <tr>\n",
              "      <th>4</th>\n",
              "      <td>1026</td>\n",
              "      <td>1</td>\n",
              "      <td>40.990926</td>\n",
              "      <td>28.679818</td>\n",
              "    </tr>\n",
              "    <tr>\n",
              "      <th>...</th>\n",
              "      <td>...</td>\n",
              "      <td>...</td>\n",
              "      <td>...</td>\n",
              "      <td>...</td>\n",
              "    </tr>\n",
              "    <tr>\n",
              "      <th>1461</th>\n",
              "      <td>99</td>\n",
              "      <td>0</td>\n",
              "      <td>41.040595</td>\n",
              "      <td>28.940399</td>\n",
              "    </tr>\n",
              "    <tr>\n",
              "      <th>1462</th>\n",
              "      <td>99</td>\n",
              "      <td>1</td>\n",
              "      <td>41.032445</td>\n",
              "      <td>28.936590</td>\n",
              "    </tr>\n",
              "    <tr>\n",
              "      <th>1463</th>\n",
              "      <td>9</td>\n",
              "      <td>0</td>\n",
              "      <td>40.954825</td>\n",
              "      <td>29.083659</td>\n",
              "    </tr>\n",
              "    <tr>\n",
              "      <th>1464</th>\n",
              "      <td>2083</td>\n",
              "      <td>0</td>\n",
              "      <td>40.998055</td>\n",
              "      <td>28.933086</td>\n",
              "    </tr>\n",
              "    <tr>\n",
              "      <th>1465</th>\n",
              "      <td>76</td>\n",
              "      <td>1</td>\n",
              "      <td>41.072672</td>\n",
              "      <td>29.016118</td>\n",
              "    </tr>\n",
              "  </tbody>\n",
              "</table>\n",
              "<p>1466 rows × 4 columns</p>\n",
              "</div>"
            ],
            "text/plain": [
              "      vSegID  vSegDir  longitude   latitude\n",
              "0        100        0  41.032530  28.936566\n",
              "1        100        1  41.025294  28.929550\n",
              "2        101        0  41.025396  28.929454\n",
              "3        101        1  41.018156  28.922682\n",
              "4       1026        1  40.990926  28.679818\n",
              "...      ...      ...        ...        ...\n",
              "1461      99        0  41.040595  28.940399\n",
              "1462      99        1  41.032445  28.936590\n",
              "1463       9        0  40.954825  29.083659\n",
              "1464    2083        0  40.998055  28.933086\n",
              "1465      76        1  41.072672  29.016118\n",
              "\n",
              "[1466 rows x 4 columns]"
            ]
          },
          "metadata": {},
          "execution_count": 73
        }
      ]
    },
    {
      "cell_type": "code",
      "metadata": {
        "id": "sHxWb8rXMvJ1"
      },
      "source": [
        "df.to_csv(\"drive/MyDrive/Metadata/Coordinates_2017.csv\",index=False)"
      ],
      "execution_count": 75,
      "outputs": []
    }
  ]
}