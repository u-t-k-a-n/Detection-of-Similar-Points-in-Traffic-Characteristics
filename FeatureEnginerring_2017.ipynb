{
  "nbformat": 4,
  "nbformat_minor": 0,
  "metadata": {
    "colab": {
      "name": "FeatureEnginerring_2017.ipynb",
      "provenance": [],
      "collapsed_sections": [],
      "authorship_tag": "ABX9TyNLVg9pPe4tdR26vdGKzOdq",
      "include_colab_link": true
    },
    "kernelspec": {
      "name": "python3",
      "display_name": "Python 3"
    },
    "language_info": {
      "name": "python"
    }
  },
  "cells": [
    {
      "cell_type": "markdown",
      "metadata": {
        "id": "view-in-github",
        "colab_type": "text"
      },
      "source": [
        "<a href=\"https://colab.research.google.com/github/u-t-k-a-n/Detection-of-Similar-Points-in-Traffic-Characteristics/blob/main/FeatureEnginerring_2017.ipynb\" target=\"_parent\"><img src=\"https://colab.research.google.com/assets/colab-badge.svg\" alt=\"Open In Colab\"/></a>"
      ]
    },
    {
      "cell_type": "code",
      "metadata": {
        "id": "dagCMuA3QTTJ"
      },
      "source": [
        "import os\n",
        "import pandas as pd"
      ],
      "execution_count": 1,
      "outputs": []
    },
    {
      "cell_type": "code",
      "metadata": {
        "colab": {
          "base_uri": "https://localhost:8080/"
        },
        "id": "9CqjOWW9SOJt",
        "outputId": "00166b5b-b67f-44a0-f06b-caede28e96d7"
      },
      "source": [
        "from google.colab import drive\n",
        "drive.mount('/content/drive')"
      ],
      "execution_count": 2,
      "outputs": [
        {
          "output_type": "stream",
          "name": "stdout",
          "text": [
            "Mounted at /content/drive\n"
          ]
        }
      ]
    },
    {
      "cell_type": "code",
      "metadata": {
        "id": "wM4eTtXASORP"
      },
      "source": [
        "path = \"drive/MyDrive/2017_v1\"\n",
        "files = list()"
      ],
      "execution_count": 3,
      "outputs": []
    },
    {
      "cell_type": "code",
      "metadata": {
        "id": "8FYSN3omSYIm"
      },
      "source": [
        "for dirname, _, filenames in os.walk(path):\n",
        "    for filename in filenames:\n",
        "        files.append(os.path.join(dirname, filename))"
      ],
      "execution_count": 4,
      "outputs": []
    },
    {
      "cell_type": "code",
      "metadata": {
        "id": "OfTgnkY6bCkF"
      },
      "source": [
        "for i in files:\n",
        "  df = pd.read_csv(i)\n",
        "  df.columns = [\"time\",\"speed\"]\n",
        "  df[\"is_under_10\"] = df[\"speed\"] < 10\n",
        "  df[\"is_over_130\"] = df[\"speed\"] > 130\n",
        "  df['is_over_130'] = df['is_over_130'].astype(int)\n",
        "  df['is_under_10'] = df['is_under_10'].astype(int)\n",
        "  df[\"speed\"].loc[df['is_under_10'] == 1] = 10\n",
        "  df[\"speed\"].loc[df['is_over_130'] == 1] = 130\n",
        "  df.to_csv(i,index=False)\n"
      ],
      "execution_count": null,
      "outputs": []
    }
  ]
}