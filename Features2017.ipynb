{
  "nbformat": 4,
  "nbformat_minor": 0,
  "metadata": {
    "colab": {
      "name": "Features2017.ipynb",
      "provenance": [],
      "machine_shape": "hm",
      "authorship_tag": "ABX9TyMVGs/eGnA/BFrcv0f/A5WH",
      "include_colab_link": true
    },
    "kernelspec": {
      "name": "python3",
      "display_name": "Python 3"
    },
    "language_info": {
      "name": "python"
    }
  },
  "cells": [
    {
      "cell_type": "markdown",
      "metadata": {
        "id": "view-in-github",
        "colab_type": "text"
      },
      "source": [
        "<a href=\"https://colab.research.google.com/github/u-t-k-a-n/Detection-of-Similar-Points-in-Traffic-Characteristics/blob/main/Features2017.ipynb\" target=\"_parent\"><img src=\"https://colab.research.google.com/assets/colab-badge.svg\" alt=\"Open In Colab\"/></a>"
      ]
    },
    {
      "cell_type": "code",
      "source": [
        "!pip install tsfresh"
      ],
      "metadata": {
        "id": "Qbi1UKDribA_"
      },
      "execution_count": null,
      "outputs": []
    },
    {
      "cell_type": "code",
      "source": [
        "from tsfresh import extract_features, extract_relevant_features, select_features\n",
        "from tsfresh.utilities.dataframe_functions import impute"
      ],
      "metadata": {
        "id": "yaVEWMLZZjOr"
      },
      "execution_count": 1,
      "outputs": []
    },
    {
      "cell_type": "code",
      "execution_count": 2,
      "metadata": {
        "id": "O5rGD5m-R2Jt",
        "colab": {
          "base_uri": "https://localhost:8080/"
        },
        "outputId": "8dcd6822-40c4-45cf-b1f0-ceee82298792"
      },
      "outputs": [
        {
          "output_type": "stream",
          "name": "stdout",
          "text": [
            "Drive already mounted at /content/drive; to attempt to forcibly remount, call drive.mount(\"/content/drive\", force_remount=True).\n"
          ]
        }
      ],
      "source": [
        "from google.colab import drive\n",
        "drive.mount('/content/drive')"
      ]
    },
    {
      "cell_type": "code",
      "source": [
        "import pandas as pd"
      ],
      "metadata": {
        "id": "Cc7KbhmVI8gJ"
      },
      "execution_count": 3,
      "outputs": []
    },
    {
      "cell_type": "code",
      "source": [
        "df = pd.read_csv(\"drive/MyDrive/Concat/Concat_2017_v1_01.csv\")"
      ],
      "metadata": {
        "id": "_Je7aR3ZI8jq"
      },
      "execution_count": 4,
      "outputs": []
    },
    {
      "cell_type": "code",
      "source": [
        "df.drop(columns=[\"Unnamed: 0\"],inplace=True)"
      ],
      "metadata": {
        "id": "9VcSQgeVI8mx"
      },
      "execution_count": 5,
      "outputs": []
    },
    {
      "cell_type": "code",
      "source": [
        "settings = {\n",
        "  'agg_linear_trend': [\n",
        "   {'attr': 'intercept', 'chunk_len': 5, 'f_agg': 'max'},\n",
        "   {'attr': 'intercept', 'chunk_len': 5, 'f_agg': 'min'},\n",
        "   {'attr': 'intercept', 'chunk_len': 5, 'f_agg': 'mean'},\n",
        "   {'attr': 'intercept', 'chunk_len': 10, 'f_agg': 'max'},\n",
        "   {'attr': 'intercept', 'chunk_len': 10, 'f_agg': 'min'},\n",
        "   {'attr': 'intercept', 'chunk_len': 10, 'f_agg': 'mean'},\n",
        "   {'attr': 'intercept', 'chunk_len': 50, 'f_agg': 'max'},\n",
        "   {'attr': 'intercept', 'chunk_len': 50, 'f_agg': 'min'},\n",
        "   {'attr': 'intercept', 'chunk_len': 50, 'f_agg': 'mean'}],\n",
        "  'root_mean_square': None,\n",
        "  'linear_trend': [{'attr': 'intercept'}],\n",
        "  'maximum': None,\n",
        "  'mean': None,\n",
        "  'mean_n_absolute_max': [{'number_of_maxima': 7}],\n",
        "  'median': None,\n",
        "  'minimum': None,\n",
        "  'quantile': [{'q': 0.1},\n",
        "   {'q': 0.2},\n",
        "   {'q': 0.3},\n",
        "   {'q': 0.4},\n",
        "   {'q': 0.6},\n",
        "   {'q': 0.7},\n",
        "   {'q': 0.8},\n",
        "   {'q': 0.9}]}\n",
        "\n"
      ],
      "metadata": {
        "id": "rKSWMgx7m7Lv"
      },
      "execution_count": 6,
      "outputs": []
    },
    {
      "cell_type": "code",
      "source": [
        "x = extract_features(df,default_fc_parameters=settings, \n",
        "                     column_id='id', column_sort='time',impute_function=impute)"
      ],
      "metadata": {
        "colab": {
          "base_uri": "https://localhost:8080/"
        },
        "id": "Jr70ILCIlzRX",
        "outputId": "f39e42eb-b30f-4a2f-d24a-954e8d947b48"
      },
      "execution_count": 22,
      "outputs": [
        {
          "output_type": "stream",
          "name": "stderr",
          "text": [
            "Feature Extraction: 100%|██████████| 10/10 [01:16<00:00,  7.60s/it]\n"
          ]
        }
      ]
    },
    {
      "cell_type": "code",
      "source": [
        "cols = list(x.columns)"
      ],
      "metadata": {
        "id": "o9faRTb7EdM6"
      },
      "execution_count": 32,
      "outputs": []
    },
    {
      "cell_type": "code",
      "source": [
        "cols[0] = \"id\""
      ],
      "metadata": {
        "id": "vW5PF5qrEsAl"
      },
      "execution_count": 34,
      "outputs": []
    },
    {
      "cell_type": "code",
      "source": [
        "x.columns = cols"
      ],
      "metadata": {
        "id": "NGIuhGwxExpM"
      },
      "execution_count": 36,
      "outputs": []
    },
    {
      "cell_type": "code",
      "source": [
        "x.to_csv(\"drive/MyDrive/Features/Features2017.csv\",index=False)"
      ],
      "metadata": {
        "id": "skzVK3EfDWoM"
      },
      "execution_count": 58,
      "outputs": []
    }
  ]
}