{
  "nbformat": 4,
  "nbformat_minor": 0,
  "metadata": {
    "colab": {
      "name": "FileCleaning_2017",
      "provenance": [],
      "collapsed_sections": [],
      "authorship_tag": "ABX9TyMR4Qu5cxoz9Uv5W29DU4Bq",
      "include_colab_link": true
    },
    "kernelspec": {
      "name": "python3",
      "display_name": "Python 3"
    },
    "language_info": {
      "name": "python"
    }
  },
  "cells": [
    {
      "cell_type": "markdown",
      "metadata": {
        "id": "view-in-github",
        "colab_type": "text"
      },
      "source": [
        "<a href=\"https://colab.research.google.com/github/u-t-k-a-n/Detection-of-Similar-Points-in-Traffic-Characteristics/blob/main/FileCleaning_2017.ipynb\" target=\"_parent\"><img src=\"https://colab.research.google.com/assets/colab-badge.svg\" alt=\"Open In Colab\"/></a>"
      ]
    },
    {
      "cell_type": "code",
      "metadata": {
        "id": "o2My-WbA4b2l"
      },
      "source": [
        "import os\n",
        "import pandas as pd"
      ],
      "execution_count": 1,
      "outputs": []
    },
    {
      "cell_type": "code",
      "metadata": {
        "colab": {
          "base_uri": "https://localhost:8080/"
        },
        "id": "SRBpcCa28Z5v",
        "outputId": "fda0527f-3a51-406f-8ffa-a6a309a5a629"
      },
      "source": [
        "from google.colab import drive\n",
        "drive.mount('/content/drive')"
      ],
      "execution_count": 2,
      "outputs": [
        {
          "output_type": "stream",
          "name": "stdout",
          "text": [
            "Mounted at /content/drive\n"
          ]
        }
      ]
    },
    {
      "cell_type": "code",
      "metadata": {
        "id": "k0L1ZpQD87TU"
      },
      "source": [
        "path = \"drive/MyDrive/2017\"\n",
        "files = list()"
      ],
      "execution_count": 3,
      "outputs": []
    },
    {
      "cell_type": "code",
      "metadata": {
        "id": "AlgKZ5lQ5dyl"
      },
      "source": [
        "for dirname, _, filenames in os.walk(path):\n",
        "    for filename in filenames:\n",
        "        files.append(os.path.join(dirname, filename))\n",
        "        "
      ],
      "execution_count": 4,
      "outputs": []
    },
    {
      "cell_type": "code",
      "metadata": {
        "id": "rJEZbGOv9ayD"
      },
      "source": [
        "len_files = len(files)"
      ],
      "execution_count": 5,
      "outputs": []
    },
    {
      "cell_type": "code",
      "metadata": {
        "id": "XnpB4OH5A1rn"
      },
      "source": [
        "len_under_10 = 0\n",
        "len_over_130 = 0\n",
        "\n",
        "for i in range(len_files):\n",
        "  df = pd.read_csv(files[i])\n",
        "  if df[\"1\"].min() < 10:\n",
        "    len_under_10 += 1\n",
        "  if df[\"1\"].max() > 130:\n",
        "    len_over_130 += 1\n",
        "\n",
        "  "
      ],
      "execution_count": 6,
      "outputs": []
    },
    {
      "cell_type": "code",
      "metadata": {
        "id": "cMflPD-AIiVl",
        "colab": {
          "base_uri": "https://localhost:8080/"
        },
        "outputId": "b5c6c838-d3c5-4658-9a20-3ca337094949"
      },
      "source": [
        "len_over_130"
      ],
      "execution_count": 7,
      "outputs": [
        {
          "output_type": "execute_result",
          "data": {
            "text/plain": [
              "886"
            ]
          },
          "metadata": {},
          "execution_count": 7
        }
      ]
    },
    {
      "cell_type": "code",
      "metadata": {
        "id": "7TXh5fKkIiHO",
        "colab": {
          "base_uri": "https://localhost:8080/"
        },
        "outputId": "b07938d3-bad1-4799-c534-5510f734f105"
      },
      "source": [
        "len_under_10"
      ],
      "execution_count": 8,
      "outputs": [
        {
          "output_type": "execute_result",
          "data": {
            "text/plain": [
              "1656"
            ]
          },
          "metadata": {},
          "execution_count": 8
        }
      ]
    },
    {
      "cell_type": "code",
      "metadata": {
        "id": "ZMhaVhnVJ5yL"
      },
      "source": [
        "percentage_over_130 = (len_over_130/len_files)*100\n",
        "percentage_under_10 = (len_under_10/len_files)*100"
      ],
      "execution_count": 9,
      "outputs": []
    },
    {
      "cell_type": "code",
      "metadata": {
        "id": "BdYcarBcJ5n5",
        "colab": {
          "base_uri": "https://localhost:8080/"
        },
        "outputId": "d7210472-16f4-4def-d5af-438a0c0176e7"
      },
      "source": [
        "percentage_over_130"
      ],
      "execution_count": 10,
      "outputs": [
        {
          "output_type": "execute_result",
          "data": {
            "text/plain": [
              "53.5024154589372"
            ]
          },
          "metadata": {},
          "execution_count": 10
        }
      ]
    },
    {
      "cell_type": "code",
      "metadata": {
        "id": "uHKuJou0KNy1",
        "colab": {
          "base_uri": "https://localhost:8080/"
        },
        "outputId": "78d51718-5c69-4586-840f-68f2d8723dfc"
      },
      "source": [
        "percentage_under_10"
      ],
      "execution_count": 11,
      "outputs": [
        {
          "output_type": "execute_result",
          "data": {
            "text/plain": [
              "100.0"
            ]
          },
          "metadata": {},
          "execution_count": 11
        }
      ]
    },
    {
      "cell_type": "code",
      "metadata": {
        "id": "TToZRJx0dH3C"
      },
      "source": [
        "file_info = pd.DataFrame(columns=[\"under_10\",\"over_130\",\"percentage_under_10\",\"percentage_over_130\"])"
      ],
      "execution_count": 12,
      "outputs": []
    },
    {
      "cell_type": "code",
      "metadata": {
        "id": "T-Bk97nddmbg"
      },
      "source": [
        "df = pd.read_csv(files[0])\n",
        "len_file = len(df)"
      ],
      "execution_count": 13,
      "outputs": []
    },
    {
      "cell_type": "code",
      "metadata": {
        "id": "Wz14Rw75aXQp"
      },
      "source": [
        "for i in range(len_files):\n",
        "  df = pd.read_csv(files[i]) \n",
        "  file_info.loc[files[i]] = [1 if df[\"1\"].min() < 10 else 0,\n",
        "                        1 if df[\"1\"].max() > 130 else 0,\n",
        "                        (len(df[\"1\"][df[\"1\"] < 10]) / len_file) *100,\n",
        "                        (len(df[\"1\"][df[\"1\"] > 130]) / len_file) *100]\n",
        "  \n"
      ],
      "execution_count": 14,
      "outputs": []
    },
    {
      "cell_type": "code",
      "metadata": {
        "id": "vEdqgUhliLkK",
        "colab": {
          "base_uri": "https://localhost:8080/",
          "height": 300
        },
        "outputId": "9c87fd03-9403-4a3a-8956-f254a25a3be3"
      },
      "source": [
        "file_info.describe()"
      ],
      "execution_count": 15,
      "outputs": [
        {
          "output_type": "execute_result",
          "data": {
            "text/html": [
              "<div>\n",
              "<style scoped>\n",
              "    .dataframe tbody tr th:only-of-type {\n",
              "        vertical-align: middle;\n",
              "    }\n",
              "\n",
              "    .dataframe tbody tr th {\n",
              "        vertical-align: top;\n",
              "    }\n",
              "\n",
              "    .dataframe thead th {\n",
              "        text-align: right;\n",
              "    }\n",
              "</style>\n",
              "<table border=\"1\" class=\"dataframe\">\n",
              "  <thead>\n",
              "    <tr style=\"text-align: right;\">\n",
              "      <th></th>\n",
              "      <th>under_10</th>\n",
              "      <th>over_130</th>\n",
              "      <th>percentage_under_10</th>\n",
              "      <th>percentage_over_130</th>\n",
              "    </tr>\n",
              "  </thead>\n",
              "  <tbody>\n",
              "    <tr>\n",
              "      <th>count</th>\n",
              "      <td>1656.0</td>\n",
              "      <td>1656.000000</td>\n",
              "      <td>1656.000000</td>\n",
              "      <td>1656.000000</td>\n",
              "    </tr>\n",
              "    <tr>\n",
              "      <th>mean</th>\n",
              "      <td>1.0</td>\n",
              "      <td>0.535024</td>\n",
              "      <td>13.768251</td>\n",
              "      <td>0.130745</td>\n",
              "    </tr>\n",
              "    <tr>\n",
              "      <th>std</th>\n",
              "      <td>0.0</td>\n",
              "      <td>0.498922</td>\n",
              "      <td>15.867463</td>\n",
              "      <td>0.711467</td>\n",
              "    </tr>\n",
              "    <tr>\n",
              "      <th>min</th>\n",
              "      <td>1.0</td>\n",
              "      <td>0.000000</td>\n",
              "      <td>3.184932</td>\n",
              "      <td>0.000000</td>\n",
              "    </tr>\n",
              "    <tr>\n",
              "      <th>25%</th>\n",
              "      <td>1.0</td>\n",
              "      <td>0.000000</td>\n",
              "      <td>3.611587</td>\n",
              "      <td>0.000000</td>\n",
              "    </tr>\n",
              "    <tr>\n",
              "      <th>50%</th>\n",
              "      <td>1.0</td>\n",
              "      <td>1.000000</td>\n",
              "      <td>7.294996</td>\n",
              "      <td>0.000951</td>\n",
              "    </tr>\n",
              "    <tr>\n",
              "      <th>75%</th>\n",
              "      <td>1.0</td>\n",
              "      <td>1.000000</td>\n",
              "      <td>17.761606</td>\n",
              "      <td>0.031393</td>\n",
              "    </tr>\n",
              "    <tr>\n",
              "      <th>max</th>\n",
              "      <td>1.0</td>\n",
              "      <td>1.000000</td>\n",
              "      <td>100.000000</td>\n",
              "      <td>12.247907</td>\n",
              "    </tr>\n",
              "  </tbody>\n",
              "</table>\n",
              "</div>"
            ],
            "text/plain": [
              "       under_10     over_130  percentage_under_10  percentage_over_130\n",
              "count    1656.0  1656.000000          1656.000000          1656.000000\n",
              "mean        1.0     0.535024            13.768251             0.130745\n",
              "std         0.0     0.498922            15.867463             0.711467\n",
              "min         1.0     0.000000             3.184932             0.000000\n",
              "25%         1.0     0.000000             3.611587             0.000000\n",
              "50%         1.0     1.000000             7.294996             0.000951\n",
              "75%         1.0     1.000000            17.761606             0.031393\n",
              "max         1.0     1.000000           100.000000            12.247907"
            ]
          },
          "metadata": {},
          "execution_count": 15
        }
      ]
    },
    {
      "cell_type": "code",
      "metadata": {
        "id": "zgk-DGlHoTY0",
        "colab": {
          "base_uri": "https://localhost:8080/",
          "height": 424
        },
        "outputId": "92d3935a-32a1-425a-e6a3-e1b99d209d1b"
      },
      "source": [
        "file_info"
      ],
      "execution_count": 16,
      "outputs": [
        {
          "output_type": "execute_result",
          "data": {
            "text/html": [
              "<div>\n",
              "<style scoped>\n",
              "    .dataframe tbody tr th:only-of-type {\n",
              "        vertical-align: middle;\n",
              "    }\n",
              "\n",
              "    .dataframe tbody tr th {\n",
              "        vertical-align: top;\n",
              "    }\n",
              "\n",
              "    .dataframe thead th {\n",
              "        text-align: right;\n",
              "    }\n",
              "</style>\n",
              "<table border=\"1\" class=\"dataframe\">\n",
              "  <thead>\n",
              "    <tr style=\"text-align: right;\">\n",
              "      <th></th>\n",
              "      <th>under_10</th>\n",
              "      <th>over_130</th>\n",
              "      <th>percentage_under_10</th>\n",
              "      <th>percentage_over_130</th>\n",
              "    </tr>\n",
              "  </thead>\n",
              "  <tbody>\n",
              "    <tr>\n",
              "      <th>drive/MyDrive/2017/642_0_2017.csv</th>\n",
              "      <td>1.0</td>\n",
              "      <td>1.0</td>\n",
              "      <td>5.039954</td>\n",
              "      <td>0.122717</td>\n",
              "    </tr>\n",
              "    <tr>\n",
              "      <th>drive/MyDrive/2017/1889_0_2017.csv</th>\n",
              "      <td>1.0</td>\n",
              "      <td>1.0</td>\n",
              "      <td>3.224886</td>\n",
              "      <td>0.002854</td>\n",
              "    </tr>\n",
              "    <tr>\n",
              "      <th>drive/MyDrive/2017/588_1_2017.csv</th>\n",
              "      <td>1.0</td>\n",
              "      <td>0.0</td>\n",
              "      <td>5.203577</td>\n",
              "      <td>0.000000</td>\n",
              "    </tr>\n",
              "    <tr>\n",
              "      <th>drive/MyDrive/2017/629_0_2017.csv</th>\n",
              "      <td>1.0</td>\n",
              "      <td>1.0</td>\n",
              "      <td>4.140030</td>\n",
              "      <td>0.201674</td>\n",
              "    </tr>\n",
              "    <tr>\n",
              "      <th>drive/MyDrive/2017/1890_0_2017.csv</th>\n",
              "      <td>1.0</td>\n",
              "      <td>1.0</td>\n",
              "      <td>3.224886</td>\n",
              "      <td>0.002854</td>\n",
              "    </tr>\n",
              "    <tr>\n",
              "      <th>...</th>\n",
              "      <td>...</td>\n",
              "      <td>...</td>\n",
              "      <td>...</td>\n",
              "      <td>...</td>\n",
              "    </tr>\n",
              "    <tr>\n",
              "      <th>drive/MyDrive/2017/257_0_2017.csv</th>\n",
              "      <td>1.0</td>\n",
              "      <td>1.0</td>\n",
              "      <td>4.576674</td>\n",
              "      <td>0.000951</td>\n",
              "    </tr>\n",
              "    <tr>\n",
              "      <th>drive/MyDrive/2017/55_1_2017.csv</th>\n",
              "      <td>1.0</td>\n",
              "      <td>1.0</td>\n",
              "      <td>4.052511</td>\n",
              "      <td>0.004756</td>\n",
              "    </tr>\n",
              "    <tr>\n",
              "      <th>drive/MyDrive/2017/333_1_2017.csv</th>\n",
              "      <td>1.0</td>\n",
              "      <td>1.0</td>\n",
              "      <td>3.648212</td>\n",
              "      <td>0.013318</td>\n",
              "    </tr>\n",
              "    <tr>\n",
              "      <th>drive/MyDrive/2017/588_0_2017.csv</th>\n",
              "      <td>1.0</td>\n",
              "      <td>0.0</td>\n",
              "      <td>5.184551</td>\n",
              "      <td>0.000000</td>\n",
              "    </tr>\n",
              "    <tr>\n",
              "      <th>drive/MyDrive/2017/69_0_2017.csv</th>\n",
              "      <td>1.0</td>\n",
              "      <td>0.0</td>\n",
              "      <td>3.867960</td>\n",
              "      <td>0.000000</td>\n",
              "    </tr>\n",
              "  </tbody>\n",
              "</table>\n",
              "<p>1656 rows × 4 columns</p>\n",
              "</div>"
            ],
            "text/plain": [
              "                                    under_10  ...  percentage_over_130\n",
              "drive/MyDrive/2017/642_0_2017.csv        1.0  ...             0.122717\n",
              "drive/MyDrive/2017/1889_0_2017.csv       1.0  ...             0.002854\n",
              "drive/MyDrive/2017/588_1_2017.csv        1.0  ...             0.000000\n",
              "drive/MyDrive/2017/629_0_2017.csv        1.0  ...             0.201674\n",
              "drive/MyDrive/2017/1890_0_2017.csv       1.0  ...             0.002854\n",
              "...                                      ...  ...                  ...\n",
              "drive/MyDrive/2017/257_0_2017.csv        1.0  ...             0.000951\n",
              "drive/MyDrive/2017/55_1_2017.csv         1.0  ...             0.004756\n",
              "drive/MyDrive/2017/333_1_2017.csv        1.0  ...             0.013318\n",
              "drive/MyDrive/2017/588_0_2017.csv        1.0  ...             0.000000\n",
              "drive/MyDrive/2017/69_0_2017.csv         1.0  ...             0.000000\n",
              "\n",
              "[1656 rows x 4 columns]"
            ]
          },
          "metadata": {},
          "execution_count": 16
        }
      ]
    },
    {
      "cell_type": "code",
      "metadata": {
        "id": "LKHRCYG_o8Hs"
      },
      "source": [
        "trash_files = list((file_info[file_info[\"percentage_under_10\"]>=30]).index)"
      ],
      "execution_count": 31,
      "outputs": []
    },
    {
      "cell_type": "code",
      "metadata": {
        "id": "NeiQMTfUO-GB",
        "colab": {
          "base_uri": "https://localhost:8080/"
        },
        "outputId": "c72e4fd7-6367-4361-eb52-f16c5d28552e"
      },
      "source": [
        "new_files = list()\n",
        "for file_name in files:\n",
        "  name = file_name.split(\"/\")\n",
        "  name = name[-1]\n",
        "  name = name.rstrip(\"2017.csv\")\n",
        "  name = name.strip(\"_\")\n",
        "  id,direction = name.split(\"_\")\n",
        "  new_files.append((int(id),int(direction)))\n",
        "\n",
        "data = pd.read_json('drive/MyDrive/Metadata/Coordinates.json')\n",
        "\n",
        "for new_file in new_files:\n",
        "  if not ((data[\"vSegID\"] == new_file[0]) & (data[\"vSegDir\"] == new_file[1])).sum():\n",
        "    print(new_file)\n",
        "    trash_files.append(\"drive/MyDrive/2017/{}_{}_2017.csv\".format(new_file[0],new_file[1]))\n"
      ],
      "execution_count": 32,
      "outputs": [
        {
          "output_type": "stream",
          "name": "stdout",
          "text": [
            "(929, 0)\n",
            "(930, 0)\n",
            "(210, 1)\n"
          ]
        }
      ]
    },
    {
      "cell_type": "code",
      "metadata": {
        "id": "RqP4DIjVO-Bx",
        "colab": {
          "base_uri": "https://localhost:8080/"
        },
        "outputId": "5d122faf-b9be-4aeb-a567-965e4a744f9e"
      },
      "source": [
        "trash_files"
      ],
      "execution_count": 33,
      "outputs": [
        {
          "output_type": "execute_result",
          "data": {
            "text/plain": [
              "['drive/MyDrive/2017/918_1_2017.csv',\n",
              " 'drive/MyDrive/2017/918_0_2017.csv',\n",
              " 'drive/MyDrive/2017/926_1_2017.csv',\n",
              " 'drive/MyDrive/2017/927_1_2017.csv',\n",
              " 'drive/MyDrive/2017/925_1_2017.csv',\n",
              " 'drive/MyDrive/2017/919_0_2017.csv',\n",
              " 'drive/MyDrive/2017/919_1_2017.csv',\n",
              " 'drive/MyDrive/2017/928_1_2017.csv',\n",
              " 'drive/MyDrive/2017/929_0_2017.csv',\n",
              " 'drive/MyDrive/2017/1731_0_2017.csv',\n",
              " 'drive/MyDrive/2017/924_1_2017.csv',\n",
              " 'drive/MyDrive/2017/923_1_2017.csv',\n",
              " 'drive/MyDrive/2017/920_1_2017.csv',\n",
              " 'drive/MyDrive/2017/922_1_2017.csv',\n",
              " 'drive/MyDrive/2017/925_0_2017.csv',\n",
              " 'drive/MyDrive/2017/924_0_2017.csv',\n",
              " 'drive/MyDrive/2017/921_1_2017.csv',\n",
              " 'drive/MyDrive/2017/928_0_2017.csv',\n",
              " 'drive/MyDrive/2017/921_0_2017.csv',\n",
              " 'drive/MyDrive/2017/923_0_2017.csv',\n",
              " 'drive/MyDrive/2017/920_0_2017.csv',\n",
              " 'drive/MyDrive/2017/1776_1_2017.csv',\n",
              " 'drive/MyDrive/2017/926_0_2017.csv',\n",
              " 'drive/MyDrive/2017/922_0_2017.csv',\n",
              " 'drive/MyDrive/2017/541_1_2017.csv',\n",
              " 'drive/MyDrive/2017/305_0_2017.csv',\n",
              " 'drive/MyDrive/2017/296_1_2017.csv',\n",
              " 'drive/MyDrive/2017/541_0_2017.csv',\n",
              " 'drive/MyDrive/2017/7234_0_2017.csv',\n",
              " 'drive/MyDrive/2017/599_1_2017.csv',\n",
              " 'drive/MyDrive/2017/7233_0_2017.csv',\n",
              " 'drive/MyDrive/2017/90_1_2017.csv',\n",
              " 'drive/MyDrive/2017/47_0_2017.csv',\n",
              " 'drive/MyDrive/2017/1238_0_2017.csv',\n",
              " 'drive/MyDrive/2017/87_0_2017.csv',\n",
              " 'drive/MyDrive/2017/1731_1_2017.csv',\n",
              " 'drive/MyDrive/2017/540_0_2017.csv',\n",
              " 'drive/MyDrive/2017/358_1_2017.csv',\n",
              " 'drive/MyDrive/2017/927_0_2017.csv',\n",
              " 'drive/MyDrive/2017/359_1_2017.csv',\n",
              " 'drive/MyDrive/2017/360_1_2017.csv',\n",
              " 'drive/MyDrive/2017/871_0_2017.csv',\n",
              " 'drive/MyDrive/2017/81_0_2017.csv',\n",
              " 'drive/MyDrive/2017/183_0_2017.csv',\n",
              " 'drive/MyDrive/2017/540_1_2017.csv',\n",
              " 'drive/MyDrive/2017/1237_0_2017.csv',\n",
              " 'drive/MyDrive/2017/1706_0_2017.csv',\n",
              " 'drive/MyDrive/2017/105_1_2017.csv',\n",
              " 'drive/MyDrive/2017/595_1_2017.csv',\n",
              " 'drive/MyDrive/2017/385_1_2017.csv',\n",
              " 'drive/MyDrive/2017/539_0_2017.csv',\n",
              " 'drive/MyDrive/2017/2107_0_2017.csv',\n",
              " 'drive/MyDrive/2017/1768_0_2017.csv',\n",
              " 'drive/MyDrive/2017/1235_1_2017.csv',\n",
              " 'drive/MyDrive/2017/358_0_2017.csv',\n",
              " 'drive/MyDrive/2017/360_0_2017.csv',\n",
              " 'drive/MyDrive/2017/386_1_2017.csv',\n",
              " 'drive/MyDrive/2017/1974_0_2017.csv',\n",
              " 'drive/MyDrive/2017/345_1_2017.csv',\n",
              " 'drive/MyDrive/2017/574_1_2017.csv',\n",
              " 'drive/MyDrive/2017/1071_0_2017.csv',\n",
              " 'drive/MyDrive/2017/183_1_2017.csv',\n",
              " 'drive/MyDrive/2017/40_0_2017.csv',\n",
              " 'drive/MyDrive/2017/1710_0_2017.csv',\n",
              " 'drive/MyDrive/2017/1767_1_2017.csv',\n",
              " 'drive/MyDrive/2017/3902_0_2017.csv',\n",
              " 'drive/MyDrive/2017/88_1_2017.csv',\n",
              " 'drive/MyDrive/2017/235_1_2017.csv',\n",
              " 'drive/MyDrive/2017/2106_0_2017.csv',\n",
              " 'drive/MyDrive/2017/273_1_2017.csv',\n",
              " 'drive/MyDrive/2017/1226_0_2017.csv',\n",
              " 'drive/MyDrive/2017/1980_0_2017.csv',\n",
              " 'drive/MyDrive/2017/1226_1_2017.csv',\n",
              " 'drive/MyDrive/2017/1759_0_2017.csv',\n",
              " 'drive/MyDrive/2017/539_1_2017.csv',\n",
              " 'drive/MyDrive/2017/1253_1_2017.csv',\n",
              " 'drive/MyDrive/2017/398_0_2017.csv',\n",
              " 'drive/MyDrive/2017/1227_1_2017.csv',\n",
              " 'drive/MyDrive/2017/1709_0_2017.csv',\n",
              " 'drive/MyDrive/2017/1977_1_2017.csv',\n",
              " 'drive/MyDrive/2017/1227_0_2017.csv',\n",
              " 'drive/MyDrive/2017/791_0_2017.csv',\n",
              " 'drive/MyDrive/2017/2041_0_2017.csv',\n",
              " 'drive/MyDrive/2017/242_0_2017.csv',\n",
              " 'drive/MyDrive/2017/2538_0_2017.csv',\n",
              " 'drive/MyDrive/2017/272_1_2017.csv',\n",
              " 'drive/MyDrive/2017/1767_0_2017.csv',\n",
              " 'drive/MyDrive/2017/2841_0_2017.csv',\n",
              " 'drive/MyDrive/2017/2742_0_2017.csv',\n",
              " 'drive/MyDrive/2017/1423_1_2017.csv',\n",
              " 'drive/MyDrive/2017/343_1_2017.csv',\n",
              " 'drive/MyDrive/2017/1786_0_2017.csv',\n",
              " 'drive/MyDrive/2017/648_1_2017.csv',\n",
              " 'drive/MyDrive/2017/2535_0_2017.csv',\n",
              " 'drive/MyDrive/2017/814_1_2017.csv',\n",
              " 'drive/MyDrive/2017/1257_0_2017.csv',\n",
              " 'drive/MyDrive/2017/2849_0_2017.csv',\n",
              " 'drive/MyDrive/2017/176_0_2017.csv',\n",
              " 'drive/MyDrive/2017/2837_0_2017.csv',\n",
              " 'drive/MyDrive/2017/533_1_2017.csv',\n",
              " 'drive/MyDrive/2017/2533_0_2017.csv',\n",
              " 'drive/MyDrive/2017/91_1_2017.csv',\n",
              " 'drive/MyDrive/2017/533_0_2017.csv',\n",
              " 'drive/MyDrive/2017/2848_0_2017.csv',\n",
              " 'drive/MyDrive/2017/1913_1_2017.csv',\n",
              " 'drive/MyDrive/2017/357_1_2017.csv',\n",
              " 'drive/MyDrive/2017/2739_0_2017.csv',\n",
              " 'drive/MyDrive/2017/785_0_2017.csv',\n",
              " 'drive/MyDrive/2017/2744_0_2017.csv',\n",
              " 'drive/MyDrive/2017/4029_0_2017.csv',\n",
              " 'drive/MyDrive/2017/236_1_2017.csv',\n",
              " 'drive/MyDrive/2017/2839_0_2017.csv',\n",
              " 'drive/MyDrive/2017/528_1_2017.csv',\n",
              " 'drive/MyDrive/2017/863_1_2017.csv',\n",
              " 'drive/MyDrive/2017/649_1_2017.csv',\n",
              " 'drive/MyDrive/2017/577_0_2017.csv',\n",
              " 'drive/MyDrive/2017/863_0_2017.csv',\n",
              " 'drive/MyDrive/2017/4614_0_2017.csv',\n",
              " 'drive/MyDrive/2017/1450_0_2017.csv',\n",
              " 'drive/MyDrive/2017/297_1_2017.csv',\n",
              " 'drive/MyDrive/2017/532_1_2017.csv',\n",
              " 'drive/MyDrive/2017/3166_0_2017.csv',\n",
              " 'drive/MyDrive/2017/41_0_2017.csv',\n",
              " 'drive/MyDrive/2017/653_1_2017.csv',\n",
              " 'drive/MyDrive/2017/359_0_2017.csv',\n",
              " 'drive/MyDrive/2017/652_1_2017.csv',\n",
              " 'drive/MyDrive/2017/654_1_2017.csv',\n",
              " 'drive/MyDrive/2017/647_0_2017.csv',\n",
              " 'drive/MyDrive/2017/892_0_2017.csv',\n",
              " 'drive/MyDrive/2017/522_1_2017.csv',\n",
              " 'drive/MyDrive/2017/6794_0_2017.csv',\n",
              " 'drive/MyDrive/2017/1194_0_2017.csv',\n",
              " 'drive/MyDrive/2017/528_0_2017.csv',\n",
              " 'drive/MyDrive/2017/2845_0_2017.csv',\n",
              " 'drive/MyDrive/2017/6856_0_2017.csv',\n",
              " 'drive/MyDrive/2017/4025_0_2017.csv',\n",
              " 'drive/MyDrive/2017/7221_0_2017.csv',\n",
              " 'drive/MyDrive/2017/2835_0_2017.csv',\n",
              " 'drive/MyDrive/2017/1052_0_2017.csv',\n",
              " 'drive/MyDrive/2017/1989_1_2017.csv',\n",
              " 'drive/MyDrive/2017/6799_0_2017.csv',\n",
              " 'drive/MyDrive/2017/2737_0_2017.csv',\n",
              " 'drive/MyDrive/2017/1913_0_2017.csv',\n",
              " 'drive/MyDrive/2017/272_0_2017.csv',\n",
              " 'drive/MyDrive/2017/2105_0_2017.csv',\n",
              " 'drive/MyDrive/2017/651_1_2017.csv',\n",
              " 'drive/MyDrive/2017/6772_0_2017.csv',\n",
              " 'drive/MyDrive/2017/247_0_2017.csv',\n",
              " 'drive/MyDrive/2017/222_1_2017.csv',\n",
              " 'drive/MyDrive/2017/1828_0_2017.csv',\n",
              " 'drive/MyDrive/2017/6812_0_2017.csv',\n",
              " 'drive/MyDrive/2017/2844_0_2017.csv',\n",
              " 'drive/MyDrive/2017/2056_1_2017.csv',\n",
              " 'drive/MyDrive/2017/2109_0_2017.csv',\n",
              " 'drive/MyDrive/2017/344_1_2017.csv',\n",
              " 'drive/MyDrive/2017/561_1_2017.csv',\n",
              " 'drive/MyDrive/2017/1712_1_2017.csv',\n",
              " 'drive/MyDrive/2017/2846_0_2017.csv',\n",
              " 'drive/MyDrive/2017/26_1_2017.csv',\n",
              " 'drive/MyDrive/2017/398_1_2017.csv',\n",
              " 'drive/MyDrive/2017/1261_0_2017.csv',\n",
              " 'drive/MyDrive/2017/2183_0_2017.csv',\n",
              " 'drive/MyDrive/2017/1044_1_2017.csv',\n",
              " 'drive/MyDrive/2017/4028_0_2017.csv',\n",
              " 'drive/MyDrive/2017/746_0_2017.csv',\n",
              " 'drive/MyDrive/2017/753_0_2017.csv',\n",
              " 'drive/MyDrive/2017/561_0_2017.csv',\n",
              " 'drive/MyDrive/2017/2740_0_2017.csv',\n",
              " 'drive/MyDrive/2017/1101_0_2017.csv',\n",
              " 'drive/MyDrive/2017/6877_0_2017.csv',\n",
              " 'drive/MyDrive/2017/39_1_2017.csv',\n",
              " 'drive/MyDrive/2017/1203_1_2017.csv',\n",
              " 'drive/MyDrive/2017/532_0_2017.csv',\n",
              " 'drive/MyDrive/2017/1041_1_2017.csv',\n",
              " 'drive/MyDrive/2017/2056_0_2017.csv',\n",
              " 'drive/MyDrive/2017/2834_0_2017.csv',\n",
              " 'drive/MyDrive/2017/526_1_2017.csv',\n",
              " 'drive/MyDrive/2017/1426_0_2017.csv',\n",
              " 'drive/MyDrive/2017/6857_0_2017.csv',\n",
              " 'drive/MyDrive/2017/1225_0_2017.csv',\n",
              " 'drive/MyDrive/2017/2843_0_2017.csv',\n",
              " 'drive/MyDrive/2017/2836_0_2017.csv',\n",
              " 'drive/MyDrive/2017/2738_0_2017.csv',\n",
              " 'drive/MyDrive/2017/2735_0_2017.csv',\n",
              " 'drive/MyDrive/2017/295_0_2017.csv',\n",
              " 'drive/MyDrive/2017/2103_0_2017.csv',\n",
              " 'drive/MyDrive/2017/283_0_2017.csv',\n",
              " 'drive/MyDrive/2017/287_0_2017.csv',\n",
              " 'drive/MyDrive/2017/929_0_2017.csv',\n",
              " 'drive/MyDrive/2017/930_0_2017.csv',\n",
              " 'drive/MyDrive/2017/210_1_2017.csv']"
            ]
          },
          "metadata": {},
          "execution_count": 33
        }
      ]
    },
    {
      "cell_type": "code",
      "metadata": {
        "id": "M4VrBAnnO9-a"
      },
      "source": [
        "proper_files = list(set(files) - set(trash_files))\n",
        "\n",
        "\n",
        "for file_name in proper_files:\n",
        "  df = pd.read_csv(file_name)\n",
        "  file_name_split = file_name.split(\"/\")\n",
        "  df.to_csv(\"drive/MyDrive/2017_v1/\"+file_name_split[-1],index=False)\n",
        "\n"
      ],
      "execution_count": 35,
      "outputs": []
    },
    {
      "cell_type": "code",
      "metadata": {
        "id": "VOIVsMx_lOgh",
        "colab": {
          "base_uri": "https://localhost:8080/",
          "height": 424
        },
        "outputId": "d504194d-a99b-4506-c489-49adc1aaada3"
      },
      "source": [
        "file_info.sort_values(\"percentage_under_10\",ascending=False)[:85]"
      ],
      "execution_count": 39,
      "outputs": [
        {
          "output_type": "execute_result",
          "data": {
            "text/html": [
              "<div>\n",
              "<style scoped>\n",
              "    .dataframe tbody tr th:only-of-type {\n",
              "        vertical-align: middle;\n",
              "    }\n",
              "\n",
              "    .dataframe tbody tr th {\n",
              "        vertical-align: top;\n",
              "    }\n",
              "\n",
              "    .dataframe thead th {\n",
              "        text-align: right;\n",
              "    }\n",
              "</style>\n",
              "<table border=\"1\" class=\"dataframe\">\n",
              "  <thead>\n",
              "    <tr style=\"text-align: right;\">\n",
              "      <th></th>\n",
              "      <th>under_10</th>\n",
              "      <th>over_130</th>\n",
              "      <th>percentage_under_10</th>\n",
              "      <th>percentage_over_130</th>\n",
              "    </tr>\n",
              "  </thead>\n",
              "  <tbody>\n",
              "    <tr>\n",
              "      <th>drive/MyDrive/2017/926_1_2017.csv</th>\n",
              "      <td>1.0</td>\n",
              "      <td>0.0</td>\n",
              "      <td>100.000000</td>\n",
              "      <td>0.000000</td>\n",
              "    </tr>\n",
              "    <tr>\n",
              "      <th>drive/MyDrive/2017/929_0_2017.csv</th>\n",
              "      <td>1.0</td>\n",
              "      <td>0.0</td>\n",
              "      <td>100.000000</td>\n",
              "      <td>0.000000</td>\n",
              "    </tr>\n",
              "    <tr>\n",
              "      <th>drive/MyDrive/2017/926_0_2017.csv</th>\n",
              "      <td>1.0</td>\n",
              "      <td>0.0</td>\n",
              "      <td>100.000000</td>\n",
              "      <td>0.000000</td>\n",
              "    </tr>\n",
              "    <tr>\n",
              "      <th>drive/MyDrive/2017/928_0_2017.csv</th>\n",
              "      <td>1.0</td>\n",
              "      <td>0.0</td>\n",
              "      <td>100.000000</td>\n",
              "      <td>0.000000</td>\n",
              "    </tr>\n",
              "    <tr>\n",
              "      <th>drive/MyDrive/2017/921_1_2017.csv</th>\n",
              "      <td>1.0</td>\n",
              "      <td>0.0</td>\n",
              "      <td>100.000000</td>\n",
              "      <td>0.000000</td>\n",
              "    </tr>\n",
              "    <tr>\n",
              "      <th>...</th>\n",
              "      <td>...</td>\n",
              "      <td>...</td>\n",
              "      <td>...</td>\n",
              "      <td>...</td>\n",
              "    </tr>\n",
              "    <tr>\n",
              "      <th>drive/MyDrive/2017/528_0_2017.csv</th>\n",
              "      <td>1.0</td>\n",
              "      <td>0.0</td>\n",
              "      <td>39.430175</td>\n",
              "      <td>0.000000</td>\n",
              "    </tr>\n",
              "    <tr>\n",
              "      <th>drive/MyDrive/2017/1194_0_2017.csv</th>\n",
              "      <td>1.0</td>\n",
              "      <td>0.0</td>\n",
              "      <td>38.975457</td>\n",
              "      <td>0.000000</td>\n",
              "    </tr>\n",
              "    <tr>\n",
              "      <th>drive/MyDrive/2017/2109_0_2017.csv</th>\n",
              "      <td>1.0</td>\n",
              "      <td>1.0</td>\n",
              "      <td>38.747146</td>\n",
              "      <td>0.015221</td>\n",
              "    </tr>\n",
              "    <tr>\n",
              "      <th>drive/MyDrive/2017/1052_0_2017.csv</th>\n",
              "      <td>1.0</td>\n",
              "      <td>1.0</td>\n",
              "      <td>38.539764</td>\n",
              "      <td>0.001903</td>\n",
              "    </tr>\n",
              "    <tr>\n",
              "      <th>drive/MyDrive/2017/39_1_2017.csv</th>\n",
              "      <td>1.0</td>\n",
              "      <td>1.0</td>\n",
              "      <td>38.506469</td>\n",
              "      <td>0.001903</td>\n",
              "    </tr>\n",
              "  </tbody>\n",
              "</table>\n",
              "<p>85 rows × 4 columns</p>\n",
              "</div>"
            ],
            "text/plain": [
              "                                    under_10  ...  percentage_over_130\n",
              "drive/MyDrive/2017/926_1_2017.csv        1.0  ...             0.000000\n",
              "drive/MyDrive/2017/929_0_2017.csv        1.0  ...             0.000000\n",
              "drive/MyDrive/2017/926_0_2017.csv        1.0  ...             0.000000\n",
              "drive/MyDrive/2017/928_0_2017.csv        1.0  ...             0.000000\n",
              "drive/MyDrive/2017/921_1_2017.csv        1.0  ...             0.000000\n",
              "...                                      ...  ...                  ...\n",
              "drive/MyDrive/2017/528_0_2017.csv        1.0  ...             0.000000\n",
              "drive/MyDrive/2017/1194_0_2017.csv       1.0  ...             0.000000\n",
              "drive/MyDrive/2017/2109_0_2017.csv       1.0  ...             0.015221\n",
              "drive/MyDrive/2017/1052_0_2017.csv       1.0  ...             0.001903\n",
              "drive/MyDrive/2017/39_1_2017.csv         1.0  ...             0.001903\n",
              "\n",
              "[85 rows x 4 columns]"
            ]
          },
          "metadata": {},
          "execution_count": 39
        }
      ]
    },
    {
      "cell_type": "code",
      "metadata": {
        "id": "Toux9GjfmMUj",
        "colab": {
          "base_uri": "https://localhost:8080/",
          "height": 424
        },
        "outputId": "4ad08e7e-4ae4-4e01-c932-f5314045a98b"
      },
      "source": [
        "file_info.sort_values(\"percentage_over_130\",ascending=False)"
      ],
      "execution_count": 40,
      "outputs": [
        {
          "output_type": "execute_result",
          "data": {
            "text/html": [
              "<div>\n",
              "<style scoped>\n",
              "    .dataframe tbody tr th:only-of-type {\n",
              "        vertical-align: middle;\n",
              "    }\n",
              "\n",
              "    .dataframe tbody tr th {\n",
              "        vertical-align: top;\n",
              "    }\n",
              "\n",
              "    .dataframe thead th {\n",
              "        text-align: right;\n",
              "    }\n",
              "</style>\n",
              "<table border=\"1\" class=\"dataframe\">\n",
              "  <thead>\n",
              "    <tr style=\"text-align: right;\">\n",
              "      <th></th>\n",
              "      <th>under_10</th>\n",
              "      <th>over_130</th>\n",
              "      <th>percentage_under_10</th>\n",
              "      <th>percentage_over_130</th>\n",
              "    </tr>\n",
              "  </thead>\n",
              "  <tbody>\n",
              "    <tr>\n",
              "      <th>drive/MyDrive/2017/1730_0_2017.csv</th>\n",
              "      <td>1.0</td>\n",
              "      <td>1.0</td>\n",
              "      <td>14.421613</td>\n",
              "      <td>12.247907</td>\n",
              "    </tr>\n",
              "    <tr>\n",
              "      <th>drive/MyDrive/2017/1730_1_2017.csv</th>\n",
              "      <td>1.0</td>\n",
              "      <td>1.0</td>\n",
              "      <td>16.946347</td>\n",
              "      <td>10.472793</td>\n",
              "    </tr>\n",
              "    <tr>\n",
              "      <th>drive/MyDrive/2017/190_1_2017.csv</th>\n",
              "      <td>1.0</td>\n",
              "      <td>1.0</td>\n",
              "      <td>18.028919</td>\n",
              "      <td>10.374810</td>\n",
              "    </tr>\n",
              "    <tr>\n",
              "      <th>drive/MyDrive/2017/649_1_2017.csv</th>\n",
              "      <td>1.0</td>\n",
              "      <td>1.0</td>\n",
              "      <td>43.655822</td>\n",
              "      <td>9.494863</td>\n",
              "    </tr>\n",
              "    <tr>\n",
              "      <th>drive/MyDrive/2017/648_1_2017.csv</th>\n",
              "      <td>1.0</td>\n",
              "      <td>1.0</td>\n",
              "      <td>41.230023</td>\n",
              "      <td>7.578957</td>\n",
              "    </tr>\n",
              "    <tr>\n",
              "      <th>...</th>\n",
              "      <td>...</td>\n",
              "      <td>...</td>\n",
              "      <td>...</td>\n",
              "      <td>...</td>\n",
              "    </tr>\n",
              "    <tr>\n",
              "      <th>drive/MyDrive/2017/532_0_2017.csv</th>\n",
              "      <td>1.0</td>\n",
              "      <td>0.0</td>\n",
              "      <td>35.232116</td>\n",
              "      <td>0.000000</td>\n",
              "    </tr>\n",
              "    <tr>\n",
              "      <th>drive/MyDrive/2017/1041_1_2017.csv</th>\n",
              "      <td>1.0</td>\n",
              "      <td>0.0</td>\n",
              "      <td>34.065830</td>\n",
              "      <td>0.000000</td>\n",
              "    </tr>\n",
              "    <tr>\n",
              "      <th>drive/MyDrive/2017/2056_0_2017.csv</th>\n",
              "      <td>1.0</td>\n",
              "      <td>0.0</td>\n",
              "      <td>30.993151</td>\n",
              "      <td>0.000000</td>\n",
              "    </tr>\n",
              "    <tr>\n",
              "      <th>drive/MyDrive/2017/9_0_2017.csv</th>\n",
              "      <td>1.0</td>\n",
              "      <td>0.0</td>\n",
              "      <td>12.906202</td>\n",
              "      <td>0.000000</td>\n",
              "    </tr>\n",
              "    <tr>\n",
              "      <th>drive/MyDrive/2017/69_0_2017.csv</th>\n",
              "      <td>1.0</td>\n",
              "      <td>0.0</td>\n",
              "      <td>3.867960</td>\n",
              "      <td>0.000000</td>\n",
              "    </tr>\n",
              "  </tbody>\n",
              "</table>\n",
              "<p>1656 rows × 4 columns</p>\n",
              "</div>"
            ],
            "text/plain": [
              "                                    under_10  ...  percentage_over_130\n",
              "drive/MyDrive/2017/1730_0_2017.csv       1.0  ...            12.247907\n",
              "drive/MyDrive/2017/1730_1_2017.csv       1.0  ...            10.472793\n",
              "drive/MyDrive/2017/190_1_2017.csv        1.0  ...            10.374810\n",
              "drive/MyDrive/2017/649_1_2017.csv        1.0  ...             9.494863\n",
              "drive/MyDrive/2017/648_1_2017.csv        1.0  ...             7.578957\n",
              "...                                      ...  ...                  ...\n",
              "drive/MyDrive/2017/532_0_2017.csv        1.0  ...             0.000000\n",
              "drive/MyDrive/2017/1041_1_2017.csv       1.0  ...             0.000000\n",
              "drive/MyDrive/2017/2056_0_2017.csv       1.0  ...             0.000000\n",
              "drive/MyDrive/2017/9_0_2017.csv          1.0  ...             0.000000\n",
              "drive/MyDrive/2017/69_0_2017.csv         1.0  ...             0.000000\n",
              "\n",
              "[1656 rows x 4 columns]"
            ]
          },
          "metadata": {},
          "execution_count": 40
        }
      ]
    },
    {
      "cell_type": "code",
      "metadata": {
        "id": "Q22bZKmM9zpz"
      },
      "source": [
        "import seaborn as sns"
      ],
      "execution_count": 41,
      "outputs": []
    },
    {
      "cell_type": "code",
      "metadata": {
        "id": "eCU908ig-iY7",
        "colab": {
          "base_uri": "https://localhost:8080/",
          "height": 297
        },
        "outputId": "9a924de3-aa3b-423b-d8fd-2af6d3bd5d2a"
      },
      "source": [
        "sns.barplot(x=df[\"0\"][:100],y=df[\"1\"][:100])"
      ],
      "execution_count": 42,
      "outputs": [
        {
          "output_type": "execute_result",
          "data": {
            "text/plain": [
              "<matplotlib.axes._subplots.AxesSubplot at 0x7f30b56776d0>"
            ]
          },
          "metadata": {},
          "execution_count": 42
        },
        {
          "output_type": "display_data",
          "data": {
            "image/png": "[encoded data removed]",
            "text/plain": [
              "<Figure size 432x288 with 1 Axes>"
            ]
          },
          "metadata": {
            "needs_background": "light"
          }
        }
      ]
    },
    {
      "cell_type": "code",
      "metadata": {
        "id": "m8638UWz-iVy",
        "colab": {
          "base_uri": "https://localhost:8080/",
          "height": 354
        },
        "outputId": "4e35e435-d925-444d-c560-763948132468"
      },
      "source": [
        "sns.boxplot(df[\"1\"])"
      ],
      "execution_count": 43,
      "outputs": [
        {
          "output_type": "stream",
          "name": "stderr",
          "text": [
            "/usr/local/lib/python3.7/dist-packages/seaborn/_decorators.py:43: FutureWarning: Pass the following variable as a keyword arg: x. From version 0.12, the only valid positional argument will be `data`, and passing other arguments without an explicit keyword will result in an error or misinterpretation.\n",
            "  FutureWarning\n"
          ]
        },
        {
          "output_type": "execute_result",
          "data": {
            "text/plain": [
              "<matplotlib.axes._subplots.AxesSubplot at 0x7f30b56d8910>"
            ]
          },
          "metadata": {},
          "execution_count": 43
        },
        {
          "output_type": "display_data",
          "data": {
            "image/png": "[encoded data removed]",
            "text/plain": [
              "<Figure size 432x288 with 1 Axes>"
            ]
          },
          "metadata": {
            "needs_background": "light"
          }
        }
      ]
    },
    {
      "cell_type": "code",
      "metadata": {
        "id": "XGISQZEXACei",
        "colab": {
          "base_uri": "https://localhost:8080/",
          "height": 297
        },
        "outputId": "c3b17532-bdd9-45a5-ba7d-4013f0d0cc26"
      },
      "source": [
        "sns.lineplot(y=df[\"1\"][:100],x=df[\"0\"][:100])"
      ],
      "execution_count": 44,
      "outputs": [
        {
          "output_type": "execute_result",
          "data": {
            "text/plain": [
              "<matplotlib.axes._subplots.AxesSubplot at 0x7f30a6d62410>"
            ]
          },
          "metadata": {},
          "execution_count": 44
        },
        {
          "output_type": "display_data",
          "data": {
            "image/png": "[encoded data removed]",
            "text/plain": [
              "<Figure size 432x288 with 1 Axes>"
            ]
          },
          "metadata": {
            "needs_background": "light"
          }
        }
      ]
    }
  ]
}