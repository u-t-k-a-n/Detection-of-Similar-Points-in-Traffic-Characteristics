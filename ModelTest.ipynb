{
  "nbformat": 4,
  "nbformat_minor": 0,
  "metadata": {
    "colab": {
      "name": "ModelTest.ipynb",
      "provenance": [],
      "collapsed_sections": [],
      "include_colab_link": true
    },
    "kernelspec": {
      "name": "python3",
      "display_name": "Python 3"
    },
    "language_info": {
      "name": "python"
    }
  },
  "cells": [
    {
      "cell_type": "markdown",
      "metadata": {
        "id": "view-in-github",
        "colab_type": "text"
      },
      "source": [
        "<a href=\"https://colab.research.google.com/github/u-t-k-a-n/Detection-of-Similar-Points-in-Traffic-Characteristics/blob/main/ModelTest.ipynb\" target=\"_parent\"><img src=\"https://colab.research.google.com/assets/colab-badge.svg\" alt=\"Open In Colab\"/></a>"
      ]
    },
    {
      "cell_type": "code",
      "execution_count": null,
      "metadata": {
        "colab": {
          "base_uri": "https://localhost:8080/"
        },
        "id": "dCuYOMmXMHs1",
        "outputId": "11b7732f-5d1f-467c-db27-d694e0f1c3a4"
      },
      "outputs": [
        {
          "output_type": "stream",
          "name": "stdout",
          "text": [
            "Mounted at /content/drive\n"
          ]
        }
      ],
      "source": [
        "import pandas as pd\n",
        "from google.colab import drive\n",
        "drive.mount('/content/drive')"
      ]
    },
    {
      "cell_type": "markdown",
      "source": [
        "Feature Based"
      ],
      "metadata": {
        "id": "ZpamH0vY__zy"
      }
    },
    {
      "cell_type": "code",
      "source": [
        "path = \"drive/MyDrive/SimilarityScores/Coordinates/2017/Model_1_2017.csv\"\n",
        "df = pd.read_csv(path)\n",
        "df = df.drop(\"Unnamed: 0\",axis=1)\n",
        "df.columns = [\"vSegID\",\"vSegDir\",\"latitude\",\"longitude\",\"cluster\"]"
      ],
      "metadata": {
        "id": "Oo8Dnov4M9sb"
      },
      "execution_count": null,
      "outputs": []
    },
    {
      "cell_type": "code",
      "source": [
        "df"
      ],
      "metadata": {
        "colab": {
          "base_uri": "https://localhost:8080/",
          "height": 424
        },
        "id": "UsMWm7ArM9v_",
        "outputId": "2db331fb-4804-44bf-ae42-d5711af5edf0"
      },
      "execution_count": null,
      "outputs": [
        {
          "output_type": "execute_result",
          "data": {
            "text/html": [
              "\n",
              "  <div id=\"df-1d1f31bd-9896-4b55-89e1-29d9b8f998e5\">\n",
              "    <div class=\"colab-df-container\">\n",
              "      <div>\n",
              "<style scoped>\n",
              "    .dataframe tbody tr th:only-of-type {\n",
              "        vertical-align: middle;\n",
              "    }\n",
              "\n",
              "    .dataframe tbody tr th {\n",
              "        vertical-align: top;\n",
              "    }\n",
              "\n",
              "    .dataframe thead th {\n",
              "        text-align: right;\n",
              "    }\n",
              "</style>\n",
              "<table border=\"1\" class=\"dataframe\">\n",
              "  <thead>\n",
              "    <tr style=\"text-align: right;\">\n",
              "      <th></th>\n",
              "      <th>vSegID</th>\n",
              "      <th>vSegDir</th>\n",
              "      <th>latitude</th>\n",
              "      <th>longitude</th>\n",
              "      <th>cluster</th>\n",
              "    </tr>\n",
              "  </thead>\n",
              "  <tbody>\n",
              "    <tr>\n",
              "      <th>0</th>\n",
              "      <td>100</td>\n",
              "      <td>0</td>\n",
              "      <td>41.032530</td>\n",
              "      <td>28.936566</td>\n",
              "      <td>2</td>\n",
              "    </tr>\n",
              "    <tr>\n",
              "      <th>1</th>\n",
              "      <td>100</td>\n",
              "      <td>1</td>\n",
              "      <td>41.025294</td>\n",
              "      <td>28.929550</td>\n",
              "      <td>2</td>\n",
              "    </tr>\n",
              "    <tr>\n",
              "      <th>2</th>\n",
              "      <td>101</td>\n",
              "      <td>0</td>\n",
              "      <td>41.025396</td>\n",
              "      <td>28.929454</td>\n",
              "      <td>2</td>\n",
              "    </tr>\n",
              "    <tr>\n",
              "      <th>3</th>\n",
              "      <td>101</td>\n",
              "      <td>1</td>\n",
              "      <td>41.018156</td>\n",
              "      <td>28.922682</td>\n",
              "      <td>0</td>\n",
              "    </tr>\n",
              "    <tr>\n",
              "      <th>4</th>\n",
              "      <td>1026</td>\n",
              "      <td>1</td>\n",
              "      <td>40.990926</td>\n",
              "      <td>28.679818</td>\n",
              "      <td>0</td>\n",
              "    </tr>\n",
              "    <tr>\n",
              "      <th>...</th>\n",
              "      <td>...</td>\n",
              "      <td>...</td>\n",
              "      <td>...</td>\n",
              "      <td>...</td>\n",
              "      <td>...</td>\n",
              "    </tr>\n",
              "    <tr>\n",
              "      <th>1461</th>\n",
              "      <td>99</td>\n",
              "      <td>0</td>\n",
              "      <td>41.040595</td>\n",
              "      <td>28.940399</td>\n",
              "      <td>2</td>\n",
              "    </tr>\n",
              "    <tr>\n",
              "      <th>1462</th>\n",
              "      <td>99</td>\n",
              "      <td>1</td>\n",
              "      <td>41.032445</td>\n",
              "      <td>28.936590</td>\n",
              "      <td>2</td>\n",
              "    </tr>\n",
              "    <tr>\n",
              "      <th>1463</th>\n",
              "      <td>9</td>\n",
              "      <td>0</td>\n",
              "      <td>40.954825</td>\n",
              "      <td>29.083659</td>\n",
              "      <td>2</td>\n",
              "    </tr>\n",
              "    <tr>\n",
              "      <th>1464</th>\n",
              "      <td>2083</td>\n",
              "      <td>0</td>\n",
              "      <td>40.998055</td>\n",
              "      <td>28.933086</td>\n",
              "      <td>0</td>\n",
              "    </tr>\n",
              "    <tr>\n",
              "      <th>1465</th>\n",
              "      <td>76</td>\n",
              "      <td>1</td>\n",
              "      <td>41.072672</td>\n",
              "      <td>29.016118</td>\n",
              "      <td>2</td>\n",
              "    </tr>\n",
              "  </tbody>\n",
              "</table>\n",
              "<p>1466 rows × 5 columns</p>\n",
              "</div>\n",
              "      <button class=\"colab-df-convert\" onclick=\"convertToInteractive('df-1d1f31bd-9896-4b55-89e1-29d9b8f998e5')\"\n",
              "              title=\"Convert this dataframe to an interactive table.\"\n",
              "              style=\"display:none;\">\n",
              "        \n",
              "  <svg xmlns=\"http://www.w3.org/2000/svg\" height=\"24px\"viewBox=\"0 0 24 24\"\n",
              "       width=\"24px\">\n",
              "    <path d=\"M0 0h24v24H0V0z\" fill=\"none\"/>\n",
              "    <path d=\"M18.56 5.44l.94 2.06.94-2.06 2.06-.94-2.06-.94-.94-2.06-.94 2.06-2.06.94zm-11 1L8.5 8.5l.94-2.06 2.06-.94-2.06-.94L8.5 2.5l-.94 2.06-2.06.94zm10 10l.94 2.06.94-2.06 2.06-.94-2.06-.94-.94-2.06-.94 2.06-2.06.94z\"/><path d=\"M17.41 7.96l-1.37-1.37c-.4-.4-.92-.59-1.43-.59-.52 0-1.04.2-1.43.59L10.3 9.45l-7.72 7.72c-.78.78-.78 2.05 0 2.83L4 21.41c.39.39.9.59 1.41.59.51 0 1.02-.2 1.41-.59l7.78-7.78 2.81-2.81c.8-.78.8-2.07 0-2.86zM5.41 20L4 18.59l7.72-7.72 1.47 1.35L5.41 20z\"/>\n",
              "  </svg>\n",
              "      </button>\n",
              "      \n",
              "  <style>\n",
              "    .colab-df-container {\n",
              "      display:flex;\n",
              "      flex-wrap:wrap;\n",
              "      gap: 12px;\n",
              "    }\n",
              "\n",
              "    .colab-df-convert {\n",
              "      background-color: #E8F0FE;\n",
              "      border: none;\n",
              "      border-radius: 50%;\n",
              "      cursor: pointer;\n",
              "      display: none;\n",
              "      fill: #1967D2;\n",
              "      height: 32px;\n",
              "      padding: 0 0 0 0;\n",
              "      width: 32px;\n",
              "    }\n",
              "\n",
              "    .colab-df-convert:hover {\n",
              "      background-color: #E2EBFA;\n",
              "      box-shadow: 0px 1px 2px rgba(60, 64, 67, 0.3), 0px 1px 3px 1px rgba(60, 64, 67, 0.15);\n",
              "      fill: #174EA6;\n",
              "    }\n",
              "\n",
              "    [theme=dark] .colab-df-convert {\n",
              "      background-color: #3B4455;\n",
              "      fill: #D2E3FC;\n",
              "    }\n",
              "\n",
              "    [theme=dark] .colab-df-convert:hover {\n",
              "      background-color: #434B5C;\n",
              "      box-shadow: 0px 1px 3px 1px rgba(0, 0, 0, 0.15);\n",
              "      filter: drop-shadow(0px 1px 2px rgba(0, 0, 0, 0.3));\n",
              "      fill: #FFFFFF;\n",
              "    }\n",
              "  </style>\n",
              "\n",
              "      <script>\n",
              "        const buttonEl =\n",
              "          document.querySelector('#df-1d1f31bd-9896-4b55-89e1-29d9b8f998e5 button.colab-df-convert');\n",
              "        buttonEl.style.display =\n",
              "          google.colab.kernel.accessAllowed ? 'block' : 'none';\n",
              "\n",
              "        async function convertToInteractive(key) {\n",
              "          const element = document.querySelector('#df-1d1f31bd-9896-4b55-89e1-29d9b8f998e5');\n",
              "          const dataTable =\n",
              "            await google.colab.kernel.invokeFunction('convertToInteractive',\n",
              "                                                     [key], {});\n",
              "          if (!dataTable) return;\n",
              "\n",
              "          const docLinkHtml = 'Like what you see? Visit the ' +\n",
              "            '<a target=\"_blank\" href=https://colab.research.google.com/notebooks/data_table.ipynb>data table notebook</a>'\n",
              "            + ' to learn more about interactive tables.';\n",
              "          element.innerHTML = '';\n",
              "          dataTable['output_type'] = 'display_data';\n",
              "          await google.colab.output.renderOutput(dataTable, element);\n",
              "          const docLink = document.createElement('div');\n",
              "          docLink.innerHTML = docLinkHtml;\n",
              "          element.appendChild(docLink);\n",
              "        }\n",
              "      </script>\n",
              "    </div>\n",
              "  </div>\n",
              "  "
            ],
            "text/plain": [
              "      vSegID  vSegDir   latitude  longitude  cluster\n",
              "0        100        0  41.032530  28.936566        2\n",
              "1        100        1  41.025294  28.929550        2\n",
              "2        101        0  41.025396  28.929454        2\n",
              "3        101        1  41.018156  28.922682        0\n",
              "4       1026        1  40.990926  28.679818        0\n",
              "...      ...      ...        ...        ...      ...\n",
              "1461      99        0  41.040595  28.940399        2\n",
              "1462      99        1  41.032445  28.936590        2\n",
              "1463       9        0  40.954825  29.083659        2\n",
              "1464    2083        0  40.998055  28.933086        0\n",
              "1465      76        1  41.072672  29.016118        2\n",
              "\n",
              "[1466 rows x 5 columns]"
            ]
          },
          "metadata": {},
          "execution_count": 120
        }
      ]
    },
    {
      "cell_type": "code",
      "source": [
        "df.cluster.max()"
      ],
      "metadata": {
        "colab": {
          "base_uri": "https://localhost:8080/"
        },
        "id": "Xx_qjlZbM9y5",
        "outputId": "a7747bf0-4fb8-4e98-961c-4480a6c22291"
      },
      "execution_count": null,
      "outputs": [
        {
          "output_type": "execute_result",
          "data": {
            "text/plain": [
              "4"
            ]
          },
          "metadata": {},
          "execution_count": 5
        }
      ]
    },
    {
      "cell_type": "code",
      "source": [
        "path = \"drive/MyDrive/2017_concat/Concat_2017.csv\"\n",
        "df2 = pd.read_csv(path)"
      ],
      "metadata": {
        "id": "ax3Pt1axM91c"
      },
      "execution_count": null,
      "outputs": []
    },
    {
      "cell_type": "code",
      "source": [
        "df2"
      ],
      "metadata": {
        "colab": {
          "base_uri": "https://localhost:8080/",
          "height": 696
        },
        "id": "m_IyWK78M94k",
        "outputId": "6b9c70d4-a714-406f-b285-9b06594a7186"
      },
      "execution_count": null,
      "outputs": [
        {
          "output_type": "execute_result",
          "data": {
            "text/html": [
              "\n",
              "  <div id=\"df-53470d05-0ae8-4abb-8ca5-cd0ba12eea81\">\n",
              "    <div class=\"colab-df-container\">\n",
              "      <div>\n",
              "<style scoped>\n",
              "    .dataframe tbody tr th:only-of-type {\n",
              "        vertical-align: middle;\n",
              "    }\n",
              "\n",
              "    .dataframe tbody tr th {\n",
              "        vertical-align: top;\n",
              "    }\n",
              "\n",
              "    .dataframe thead th {\n",
              "        text-align: right;\n",
              "    }\n",
              "</style>\n",
              "<table border=\"1\" class=\"dataframe\">\n",
              "  <thead>\n",
              "    <tr style=\"text-align: right;\">\n",
              "      <th></th>\n",
              "      <th>time</th>\n",
              "      <th>drive/MyDrive/2017_v1/739_1_2017.csv</th>\n",
              "      <th>drive/MyDrive/2017_v1/482_1_2017.csv</th>\n",
              "      <th>drive/MyDrive/2017_v1/1920_1_2017.csv</th>\n",
              "      <th>drive/MyDrive/2017_v1/715_0_2017.csv</th>\n",
              "      <th>drive/MyDrive/2017_v1/1778_0_2017.csv</th>\n",
              "      <th>drive/MyDrive/2017_v1/722_1_2017.csv</th>\n",
              "      <th>drive/MyDrive/2017_v1/306_1_2017.csv</th>\n",
              "      <th>drive/MyDrive/2017_v1/1832_1_2017.csv</th>\n",
              "      <th>drive/MyDrive/2017_v1/1923_1_2017.csv</th>\n",
              "      <th>drive/MyDrive/2017_v1/603_1_2017.csv</th>\n",
              "      <th>drive/MyDrive/2017_v1/1868_1_2017.csv</th>\n",
              "      <th>drive/MyDrive/2017_v1/588_1_2017.csv</th>\n",
              "      <th>drive/MyDrive/2017_v1/485_1_2017.csv</th>\n",
              "      <th>drive/MyDrive/2017_v1/743_1_2017.csv</th>\n",
              "      <th>drive/MyDrive/2017_v1/380_1_2017.csv</th>\n",
              "      <th>drive/MyDrive/2017_v1/420_1_2017.csv</th>\n",
              "      <th>drive/MyDrive/2017_v1/1431_0_2017.csv</th>\n",
              "      <th>drive/MyDrive/2017_v1/931_0_2017.csv</th>\n",
              "      <th>drive/MyDrive/2017_v1/256_0_2017.csv</th>\n",
              "      <th>drive/MyDrive/2017_v1/1730_1_2017.csv</th>\n",
              "      <th>drive/MyDrive/2017_v1/452_0_2017.csv</th>\n",
              "      <th>drive/MyDrive/2017_v1/721_0_2017.csv</th>\n",
              "      <th>drive/MyDrive/2017_v1/1967_1_2017.csv</th>\n",
              "      <th>drive/MyDrive/2017_v1/187_1_2017.csv</th>\n",
              "      <th>drive/MyDrive/2017_v1/1746_0_2017.csv</th>\n",
              "      <th>drive/MyDrive/2017_v1/30_0_2017.csv</th>\n",
              "      <th>drive/MyDrive/2017_v1/70_1_2017.csv</th>\n",
              "      <th>drive/MyDrive/2017_v1/102_0_2017.csv</th>\n",
              "      <th>drive/MyDrive/2017_v1/601_0_2017.csv</th>\n",
              "      <th>drive/MyDrive/2017_v1/337_0_2017.csv</th>\n",
              "      <th>drive/MyDrive/2017_v1/694_0_2017.csv</th>\n",
              "      <th>drive/MyDrive/2017_v1/181_0_2017.csv</th>\n",
              "      <th>drive/MyDrive/2017_v1/641_0_2017.csv</th>\n",
              "      <th>drive/MyDrive/2017_v1/644_1_2017.csv</th>\n",
              "      <th>drive/MyDrive/2017_v1/203_0_2017.csv</th>\n",
              "      <th>drive/MyDrive/2017_v1/509_0_2017.csv</th>\n",
              "      <th>drive/MyDrive/2017_v1/326_0_2017.csv</th>\n",
              "      <th>drive/MyDrive/2017_v1/497_0_2017.csv</th>\n",
              "      <th>drive/MyDrive/2017_v1/880_0_2017.csv</th>\n",
              "      <th>...</th>\n",
              "      <th>drive/MyDrive/2017_v1/726_1_2017.csv</th>\n",
              "      <th>drive/MyDrive/2017_v1/251_1_2017.csv</th>\n",
              "      <th>drive/MyDrive/2017_v1/83_0_2017.csv</th>\n",
              "      <th>drive/MyDrive/2017_v1/514_0_2017.csv</th>\n",
              "      <th>drive/MyDrive/2017_v1/1836_0_2017.csv</th>\n",
              "      <th>drive/MyDrive/2017_v1/504_1_2017.csv</th>\n",
              "      <th>drive/MyDrive/2017_v1/1438_1_2017.csv</th>\n",
              "      <th>drive/MyDrive/2017_v1/599_0_2017.csv</th>\n",
              "      <th>drive/MyDrive/2017_v1/1858_1_2017.csv</th>\n",
              "      <th>drive/MyDrive/2017_v1/638_1_2017.csv</th>\n",
              "      <th>drive/MyDrive/2017_v1/21_0_2017.csv</th>\n",
              "      <th>drive/MyDrive/2017_v1/480_1_2017.csv</th>\n",
              "      <th>drive/MyDrive/2017_v1/891_1_2017.csv</th>\n",
              "      <th>drive/MyDrive/2017_v1/399_1_2017.csv</th>\n",
              "      <th>drive/MyDrive/2017_v1/589_0_2017.csv</th>\n",
              "      <th>drive/MyDrive/2017_v1/1831_1_2017.csv</th>\n",
              "      <th>drive/MyDrive/2017_v1/750_0_2017.csv</th>\n",
              "      <th>drive/MyDrive/2017_v1/1440_1_2017.csv</th>\n",
              "      <th>drive/MyDrive/2017_v1/884_1_2017.csv</th>\n",
              "      <th>drive/MyDrive/2017_v1/387_1_2017.csv</th>\n",
              "      <th>drive/MyDrive/2017_v1/613_0_2017.csv</th>\n",
              "      <th>drive/MyDrive/2017_v1/529_0_2017.csv</th>\n",
              "      <th>drive/MyDrive/2017_v1/17_1_2017.csv</th>\n",
              "      <th>drive/MyDrive/2017_v1/453_1_2017.csv</th>\n",
              "      <th>drive/MyDrive/2017_v1/392_1_2017.csv</th>\n",
              "      <th>drive/MyDrive/2017_v1/740_0_2017.csv</th>\n",
              "      <th>drive/MyDrive/2017_v1/706_1_2017.csv</th>\n",
              "      <th>drive/MyDrive/2017_v1/881_1_2017.csv</th>\n",
              "      <th>drive/MyDrive/2017_v1/308_0_2017.csv</th>\n",
              "      <th>drive/MyDrive/2017_v1/279_0_2017.csv</th>\n",
              "      <th>drive/MyDrive/2017_v1/1837_0_2017.csv</th>\n",
              "      <th>drive/MyDrive/2017_v1/1853_0_2017.csv</th>\n",
              "      <th>drive/MyDrive/2017_v1/202_0_2017.csv</th>\n",
              "      <th>drive/MyDrive/2017_v1/1891_0_2017.csv</th>\n",
              "      <th>drive/MyDrive/2017_v1/619_1_2017.csv</th>\n",
              "      <th>drive/MyDrive/2017_v1/189_0_2017.csv</th>\n",
              "      <th>drive/MyDrive/2017_v1/1751_0_2017.csv</th>\n",
              "      <th>drive/MyDrive/2017_v1/641_1_2017.csv</th>\n",
              "      <th>drive/MyDrive/2017_v1/542_1_2017.csv</th>\n",
              "      <th>drive/MyDrive/2017_v1/714_1_2017.csv</th>\n",
              "    </tr>\n",
              "  </thead>\n",
              "  <tbody>\n",
              "    <tr>\n",
              "      <th>0</th>\n",
              "      <td>2017-01-01 00:00:00</td>\n",
              "      <td>77.000000</td>\n",
              "      <td>92.000000</td>\n",
              "      <td>10.0</td>\n",
              "      <td>110.500000</td>\n",
              "      <td>60.500000</td>\n",
              "      <td>105.000000</td>\n",
              "      <td>63.0</td>\n",
              "      <td>90.0</td>\n",
              "      <td>10.0</td>\n",
              "      <td>78.500000</td>\n",
              "      <td>75.500000</td>\n",
              "      <td>57.50000</td>\n",
              "      <td>91.000000</td>\n",
              "      <td>41.0</td>\n",
              "      <td>86.500000</td>\n",
              "      <td>75.500000</td>\n",
              "      <td>85.0</td>\n",
              "      <td>90.0</td>\n",
              "      <td>76.000000</td>\n",
              "      <td>57.0</td>\n",
              "      <td>87.000000</td>\n",
              "      <td>112.50000</td>\n",
              "      <td>10.0</td>\n",
              "      <td>88.500000</td>\n",
              "      <td>72.000000</td>\n",
              "      <td>94.000000</td>\n",
              "      <td>74.000000</td>\n",
              "      <td>75.000000</td>\n",
              "      <td>67.000000</td>\n",
              "      <td>95.500000</td>\n",
              "      <td>10.0</td>\n",
              "      <td>10.0</td>\n",
              "      <td>104.000000</td>\n",
              "      <td>108.000000</td>\n",
              "      <td>76.000000</td>\n",
              "      <td>45.0</td>\n",
              "      <td>85.500000</td>\n",
              "      <td>84.500000</td>\n",
              "      <td>53.000000</td>\n",
              "      <td>...</td>\n",
              "      <td>99.0</td>\n",
              "      <td>90.0</td>\n",
              "      <td>44.500000</td>\n",
              "      <td>45.0</td>\n",
              "      <td>90.0</td>\n",
              "      <td>69.0</td>\n",
              "      <td>85.0</td>\n",
              "      <td>10.0</td>\n",
              "      <td>90.0</td>\n",
              "      <td>101.000000</td>\n",
              "      <td>86.00000</td>\n",
              "      <td>105.000000</td>\n",
              "      <td>10.0</td>\n",
              "      <td>65.00000</td>\n",
              "      <td>60.000000</td>\n",
              "      <td>90.0</td>\n",
              "      <td>31.00000</td>\n",
              "      <td>85.0</td>\n",
              "      <td>10.0</td>\n",
              "      <td>84.500000</td>\n",
              "      <td>72.00000</td>\n",
              "      <td>49.50000</td>\n",
              "      <td>97.50000</td>\n",
              "      <td>101.0</td>\n",
              "      <td>87.000000</td>\n",
              "      <td>88.000000</td>\n",
              "      <td>102.500000</td>\n",
              "      <td>74.0</td>\n",
              "      <td>79.50000</td>\n",
              "      <td>70.000000</td>\n",
              "      <td>90.0</td>\n",
              "      <td>10.0</td>\n",
              "      <td>75.000000</td>\n",
              "      <td>87.000000</td>\n",
              "      <td>93.50000</td>\n",
              "      <td>89.500000</td>\n",
              "      <td>45.0</td>\n",
              "      <td>103.0</td>\n",
              "      <td>29.000000</td>\n",
              "      <td>112.000000</td>\n",
              "    </tr>\n",
              "    <tr>\n",
              "      <th>1</th>\n",
              "      <td>2017-01-01 00:05:00</td>\n",
              "      <td>57.000000</td>\n",
              "      <td>88.000000</td>\n",
              "      <td>10.0</td>\n",
              "      <td>115.000000</td>\n",
              "      <td>65.000000</td>\n",
              "      <td>107.000000</td>\n",
              "      <td>63.0</td>\n",
              "      <td>90.0</td>\n",
              "      <td>10.0</td>\n",
              "      <td>75.000000</td>\n",
              "      <td>84.000000</td>\n",
              "      <td>59.00000</td>\n",
              "      <td>87.000000</td>\n",
              "      <td>41.0</td>\n",
              "      <td>91.000000</td>\n",
              "      <td>68.000000</td>\n",
              "      <td>85.0</td>\n",
              "      <td>90.0</td>\n",
              "      <td>75.000000</td>\n",
              "      <td>57.0</td>\n",
              "      <td>91.000000</td>\n",
              "      <td>111.00000</td>\n",
              "      <td>10.0</td>\n",
              "      <td>82.000000</td>\n",
              "      <td>64.000000</td>\n",
              "      <td>98.000000</td>\n",
              "      <td>70.000000</td>\n",
              "      <td>77.000000</td>\n",
              "      <td>71.000000</td>\n",
              "      <td>99.000000</td>\n",
              "      <td>10.0</td>\n",
              "      <td>10.0</td>\n",
              "      <td>95.000000</td>\n",
              "      <td>109.000000</td>\n",
              "      <td>75.000000</td>\n",
              "      <td>45.0</td>\n",
              "      <td>88.000000</td>\n",
              "      <td>85.000000</td>\n",
              "      <td>61.000000</td>\n",
              "      <td>...</td>\n",
              "      <td>99.0</td>\n",
              "      <td>90.0</td>\n",
              "      <td>54.000000</td>\n",
              "      <td>45.0</td>\n",
              "      <td>90.0</td>\n",
              "      <td>69.0</td>\n",
              "      <td>85.0</td>\n",
              "      <td>10.0</td>\n",
              "      <td>90.0</td>\n",
              "      <td>95.000000</td>\n",
              "      <td>89.00000</td>\n",
              "      <td>96.000000</td>\n",
              "      <td>10.0</td>\n",
              "      <td>62.00000</td>\n",
              "      <td>53.000000</td>\n",
              "      <td>90.0</td>\n",
              "      <td>34.00000</td>\n",
              "      <td>85.0</td>\n",
              "      <td>10.0</td>\n",
              "      <td>87.000000</td>\n",
              "      <td>75.00000</td>\n",
              "      <td>51.00000</td>\n",
              "      <td>99.00000</td>\n",
              "      <td>101.0</td>\n",
              "      <td>79.000000</td>\n",
              "      <td>87.000000</td>\n",
              "      <td>102.000000</td>\n",
              "      <td>74.0</td>\n",
              "      <td>78.00000</td>\n",
              "      <td>62.000000</td>\n",
              "      <td>90.0</td>\n",
              "      <td>10.0</td>\n",
              "      <td>74.000000</td>\n",
              "      <td>82.000000</td>\n",
              "      <td>92.00000</td>\n",
              "      <td>89.000000</td>\n",
              "      <td>45.0</td>\n",
              "      <td>103.0</td>\n",
              "      <td>30.000000</td>\n",
              "      <td>108.000000</td>\n",
              "    </tr>\n",
              "    <tr>\n",
              "      <th>2</th>\n",
              "      <td>2017-01-01 00:10:00</td>\n",
              "      <td>57.000000</td>\n",
              "      <td>88.000000</td>\n",
              "      <td>10.0</td>\n",
              "      <td>115.000000</td>\n",
              "      <td>65.000000</td>\n",
              "      <td>107.000000</td>\n",
              "      <td>63.0</td>\n",
              "      <td>90.0</td>\n",
              "      <td>10.0</td>\n",
              "      <td>75.000000</td>\n",
              "      <td>84.000000</td>\n",
              "      <td>59.00000</td>\n",
              "      <td>87.000000</td>\n",
              "      <td>41.0</td>\n",
              "      <td>91.000000</td>\n",
              "      <td>68.000000</td>\n",
              "      <td>85.0</td>\n",
              "      <td>90.0</td>\n",
              "      <td>75.000000</td>\n",
              "      <td>57.0</td>\n",
              "      <td>91.000000</td>\n",
              "      <td>111.00000</td>\n",
              "      <td>10.0</td>\n",
              "      <td>82.000000</td>\n",
              "      <td>64.000000</td>\n",
              "      <td>98.000000</td>\n",
              "      <td>70.000000</td>\n",
              "      <td>77.000000</td>\n",
              "      <td>71.000000</td>\n",
              "      <td>99.000000</td>\n",
              "      <td>10.0</td>\n",
              "      <td>10.0</td>\n",
              "      <td>95.000000</td>\n",
              "      <td>109.000000</td>\n",
              "      <td>75.000000</td>\n",
              "      <td>45.0</td>\n",
              "      <td>88.000000</td>\n",
              "      <td>85.000000</td>\n",
              "      <td>61.000000</td>\n",
              "      <td>...</td>\n",
              "      <td>99.0</td>\n",
              "      <td>90.0</td>\n",
              "      <td>54.000000</td>\n",
              "      <td>45.0</td>\n",
              "      <td>90.0</td>\n",
              "      <td>69.0</td>\n",
              "      <td>85.0</td>\n",
              "      <td>10.0</td>\n",
              "      <td>90.0</td>\n",
              "      <td>95.000000</td>\n",
              "      <td>89.00000</td>\n",
              "      <td>96.000000</td>\n",
              "      <td>10.0</td>\n",
              "      <td>62.00000</td>\n",
              "      <td>53.000000</td>\n",
              "      <td>90.0</td>\n",
              "      <td>34.00000</td>\n",
              "      <td>85.0</td>\n",
              "      <td>10.0</td>\n",
              "      <td>87.000000</td>\n",
              "      <td>75.00000</td>\n",
              "      <td>51.00000</td>\n",
              "      <td>99.00000</td>\n",
              "      <td>101.0</td>\n",
              "      <td>79.000000</td>\n",
              "      <td>87.000000</td>\n",
              "      <td>102.000000</td>\n",
              "      <td>74.0</td>\n",
              "      <td>78.00000</td>\n",
              "      <td>62.000000</td>\n",
              "      <td>90.0</td>\n",
              "      <td>10.0</td>\n",
              "      <td>74.000000</td>\n",
              "      <td>82.000000</td>\n",
              "      <td>92.00000</td>\n",
              "      <td>89.000000</td>\n",
              "      <td>45.0</td>\n",
              "      <td>103.0</td>\n",
              "      <td>30.000000</td>\n",
              "      <td>108.000000</td>\n",
              "    </tr>\n",
              "    <tr>\n",
              "      <th>3</th>\n",
              "      <td>2017-01-01 00:15:00</td>\n",
              "      <td>57.295069</td>\n",
              "      <td>88.059014</td>\n",
              "      <td>10.0</td>\n",
              "      <td>114.933609</td>\n",
              "      <td>64.933609</td>\n",
              "      <td>106.970493</td>\n",
              "      <td>63.0</td>\n",
              "      <td>90.0</td>\n",
              "      <td>10.0</td>\n",
              "      <td>75.051637</td>\n",
              "      <td>83.874595</td>\n",
              "      <td>58.97787</td>\n",
              "      <td>87.059014</td>\n",
              "      <td>41.0</td>\n",
              "      <td>90.933609</td>\n",
              "      <td>68.110651</td>\n",
              "      <td>85.0</td>\n",
              "      <td>90.0</td>\n",
              "      <td>75.014753</td>\n",
              "      <td>57.0</td>\n",
              "      <td>90.940986</td>\n",
              "      <td>111.02213</td>\n",
              "      <td>10.0</td>\n",
              "      <td>82.095898</td>\n",
              "      <td>64.118028</td>\n",
              "      <td>97.940986</td>\n",
              "      <td>70.059014</td>\n",
              "      <td>76.970493</td>\n",
              "      <td>70.940986</td>\n",
              "      <td>98.948363</td>\n",
              "      <td>10.0</td>\n",
              "      <td>10.0</td>\n",
              "      <td>95.132781</td>\n",
              "      <td>108.985247</td>\n",
              "      <td>75.014753</td>\n",
              "      <td>45.0</td>\n",
              "      <td>87.963116</td>\n",
              "      <td>84.992623</td>\n",
              "      <td>60.881972</td>\n",
              "      <td>...</td>\n",
              "      <td>99.0</td>\n",
              "      <td>90.0</td>\n",
              "      <td>53.859842</td>\n",
              "      <td>45.0</td>\n",
              "      <td>90.0</td>\n",
              "      <td>69.0</td>\n",
              "      <td>85.0</td>\n",
              "      <td>10.0</td>\n",
              "      <td>90.0</td>\n",
              "      <td>95.088521</td>\n",
              "      <td>88.95574</td>\n",
              "      <td>96.132781</td>\n",
              "      <td>10.0</td>\n",
              "      <td>62.04426</td>\n",
              "      <td>53.103274</td>\n",
              "      <td>90.0</td>\n",
              "      <td>33.95574</td>\n",
              "      <td>85.0</td>\n",
              "      <td>10.0</td>\n",
              "      <td>86.963116</td>\n",
              "      <td>74.95574</td>\n",
              "      <td>50.97787</td>\n",
              "      <td>98.97787</td>\n",
              "      <td>101.0</td>\n",
              "      <td>79.118028</td>\n",
              "      <td>87.014753</td>\n",
              "      <td>102.007377</td>\n",
              "      <td>74.0</td>\n",
              "      <td>78.02213</td>\n",
              "      <td>62.118028</td>\n",
              "      <td>90.0</td>\n",
              "      <td>10.0</td>\n",
              "      <td>74.014753</td>\n",
              "      <td>82.073767</td>\n",
              "      <td>92.02213</td>\n",
              "      <td>89.007377</td>\n",
              "      <td>45.0</td>\n",
              "      <td>103.0</td>\n",
              "      <td>29.985247</td>\n",
              "      <td>108.059014</td>\n",
              "    </tr>\n",
              "    <tr>\n",
              "      <th>4</th>\n",
              "      <td>2017-01-01 00:20:00</td>\n",
              "      <td>57.000000</td>\n",
              "      <td>88.000000</td>\n",
              "      <td>10.0</td>\n",
              "      <td>115.000000</td>\n",
              "      <td>65.000000</td>\n",
              "      <td>107.000000</td>\n",
              "      <td>63.0</td>\n",
              "      <td>90.0</td>\n",
              "      <td>10.0</td>\n",
              "      <td>75.000000</td>\n",
              "      <td>84.000000</td>\n",
              "      <td>59.00000</td>\n",
              "      <td>87.000000</td>\n",
              "      <td>41.0</td>\n",
              "      <td>91.000000</td>\n",
              "      <td>68.000000</td>\n",
              "      <td>85.0</td>\n",
              "      <td>90.0</td>\n",
              "      <td>75.000000</td>\n",
              "      <td>57.0</td>\n",
              "      <td>91.000000</td>\n",
              "      <td>111.00000</td>\n",
              "      <td>10.0</td>\n",
              "      <td>82.000000</td>\n",
              "      <td>64.000000</td>\n",
              "      <td>98.000000</td>\n",
              "      <td>70.000000</td>\n",
              "      <td>77.000000</td>\n",
              "      <td>71.000000</td>\n",
              "      <td>99.000000</td>\n",
              "      <td>10.0</td>\n",
              "      <td>10.0</td>\n",
              "      <td>95.000000</td>\n",
              "      <td>109.000000</td>\n",
              "      <td>75.000000</td>\n",
              "      <td>45.0</td>\n",
              "      <td>88.000000</td>\n",
              "      <td>85.000000</td>\n",
              "      <td>61.000000</td>\n",
              "      <td>...</td>\n",
              "      <td>99.0</td>\n",
              "      <td>90.0</td>\n",
              "      <td>54.000000</td>\n",
              "      <td>45.0</td>\n",
              "      <td>90.0</td>\n",
              "      <td>69.0</td>\n",
              "      <td>85.0</td>\n",
              "      <td>10.0</td>\n",
              "      <td>90.0</td>\n",
              "      <td>95.000000</td>\n",
              "      <td>89.00000</td>\n",
              "      <td>96.000000</td>\n",
              "      <td>10.0</td>\n",
              "      <td>62.00000</td>\n",
              "      <td>53.000000</td>\n",
              "      <td>90.0</td>\n",
              "      <td>34.00000</td>\n",
              "      <td>85.0</td>\n",
              "      <td>10.0</td>\n",
              "      <td>87.000000</td>\n",
              "      <td>75.00000</td>\n",
              "      <td>51.00000</td>\n",
              "      <td>99.00000</td>\n",
              "      <td>101.0</td>\n",
              "      <td>79.000000</td>\n",
              "      <td>87.000000</td>\n",
              "      <td>102.000000</td>\n",
              "      <td>74.0</td>\n",
              "      <td>78.00000</td>\n",
              "      <td>62.000000</td>\n",
              "      <td>90.0</td>\n",
              "      <td>10.0</td>\n",
              "      <td>74.000000</td>\n",
              "      <td>82.000000</td>\n",
              "      <td>92.00000</td>\n",
              "      <td>89.000000</td>\n",
              "      <td>45.0</td>\n",
              "      <td>103.0</td>\n",
              "      <td>30.000000</td>\n",
              "      <td>108.000000</td>\n",
              "    </tr>\n",
              "    <tr>\n",
              "      <th>...</th>\n",
              "      <td>...</td>\n",
              "      <td>...</td>\n",
              "      <td>...</td>\n",
              "      <td>...</td>\n",
              "      <td>...</td>\n",
              "      <td>...</td>\n",
              "      <td>...</td>\n",
              "      <td>...</td>\n",
              "      <td>...</td>\n",
              "      <td>...</td>\n",
              "      <td>...</td>\n",
              "      <td>...</td>\n",
              "      <td>...</td>\n",
              "      <td>...</td>\n",
              "      <td>...</td>\n",
              "      <td>...</td>\n",
              "      <td>...</td>\n",
              "      <td>...</td>\n",
              "      <td>...</td>\n",
              "      <td>...</td>\n",
              "      <td>...</td>\n",
              "      <td>...</td>\n",
              "      <td>...</td>\n",
              "      <td>...</td>\n",
              "      <td>...</td>\n",
              "      <td>...</td>\n",
              "      <td>...</td>\n",
              "      <td>...</td>\n",
              "      <td>...</td>\n",
              "      <td>...</td>\n",
              "      <td>...</td>\n",
              "      <td>...</td>\n",
              "      <td>...</td>\n",
              "      <td>...</td>\n",
              "      <td>...</td>\n",
              "      <td>...</td>\n",
              "      <td>...</td>\n",
              "      <td>...</td>\n",
              "      <td>...</td>\n",
              "      <td>...</td>\n",
              "      <td>...</td>\n",
              "      <td>...</td>\n",
              "      <td>...</td>\n",
              "      <td>...</td>\n",
              "      <td>...</td>\n",
              "      <td>...</td>\n",
              "      <td>...</td>\n",
              "      <td>...</td>\n",
              "      <td>...</td>\n",
              "      <td>...</td>\n",
              "      <td>...</td>\n",
              "      <td>...</td>\n",
              "      <td>...</td>\n",
              "      <td>...</td>\n",
              "      <td>...</td>\n",
              "      <td>...</td>\n",
              "      <td>...</td>\n",
              "      <td>...</td>\n",
              "      <td>...</td>\n",
              "      <td>...</td>\n",
              "      <td>...</td>\n",
              "      <td>...</td>\n",
              "      <td>...</td>\n",
              "      <td>...</td>\n",
              "      <td>...</td>\n",
              "      <td>...</td>\n",
              "      <td>...</td>\n",
              "      <td>...</td>\n",
              "      <td>...</td>\n",
              "      <td>...</td>\n",
              "      <td>...</td>\n",
              "      <td>...</td>\n",
              "      <td>...</td>\n",
              "      <td>...</td>\n",
              "      <td>...</td>\n",
              "      <td>...</td>\n",
              "      <td>...</td>\n",
              "      <td>...</td>\n",
              "      <td>...</td>\n",
              "      <td>...</td>\n",
              "      <td>...</td>\n",
              "    </tr>\n",
              "    <tr>\n",
              "      <th>105115</th>\n",
              "      <td>2017-12-31 23:35:00</td>\n",
              "      <td>10.000000</td>\n",
              "      <td>10.000000</td>\n",
              "      <td>10.0</td>\n",
              "      <td>10.000000</td>\n",
              "      <td>10.000000</td>\n",
              "      <td>10.000000</td>\n",
              "      <td>10.0</td>\n",
              "      <td>10.0</td>\n",
              "      <td>10.0</td>\n",
              "      <td>10.000000</td>\n",
              "      <td>10.000000</td>\n",
              "      <td>10.00000</td>\n",
              "      <td>10.000000</td>\n",
              "      <td>10.0</td>\n",
              "      <td>10.000000</td>\n",
              "      <td>10.000000</td>\n",
              "      <td>10.0</td>\n",
              "      <td>10.0</td>\n",
              "      <td>10.000000</td>\n",
              "      <td>10.0</td>\n",
              "      <td>10.000000</td>\n",
              "      <td>10.00000</td>\n",
              "      <td>10.0</td>\n",
              "      <td>10.000000</td>\n",
              "      <td>10.000000</td>\n",
              "      <td>10.000000</td>\n",
              "      <td>10.000000</td>\n",
              "      <td>10.000000</td>\n",
              "      <td>10.000000</td>\n",
              "      <td>10.000000</td>\n",
              "      <td>10.0</td>\n",
              "      <td>10.0</td>\n",
              "      <td>10.000000</td>\n",
              "      <td>10.000000</td>\n",
              "      <td>10.000000</td>\n",
              "      <td>10.0</td>\n",
              "      <td>10.000000</td>\n",
              "      <td>10.000000</td>\n",
              "      <td>10.000000</td>\n",
              "      <td>...</td>\n",
              "      <td>10.0</td>\n",
              "      <td>10.0</td>\n",
              "      <td>10.000000</td>\n",
              "      <td>10.0</td>\n",
              "      <td>10.0</td>\n",
              "      <td>10.0</td>\n",
              "      <td>10.0</td>\n",
              "      <td>10.0</td>\n",
              "      <td>10.0</td>\n",
              "      <td>10.000000</td>\n",
              "      <td>10.00000</td>\n",
              "      <td>10.000000</td>\n",
              "      <td>10.0</td>\n",
              "      <td>10.00000</td>\n",
              "      <td>10.000000</td>\n",
              "      <td>10.0</td>\n",
              "      <td>10.00000</td>\n",
              "      <td>10.0</td>\n",
              "      <td>10.0</td>\n",
              "      <td>10.000000</td>\n",
              "      <td>10.00000</td>\n",
              "      <td>10.00000</td>\n",
              "      <td>10.00000</td>\n",
              "      <td>10.0</td>\n",
              "      <td>10.000000</td>\n",
              "      <td>10.000000</td>\n",
              "      <td>10.000000</td>\n",
              "      <td>10.0</td>\n",
              "      <td>10.00000</td>\n",
              "      <td>10.000000</td>\n",
              "      <td>10.0</td>\n",
              "      <td>10.0</td>\n",
              "      <td>10.000000</td>\n",
              "      <td>10.000000</td>\n",
              "      <td>10.00000</td>\n",
              "      <td>10.000000</td>\n",
              "      <td>10.0</td>\n",
              "      <td>10.0</td>\n",
              "      <td>10.000000</td>\n",
              "      <td>10.000000</td>\n",
              "    </tr>\n",
              "    <tr>\n",
              "      <th>105116</th>\n",
              "      <td>2017-12-31 23:40:00</td>\n",
              "      <td>10.000000</td>\n",
              "      <td>10.000000</td>\n",
              "      <td>10.0</td>\n",
              "      <td>10.000000</td>\n",
              "      <td>10.000000</td>\n",
              "      <td>10.000000</td>\n",
              "      <td>10.0</td>\n",
              "      <td>10.0</td>\n",
              "      <td>10.0</td>\n",
              "      <td>10.000000</td>\n",
              "      <td>10.000000</td>\n",
              "      <td>10.00000</td>\n",
              "      <td>10.000000</td>\n",
              "      <td>10.0</td>\n",
              "      <td>10.000000</td>\n",
              "      <td>10.000000</td>\n",
              "      <td>10.0</td>\n",
              "      <td>10.0</td>\n",
              "      <td>10.000000</td>\n",
              "      <td>10.0</td>\n",
              "      <td>10.000000</td>\n",
              "      <td>10.00000</td>\n",
              "      <td>10.0</td>\n",
              "      <td>10.000000</td>\n",
              "      <td>10.000000</td>\n",
              "      <td>10.000000</td>\n",
              "      <td>10.000000</td>\n",
              "      <td>10.000000</td>\n",
              "      <td>10.000000</td>\n",
              "      <td>10.000000</td>\n",
              "      <td>10.0</td>\n",
              "      <td>10.0</td>\n",
              "      <td>10.000000</td>\n",
              "      <td>10.000000</td>\n",
              "      <td>10.000000</td>\n",
              "      <td>10.0</td>\n",
              "      <td>10.000000</td>\n",
              "      <td>10.000000</td>\n",
              "      <td>10.000000</td>\n",
              "      <td>...</td>\n",
              "      <td>10.0</td>\n",
              "      <td>10.0</td>\n",
              "      <td>10.000000</td>\n",
              "      <td>10.0</td>\n",
              "      <td>10.0</td>\n",
              "      <td>10.0</td>\n",
              "      <td>10.0</td>\n",
              "      <td>10.0</td>\n",
              "      <td>10.0</td>\n",
              "      <td>10.000000</td>\n",
              "      <td>10.00000</td>\n",
              "      <td>10.000000</td>\n",
              "      <td>10.0</td>\n",
              "      <td>10.00000</td>\n",
              "      <td>10.000000</td>\n",
              "      <td>10.0</td>\n",
              "      <td>10.00000</td>\n",
              "      <td>10.0</td>\n",
              "      <td>10.0</td>\n",
              "      <td>10.000000</td>\n",
              "      <td>10.00000</td>\n",
              "      <td>10.00000</td>\n",
              "      <td>10.00000</td>\n",
              "      <td>10.0</td>\n",
              "      <td>10.000000</td>\n",
              "      <td>10.000000</td>\n",
              "      <td>10.000000</td>\n",
              "      <td>10.0</td>\n",
              "      <td>10.00000</td>\n",
              "      <td>10.000000</td>\n",
              "      <td>10.0</td>\n",
              "      <td>10.0</td>\n",
              "      <td>10.000000</td>\n",
              "      <td>10.000000</td>\n",
              "      <td>10.00000</td>\n",
              "      <td>10.000000</td>\n",
              "      <td>10.0</td>\n",
              "      <td>10.0</td>\n",
              "      <td>10.000000</td>\n",
              "      <td>10.000000</td>\n",
              "    </tr>\n",
              "    <tr>\n",
              "      <th>105117</th>\n",
              "      <td>2017-12-31 23:45:00</td>\n",
              "      <td>10.000000</td>\n",
              "      <td>10.000000</td>\n",
              "      <td>10.0</td>\n",
              "      <td>10.000000</td>\n",
              "      <td>10.000000</td>\n",
              "      <td>10.000000</td>\n",
              "      <td>10.0</td>\n",
              "      <td>10.0</td>\n",
              "      <td>10.0</td>\n",
              "      <td>10.000000</td>\n",
              "      <td>10.000000</td>\n",
              "      <td>10.00000</td>\n",
              "      <td>10.000000</td>\n",
              "      <td>10.0</td>\n",
              "      <td>10.000000</td>\n",
              "      <td>10.000000</td>\n",
              "      <td>10.0</td>\n",
              "      <td>10.0</td>\n",
              "      <td>10.000000</td>\n",
              "      <td>10.0</td>\n",
              "      <td>10.000000</td>\n",
              "      <td>10.00000</td>\n",
              "      <td>10.0</td>\n",
              "      <td>10.000000</td>\n",
              "      <td>10.000000</td>\n",
              "      <td>10.000000</td>\n",
              "      <td>10.000000</td>\n",
              "      <td>10.000000</td>\n",
              "      <td>10.000000</td>\n",
              "      <td>10.000000</td>\n",
              "      <td>10.0</td>\n",
              "      <td>10.0</td>\n",
              "      <td>10.000000</td>\n",
              "      <td>10.000000</td>\n",
              "      <td>10.000000</td>\n",
              "      <td>10.0</td>\n",
              "      <td>10.000000</td>\n",
              "      <td>10.000000</td>\n",
              "      <td>10.000000</td>\n",
              "      <td>...</td>\n",
              "      <td>10.0</td>\n",
              "      <td>10.0</td>\n",
              "      <td>10.000000</td>\n",
              "      <td>10.0</td>\n",
              "      <td>10.0</td>\n",
              "      <td>10.0</td>\n",
              "      <td>10.0</td>\n",
              "      <td>10.0</td>\n",
              "      <td>10.0</td>\n",
              "      <td>10.000000</td>\n",
              "      <td>10.00000</td>\n",
              "      <td>10.000000</td>\n",
              "      <td>10.0</td>\n",
              "      <td>10.00000</td>\n",
              "      <td>10.000000</td>\n",
              "      <td>10.0</td>\n",
              "      <td>10.00000</td>\n",
              "      <td>10.0</td>\n",
              "      <td>10.0</td>\n",
              "      <td>10.000000</td>\n",
              "      <td>10.00000</td>\n",
              "      <td>10.00000</td>\n",
              "      <td>10.00000</td>\n",
              "      <td>10.0</td>\n",
              "      <td>10.000000</td>\n",
              "      <td>10.000000</td>\n",
              "      <td>10.000000</td>\n",
              "      <td>10.0</td>\n",
              "      <td>10.00000</td>\n",
              "      <td>10.000000</td>\n",
              "      <td>10.0</td>\n",
              "      <td>10.0</td>\n",
              "      <td>10.000000</td>\n",
              "      <td>10.000000</td>\n",
              "      <td>10.00000</td>\n",
              "      <td>10.000000</td>\n",
              "      <td>10.0</td>\n",
              "      <td>10.0</td>\n",
              "      <td>10.000000</td>\n",
              "      <td>10.000000</td>\n",
              "    </tr>\n",
              "    <tr>\n",
              "      <th>105118</th>\n",
              "      <td>2017-12-31 23:50:00</td>\n",
              "      <td>10.000000</td>\n",
              "      <td>10.000000</td>\n",
              "      <td>10.0</td>\n",
              "      <td>10.000000</td>\n",
              "      <td>10.000000</td>\n",
              "      <td>10.000000</td>\n",
              "      <td>10.0</td>\n",
              "      <td>10.0</td>\n",
              "      <td>10.0</td>\n",
              "      <td>10.000000</td>\n",
              "      <td>10.000000</td>\n",
              "      <td>10.00000</td>\n",
              "      <td>10.000000</td>\n",
              "      <td>10.0</td>\n",
              "      <td>10.000000</td>\n",
              "      <td>10.000000</td>\n",
              "      <td>10.0</td>\n",
              "      <td>10.0</td>\n",
              "      <td>10.000000</td>\n",
              "      <td>10.0</td>\n",
              "      <td>10.000000</td>\n",
              "      <td>10.00000</td>\n",
              "      <td>10.0</td>\n",
              "      <td>10.000000</td>\n",
              "      <td>10.000000</td>\n",
              "      <td>10.000000</td>\n",
              "      <td>10.000000</td>\n",
              "      <td>10.000000</td>\n",
              "      <td>10.000000</td>\n",
              "      <td>10.000000</td>\n",
              "      <td>10.0</td>\n",
              "      <td>10.0</td>\n",
              "      <td>10.000000</td>\n",
              "      <td>10.000000</td>\n",
              "      <td>10.000000</td>\n",
              "      <td>10.0</td>\n",
              "      <td>10.000000</td>\n",
              "      <td>10.000000</td>\n",
              "      <td>10.000000</td>\n",
              "      <td>...</td>\n",
              "      <td>10.0</td>\n",
              "      <td>10.0</td>\n",
              "      <td>10.000000</td>\n",
              "      <td>10.0</td>\n",
              "      <td>10.0</td>\n",
              "      <td>10.0</td>\n",
              "      <td>10.0</td>\n",
              "      <td>10.0</td>\n",
              "      <td>10.0</td>\n",
              "      <td>10.000000</td>\n",
              "      <td>10.00000</td>\n",
              "      <td>10.000000</td>\n",
              "      <td>10.0</td>\n",
              "      <td>10.00000</td>\n",
              "      <td>10.000000</td>\n",
              "      <td>10.0</td>\n",
              "      <td>10.00000</td>\n",
              "      <td>10.0</td>\n",
              "      <td>10.0</td>\n",
              "      <td>10.000000</td>\n",
              "      <td>10.00000</td>\n",
              "      <td>10.00000</td>\n",
              "      <td>10.00000</td>\n",
              "      <td>10.0</td>\n",
              "      <td>10.000000</td>\n",
              "      <td>10.000000</td>\n",
              "      <td>10.000000</td>\n",
              "      <td>10.0</td>\n",
              "      <td>10.00000</td>\n",
              "      <td>10.000000</td>\n",
              "      <td>10.0</td>\n",
              "      <td>10.0</td>\n",
              "      <td>10.000000</td>\n",
              "      <td>10.000000</td>\n",
              "      <td>10.00000</td>\n",
              "      <td>10.000000</td>\n",
              "      <td>10.0</td>\n",
              "      <td>10.0</td>\n",
              "      <td>10.000000</td>\n",
              "      <td>10.000000</td>\n",
              "    </tr>\n",
              "    <tr>\n",
              "      <th>105119</th>\n",
              "      <td>2017-12-31 23:55:00</td>\n",
              "      <td>10.000000</td>\n",
              "      <td>10.000000</td>\n",
              "      <td>10.0</td>\n",
              "      <td>10.000000</td>\n",
              "      <td>10.000000</td>\n",
              "      <td>10.000000</td>\n",
              "      <td>10.0</td>\n",
              "      <td>10.0</td>\n",
              "      <td>10.0</td>\n",
              "      <td>10.000000</td>\n",
              "      <td>10.000000</td>\n",
              "      <td>10.00000</td>\n",
              "      <td>10.000000</td>\n",
              "      <td>10.0</td>\n",
              "      <td>10.000000</td>\n",
              "      <td>10.000000</td>\n",
              "      <td>10.0</td>\n",
              "      <td>10.0</td>\n",
              "      <td>10.000000</td>\n",
              "      <td>10.0</td>\n",
              "      <td>10.000000</td>\n",
              "      <td>10.00000</td>\n",
              "      <td>10.0</td>\n",
              "      <td>10.000000</td>\n",
              "      <td>10.000000</td>\n",
              "      <td>10.000000</td>\n",
              "      <td>10.000000</td>\n",
              "      <td>10.000000</td>\n",
              "      <td>10.000000</td>\n",
              "      <td>10.000000</td>\n",
              "      <td>10.0</td>\n",
              "      <td>10.0</td>\n",
              "      <td>10.000000</td>\n",
              "      <td>10.000000</td>\n",
              "      <td>10.000000</td>\n",
              "      <td>10.0</td>\n",
              "      <td>10.000000</td>\n",
              "      <td>10.000000</td>\n",
              "      <td>10.000000</td>\n",
              "      <td>...</td>\n",
              "      <td>10.0</td>\n",
              "      <td>10.0</td>\n",
              "      <td>10.000000</td>\n",
              "      <td>10.0</td>\n",
              "      <td>10.0</td>\n",
              "      <td>10.0</td>\n",
              "      <td>10.0</td>\n",
              "      <td>10.0</td>\n",
              "      <td>10.0</td>\n",
              "      <td>10.000000</td>\n",
              "      <td>10.00000</td>\n",
              "      <td>10.000000</td>\n",
              "      <td>10.0</td>\n",
              "      <td>10.00000</td>\n",
              "      <td>10.000000</td>\n",
              "      <td>10.0</td>\n",
              "      <td>10.00000</td>\n",
              "      <td>10.0</td>\n",
              "      <td>10.0</td>\n",
              "      <td>10.000000</td>\n",
              "      <td>10.00000</td>\n",
              "      <td>10.00000</td>\n",
              "      <td>10.00000</td>\n",
              "      <td>10.0</td>\n",
              "      <td>10.000000</td>\n",
              "      <td>10.000000</td>\n",
              "      <td>10.000000</td>\n",
              "      <td>10.0</td>\n",
              "      <td>10.00000</td>\n",
              "      <td>10.000000</td>\n",
              "      <td>10.0</td>\n",
              "      <td>10.0</td>\n",
              "      <td>10.000000</td>\n",
              "      <td>10.000000</td>\n",
              "      <td>10.00000</td>\n",
              "      <td>10.000000</td>\n",
              "      <td>10.0</td>\n",
              "      <td>10.0</td>\n",
              "      <td>10.000000</td>\n",
              "      <td>10.000000</td>\n",
              "    </tr>\n",
              "  </tbody>\n",
              "</table>\n",
              "<p>105120 rows × 1467 columns</p>\n",
              "</div>\n",
              "      <button class=\"colab-df-convert\" onclick=\"convertToInteractive('df-53470d05-0ae8-4abb-8ca5-cd0ba12eea81')\"\n",
              "              title=\"Convert this dataframe to an interactive table.\"\n",
              "              style=\"display:none;\">\n",
              "        \n",
              "  <svg xmlns=\"http://www.w3.org/2000/svg\" height=\"24px\"viewBox=\"0 0 24 24\"\n",
              "       width=\"24px\">\n",
              "    <path d=\"M0 0h24v24H0V0z\" fill=\"none\"/>\n",
              "    <path d=\"M18.56 5.44l.94 2.06.94-2.06 2.06-.94-2.06-.94-.94-2.06-.94 2.06-2.06.94zm-11 1L8.5 8.5l.94-2.06 2.06-.94-2.06-.94L8.5 2.5l-.94 2.06-2.06.94zm10 10l.94 2.06.94-2.06 2.06-.94-2.06-.94-.94-2.06-.94 2.06-2.06.94z\"/><path d=\"M17.41 7.96l-1.37-1.37c-.4-.4-.92-.59-1.43-.59-.52 0-1.04.2-1.43.59L10.3 9.45l-7.72 7.72c-.78.78-.78 2.05 0 2.83L4 21.41c.39.39.9.59 1.41.59.51 0 1.02-.2 1.41-.59l7.78-7.78 2.81-2.81c.8-.78.8-2.07 0-2.86zM5.41 20L4 18.59l7.72-7.72 1.47 1.35L5.41 20z\"/>\n",
              "  </svg>\n",
              "      </button>\n",
              "      \n",
              "  <style>\n",
              "    .colab-df-container {\n",
              "      display:flex;\n",
              "      flex-wrap:wrap;\n",
              "      gap: 12px;\n",
              "    }\n",
              "\n",
              "    .colab-df-convert {\n",
              "      background-color: #E8F0FE;\n",
              "      border: none;\n",
              "      border-radius: 50%;\n",
              "      cursor: pointer;\n",
              "      display: none;\n",
              "      fill: #1967D2;\n",
              "      height: 32px;\n",
              "      padding: 0 0 0 0;\n",
              "      width: 32px;\n",
              "    }\n",
              "\n",
              "    .colab-df-convert:hover {\n",
              "      background-color: #E2EBFA;\n",
              "      box-shadow: 0px 1px 2px rgba(60, 64, 67, 0.3), 0px 1px 3px 1px rgba(60, 64, 67, 0.15);\n",
              "      fill: #174EA6;\n",
              "    }\n",
              "\n",
              "    [theme=dark] .colab-df-convert {\n",
              "      background-color: #3B4455;\n",
              "      fill: #D2E3FC;\n",
              "    }\n",
              "\n",
              "    [theme=dark] .colab-df-convert:hover {\n",
              "      background-color: #434B5C;\n",
              "      box-shadow: 0px 1px 3px 1px rgba(0, 0, 0, 0.15);\n",
              "      filter: drop-shadow(0px 1px 2px rgba(0, 0, 0, 0.3));\n",
              "      fill: #FFFFFF;\n",
              "    }\n",
              "  </style>\n",
              "\n",
              "      <script>\n",
              "        const buttonEl =\n",
              "          document.querySelector('#df-53470d05-0ae8-4abb-8ca5-cd0ba12eea81 button.colab-df-convert');\n",
              "        buttonEl.style.display =\n",
              "          google.colab.kernel.accessAllowed ? 'block' : 'none';\n",
              "\n",
              "        async function convertToInteractive(key) {\n",
              "          const element = document.querySelector('#df-53470d05-0ae8-4abb-8ca5-cd0ba12eea81');\n",
              "          const dataTable =\n",
              "            await google.colab.kernel.invokeFunction('convertToInteractive',\n",
              "                                                     [key], {});\n",
              "          if (!dataTable) return;\n",
              "\n",
              "          const docLinkHtml = 'Like what you see? Visit the ' +\n",
              "            '<a target=\"_blank\" href=https://colab.research.google.com/notebooks/data_table.ipynb>data table notebook</a>'\n",
              "            + ' to learn more about interactive tables.';\n",
              "          element.innerHTML = '';\n",
              "          dataTable['output_type'] = 'display_data';\n",
              "          await google.colab.output.renderOutput(dataTable, element);\n",
              "          const docLink = document.createElement('div');\n",
              "          docLink.innerHTML = docLinkHtml;\n",
              "          element.appendChild(docLink);\n",
              "        }\n",
              "      </script>\n",
              "    </div>\n",
              "  </div>\n",
              "  "
            ],
            "text/plain": [
              "                       time  ...  drive/MyDrive/2017_v1/714_1_2017.csv\n",
              "0       2017-01-01 00:00:00  ...                            112.000000\n",
              "1       2017-01-01 00:05:00  ...                            108.000000\n",
              "2       2017-01-01 00:10:00  ...                            108.000000\n",
              "3       2017-01-01 00:15:00  ...                            108.059014\n",
              "4       2017-01-01 00:20:00  ...                            108.000000\n",
              "...                     ...  ...                                   ...\n",
              "105115  2017-12-31 23:35:00  ...                             10.000000\n",
              "105116  2017-12-31 23:40:00  ...                             10.000000\n",
              "105117  2017-12-31 23:45:00  ...                             10.000000\n",
              "105118  2017-12-31 23:50:00  ...                             10.000000\n",
              "105119  2017-12-31 23:55:00  ...                             10.000000\n",
              "\n",
              "[105120 rows x 1467 columns]"
            ]
          },
          "metadata": {},
          "execution_count": 5
        }
      ]
    },
    {
      "cell_type": "code",
      "source": [
        "import calendar\n",
        "import os\n",
        "import matplotlib.pyplot as plt\n",
        "\n",
        "path = \"drive/MyDrive/2017_v1\"\n",
        "files = list()\n",
        "for dirname, _, filenames in os.walk(path):\n",
        "    for filename in filenames:\n",
        "        files.append(os.path.join(dirname, filename))\n"
      ],
      "metadata": {
        "id": "wOQi35tMsOqT"
      },
      "execution_count": null,
      "outputs": []
    },
    {
      "cell_type": "code",
      "source": [
        "def show_plotline_5minutes(seg_id,seg_dir,month,day):\n",
        "  \"\"\" month: int 1 -> January\n",
        "                 12 -> December\n",
        "      day: int 0 -> Monday\n",
        "               6 -> Sunday\n",
        "  \"\"\"\n",
        "  filename = \"drive/MyDrive/2017_v1/{}_{}_2017.csv\".format(seg_id,seg_dir)\n",
        "  df = pd.read_csv(filename)\n",
        "  size = (24 * 60) // 5\n",
        "  plt.figure(figsize=(24,20))\n",
        "  graph = pd.DataFrame(columns=[\"i\",\"day\",\"month\",\"year\"])\n",
        "  index = 1\n",
        "\n",
        "  for i in range(0,len(df),size):\n",
        "    date = df.iloc[i][\"time\"]\n",
        "    year = int(date[:4])\n",
        "    month_ = int(date[5:7])\n",
        "    day_ = int(date[8:10])\n",
        "    \n",
        "\n",
        "    if month == month_ and day == calendar.weekday(year,month_,day_):\n",
        "      index += 1\n",
        "      graph.loc[date] = [i,day_,month_,year]\n",
        "      \n",
        "\n",
        "  for j in range(1,index):\n",
        "    plt.subplot(3,2,j,title=\"Traffic Flow Speed in 5 Minutes\",\n",
        "                  xlabel=\"{}/{}/{}\".format(graph.iloc[j-1][\"day\"],graph.iloc[j-1][\"month\"],graph.iloc[j-1][\"year\"]),\n",
        "                  ylabel=\"Speed (km/h)\")\n",
        "    plt.plot(df[graph.iloc[j-1][\"i\"]:graph.iloc[j-1][\"i\"]+size][\"time\"],\n",
        "               df[graph.iloc[j-1][\"i\"]:graph.iloc[j-1][\"i\"]+size][\"speed\"])\n"
      ],
      "metadata": {
        "id": "f_d3s6TgsOnb"
      },
      "execution_count": null,
      "outputs": []
    },
    {
      "cell_type": "markdown",
      "source": [
        "Automated Tests"
      ],
      "metadata": {
        "id": "pHpBVOFGAQaw"
      }
    },
    {
      "cell_type": "code",
      "source": [
        "def calc_error_rate(seg_ids,seg_dirs,dates):\n",
        "  date1 = dates[0]\n",
        "  date2 = dates[1]\n",
        "  date3 = dates[2]\n",
        "  date4 = dates[3]\n",
        "  date5 = dates[4]\n",
        "  speed = 0\n",
        "  speed_reals = list()\n",
        "\n",
        "  for i in range(len(seg_ids)):\n",
        "    col_name = \"drive/MyDrive/2017_v1/{}_{}_2017.csv\".format(seg_ids[i],seg_dirs[i])\n",
        "    speed += df2[df2[\"time\"] == date1][col_name].iloc[0]\n",
        "    speed += df2[df2[\"time\"] == date2][col_name].iloc[0]\n",
        "    speed += df2[df2[\"time\"] == date3][col_name].iloc[0]\n",
        "    speed += df2[df2[\"time\"] == date4][col_name].iloc[0]\n",
        "    speed_reals.append(df2[df2[\"time\"] == date5][col_name].iloc[0])\n",
        "\n",
        "  speed_predict = speed / (4 * len(seg_ids))\n",
        "  err_rate = 0\n",
        "\n",
        "  for i in range(len(seg_ids)):\n",
        "    err_rate += abs(speed_reals[i] - speed_predict) / speed_reals[i]\n",
        "\n",
        "  return err_rate / len(seg_ids)\n"
      ],
      "metadata": {
        "id": "capRotqJOGBj"
      },
      "execution_count": null,
      "outputs": []
    },
    {
      "cell_type": "code",
      "source": [
        "dates_test1 = [\"2017-03-01 12:00:00\", \"2017-03-08 12:00:00\", \"2017-03-15 12:00:00\", \"2017-03-22 12:00:00\", \"2017-03-29 12:00:00\"]\n",
        "dates_test2 = [\"2017-10-01 12:00:00\", \"2017-10-08 12:00:00\", \"2017-10-15 12:00:00\", \"2017-10-22 12:00:00\", \"2017-10-29 12:00:00\"]\n",
        "dates_test3 = [\"2017-07-01 12:00:00\", \"2017-07-08 12:00:00\", \"2017-07-15 12:00:00\", \"2017-07-22 12:00:00\", \"2017-07-29 12:00:00\"]"
      ],
      "metadata": {
        "id": "GpaFVMKxfoW5"
      },
      "execution_count": null,
      "outputs": []
    },
    {
      "cell_type": "code",
      "source": [
        "clus0_seg_ids, clus0_seg_dirs = [507,506,508,505,504], [0,0,0,0,0]\n",
        "clus1_seg_ids, clus1_seg_dirs = [1432,1432,1433,1434,1431], [0,1,0,1,0]\n",
        "clus2_seg_ids, clus2_seg_dirs = [93,94,94,93,95], [0,0,1,1,0]\n",
        "clus3_seg_ids, clus3_seg_dirs = [480,480,481,482,482], [0,1,0,0,1]\n",
        "clus4_seg_ids, clus4_seg_dirs = [696,695,697,694,693], [0,0,0,0,0]"
      ],
      "metadata": {
        "id": "HD79QLCThbzg"
      },
      "execution_count": null,
      "outputs": []
    },
    {
      "cell_type": "code",
      "source": [
        "test1_model_error = calc_error_rate(clus0_seg_ids, clus0_seg_dirs, dates_test1) + calc_error_rate(clus1_seg_ids, clus1_seg_dirs, dates_test1) + \\\n",
        "                    calc_error_rate(clus2_seg_ids, clus2_seg_dirs, dates_test1) + calc_error_rate(clus3_seg_ids, clus3_seg_dirs, dates_test1) +\\\n",
        "                    calc_error_rate(clus4_seg_ids, clus4_seg_dirs, dates_test1)\n",
        "\n",
        "test1_model_error /= 5"
      ],
      "metadata": {
        "id": "bpDeCRRrkHb1"
      },
      "execution_count": null,
      "outputs": []
    },
    {
      "cell_type": "code",
      "source": [
        "print(\"Test 1 Results\")\n",
        "print(\"Cluster 0 mean absolute error rate: \",calc_error_rate(clus0_seg_ids, clus0_seg_dirs, dates_test1))\n",
        "print(\"Cluster 1 mean absolute error rate: \",calc_error_rate(clus1_seg_ids, clus1_seg_dirs, dates_test1))\n",
        "print(\"Cluster 2 mean absolute error rate: \",calc_error_rate(clus2_seg_ids, clus2_seg_dirs, dates_test1))\n",
        "print(\"Cluster 3 mean absolute error rate: \",calc_error_rate(clus3_seg_ids, clus3_seg_dirs, dates_test1))\n",
        "print(\"Cluster 4 mean absolute error rate: \",calc_error_rate(clus4_seg_ids, clus4_seg_dirs, dates_test1))\n",
        "print(\"Model mean absolute error rate: \",test1_model_error)"
      ],
      "metadata": {
        "colab": {
          "base_uri": "https://localhost:8080/"
        },
        "id": "kHi44JXJihWr",
        "outputId": "9e25c10a-59be-4040-efc7-78f7e1410743"
      },
      "execution_count": null,
      "outputs": [
        {
          "output_type": "stream",
          "name": "stdout",
          "text": [
            "Test 1 Results\n",
            "Cluster 0 mean absolute error rate:  0.25955388479517516\n",
            "Cluster 1 mean absolute error rate:  0.22058823529411767\n",
            "Cluster 2 mean absolute error rate:  0.21196924177738902\n",
            "Cluster 3 mean absolute error rate:  0.29337784712985426\n",
            "Cluster 4 mean absolute error rate:  0.26199033611862055\n",
            "Model mean absolute error rate:  0.24949590902303137\n"
          ]
        }
      ]
    },
    {
      "cell_type": "code",
      "source": [
        "test2_model_error = calc_error_rate(clus0_seg_ids, clus0_seg_dirs, dates_test2) + calc_error_rate(clus1_seg_ids, clus1_seg_dirs, dates_test2) + \\\n",
        "                    calc_error_rate(clus2_seg_ids, clus2_seg_dirs, dates_test2) + calc_error_rate(clus3_seg_ids, clus3_seg_dirs, dates_test2) +\\\n",
        "                    calc_error_rate(clus4_seg_ids, clus4_seg_dirs, dates_test2)\n",
        "\n",
        "test2_model_error /= 5"
      ],
      "metadata": {
        "id": "_e27DmQgk0kC"
      },
      "execution_count": null,
      "outputs": []
    },
    {
      "cell_type": "code",
      "source": [
        "print(\"Test 2 Results\")\n",
        "print(\"Cluster 0 mean absolute error rate: \",calc_error_rate(clus0_seg_ids, clus0_seg_dirs, dates_test2))\n",
        "print(\"Cluster 1 mean absolute error rate: \",calc_error_rate(clus1_seg_ids, clus1_seg_dirs, dates_test2))\n",
        "print(\"Cluster 2 mean absolute error rate: \",calc_error_rate(clus2_seg_ids, clus2_seg_dirs, dates_test2))\n",
        "print(\"Cluster 3 mean absolute error rate: \",calc_error_rate(clus3_seg_ids, clus3_seg_dirs, dates_test2))\n",
        "print(\"Cluster 4 mean absolute error rate: \",calc_error_rate(clus4_seg_ids, clus4_seg_dirs, dates_test2))\n",
        "print(\"Model mean absolute error rate: \",test2_model_error)"
      ],
      "metadata": {
        "colab": {
          "base_uri": "https://localhost:8080/"
        },
        "id": "vEVZWsC0k0hP",
        "outputId": "7e4a6587-a8eb-42fa-d732-b9a339b8a08d"
      },
      "execution_count": null,
      "outputs": [
        {
          "output_type": "stream",
          "name": "stdout",
          "text": [
            "Test 2 Results\n",
            "Cluster 0 mean absolute error rate:  0.025811525572292122\n",
            "Cluster 1 mean absolute error rate:  0.4216275310287432\n",
            "Cluster 2 mean absolute error rate:  0.12665945957153088\n",
            "Cluster 3 mean absolute error rate:  0.04021969758853513\n",
            "Cluster 4 mean absolute error rate:  0.14771403891371876\n",
            "Model mean absolute error rate:  0.152406450534964\n"
          ]
        }
      ]
    },
    {
      "cell_type": "code",
      "source": [
        "test3_model_error = calc_error_rate(clus0_seg_ids, clus0_seg_dirs, dates_test3) + calc_error_rate(clus1_seg_ids, clus1_seg_dirs, dates_test3) + \\\n",
        "                    calc_error_rate(clus2_seg_ids, clus2_seg_dirs, dates_test3) + calc_error_rate(clus3_seg_ids, clus3_seg_dirs, dates_test3) +\\\n",
        "                    calc_error_rate(clus4_seg_ids, clus4_seg_dirs, dates_test3)\n",
        "\n",
        "test3_model_error /= 5"
      ],
      "metadata": {
        "id": "Mnx516ykk0eY"
      },
      "execution_count": null,
      "outputs": []
    },
    {
      "cell_type": "code",
      "source": [
        "print(\"Test 3 Results\")\n",
        "print(\"Cluster 0 mean absolute error rate: \",calc_error_rate(clus0_seg_ids, clus0_seg_dirs, dates_test3))\n",
        "print(\"Cluster 1 mean absolute error rate: \",calc_error_rate(clus1_seg_ids, clus1_seg_dirs, dates_test3))\n",
        "print(\"Cluster 2 mean absolute error rate: \",calc_error_rate(clus2_seg_ids, clus2_seg_dirs, dates_test3))\n",
        "print(\"Cluster 3 mean absolute error rate: \",calc_error_rate(clus3_seg_ids, clus3_seg_dirs, dates_test3))\n",
        "print(\"Cluster 4 mean absolute error rate: \",calc_error_rate(clus4_seg_ids, clus4_seg_dirs, dates_test3))\n",
        "print(\"Model mean absolute error rate: \",test3_model_error)"
      ],
      "metadata": {
        "colab": {
          "base_uri": "https://localhost:8080/"
        },
        "id": "gsRseJcMk0b1",
        "outputId": "3112878b-4ec1-402e-806d-268798fe0cbb"
      },
      "execution_count": null,
      "outputs": [
        {
          "output_type": "stream",
          "name": "stdout",
          "text": [
            "Test 3 Results\n",
            "Cluster 0 mean absolute error rate:  0.023998429909893287\n",
            "Cluster 1 mean absolute error rate:  0.018300653594771243\n",
            "Cluster 2 mean absolute error rate:  0.3142168849555017\n",
            "Cluster 3 mean absolute error rate:  0.039950027291266316\n",
            "Cluster 4 mean absolute error rate:  0.06513636334546329\n",
            "Model mean absolute error rate:  0.09232047181937918\n"
          ]
        }
      ]
    },
    {
      "cell_type": "code",
      "source": [
        "model_error = (test1_model_error + test2_model_error + test3_model_error) / 3\n",
        "print(\"Model mean absoulete error rate: \",model_error)"
      ],
      "metadata": {
        "colab": {
          "base_uri": "https://localhost:8080/"
        },
        "id": "waE2klvpk0YP",
        "outputId": "7e830c7f-dd44-4a04-a602-92114ea67194"
      },
      "execution_count": null,
      "outputs": [
        {
          "output_type": "stream",
          "name": "stdout",
          "text": [
            "Model mean absoulete error rate:  0.16474094379245818\n"
          ]
        }
      ]
    },
    {
      "cell_type": "code",
      "source": [
        "clus0_all_seg_dirs = list()\n",
        "clus0_all_seg_ids = list()\n",
        "clus1_all_seg_dirs = list()\n",
        "clus1_all_seg_ids = list()\n",
        "clus2_all_seg_dirs = list()\n",
        "clus2_all_seg_ids = list()\n",
        "clus3_all_seg_dirs = list()\n",
        "clus3_all_seg_ids = list()\n",
        "clus4_all_seg_dirs = list()\n",
        "clus4_all_seg_ids = list()"
      ],
      "metadata": {
        "id": "pzfyuzEgglfE"
      },
      "execution_count": null,
      "outputs": []
    },
    {
      "cell_type": "code",
      "source": [
        "for i in range(df.shape[0]):\n",
        "  seg_id = int(df.iloc[i][0])\n",
        "  seg_dir = int(df.iloc[i][1])\n",
        "  cluster = int(df.iloc[i][4])\n",
        "\n",
        "  if cluster == 0:\n",
        "    clus0_all_seg_dirs.append(seg_dir)\n",
        "    clus0_all_seg_ids.append(seg_id)\n",
        "\n",
        "  elif cluster == 1:\n",
        "    clus1_all_seg_dirs.append(seg_dir)\n",
        "    clus1_all_seg_ids.append(seg_id)\n",
        "\n",
        "  elif cluster == 2:\n",
        "    clus2_all_seg_dirs.append(seg_dir)\n",
        "    clus2_all_seg_ids.append(seg_id)\n",
        "\n",
        "  elif cluster == 3:\n",
        "    clus3_all_seg_dirs.append(seg_dir)\n",
        "    clus3_all_seg_ids.append(seg_id)\n",
        "\n",
        "  elif cluster == 4:\n",
        "    clus4_all_seg_dirs.append(seg_dir)\n",
        "    clus4_all_seg_ids.append(seg_id)\n"
      ],
      "metadata": {
        "id": "jzLUrP7hglcd"
      },
      "execution_count": null,
      "outputs": []
    },
    {
      "cell_type": "code",
      "source": [
        "#cluster 0\n",
        "seg_count = list()\n",
        "error_rate = list()\n",
        "for i in range(5,len(clus0_all_seg_ids),10):\n",
        "  seg_count.append(i)\n",
        "  error_rate.append(calc_error_rate(clus0_all_seg_ids[:i], clus0_all_seg_dirs[:i], dates_test1))"
      ],
      "metadata": {
        "id": "RNWzqzytglZM"
      },
      "execution_count": null,
      "outputs": []
    },
    {
      "cell_type": "code",
      "source": [
        "plt.plot(seg_count, error_rate)\n",
        "plt.xlabel(\"Segment Count\")\n",
        "plt.ylabel(\"Error Rate\")\n",
        "plt.title(\"Cluster 0\")\n",
        "plt.show()"
      ],
      "metadata": {
        "colab": {
          "base_uri": "https://localhost:8080/",
          "height": 295
        },
        "id": "UA6WBe8dglWV",
        "outputId": "db4f8a7a-ffaa-4073-ab92-48d1ffaa8fad"
      },
      "execution_count": null,
      "outputs": [
        {
          "output_type": "display_data",
          "data": {
            "image/png": "[encoded data removed]",
            "text/plain": [
              "<Figure size 432x288 with 1 Axes>"
            ]
          },
          "metadata": {
            "needs_background": "light"
          }
        }
      ]
    },
    {
      "cell_type": "code",
      "source": [
        "#cluster 1\n",
        "seg_count = list()\n",
        "error_rate = list()\n",
        "for i in range(5,len(clus1_all_seg_ids),10):\n",
        "  seg_count.append(i)\n",
        "  error_rate.append(calc_error_rate(clus1_all_seg_ids[:i], clus1_all_seg_dirs[:i], dates_test1))"
      ],
      "metadata": {
        "id": "BIIgYtxNwV4H"
      },
      "execution_count": null,
      "outputs": []
    },
    {
      "cell_type": "code",
      "source": [
        "plt.plot(seg_count, error_rate)\n",
        "plt.xlabel(\"Segment Count\")\n",
        "plt.ylabel(\"Error Rate\")\n",
        "plt.title(\"Cluster 1\")\n",
        "plt.show()"
      ],
      "metadata": {
        "colab": {
          "base_uri": "https://localhost:8080/",
          "height": 295
        },
        "id": "pWwTkDXjwV1b",
        "outputId": "45847dd7-1d12-4713-d9d0-da1f28a41cea"
      },
      "execution_count": null,
      "outputs": [
        {
          "output_type": "display_data",
          "data": {
            "image/png": "[encoded data removed]",
            "text/plain": [
              "<Figure size 432x288 with 1 Axes>"
            ]
          },
          "metadata": {
            "needs_background": "light"
          }
        }
      ]
    },
    {
      "cell_type": "code",
      "source": [
        "#cluster 2\n",
        "seg_count = list()\n",
        "error_rate = list()\n",
        "for i in range(5,len(clus2_all_seg_ids),10):\n",
        "  seg_count.append(i)\n",
        "  error_rate.append(calc_error_rate(clus2_all_seg_ids[:i], clus2_all_seg_dirs[:i], dates_test1))"
      ],
      "metadata": {
        "id": "7o6xcAu7wVyR"
      },
      "execution_count": null,
      "outputs": []
    },
    {
      "cell_type": "code",
      "source": [
        "plt.plot(seg_count, error_rate)\n",
        "plt.xlabel(\"Segment Count\")\n",
        "plt.ylabel(\"Error Rate\")\n",
        "plt.title(\"Cluster 2\")\n",
        "plt.show()"
      ],
      "metadata": {
        "colab": {
          "base_uri": "https://localhost:8080/",
          "height": 295
        },
        "id": "xYM6uD0myrR3",
        "outputId": "3798fde6-0873-47d8-ce33-e490dbf2e004"
      },
      "execution_count": null,
      "outputs": [
        {
          "output_type": "display_data",
          "data": {
            "image/png": "[encoded data removed]",
            "text/plain": [
              "<Figure size 432x288 with 1 Axes>"
            ]
          },
          "metadata": {
            "needs_background": "light"
          }
        }
      ]
    },
    {
      "cell_type": "code",
      "source": [
        "#cluster 3\n",
        "seg_count = list()\n",
        "error_rate = list()\n",
        "for i in range(5,len(clus3_all_seg_ids),10):\n",
        "  seg_count.append(i)\n",
        "  error_rate.append(calc_error_rate(clus3_all_seg_ids[:i], clus3_all_seg_dirs[:i], dates_test1))"
      ],
      "metadata": {
        "id": "aPSWxPKIyrPl"
      },
      "execution_count": null,
      "outputs": []
    },
    {
      "cell_type": "code",
      "source": [
        "plt.plot(seg_count, error_rate)\n",
        "plt.xlabel(\"Segment Count\")\n",
        "plt.ylabel(\"Error Rate\")\n",
        "plt.title(\"Cluster 3\")\n",
        "plt.show()"
      ],
      "metadata": {
        "colab": {
          "base_uri": "https://localhost:8080/",
          "height": 295
        },
        "id": "mr-UQpdxyrMu",
        "outputId": "ad6dfacc-cc71-4a11-abd0-303dbbcd25ff"
      },
      "execution_count": null,
      "outputs": [
        {
          "output_type": "display_data",
          "data": {
            "image/png": "[encoded data removed]",
            "text/plain": [
              "<Figure size 432x288 with 1 Axes>"
            ]
          },
          "metadata": {
            "needs_background": "light"
          }
        }
      ]
    },
    {
      "cell_type": "code",
      "source": [
        "#cluster 4\n",
        "seg_count = list()\n",
        "error_rate = list()\n",
        "for i in range(5,len(clus4_all_seg_ids),10):\n",
        "  seg_count.append(i)\n",
        "  error_rate.append(calc_error_rate(clus4_all_seg_ids[:i], clus4_all_seg_dirs[:i], dates_test1))"
      ],
      "metadata": {
        "id": "v1es_A2vyrKA"
      },
      "execution_count": null,
      "outputs": []
    },
    {
      "cell_type": "code",
      "source": [
        "plt.plot(seg_count, error_rate)\n",
        "plt.xlabel(\"Segment Count\")\n",
        "plt.ylabel(\"Error Rate\")\n",
        "plt.title(\"Cluster 4\")\n",
        "plt.show()"
      ],
      "metadata": {
        "colab": {
          "base_uri": "https://localhost:8080/",
          "height": 295
        },
        "id": "pc8wkaCyy71i",
        "outputId": "b460c7ab-8383-46ed-91a1-613920176ff6"
      },
      "execution_count": null,
      "outputs": [
        {
          "output_type": "display_data",
          "data": {
            "image/png": "[encoded data removed]",
            "text/plain": [
              "<Figure size 432x288 with 1 Axes>"
            ]
          },
          "metadata": {
            "needs_background": "light"
          }
        }
      ]
    },
    {
      "cell_type": "markdown",
      "source": [
        "Dissimilarity Based - Fall"
      ],
      "metadata": {
        "id": "ZFOFXY2-wV76"
      }
    },
    {
      "cell_type": "code",
      "source": [
        "path = \"drive/MyDrive/SimilarityScores/Coordinates/2017/FallWeightedClusterCoord_2017.csv\"\n",
        "df = pd.read_csv(path)\n",
        "df = df.drop(\"Unnamed: 0\",axis=1)\n",
        "df.columns = [\"vSegID\",\"vSegDir\",\"latitude\",\"longitude\",\"cluster\"]"
      ],
      "metadata": {
        "id": "DpXWMIVLjJUE"
      },
      "execution_count": null,
      "outputs": []
    },
    {
      "cell_type": "code",
      "source": [
        "dates_test1 = [\"2017-09-01 19:00:00\", \"2017-09-08 19:00:00\", \"2017-09-15 19:00:00\", \"2017-09-22 19:00:00\", \"2017-09-29 19:00:00\"]\n",
        "dates_test2 = [\"2017-10-01 19:00:00\", \"2017-10-08 19:00:00\", \"2017-10-15 19:00:00\", \"2017-10-22 19:00:00\", \"2017-10-29 19:00:00\"]\n",
        "dates_test3 = [\"2017-11-01 19:00:00\", \"2017-11-08 19:00:00\", \"2017-11-15 19:00:00\", \"2017-11-22 19:00:00\", \"2017-11-29 19:00:00\"]"
      ],
      "metadata": {
        "id": "pHITNhr23SDJ"
      },
      "execution_count": null,
      "outputs": []
    },
    {
      "cell_type": "code",
      "source": [
        "clus1_seg_ids, clus1_seg_dirs = [264,265,266,263,264], [0,0,0,0,1]\n",
        "clus2_seg_ids, clus2_seg_dirs = [1430,1431,1432,1429,1428], [1,1,1,1,1]\n",
        "clus3_seg_ids, clus3_seg_dirs = [195,195,196,196,197], [0,1,0,1,1]\n",
        "clus4_seg_ids, clus4_seg_dirs = [320,320,321,321,319], [1,0,1,0,1]\n",
        "clus5_seg_ids, clus5_seg_dirs = [716,716,717,717,715], [1,0,1,0,1]\n",
        "clus6_seg_ids, clus6_seg_dirs = [375,376,377,374,373], [0,0,0,0,0]\n",
        "clus7_seg_ids, clus7_seg_dirs = [882,883,884,881,880], [0,0,0,0,0]\n",
        "clus8_seg_ids, clus8_seg_dirs = [219,292,293,58,59], [0,0,0,1,1]\n",
        "clus9_seg_ids, clus9_seg_dirs = [101], [0]"
      ],
      "metadata": {
        "id": "DKzln27s3R-H"
      },
      "execution_count": null,
      "outputs": []
    },
    {
      "cell_type": "code",
      "source": [
        "test1_model_error = calc_error_rate(clus1_seg_ids, clus1_seg_dirs, dates_test1) + calc_error_rate(clus2_seg_ids, clus2_seg_dirs, dates_test1) + \\\n",
        "                    calc_error_rate(clus3_seg_ids, clus3_seg_dirs, dates_test1) + calc_error_rate(clus4_seg_ids, clus4_seg_dirs, dates_test1) + \\\n",
        "                    calc_error_rate(clus5_seg_ids, clus5_seg_dirs, dates_test1) + calc_error_rate(clus6_seg_ids, clus6_seg_dirs, dates_test1) + \\\n",
        "                    calc_error_rate(clus7_seg_ids, clus7_seg_dirs, dates_test1) + calc_error_rate(clus8_seg_ids, clus8_seg_dirs, dates_test1) + \\\n",
        "                    calc_error_rate(clus9_seg_ids, clus9_seg_dirs, dates_test1)\n",
        "test1_model_error /= 9"
      ],
      "metadata": {
        "id": "cpHVNH1U8xwZ"
      },
      "execution_count": null,
      "outputs": []
    },
    {
      "cell_type": "code",
      "source": [
        "print(\"Test 1 Results\")\n",
        "print(\"Cluster 1 mean absolute error rate: \",calc_error_rate(clus1_seg_ids, clus1_seg_dirs, dates_test1))\n",
        "print(\"Cluster 2 mean absolute error rate: \",calc_error_rate(clus2_seg_ids, clus2_seg_dirs, dates_test1))\n",
        "print(\"Cluster 3 mean absolute error rate: \",calc_error_rate(clus3_seg_ids, clus3_seg_dirs, dates_test1))\n",
        "print(\"Cluster 4 mean absolute error rate: \",calc_error_rate(clus4_seg_ids, clus4_seg_dirs, dates_test1))\n",
        "print(\"Cluster 5 mean absolute error rate: \",calc_error_rate(clus5_seg_ids, clus5_seg_dirs, dates_test1))\n",
        "print(\"Cluster 6 mean absolute error rate: \",calc_error_rate(clus6_seg_ids, clus6_seg_dirs, dates_test1))\n",
        "print(\"Cluster 7 mean absolute error rate: \",calc_error_rate(clus7_seg_ids, clus7_seg_dirs, dates_test1))\n",
        "print(\"Cluster 8 mean absolute error rate: \",calc_error_rate(clus8_seg_ids, clus8_seg_dirs, dates_test1))\n",
        "print(\"Cluster 9 mean absolute error rate: \",calc_error_rate(clus9_seg_ids, clus9_seg_dirs, dates_test1))\n",
        "print(\"Model mean absolute error rate: \",test1_model_error)"
      ],
      "metadata": {
        "colab": {
          "base_uri": "https://localhost:8080/"
        },
        "id": "z03kR2x19OCx",
        "outputId": "826417a5-e422-4cf7-b2c2-b48c473c2e38"
      },
      "execution_count": null,
      "outputs": [
        {
          "output_type": "stream",
          "name": "stdout",
          "text": [
            "Test 1 Results\n",
            "Cluster 1 mean absolute error rate:  0.10598290598290598\n",
            "Cluster 2 mean absolute error rate:  0.18974612394766646\n",
            "Cluster 3 mean absolute error rate:  0.22934423083225308\n",
            "Cluster 4 mean absolute error rate:  0.6121028772175465\n",
            "Cluster 5 mean absolute error rate:  0.050822328116901905\n",
            "Cluster 6 mean absolute error rate:  0.20761190659158238\n",
            "Cluster 7 mean absolute error rate:  0.6034381444215496\n",
            "Cluster 8 mean absolute error rate:  0.46993942974231057\n",
            "Cluster 9 mean absolute error rate:  0.001086956521739223\n",
            "Model mean absolute error rate:  0.2744527670416062\n"
          ]
        }
      ]
    },
    {
      "cell_type": "code",
      "source": [
        "test2_model_error = calc_error_rate(clus1_seg_ids, clus1_seg_dirs, dates_test2) + calc_error_rate(clus2_seg_ids, clus2_seg_dirs, dates_test2) + \\\n",
        "                    calc_error_rate(clus3_seg_ids, clus3_seg_dirs, dates_test2) + calc_error_rate(clus4_seg_ids, clus4_seg_dirs, dates_test2) + \\\n",
        "                    calc_error_rate(clus5_seg_ids, clus5_seg_dirs, dates_test2) + calc_error_rate(clus6_seg_ids, clus6_seg_dirs, dates_test2) + \\\n",
        "                    calc_error_rate(clus7_seg_ids, clus7_seg_dirs, dates_test2) + calc_error_rate(clus8_seg_ids, clus8_seg_dirs, dates_test2) + \\\n",
        "                    calc_error_rate(clus9_seg_ids, clus9_seg_dirs, dates_test2)\n",
        "test2_model_error /= 9"
      ],
      "metadata": {
        "id": "iZfnZ_6W9rk3"
      },
      "execution_count": null,
      "outputs": []
    },
    {
      "cell_type": "code",
      "source": [
        "print(\"Test 2 Results\")\n",
        "print(\"Cluster 1 mean absolute error rate: \",calc_error_rate(clus1_seg_ids, clus1_seg_dirs, dates_test2))\n",
        "print(\"Cluster 2 mean absolute error rate: \",calc_error_rate(clus2_seg_ids, clus2_seg_dirs, dates_test2))\n",
        "print(\"Cluster 3 mean absolute error rate: \",calc_error_rate(clus3_seg_ids, clus3_seg_dirs, dates_test2))\n",
        "print(\"Cluster 4 mean absolute error rate: \",calc_error_rate(clus4_seg_ids, clus4_seg_dirs, dates_test2))\n",
        "print(\"Cluster 5 mean absolute error rate: \",calc_error_rate(clus5_seg_ids, clus5_seg_dirs, dates_test2))\n",
        "print(\"Cluster 6 mean absolute error rate: \",calc_error_rate(clus6_seg_ids, clus6_seg_dirs, dates_test2))\n",
        "print(\"Cluster 7 mean absolute error rate: \",calc_error_rate(clus7_seg_ids, clus7_seg_dirs, dates_test2))\n",
        "print(\"Cluster 8 mean absolute error rate: \",calc_error_rate(clus8_seg_ids, clus8_seg_dirs, dates_test2))\n",
        "print(\"Cluster 9 mean absolute error rate: \",calc_error_rate(clus9_seg_ids, clus9_seg_dirs, dates_test2))\n",
        "print(\"Model mean absolute error rate: \",test2_model_error)"
      ],
      "metadata": {
        "colab": {
          "base_uri": "https://localhost:8080/"
        },
        "id": "1QZZdGs49riK",
        "outputId": "6f6c3691-4fcc-4dad-cda8-1acb55cacbc3"
      },
      "execution_count": null,
      "outputs": [
        {
          "output_type": "stream",
          "name": "stdout",
          "text": [
            "Test 2 Results\n",
            "Cluster 1 mean absolute error rate:  0.10598290598290598\n",
            "Cluster 2 mean absolute error rate:  0.23263100694767802\n",
            "Cluster 3 mean absolute error rate:  0.14793497919543572\n",
            "Cluster 4 mean absolute error rate:  0.7299970869694101\n",
            "Cluster 5 mean absolute error rate:  0.08350829820033312\n",
            "Cluster 6 mean absolute error rate:  0.1133162545709275\n",
            "Cluster 7 mean absolute error rate:  0.3757207094996935\n",
            "Cluster 8 mean absolute error rate:  0.1990283428906825\n",
            "Cluster 9 mean absolute error rate:  0.053853046594981996\n",
            "Model mean absolute error rate:  0.2268858478724498\n"
          ]
        }
      ]
    },
    {
      "cell_type": "code",
      "source": [
        "test3_model_error = calc_error_rate(clus1_seg_ids, clus1_seg_dirs, dates_test3) + calc_error_rate(clus2_seg_ids, clus2_seg_dirs, dates_test3) + \\\n",
        "                    calc_error_rate(clus3_seg_ids, clus3_seg_dirs, dates_test3) + calc_error_rate(clus4_seg_ids, clus4_seg_dirs, dates_test3) + \\\n",
        "                    calc_error_rate(clus5_seg_ids, clus5_seg_dirs, dates_test3) + calc_error_rate(clus6_seg_ids, clus6_seg_dirs, dates_test3) + \\\n",
        "                    calc_error_rate(clus7_seg_ids, clus7_seg_dirs, dates_test3) + calc_error_rate(clus8_seg_ids, clus8_seg_dirs, dates_test3) + \\\n",
        "                    calc_error_rate(clus9_seg_ids, clus9_seg_dirs, dates_test3)\n",
        "test3_model_error /= 9"
      ],
      "metadata": {
        "id": "3ic_f7YX9rfO"
      },
      "execution_count": null,
      "outputs": []
    },
    {
      "cell_type": "code",
      "source": [
        "print(\"Test 3 Results\")\n",
        "print(\"Cluster 1 mean absolute error rate: \",calc_error_rate(clus1_seg_ids, clus1_seg_dirs, dates_test3))\n",
        "print(\"Cluster 2 mean absolute error rate: \",calc_error_rate(clus2_seg_ids, clus2_seg_dirs, dates_test3))\n",
        "print(\"Cluster 3 mean absolute error rate: \",calc_error_rate(clus3_seg_ids, clus3_seg_dirs, dates_test3))\n",
        "print(\"Cluster 4 mean absolute error rate: \",calc_error_rate(clus4_seg_ids, clus4_seg_dirs, dates_test3))\n",
        "print(\"Cluster 5 mean absolute error rate: \",calc_error_rate(clus5_seg_ids, clus5_seg_dirs, dates_test3))\n",
        "print(\"Cluster 6 mean absolute error rate: \",calc_error_rate(clus6_seg_ids, clus6_seg_dirs, dates_test3))\n",
        "print(\"Cluster 7 mean absolute error rate: \",calc_error_rate(clus7_seg_ids, clus7_seg_dirs, dates_test3))\n",
        "print(\"Cluster 8 mean absolute error rate: \",calc_error_rate(clus8_seg_ids, clus8_seg_dirs, dates_test3))\n",
        "print(\"Cluster 9 mean absolute error rate: \",calc_error_rate(clus9_seg_ids, clus9_seg_dirs, dates_test3))\n",
        "print(\"Model mean absolute error rate: \",test3_model_error)"
      ],
      "metadata": {
        "colab": {
          "base_uri": "https://localhost:8080/"
        },
        "id": "9rlySWnt9rb6",
        "outputId": "49da80ce-3c4e-4eea-d92a-e96192ae33ec"
      },
      "execution_count": null,
      "outputs": [
        {
          "output_type": "stream",
          "name": "stdout",
          "text": [
            "Test 3 Results\n",
            "Cluster 1 mean absolute error rate:  0.10598290598290598\n",
            "Cluster 2 mean absolute error rate:  0.11196430726880457\n",
            "Cluster 3 mean absolute error rate:  0.153349053622703\n",
            "Cluster 4 mean absolute error rate:  0.6586237801444924\n",
            "Cluster 5 mean absolute error rate:  0.025007214691469576\n",
            "Cluster 6 mean absolute error rate:  0.1419789653279881\n",
            "Cluster 7 mean absolute error rate:  0.22245043643919082\n",
            "Cluster 8 mean absolute error rate:  0.23527252733365386\n",
            "Cluster 9 mean absolute error rate:  0.07568027210884358\n",
            "Model mean absolute error rate:  0.19225660699111688\n"
          ]
        }
      ]
    },
    {
      "cell_type": "code",
      "source": [
        "model_error = (test1_model_error + test2_model_error + test3_model_error) / 3\n",
        "print(\"Model mean absoulete error rate: \",model_error)"
      ],
      "metadata": {
        "colab": {
          "base_uri": "https://localhost:8080/"
        },
        "id": "OtnJaZKA9_ps",
        "outputId": "ce4e4c6c-522b-4ca3-ad0a-80343c0d87a9"
      },
      "execution_count": null,
      "outputs": [
        {
          "output_type": "stream",
          "name": "stdout",
          "text": [
            "Model mean absoulete error rate:  0.23119840730172428\n"
          ]
        }
      ]
    },
    {
      "cell_type": "markdown",
      "source": [
        "Dissimilarity Based - Winter"
      ],
      "metadata": {
        "id": "0FpNpE7fwlFb"
      }
    },
    {
      "cell_type": "code",
      "source": [
        "path = \"drive/MyDrive/SimilarityScores/Coordinates/2017/WinterCompleteClusterCoord_2017.csv\"\n",
        "df = pd.read_csv(path)\n",
        "df = df.drop(\"Unnamed: 0\",axis=1)\n",
        "df.columns = [\"vSegID\",\"vSegDir\",\"latitude\",\"longitude\",\"cluster\"]"
      ],
      "metadata": {
        "id": "TrtzS-G98QdL"
      },
      "execution_count": null,
      "outputs": []
    },
    {
      "cell_type": "code",
      "source": [
        "dates_test1 = [\"2017-01-03 14:00:00\", \"2017-01-10 14:00:00\", \"2017-01-17 14:00:00\", \"2017-01-24 14:00:00\", \"2017-01-31 14:00:00\"]\n",
        "dates_test2 = [\"2017-01-01 14:00:00\", \"2017-01-08 14:00:00\", \"2017-01-15 14:00:00\", \"2017-01-22 14:00:00\", \"2017-01-29 14:00:00\"]\n",
        "dates_test3 = [\"2017-01-02 14:00:00\", \"2017-01-09 14:00:00\", \"2017-01-16 14:00:00\", \"2017-01-23 14:00:00\", \"2017-01-30 14:00:00\"]"
      ],
      "metadata": {
        "id": "UFYbcstQADWb"
      },
      "execution_count": null,
      "outputs": []
    },
    {
      "cell_type": "code",
      "source": [
        "clus1_seg_ids, clus1_seg_dirs = [266,266,267,267,268], [0,1,0,1,1]\n",
        "clus2_seg_ids, clus2_seg_dirs = [1851,1851,1852,1852,1853], [0,1,0,1,0]\n",
        "clus3_seg_ids, clus3_seg_dirs = [590,590,591,591,592], [0,1,0,1,1]\n",
        "clus4_seg_ids, clus4_seg_dirs = [711,711,712,712,713], [1,0,1,0,1]\n",
        "clus5_seg_ids, clus5_seg_dirs = [688,688,689,689,690], [1,0,1,0,1]\n",
        "clus6_seg_ids, clus6_seg_dirs = [571,572,573], [0,0,0]\n",
        "clus7_seg_ids, clus7_seg_dirs = [237,238,239], [1,1,1]\n",
        "clus8_seg_ids, clus8_seg_dirs = [94,94,95,95,96], [0,1,0,1,1]\n",
        "clus9_seg_ids, clus9_seg_dirs = [620,620,621,621,622], [0,1,0,1,1]\n",
        "clus10_seg_ids, clus10_seg_dirs = [478,479,480,481,482], [1,1,1,1,1]\n",
        "clus11_seg_ids, clus11_seg_dirs = [550,550,551,551], [1,0,1,0] \n",
        "clus12_seg_ids, clus12_seg_dirs = [634,634,635,635,636], [0,1,0,1,1] \n",
        "clus13_seg_ids, clus13_seg_dirs = [462,462,463,463,464], [1,0,1,0,1] \n",
        "clus14_seg_ids, clus14_seg_dirs = [84,84,85,85], [1,0,1,0] \n",
        "clus15_seg_ids, clus15_seg_dirs = [86,86,87,88,89], [0,1,1,0,0] \n",
        "clus16_seg_ids, clus16_seg_dirs = [108,108,110,110,112], [0,1,0,1,0]\n",
        "clus17_seg_ids, clus17_seg_dirs = [390,390,391,391,392], [0,1,0,1,1]\n",
        "clus18_seg_ids, clus18_seg_dirs = [4,5,6], [0,0,0]\n",
        "clus19_seg_ids, clus19_seg_dirs = [1730,1730,1734,1734], [0,1,0,1]\n",
        "clus20_seg_ids, clus20_seg_dirs = [1118], [0]\n",
        "clus21_seg_ids, clus21_seg_dirs = [542,542,543,543,544], [0,1,0,1,1]\n",
        "clus22_seg_ids, clus22_seg_dirs = [80,81,89], [1,1,1]\n",
        "clus23_seg_ids, clus23_seg_dirs = [1829,1829,1830,1830], [0,1,0,1]\n",
        "clus24_seg_ids, clus24_seg_dirs = [759], [1]"
      ],
      "metadata": {
        "id": "W2WBmfnzADHT"
      },
      "execution_count": null,
      "outputs": []
    },
    {
      "cell_type": "code",
      "source": [
        "test1_model_error = calc_error_rate(clus1_seg_ids, clus1_seg_dirs, dates_test1) + calc_error_rate(clus2_seg_ids, clus2_seg_dirs, dates_test1) + \\\n",
        "                    calc_error_rate(clus3_seg_ids, clus3_seg_dirs, dates_test1) + calc_error_rate(clus4_seg_ids, clus4_seg_dirs, dates_test1) + \\\n",
        "                    calc_error_rate(clus5_seg_ids, clus5_seg_dirs, dates_test1) + calc_error_rate(clus6_seg_ids, clus6_seg_dirs, dates_test1) + \\\n",
        "                    calc_error_rate(clus7_seg_ids, clus7_seg_dirs, dates_test1) + calc_error_rate(clus8_seg_ids, clus8_seg_dirs, dates_test1) + \\\n",
        "                    calc_error_rate(clus9_seg_ids, clus9_seg_dirs, dates_test1) + calc_error_rate(clus10_seg_ids, clus10_seg_dirs, dates_test1) + \\\n",
        "                    calc_error_rate(clus11_seg_ids, clus11_seg_dirs, dates_test1) + calc_error_rate(clus12_seg_ids, clus12_seg_dirs, dates_test1) + \\\n",
        "                    calc_error_rate(clus13_seg_ids, clus13_seg_dirs, dates_test1) + calc_error_rate(clus14_seg_ids, clus14_seg_dirs, dates_test1) + \\\n",
        "                    calc_error_rate(clus15_seg_ids, clus15_seg_dirs, dates_test1) + calc_error_rate(clus16_seg_ids, clus16_seg_dirs, dates_test1) + \\\n",
        "                    calc_error_rate(clus17_seg_ids, clus17_seg_dirs, dates_test1) + calc_error_rate(clus18_seg_ids, clus18_seg_dirs, dates_test1) + \\\n",
        "                    calc_error_rate(clus19_seg_ids, clus19_seg_dirs, dates_test1) + calc_error_rate(clus20_seg_ids, clus20_seg_dirs, dates_test1) + \\\n",
        "                    calc_error_rate(clus21_seg_ids, clus21_seg_dirs, dates_test1) + calc_error_rate(clus22_seg_ids, clus22_seg_dirs, dates_test1) + \\\n",
        "                    calc_error_rate(clus23_seg_ids, clus23_seg_dirs, dates_test1) + calc_error_rate(clus24_seg_ids, clus24_seg_dirs, dates_test1) \n",
        "test1_model_error /= 24"
      ],
      "metadata": {
        "id": "iFR-6WsZGPmh"
      },
      "execution_count": null,
      "outputs": []
    },
    {
      "cell_type": "code",
      "source": [
        "print(\"Test 1 Results\")\n",
        "print(\"Cluster 1 mean absolute error rate: \",calc_error_rate(clus1_seg_ids, clus1_seg_dirs, dates_test1))\n",
        "print(\"Cluster 2 mean absolute error rate: \",calc_error_rate(clus2_seg_ids, clus2_seg_dirs, dates_test1))\n",
        "print(\"Cluster 3 mean absolute error rate: \",calc_error_rate(clus3_seg_ids, clus3_seg_dirs, dates_test1))\n",
        "print(\"Cluster 4 mean absolute error rate: \",calc_error_rate(clus4_seg_ids, clus4_seg_dirs, dates_test1))\n",
        "print(\"Cluster 5 mean absolute error rate: \",calc_error_rate(clus5_seg_ids, clus5_seg_dirs, dates_test1))\n",
        "print(\"Cluster 6 mean absolute error rate: \",calc_error_rate(clus6_seg_ids, clus6_seg_dirs, dates_test1))\n",
        "print(\"Cluster 7 mean absolute error rate: \",calc_error_rate(clus7_seg_ids, clus7_seg_dirs, dates_test1))\n",
        "print(\"Cluster 8 mean absolute error rate: \",calc_error_rate(clus8_seg_ids, clus8_seg_dirs, dates_test1))\n",
        "print(\"Cluster 9 mean absolute error rate: \",calc_error_rate(clus9_seg_ids, clus9_seg_dirs, dates_test1))\n",
        "print(\"Cluster 10 mean absolute error rate: \",calc_error_rate(clus10_seg_ids, clus10_seg_dirs, dates_test1))\n",
        "print(\"Cluster 11 mean absolute error rate: \",calc_error_rate(clus11_seg_ids, clus11_seg_dirs, dates_test1))\n",
        "print(\"Cluster 12 mean absolute error rate: \",calc_error_rate(clus12_seg_ids, clus12_seg_dirs, dates_test1))\n",
        "print(\"Cluster 13 mean absolute error rate: \",calc_error_rate(clus13_seg_ids, clus13_seg_dirs, dates_test1))\n",
        "print(\"Cluster 14 mean absolute error rate: \",calc_error_rate(clus14_seg_ids, clus14_seg_dirs, dates_test1))\n",
        "print(\"Cluster 15 mean absolute error rate: \",calc_error_rate(clus15_seg_ids, clus15_seg_dirs, dates_test1))\n",
        "print(\"Cluster 16 mean absolute error rate: \",calc_error_rate(clus16_seg_ids, clus16_seg_dirs, dates_test1))\n",
        "print(\"Cluster 17 mean absolute error rate: \",calc_error_rate(clus17_seg_ids, clus17_seg_dirs, dates_test1))\n",
        "print(\"Cluster 18 mean absolute error rate: \",calc_error_rate(clus18_seg_ids, clus18_seg_dirs, dates_test1))\n",
        "print(\"Cluster 19 mean absolute error rate: \",calc_error_rate(clus19_seg_ids, clus19_seg_dirs, dates_test1))\n",
        "print(\"Cluster 20 mean absolute error rate: \",calc_error_rate(clus20_seg_ids, clus20_seg_dirs, dates_test1))\n",
        "print(\"Cluster 21 mean absolute error rate: \",calc_error_rate(clus21_seg_ids, clus21_seg_dirs, dates_test1))\n",
        "print(\"Cluster 22 mean absolute error rate: \",calc_error_rate(clus22_seg_ids, clus22_seg_dirs, dates_test1))\n",
        "print(\"Cluster 23 mean absolute error rate: \",calc_error_rate(clus23_seg_ids, clus23_seg_dirs, dates_test1))\n",
        "print(\"Cluster 24 mean absolute error rate: \",calc_error_rate(clus24_seg_ids, clus24_seg_dirs, dates_test1))\n",
        "print(\"Model mean absolute error rate: \",test1_model_error)"
      ],
      "metadata": {
        "colab": {
          "base_uri": "https://localhost:8080/"
        },
        "id": "Hr5FYpq1GPjm",
        "outputId": "d2498151-14fe-437e-8f6f-521247e4e48b"
      },
      "execution_count": null,
      "outputs": [
        {
          "output_type": "stream",
          "name": "stdout",
          "text": [
            "Test 1 Results\n",
            "Cluster 1 mean absolute error rate:  1.1452307692307693\n",
            "Cluster 2 mean absolute error rate:  0.888888888888889\n",
            "Cluster 3 mean absolute error rate:  0.21403553024528693\n",
            "Cluster 4 mean absolute error rate:  0.05824986112970233\n",
            "Cluster 5 mean absolute error rate:  0.05376802037085386\n",
            "Cluster 6 mean absolute error rate:  0.16978261118555937\n",
            "Cluster 7 mean absolute error rate:  0.06752561249892332\n",
            "Cluster 8 mean absolute error rate:  0.2336259561060408\n",
            "Cluster 9 mean absolute error rate:  0.6304061978630219\n",
            "Cluster 10 mean absolute error rate:  0.07064231730742723\n",
            "Cluster 11 mean absolute error rate:  0.7259088305814253\n",
            "Cluster 12 mean absolute error rate:  0.08026812113958097\n",
            "Cluster 13 mean absolute error rate:  0.4812792840506403\n",
            "Cluster 14 mean absolute error rate:  0.15703455540577782\n",
            "Cluster 15 mean absolute error rate:  0.20117297865533157\n",
            "Cluster 16 mean absolute error rate:  0.9822307329837365\n",
            "Cluster 17 mean absolute error rate:  0.075599163313863\n",
            "Cluster 18 mean absolute error rate:  0.11461803708081598\n",
            "Cluster 19 mean absolute error rate:  0.4912289848405398\n",
            "Cluster 20 mean absolute error rate:  1.029068022882142\n",
            "Cluster 21 mean absolute error rate:  0.211382245800177\n",
            "Cluster 22 mean absolute error rate:  0.6857724098333146\n",
            "Cluster 23 mean absolute error rate:  0.10874947541954219\n",
            "Cluster 24 mean absolute error rate:  0.5276190476190477\n",
            "Model mean absolute error rate:  0.39183698560135033\n"
          ]
        }
      ]
    },
    {
      "cell_type": "code",
      "source": [
        "test2_model_error = calc_error_rate(clus1_seg_ids, clus1_seg_dirs, dates_test2) + calc_error_rate(clus2_seg_ids, clus2_seg_dirs, dates_test2) + \\\n",
        "                    calc_error_rate(clus3_seg_ids, clus3_seg_dirs, dates_test2) + calc_error_rate(clus4_seg_ids, clus4_seg_dirs, dates_test2) + \\\n",
        "                    calc_error_rate(clus5_seg_ids, clus5_seg_dirs, dates_test2) + calc_error_rate(clus6_seg_ids, clus6_seg_dirs, dates_test2) + \\\n",
        "                    calc_error_rate(clus7_seg_ids, clus7_seg_dirs, dates_test2) + calc_error_rate(clus8_seg_ids, clus8_seg_dirs, dates_test2) + \\\n",
        "                    calc_error_rate(clus9_seg_ids, clus9_seg_dirs, dates_test2) + calc_error_rate(clus10_seg_ids, clus10_seg_dirs, dates_test2) + \\\n",
        "                    calc_error_rate(clus11_seg_ids, clus11_seg_dirs, dates_test2) + calc_error_rate(clus12_seg_ids, clus12_seg_dirs, dates_test2) + \\\n",
        "                    calc_error_rate(clus13_seg_ids, clus13_seg_dirs, dates_test2) + calc_error_rate(clus14_seg_ids, clus14_seg_dirs, dates_test2) + \\\n",
        "                    calc_error_rate(clus15_seg_ids, clus15_seg_dirs, dates_test2) + calc_error_rate(clus16_seg_ids, clus16_seg_dirs, dates_test2) + \\\n",
        "                    calc_error_rate(clus17_seg_ids, clus17_seg_dirs, dates_test2) + calc_error_rate(clus18_seg_ids, clus18_seg_dirs, dates_test2) + \\\n",
        "                    calc_error_rate(clus19_seg_ids, clus19_seg_dirs, dates_test2) + calc_error_rate(clus20_seg_ids, clus20_seg_dirs, dates_test2) + \\\n",
        "                    calc_error_rate(clus21_seg_ids, clus21_seg_dirs, dates_test2) + calc_error_rate(clus22_seg_ids, clus22_seg_dirs, dates_test2) + \\\n",
        "                    calc_error_rate(clus23_seg_ids, clus23_seg_dirs, dates_test2) + calc_error_rate(clus24_seg_ids, clus24_seg_dirs, dates_test2) \n",
        "test2_model_error /= 24"
      ],
      "metadata": {
        "id": "gFRCeXoVPcwq"
      },
      "execution_count": null,
      "outputs": []
    },
    {
      "cell_type": "code",
      "source": [
        "print(\"Test 2 Results\")\n",
        "print(\"Cluster 1 mean absolute error rate: \",calc_error_rate(clus1_seg_ids, clus1_seg_dirs, dates_test2))\n",
        "print(\"Cluster 2 mean absolute error rate: \",calc_error_rate(clus2_seg_ids, clus2_seg_dirs, dates_test2))\n",
        "print(\"Cluster 3 mean absolute error rate: \",calc_error_rate(clus3_seg_ids, clus3_seg_dirs, dates_test2))\n",
        "print(\"Cluster 4 mean absolute error rate: \",calc_error_rate(clus4_seg_ids, clus4_seg_dirs, dates_test2))\n",
        "print(\"Cluster 5 mean absolute error rate: \",calc_error_rate(clus5_seg_ids, clus5_seg_dirs, dates_test2))\n",
        "print(\"Cluster 6 mean absolute error rate: \",calc_error_rate(clus6_seg_ids, clus6_seg_dirs, dates_test2))\n",
        "print(\"Cluster 7 mean absolute error rate: \",calc_error_rate(clus7_seg_ids, clus7_seg_dirs, dates_test2))\n",
        "print(\"Cluster 8 mean absolute error rate: \",calc_error_rate(clus8_seg_ids, clus8_seg_dirs, dates_test2))\n",
        "print(\"Cluster 9 mean absolute error rate: \",calc_error_rate(clus9_seg_ids, clus9_seg_dirs, dates_test2))\n",
        "print(\"Cluster 10 mean absolute error rate: \",calc_error_rate(clus10_seg_ids, clus10_seg_dirs, dates_test2))\n",
        "print(\"Cluster 11 mean absolute error rate: \",calc_error_rate(clus11_seg_ids, clus11_seg_dirs, dates_test2))\n",
        "print(\"Cluster 12 mean absolute error rate: \",calc_error_rate(clus12_seg_ids, clus12_seg_dirs, dates_test2))\n",
        "print(\"Cluster 13 mean absolute error rate: \",calc_error_rate(clus13_seg_ids, clus13_seg_dirs, dates_test2))\n",
        "print(\"Cluster 14 mean absolute error rate: \",calc_error_rate(clus14_seg_ids, clus14_seg_dirs, dates_test2))\n",
        "print(\"Cluster 15 mean absolute error rate: \",calc_error_rate(clus15_seg_ids, clus15_seg_dirs, dates_test2))\n",
        "print(\"Cluster 16 mean absolute error rate: \",calc_error_rate(clus16_seg_ids, clus16_seg_dirs, dates_test2))\n",
        "print(\"Cluster 17 mean absolute error rate: \",calc_error_rate(clus17_seg_ids, clus17_seg_dirs, dates_test2))\n",
        "print(\"Cluster 18 mean absolute error rate: \",calc_error_rate(clus18_seg_ids, clus18_seg_dirs, dates_test2))\n",
        "print(\"Cluster 19 mean absolute error rate: \",calc_error_rate(clus19_seg_ids, clus19_seg_dirs, dates_test2))\n",
        "print(\"Cluster 20 mean absolute error rate: \",calc_error_rate(clus20_seg_ids, clus20_seg_dirs, dates_test2))\n",
        "print(\"Cluster 21 mean absolute error rate: \",calc_error_rate(clus21_seg_ids, clus21_seg_dirs, dates_test2))\n",
        "print(\"Cluster 22 mean absolute error rate: \",calc_error_rate(clus22_seg_ids, clus22_seg_dirs, dates_test2))\n",
        "print(\"Cluster 23 mean absolute error rate: \",calc_error_rate(clus23_seg_ids, clus23_seg_dirs, dates_test2))\n",
        "print(\"Cluster 24 mean absolute error rate: \",calc_error_rate(clus24_seg_ids, clus24_seg_dirs, dates_test2))\n",
        "print(\"Model mean absolute error rate: \",test2_model_error)"
      ],
      "metadata": {
        "colab": {
          "base_uri": "https://localhost:8080/"
        },
        "id": "NUU3vCqBPctw",
        "outputId": "8f4aebf9-b536-45f9-8e7c-3952d17db449"
      },
      "execution_count": null,
      "outputs": [
        {
          "output_type": "stream",
          "name": "stdout",
          "text": [
            "Test 2 Results\n",
            "Cluster 1 mean absolute error rate:  0.019230769230769232\n",
            "Cluster 2 mean absolute error rate:  0.48888888888888893\n",
            "Cluster 3 mean absolute error rate:  0.24138502704803919\n",
            "Cluster 4 mean absolute error rate:  0.10553982849699314\n",
            "Cluster 5 mean absolute error rate:  0.07801856697880645\n",
            "Cluster 6 mean absolute error rate:  0.22916935882955283\n",
            "Cluster 7 mean absolute error rate:  0.07125260895824019\n",
            "Cluster 8 mean absolute error rate:  0.34345454545454535\n",
            "Cluster 9 mean absolute error rate:  0.32232390754905366\n",
            "Cluster 10 mean absolute error rate:  0.35038958713983226\n",
            "Cluster 11 mean absolute error rate:  0.5310672514619883\n",
            "Cluster 12 mean absolute error rate:  1.2086165568069869\n",
            "Cluster 13 mean absolute error rate:  1.0949748031718576\n",
            "Cluster 14 mean absolute error rate:  0.45986265896845097\n",
            "Cluster 15 mean absolute error rate:  0.25242074674899195\n",
            "Cluster 16 mean absolute error rate:  0.22947368421052627\n",
            "Cluster 17 mean absolute error rate:  0.06030562370435695\n",
            "Cluster 18 mean absolute error rate:  0.1672559271548676\n",
            "Cluster 19 mean absolute error rate:  1.9953946950793369\n",
            "Cluster 20 mean absolute error rate:  0.5723983143390529\n",
            "Cluster 21 mean absolute error rate:  1.0356233333333331\n",
            "Cluster 22 mean absolute error rate:  0.15904233162991196\n",
            "Cluster 23 mean absolute error rate:  0.10277777777777777\n",
            "Cluster 24 mean absolute error rate:  0.4728395061728395\n",
            "Model mean absolute error rate:  0.4413210957972917\n"
          ]
        }
      ]
    },
    {
      "cell_type": "code",
      "source": [
        "test3_model_error = calc_error_rate(clus1_seg_ids, clus1_seg_dirs, dates_test3) + calc_error_rate(clus2_seg_ids, clus2_seg_dirs, dates_test3) + \\\n",
        "                    calc_error_rate(clus3_seg_ids, clus3_seg_dirs, dates_test3) + calc_error_rate(clus4_seg_ids, clus4_seg_dirs, dates_test3) + \\\n",
        "                    calc_error_rate(clus5_seg_ids, clus5_seg_dirs, dates_test3) + calc_error_rate(clus6_seg_ids, clus6_seg_dirs, dates_test3) + \\\n",
        "                    calc_error_rate(clus7_seg_ids, clus7_seg_dirs, dates_test3) + calc_error_rate(clus8_seg_ids, clus8_seg_dirs, dates_test3) + \\\n",
        "                    calc_error_rate(clus9_seg_ids, clus9_seg_dirs, dates_test3) + calc_error_rate(clus10_seg_ids, clus10_seg_dirs, dates_test3) + \\\n",
        "                    calc_error_rate(clus11_seg_ids, clus11_seg_dirs, dates_test3) + calc_error_rate(clus12_seg_ids, clus12_seg_dirs, dates_test3) + \\\n",
        "                    calc_error_rate(clus13_seg_ids, clus13_seg_dirs, dates_test3) + calc_error_rate(clus14_seg_ids, clus14_seg_dirs, dates_test3) + \\\n",
        "                    calc_error_rate(clus15_seg_ids, clus15_seg_dirs, dates_test3) + calc_error_rate(clus16_seg_ids, clus16_seg_dirs, dates_test3) + \\\n",
        "                    calc_error_rate(clus17_seg_ids, clus17_seg_dirs, dates_test3) + calc_error_rate(clus18_seg_ids, clus18_seg_dirs, dates_test3) + \\\n",
        "                    calc_error_rate(clus19_seg_ids, clus19_seg_dirs, dates_test3) + calc_error_rate(clus20_seg_ids, clus20_seg_dirs, dates_test3) + \\\n",
        "                    calc_error_rate(clus21_seg_ids, clus21_seg_dirs, dates_test3) + calc_error_rate(clus22_seg_ids, clus22_seg_dirs, dates_test3) + \\\n",
        "                    calc_error_rate(clus23_seg_ids, clus23_seg_dirs, dates_test3) + calc_error_rate(clus24_seg_ids, clus24_seg_dirs, dates_test3) \n",
        "test3_model_error /= 24"
      ],
      "metadata": {
        "id": "hluyJb3BPcq0"
      },
      "execution_count": null,
      "outputs": []
    },
    {
      "cell_type": "code",
      "source": [
        "print(\"Test 3 Results\")\n",
        "print(\"Cluster 1 mean absolute error rate: \",calc_error_rate(clus1_seg_ids, clus1_seg_dirs, dates_test3))\n",
        "print(\"Cluster 2 mean absolute error rate: \",calc_error_rate(clus2_seg_ids, clus2_seg_dirs, dates_test3))\n",
        "print(\"Cluster 3 mean absolute error rate: \",calc_error_rate(clus3_seg_ids, clus3_seg_dirs, dates_test3))\n",
        "print(\"Cluster 4 mean absolute error rate: \",calc_error_rate(clus4_seg_ids, clus4_seg_dirs, dates_test3))\n",
        "print(\"Cluster 5 mean absolute error rate: \",calc_error_rate(clus5_seg_ids, clus5_seg_dirs, dates_test3))\n",
        "print(\"Cluster 6 mean absolute error rate: \",calc_error_rate(clus6_seg_ids, clus6_seg_dirs, dates_test3))\n",
        "print(\"Cluster 7 mean absolute error rate: \",calc_error_rate(clus7_seg_ids, clus7_seg_dirs, dates_test3))\n",
        "print(\"Cluster 8 mean absolute error rate: \",calc_error_rate(clus8_seg_ids, clus8_seg_dirs, dates_test3))\n",
        "print(\"Cluster 9 mean absolute error rate: \",calc_error_rate(clus9_seg_ids, clus9_seg_dirs, dates_test3))\n",
        "print(\"Cluster 10 mean absolute error rate: \",calc_error_rate(clus10_seg_ids, clus10_seg_dirs, dates_test3))\n",
        "print(\"Cluster 11 mean absolute error rate: \",calc_error_rate(clus11_seg_ids, clus11_seg_dirs, dates_test3))\n",
        "print(\"Cluster 12 mean absolute error rate: \",calc_error_rate(clus12_seg_ids, clus12_seg_dirs, dates_test3))\n",
        "print(\"Cluster 13 mean absolute error rate: \",calc_error_rate(clus13_seg_ids, clus13_seg_dirs, dates_test3))\n",
        "print(\"Cluster 14 mean absolute error rate: \",calc_error_rate(clus14_seg_ids, clus14_seg_dirs, dates_test3))\n",
        "print(\"Cluster 15 mean absolute error rate: \",calc_error_rate(clus15_seg_ids, clus15_seg_dirs, dates_test3))\n",
        "print(\"Cluster 16 mean absolute error rate: \",calc_error_rate(clus16_seg_ids, clus16_seg_dirs, dates_test3))\n",
        "print(\"Cluster 17 mean absolute error rate: \",calc_error_rate(clus17_seg_ids, clus17_seg_dirs, dates_test3))\n",
        "print(\"Cluster 18 mean absolute error rate: \",calc_error_rate(clus18_seg_ids, clus18_seg_dirs, dates_test3))\n",
        "print(\"Cluster 19 mean absolute error rate: \",calc_error_rate(clus19_seg_ids, clus19_seg_dirs, dates_test3))\n",
        "print(\"Cluster 20 mean absolute error rate: \",calc_error_rate(clus20_seg_ids, clus20_seg_dirs, dates_test3))\n",
        "print(\"Cluster 21 mean absolute error rate: \",calc_error_rate(clus21_seg_ids, clus21_seg_dirs, dates_test3))\n",
        "print(\"Cluster 22 mean absolute error rate: \",calc_error_rate(clus22_seg_ids, clus22_seg_dirs, dates_test3))\n",
        "print(\"Cluster 23 mean absolute error rate: \",calc_error_rate(clus23_seg_ids, clus23_seg_dirs, dates_test3))\n",
        "print(\"Cluster 24 mean absolute error rate: \",calc_error_rate(clus24_seg_ids, clus24_seg_dirs, dates_test3))\n",
        "print(\"Model mean absolute error rate: \",test3_model_error)"
      ],
      "metadata": {
        "colab": {
          "base_uri": "https://localhost:8080/"
        },
        "id": "6xwdaLxcPcnr",
        "outputId": "16bc9a53-9ea0-40da-c049-c2f75700072b"
      },
      "execution_count": null,
      "outputs": [
        {
          "output_type": "stream",
          "name": "stdout",
          "text": [
            "Test 3 Results\n",
            "Cluster 1 mean absolute error rate:  0.21599618563254933\n",
            "Cluster 2 mean absolute error rate:  0.888888888888889\n",
            "Cluster 3 mean absolute error rate:  0.1623342499793059\n",
            "Cluster 4 mean absolute error rate:  0.09344527717514367\n",
            "Cluster 5 mean absolute error rate:  0.009220691316191871\n",
            "Cluster 6 mean absolute error rate:  0.23871898214003476\n",
            "Cluster 7 mean absolute error rate:  0.16566509124976\n",
            "Cluster 8 mean absolute error rate:  0.5091815971671687\n",
            "Cluster 9 mean absolute error rate:  0.20679073356809785\n",
            "Cluster 10 mean absolute error rate:  0.043430615499065274\n",
            "Cluster 11 mean absolute error rate:  0.7016134111806168\n",
            "Cluster 12 mean absolute error rate:  0.08633051127010391\n",
            "Cluster 13 mean absolute error rate:  0.0328124378081626\n",
            "Cluster 14 mean absolute error rate:  0.21821868882055956\n",
            "Cluster 15 mean absolute error rate:  0.16084985948405062\n",
            "Cluster 16 mean absolute error rate:  0.7024438282492754\n",
            "Cluster 17 mean absolute error rate:  0.0682566066255195\n",
            "Cluster 18 mean absolute error rate:  0.6780707692727702\n",
            "Cluster 19 mean absolute error rate:  0.36669143011775374\n",
            "Cluster 20 mean absolute error rate:  0.46914084043903753\n",
            "Cluster 21 mean absolute error rate:  0.31228014988998876\n",
            "Cluster 22 mean absolute error rate:  0.11196347031963462\n",
            "Cluster 23 mean absolute error rate:  1.5908674355158734\n",
            "Cluster 24 mean absolute error rate:  0.09432217511150914\n",
            "Model mean absolute error rate:  0.33864724694671094\n"
          ]
        }
      ]
    },
    {
      "cell_type": "code",
      "source": [
        "model_error = (test1_model_error + test2_model_error + test3_model_error) / 3\n",
        "print(\"Model mean absoulete error rate: \",model_error)"
      ],
      "metadata": {
        "colab": {
          "base_uri": "https://localhost:8080/"
        },
        "id": "FT3vRNKiPckw",
        "outputId": "c2e98da0-7c5a-4bcb-bb74-b7b696b3ed06"
      },
      "execution_count": null,
      "outputs": [
        {
          "output_type": "stream",
          "name": "stdout",
          "text": [
            "Model mean absoulete error rate:  0.39060177611511765\n"
          ]
        }
      ]
    },
    {
      "cell_type": "markdown",
      "source": [
        "Dissimilarity Monday"
      ],
      "metadata": {
        "id": "OAnhKeKS_oD4"
      }
    },
    {
      "cell_type": "code",
      "source": [
        "path = \"drive/MyDrive/SimilarityScores/Coordinates/2017/MondayCompleteClusterCoord_2017.csv\"\n",
        "df = pd.read_csv(path)\n",
        "df = df.drop(\"Unnamed: 0\",axis=1)\n",
        "df.columns = [\"vSegID\",\"vSegDir\",\"latitude\",\"longitude\",\"cluster\"]"
      ],
      "metadata": {
        "id": "KPchOQFwNetb"
      },
      "execution_count": null,
      "outputs": []
    },
    {
      "cell_type": "code",
      "source": [
        "dates_test1 = [\"2017-05-01 14:00:00\", \"2017-05-08 14:00:00\", \"2017-05-15 14:00:00\", \"2017-05-22 14:00:00\", \"2017-05-29 14:00:00\"]\n",
        "dates_test2 = [\"2017-10-02 14:00:00\", \"2017-10-09 14:00:00\", \"2017-10-16 14:00:00\", \"2017-10-23 14:00:00\", \"2017-10-30 14:00:00\"]\n",
        "dates_test3 = [\"2017-01-02 17:00:00\", \"2017-01-09 17:00:00\", \"2017-01-16 17:00:00\", \"2017-01-23 17:00:00\", \"2017-01-30 17:00:00\"]"
      ],
      "metadata": {
        "id": "gdNRnM0UXZ56"
      },
      "execution_count": null,
      "outputs": []
    },
    {
      "cell_type": "code",
      "source": [
        "clus1_seg_ids, clus1_seg_dirs = [211,212,213], [0,1,1]\n",
        "clus2_seg_ids, clus2_seg_dirs = [600,601,602,603,604], [0,0,0,0,0]\n",
        "clus3_seg_ids, clus3_seg_dirs = [86,86,84,88,89], [0,1,1,0,0]\n",
        "clus4_seg_ids, clus4_seg_dirs = [1877,1877,1885,1885,1875], [1,0,1,0,0]\n",
        "clus5_seg_ids, clus5_seg_dirs = [184,240,46,880,880], [0,1,0,0,1]\n",
        "clus6_seg_ids, clus6_seg_dirs = [95,95,96,96], [0,1,1,0]\n",
        "clus7_seg_ids, clus7_seg_dirs = [618,618,619,619,620], [0,1,0,1,1]\n",
        "clus8_seg_ids, clus8_seg_dirs = [1730,1730,1734,1734], [0,1,0,1]\n",
        "clus9_seg_ids, clus9_seg_dirs = [430,431,432,433,434], [1,1,1,1,1]\n",
        "clus10_seg_ids, clus10_seg_dirs = [729,730,731,732,733], [1,1,1,1,1]\n",
        "clus11_seg_ids, clus11_seg_dirs = [395,395,396,397], [1,0,0,0] \n",
        "clus12_seg_ids, clus12_seg_dirs = [735,735,736,736,737], [0,1,0,1,1] \n",
        "clus13_seg_ids, clus13_seg_dirs = [62,65,65,499,1760], [0,0,1,1,1] \n",
        "clus14_seg_ids, clus14_seg_dirs = [637,638,639,640,641], [1,1,1,1,1] \n",
        "clus15_seg_ids, clus15_seg_dirs = [576,577,579], [1,1,1] \n",
        "clus16_seg_ids, clus16_seg_dirs = [42,48], [1,0]\n",
        "clus17_seg_ids, clus17_seg_dirs = [719,719,720,720,721], [0,1,0,1,1]\n",
        "clus18_seg_ids, clus18_seg_dirs = [256,256,257,257,258], [0,1,0,1,0]\n",
        "clus19_seg_ids, clus19_seg_dirs = [387,388,389,390,391], [1,1,1,1,1]\n",
        "clus20_seg_ids, clus20_seg_dirs = [637,638,639,640,641], [0,0,0,0,0] \n",
        "clus21_seg_ids, clus21_seg_dirs = [178,178,179,179,180], [0,1,0,1,1]\n",
        "clus22_seg_ids, clus22_seg_dirs = [542,542,543,543,544], [0,1,0,1,1]"
      ],
      "metadata": {
        "id": "xBkUWczyXZ3F"
      },
      "execution_count": null,
      "outputs": []
    },
    {
      "cell_type": "code",
      "source": [
        "test1_model_error = calc_error_rate(clus1_seg_ids, clus1_seg_dirs, dates_test1) + calc_error_rate(clus2_seg_ids, clus2_seg_dirs, dates_test1) + \\\n",
        "                    calc_error_rate(clus3_seg_ids, clus3_seg_dirs, dates_test1) + calc_error_rate(clus4_seg_ids, clus4_seg_dirs, dates_test1) + \\\n",
        "                    calc_error_rate(clus5_seg_ids, clus5_seg_dirs, dates_test1) + calc_error_rate(clus6_seg_ids, clus6_seg_dirs, dates_test1) + \\\n",
        "                    calc_error_rate(clus7_seg_ids, clus7_seg_dirs, dates_test1) + calc_error_rate(clus8_seg_ids, clus8_seg_dirs, dates_test1) + \\\n",
        "                    calc_error_rate(clus9_seg_ids, clus9_seg_dirs, dates_test1) + calc_error_rate(clus10_seg_ids, clus10_seg_dirs, dates_test1) + \\\n",
        "                    calc_error_rate(clus11_seg_ids, clus11_seg_dirs, dates_test1) + calc_error_rate(clus12_seg_ids, clus12_seg_dirs, dates_test1) + \\\n",
        "                    calc_error_rate(clus13_seg_ids, clus13_seg_dirs, dates_test1) + calc_error_rate(clus14_seg_ids, clus14_seg_dirs, dates_test1) + \\\n",
        "                    calc_error_rate(clus15_seg_ids, clus15_seg_dirs, dates_test1) + calc_error_rate(clus16_seg_ids, clus16_seg_dirs, dates_test1) + \\\n",
        "                    calc_error_rate(clus17_seg_ids, clus17_seg_dirs, dates_test1) + calc_error_rate(clus18_seg_ids, clus18_seg_dirs, dates_test1) + \\\n",
        "                    calc_error_rate(clus19_seg_ids, clus19_seg_dirs, dates_test1) + calc_error_rate(clus20_seg_ids, clus20_seg_dirs, dates_test1) + \\\n",
        "                    calc_error_rate(clus21_seg_ids, clus21_seg_dirs, dates_test1) + calc_error_rate(clus22_seg_ids, clus22_seg_dirs, dates_test1)\n",
        "test1_model_error /= 22"
      ],
      "metadata": {
        "id": "VqUJAOH1XZ0Z"
      },
      "execution_count": null,
      "outputs": []
    },
    {
      "cell_type": "code",
      "source": [
        "print(\"Test 1 Results\")\n",
        "print(\"Cluster 1 mean absolute error rate: \",calc_error_rate(clus1_seg_ids, clus1_seg_dirs, dates_test1))\n",
        "print(\"Cluster 2 mean absolute error rate: \",calc_error_rate(clus2_seg_ids, clus2_seg_dirs, dates_test1))\n",
        "print(\"Cluster 3 mean absolute error rate: \",calc_error_rate(clus3_seg_ids, clus3_seg_dirs, dates_test1))\n",
        "print(\"Cluster 4 mean absolute error rate: \",calc_error_rate(clus4_seg_ids, clus4_seg_dirs, dates_test1))\n",
        "print(\"Cluster 5 mean absolute error rate: \",calc_error_rate(clus5_seg_ids, clus5_seg_dirs, dates_test1))\n",
        "print(\"Cluster 6 mean absolute error rate: \",calc_error_rate(clus6_seg_ids, clus6_seg_dirs, dates_test1))\n",
        "print(\"Cluster 7 mean absolute error rate: \",calc_error_rate(clus7_seg_ids, clus7_seg_dirs, dates_test1))\n",
        "print(\"Cluster 8 mean absolute error rate: \",calc_error_rate(clus8_seg_ids, clus8_seg_dirs, dates_test1))\n",
        "print(\"Cluster 9 mean absolute error rate: \",calc_error_rate(clus9_seg_ids, clus9_seg_dirs, dates_test1))\n",
        "print(\"Cluster 10 mean absolute error rate: \",calc_error_rate(clus10_seg_ids, clus10_seg_dirs, dates_test1))\n",
        "print(\"Cluster 11 mean absolute error rate: \",calc_error_rate(clus11_seg_ids, clus11_seg_dirs, dates_test1))\n",
        "print(\"Cluster 12 mean absolute error rate: \",calc_error_rate(clus12_seg_ids, clus12_seg_dirs, dates_test1))\n",
        "print(\"Cluster 13 mean absolute error rate: \",calc_error_rate(clus13_seg_ids, clus13_seg_dirs, dates_test1))\n",
        "print(\"Cluster 14 mean absolute error rate: \",calc_error_rate(clus14_seg_ids, clus14_seg_dirs, dates_test1))\n",
        "print(\"Cluster 15 mean absolute error rate: \",calc_error_rate(clus15_seg_ids, clus15_seg_dirs, dates_test1))\n",
        "print(\"Cluster 16 mean absolute error rate: \",calc_error_rate(clus16_seg_ids, clus16_seg_dirs, dates_test1))\n",
        "print(\"Cluster 17 mean absolute error rate: \",calc_error_rate(clus17_seg_ids, clus17_seg_dirs, dates_test1))\n",
        "print(\"Cluster 18 mean absolute error rate: \",calc_error_rate(clus18_seg_ids, clus18_seg_dirs, dates_test1))\n",
        "print(\"Cluster 19 mean absolute error rate: \",calc_error_rate(clus19_seg_ids, clus19_seg_dirs, dates_test1))\n",
        "print(\"Cluster 20 mean absolute error rate: \",calc_error_rate(clus20_seg_ids, clus20_seg_dirs, dates_test1))\n",
        "print(\"Cluster 21 mean absolute error rate: \",calc_error_rate(clus21_seg_ids, clus21_seg_dirs, dates_test1))\n",
        "print(\"Cluster 22 mean absolute error rate: \",calc_error_rate(clus22_seg_ids, clus22_seg_dirs, dates_test1))\n",
        "print(\"Model mean absolute error rate: \",test1_model_error)"
      ],
      "metadata": {
        "colab": {
          "base_uri": "https://localhost:8080/"
        },
        "id": "Aj6jUCvvXZxb",
        "outputId": "a64098f6-c39f-4d55-c3ef-e8ed8d89637c"
      },
      "execution_count": null,
      "outputs": [
        {
          "output_type": "stream",
          "name": "stdout",
          "text": [
            "Test 1 Results\n",
            "Cluster 1 mean absolute error rate:  0.2065280720338983\n",
            "Cluster 2 mean absolute error rate:  0.05747459739847127\n",
            "Cluster 3 mean absolute error rate:  0.22152026125918428\n",
            "Cluster 4 mean absolute error rate:  0.044444444444444446\n",
            "Cluster 5 mean absolute error rate:  0.9126580213653719\n",
            "Cluster 6 mean absolute error rate:  0.4037346783080302\n",
            "Cluster 7 mean absolute error rate:  0.19517230761053672\n",
            "Cluster 8 mean absolute error rate:  0.12055927190625469\n",
            "Cluster 9 mean absolute error rate:  0.18348678426675905\n",
            "Cluster 10 mean absolute error rate:  0.07667262114373503\n",
            "Cluster 11 mean absolute error rate:  0.04482970148570689\n",
            "Cluster 12 mean absolute error rate:  0.4119343791119457\n",
            "Cluster 13 mean absolute error rate:  0.46502624038012\n",
            "Cluster 14 mean absolute error rate:  0.041445487128468614\n",
            "Cluster 15 mean absolute error rate:  0.4782975328818453\n",
            "Cluster 16 mean absolute error rate:  0.13719512195121952\n",
            "Cluster 17 mean absolute error rate:  0.0772763427771462\n",
            "Cluster 18 mean absolute error rate:  0.07136848867684668\n",
            "Cluster 19 mean absolute error rate:  0.14992032967454366\n",
            "Cluster 20 mean absolute error rate:  0.035231709330210366\n",
            "Cluster 21 mean absolute error rate:  0.09361813419049961\n",
            "Cluster 22 mean absolute error rate:  0.1294704362801379\n",
            "Model mean absolute error rate:  0.20717568016388077\n"
          ]
        }
      ]
    },
    {
      "cell_type": "code",
      "source": [
        "test2_model_error = calc_error_rate(clus1_seg_ids, clus1_seg_dirs, dates_test2) + calc_error_rate(clus2_seg_ids, clus2_seg_dirs, dates_test2) + \\\n",
        "                    calc_error_rate(clus3_seg_ids, clus3_seg_dirs, dates_test2) + calc_error_rate(clus4_seg_ids, clus4_seg_dirs, dates_test2) + \\\n",
        "                    calc_error_rate(clus5_seg_ids, clus5_seg_dirs, dates_test2) + calc_error_rate(clus6_seg_ids, clus6_seg_dirs, dates_test2) + \\\n",
        "                    calc_error_rate(clus7_seg_ids, clus7_seg_dirs, dates_test2) + calc_error_rate(clus8_seg_ids, clus8_seg_dirs, dates_test2) + \\\n",
        "                    calc_error_rate(clus9_seg_ids, clus9_seg_dirs, dates_test2) + calc_error_rate(clus10_seg_ids, clus10_seg_dirs, dates_test2) + \\\n",
        "                    calc_error_rate(clus11_seg_ids, clus11_seg_dirs, dates_test2) + calc_error_rate(clus12_seg_ids, clus12_seg_dirs, dates_test2) + \\\n",
        "                    calc_error_rate(clus13_seg_ids, clus13_seg_dirs, dates_test2) + calc_error_rate(clus14_seg_ids, clus14_seg_dirs, dates_test2) + \\\n",
        "                    calc_error_rate(clus15_seg_ids, clus15_seg_dirs, dates_test2) + calc_error_rate(clus16_seg_ids, clus16_seg_dirs, dates_test2) + \\\n",
        "                    calc_error_rate(clus17_seg_ids, clus17_seg_dirs, dates_test2) + calc_error_rate(clus18_seg_ids, clus18_seg_dirs, dates_test2) + \\\n",
        "                    calc_error_rate(clus19_seg_ids, clus19_seg_dirs, dates_test2) + calc_error_rate(clus20_seg_ids, clus20_seg_dirs, dates_test2) + \\\n",
        "                    calc_error_rate(clus21_seg_ids, clus21_seg_dirs, dates_test2) + calc_error_rate(clus22_seg_ids, clus22_seg_dirs, dates_test2)  \n",
        "test2_model_error /= 22"
      ],
      "metadata": {
        "id": "te97kpiGXZuZ"
      },
      "execution_count": null,
      "outputs": []
    },
    {
      "cell_type": "code",
      "source": [
        "print(\"Test 2 Results\")\n",
        "print(\"Cluster 1 mean absolute error rate: \",calc_error_rate(clus1_seg_ids, clus1_seg_dirs, dates_test2))\n",
        "print(\"Cluster 2 mean absolute error rate: \",calc_error_rate(clus2_seg_ids, clus2_seg_dirs, dates_test2))\n",
        "print(\"Cluster 3 mean absolute error rate: \",calc_error_rate(clus3_seg_ids, clus3_seg_dirs, dates_test2))\n",
        "print(\"Cluster 4 mean absolute error rate: \",calc_error_rate(clus4_seg_ids, clus4_seg_dirs, dates_test2))\n",
        "print(\"Cluster 5 mean absolute error rate: \",calc_error_rate(clus5_seg_ids, clus5_seg_dirs, dates_test2))\n",
        "print(\"Cluster 6 mean absolute error rate: \",calc_error_rate(clus6_seg_ids, clus6_seg_dirs, dates_test2))\n",
        "print(\"Cluster 7 mean absolute error rate: \",calc_error_rate(clus7_seg_ids, clus7_seg_dirs, dates_test2))\n",
        "print(\"Cluster 8 mean absolute error rate: \",calc_error_rate(clus8_seg_ids, clus8_seg_dirs, dates_test2))\n",
        "print(\"Cluster 9 mean absolute error rate: \",calc_error_rate(clus9_seg_ids, clus9_seg_dirs, dates_test2))\n",
        "print(\"Cluster 10 mean absolute error rate: \",calc_error_rate(clus10_seg_ids, clus10_seg_dirs, dates_test2))\n",
        "print(\"Cluster 11 mean absolute error rate: \",calc_error_rate(clus11_seg_ids, clus11_seg_dirs, dates_test2))\n",
        "print(\"Cluster 12 mean absolute error rate: \",calc_error_rate(clus12_seg_ids, clus12_seg_dirs, dates_test2))\n",
        "print(\"Cluster 13 mean absolute error rate: \",calc_error_rate(clus13_seg_ids, clus13_seg_dirs, dates_test2))\n",
        "print(\"Cluster 14 mean absolute error rate: \",calc_error_rate(clus14_seg_ids, clus14_seg_dirs, dates_test2))\n",
        "print(\"Cluster 15 mean absolute error rate: \",calc_error_rate(clus15_seg_ids, clus15_seg_dirs, dates_test2))\n",
        "print(\"Cluster 16 mean absolute error rate: \",calc_error_rate(clus16_seg_ids, clus16_seg_dirs, dates_test2))\n",
        "print(\"Cluster 17 mean absolute error rate: \",calc_error_rate(clus17_seg_ids, clus17_seg_dirs, dates_test2))\n",
        "print(\"Cluster 18 mean absolute error rate: \",calc_error_rate(clus18_seg_ids, clus18_seg_dirs, dates_test2))\n",
        "print(\"Cluster 19 mean absolute error rate: \",calc_error_rate(clus19_seg_ids, clus19_seg_dirs, dates_test2))\n",
        "print(\"Cluster 20 mean absolute error rate: \",calc_error_rate(clus20_seg_ids, clus20_seg_dirs, dates_test2))\n",
        "print(\"Cluster 21 mean absolute error rate: \",calc_error_rate(clus21_seg_ids, clus21_seg_dirs, dates_test2))\n",
        "print(\"Cluster 22 mean absolute error rate: \",calc_error_rate(clus22_seg_ids, clus22_seg_dirs, dates_test2))\n",
        "print(\"Model mean absolute error rate: \",test2_model_error)"
      ],
      "metadata": {
        "colab": {
          "base_uri": "https://localhost:8080/"
        },
        "id": "Vi_6ui2wXZO8",
        "outputId": "48e0ad66-9b87-420b-dba4-e70724495de0"
      },
      "execution_count": null,
      "outputs": [
        {
          "output_type": "stream",
          "name": "stdout",
          "text": [
            "Test 2 Results\n",
            "Cluster 1 mean absolute error rate:  0.14261632412830014\n",
            "Cluster 2 mean absolute error rate:  0.11856275671279197\n",
            "Cluster 3 mean absolute error rate:  0.2610539975533729\n",
            "Cluster 4 mean absolute error rate:  0.3221891272005951\n",
            "Cluster 5 mean absolute error rate:  0.12799846902833784\n",
            "Cluster 6 mean absolute error rate:  0.5268103966346155\n",
            "Cluster 7 mean absolute error rate:  0.08433059224810589\n",
            "Cluster 8 mean absolute error rate:  0.5402726598905716\n",
            "Cluster 9 mean absolute error rate:  0.21624742105096129\n",
            "Cluster 10 mean absolute error rate:  0.05498687403589929\n",
            "Cluster 11 mean absolute error rate:  0.07567643086702462\n",
            "Cluster 12 mean absolute error rate:  0.5948563357957305\n",
            "Cluster 13 mean absolute error rate:  0.2711179363784143\n",
            "Cluster 14 mean absolute error rate:  0.08537062301924056\n",
            "Cluster 15 mean absolute error rate:  1.186160712360598\n",
            "Cluster 16 mean absolute error rate:  0.043275515334338883\n",
            "Cluster 17 mean absolute error rate:  0.052931539297356126\n",
            "Cluster 18 mean absolute error rate:  0.0443419567855077\n",
            "Cluster 19 mean absolute error rate:  0.22447546450037045\n",
            "Cluster 20 mean absolute error rate:  0.17414163620976555\n",
            "Cluster 21 mean absolute error rate:  0.11704766027623166\n",
            "Cluster 22 mean absolute error rate:  0.13748582207207205\n",
            "Model mean absolute error rate:  0.24554319324455462\n"
          ]
        }
      ]
    },
    {
      "cell_type": "code",
      "source": [
        "test3_model_error = calc_error_rate(clus1_seg_ids, clus1_seg_dirs, dates_test3) + calc_error_rate(clus2_seg_ids, clus2_seg_dirs, dates_test3) + \\\n",
        "                    calc_error_rate(clus3_seg_ids, clus3_seg_dirs, dates_test3) + calc_error_rate(clus4_seg_ids, clus4_seg_dirs, dates_test3) + \\\n",
        "                    calc_error_rate(clus5_seg_ids, clus5_seg_dirs, dates_test3) + calc_error_rate(clus6_seg_ids, clus6_seg_dirs, dates_test3) + \\\n",
        "                    calc_error_rate(clus7_seg_ids, clus7_seg_dirs, dates_test3) + calc_error_rate(clus8_seg_ids, clus8_seg_dirs, dates_test3) + \\\n",
        "                    calc_error_rate(clus9_seg_ids, clus9_seg_dirs, dates_test3) + calc_error_rate(clus10_seg_ids, clus10_seg_dirs, dates_test3) + \\\n",
        "                    calc_error_rate(clus11_seg_ids, clus11_seg_dirs, dates_test3) + calc_error_rate(clus12_seg_ids, clus12_seg_dirs, dates_test3) + \\\n",
        "                    calc_error_rate(clus13_seg_ids, clus13_seg_dirs, dates_test3) + calc_error_rate(clus14_seg_ids, clus14_seg_dirs, dates_test3) + \\\n",
        "                    calc_error_rate(clus15_seg_ids, clus15_seg_dirs, dates_test3) + calc_error_rate(clus16_seg_ids, clus16_seg_dirs, dates_test3) + \\\n",
        "                    calc_error_rate(clus17_seg_ids, clus17_seg_dirs, dates_test3) + calc_error_rate(clus18_seg_ids, clus18_seg_dirs, dates_test3) + \\\n",
        "                    calc_error_rate(clus19_seg_ids, clus19_seg_dirs, dates_test3) + calc_error_rate(clus20_seg_ids, clus20_seg_dirs, dates_test3) + \\\n",
        "                    calc_error_rate(clus21_seg_ids, clus21_seg_dirs, dates_test3) + calc_error_rate(clus22_seg_ids, clus22_seg_dirs, dates_test3)  \n",
        "test3_model_error /= 22"
      ],
      "metadata": {
        "id": "0O_bEHLxXZMW"
      },
      "execution_count": null,
      "outputs": []
    },
    {
      "cell_type": "code",
      "source": [
        "print(\"Test 3 Results\")\n",
        "print(\"Cluster 1 mean absolute error rate: \",calc_error_rate(clus1_seg_ids, clus1_seg_dirs, dates_test3))\n",
        "print(\"Cluster 2 mean absolute error rate: \",calc_error_rate(clus2_seg_ids, clus2_seg_dirs, dates_test3))\n",
        "print(\"Cluster 3 mean absolute error rate: \",calc_error_rate(clus3_seg_ids, clus3_seg_dirs, dates_test3))\n",
        "print(\"Cluster 4 mean absolute error rate: \",calc_error_rate(clus4_seg_ids, clus4_seg_dirs, dates_test3))\n",
        "print(\"Cluster 5 mean absolute error rate: \",calc_error_rate(clus5_seg_ids, clus5_seg_dirs, dates_test3))\n",
        "print(\"Cluster 6 mean absolute error rate: \",calc_error_rate(clus6_seg_ids, clus6_seg_dirs, dates_test3))\n",
        "print(\"Cluster 7 mean absolute error rate: \",calc_error_rate(clus7_seg_ids, clus7_seg_dirs, dates_test3))\n",
        "print(\"Cluster 8 mean absolute error rate: \",calc_error_rate(clus8_seg_ids, clus8_seg_dirs, dates_test3))\n",
        "print(\"Cluster 9 mean absolute error rate: \",calc_error_rate(clus9_seg_ids, clus9_seg_dirs, dates_test3))\n",
        "print(\"Cluster 10 mean absolute error rate: \",calc_error_rate(clus10_seg_ids, clus10_seg_dirs, dates_test3))\n",
        "print(\"Cluster 11 mean absolute error rate: \",calc_error_rate(clus11_seg_ids, clus11_seg_dirs, dates_test3))\n",
        "print(\"Cluster 12 mean absolute error rate: \",calc_error_rate(clus12_seg_ids, clus12_seg_dirs, dates_test3))\n",
        "print(\"Cluster 13 mean absolute error rate: \",calc_error_rate(clus13_seg_ids, clus13_seg_dirs, dates_test3))\n",
        "print(\"Cluster 14 mean absolute error rate: \",calc_error_rate(clus14_seg_ids, clus14_seg_dirs, dates_test3))\n",
        "print(\"Cluster 15 mean absolute error rate: \",calc_error_rate(clus15_seg_ids, clus15_seg_dirs, dates_test3))\n",
        "print(\"Cluster 16 mean absolute error rate: \",calc_error_rate(clus16_seg_ids, clus16_seg_dirs, dates_test3))\n",
        "print(\"Cluster 17 mean absolute error rate: \",calc_error_rate(clus17_seg_ids, clus17_seg_dirs, dates_test3))\n",
        "print(\"Cluster 18 mean absolute error rate: \",calc_error_rate(clus18_seg_ids, clus18_seg_dirs, dates_test3))\n",
        "print(\"Cluster 19 mean absolute error rate: \",calc_error_rate(clus19_seg_ids, clus19_seg_dirs, dates_test3))\n",
        "print(\"Cluster 20 mean absolute error rate: \",calc_error_rate(clus20_seg_ids, clus20_seg_dirs, dates_test3))\n",
        "print(\"Cluster 21 mean absolute error rate: \",calc_error_rate(clus21_seg_ids, clus21_seg_dirs, dates_test3))\n",
        "print(\"Cluster 22 mean absolute error rate: \",calc_error_rate(clus22_seg_ids, clus22_seg_dirs, dates_test3))\n",
        "print(\"Model mean absolute error rate: \",test3_model_error)"
      ],
      "metadata": {
        "colab": {
          "base_uri": "https://localhost:8080/"
        },
        "id": "NllKMCgpXZHF",
        "outputId": "0675b3f0-1315-4ab0-c16c-6ec1041a2b3b"
      },
      "execution_count": null,
      "outputs": [
        {
          "output_type": "stream",
          "name": "stdout",
          "text": [
            "Test 3 Results\n",
            "Cluster 1 mean absolute error rate:  0.12528735632183904\n",
            "Cluster 2 mean absolute error rate:  0.23048697264519147\n",
            "Cluster 3 mean absolute error rate:  0.2207000623849506\n",
            "Cluster 4 mean absolute error rate:  0.010000000000000063\n",
            "Cluster 5 mean absolute error rate:  0.3708346244661726\n",
            "Cluster 6 mean absolute error rate:  0.2807283359914939\n",
            "Cluster 7 mean absolute error rate:  0.9406654262656033\n",
            "Cluster 8 mean absolute error rate:  0.5682096015008777\n",
            "Cluster 9 mean absolute error rate:  0.20629956620499246\n",
            "Cluster 10 mean absolute error rate:  0.04263352291424029\n",
            "Cluster 11 mean absolute error rate:  0.1366188473400905\n",
            "Cluster 12 mean absolute error rate:  0.12075655379513126\n",
            "Cluster 13 mean absolute error rate:  0.6473750653325883\n",
            "Cluster 14 mean absolute error rate:  0.2193218916098977\n",
            "Cluster 15 mean absolute error rate:  0.31165733363983955\n",
            "Cluster 16 mean absolute error rate:  0.19274946862709844\n",
            "Cluster 17 mean absolute error rate:  0.013994011144380692\n",
            "Cluster 18 mean absolute error rate:  0.04183104847217354\n",
            "Cluster 19 mean absolute error rate:  0.08293910932202087\n",
            "Cluster 20 mean absolute error rate:  0.06127069607567574\n",
            "Cluster 21 mean absolute error rate:  0.24337222079690277\n",
            "Cluster 22 mean absolute error rate:  0.3251180522830812\n",
            "Model mean absolute error rate:  0.2451295348697383\n"
          ]
        }
      ]
    },
    {
      "cell_type": "code",
      "source": [
        "model_error = (test1_model_error + test2_model_error + test3_model_error) / 3\n",
        "print(\"Model mean absoulete error rate: \",model_error)"
      ],
      "metadata": {
        "colab": {
          "base_uri": "https://localhost:8080/"
        },
        "id": "VSoLy-b2kCqx",
        "outputId": "7c8f4a9c-a82a-439a-9991-2822b53ff622"
      },
      "execution_count": null,
      "outputs": [
        {
          "output_type": "stream",
          "name": "stdout",
          "text": [
            "Model mean absoulete error rate:  0.23261613609272458\n"
          ]
        }
      ]
    },
    {
      "cell_type": "markdown",
      "source": [
        "Dissimilarity Based Weekend"
      ],
      "metadata": {
        "id": "cTRNUw_qPkFf"
      }
    },
    {
      "cell_type": "code",
      "source": [
        "path = \"drive/MyDrive/SimilarityScores/Coordinates/2017/Fri2SunCompleteClusterCoord_2017.csv\"\n",
        "df = pd.read_csv(path)\n",
        "df = df.drop(\"Unnamed: 0\",axis=1)\n",
        "df.columns = [\"vSegID\",\"vSegDir\",\"latitude\",\"longitude\",\"cluster\"]"
      ],
      "metadata": {
        "id": "_StTfcL8Podn"
      },
      "execution_count": null,
      "outputs": []
    },
    {
      "cell_type": "code",
      "source": [
        "dates_test1 = [\"2017-04-01 12:00:00\", \"2017-04-08 12:00:00\", \"2017-04-15 12:00:00\", \"2017-04-22 12:00:00\", \"2017-04-29 12:00:00\"]\n",
        "dates_test2 = [\"2017-07-01 14:00:00\", \"2017-07-08 14:00:00\", \"2017-07-15 14:00:00\", \"2017-07-22 14:00:00\", \"2017-07-29 14:00:00\"]\n",
        "dates_test3 = [\"2017-10-01 12:00:00\", \"2017-10-08 12:00:00\", \"2017-10-15 12:00:00\", \"2017-10-22 12:00:00\", \"2017-10-29 12:00:00\"]"
      ],
      "metadata": {
        "id": "yM2PCWYlr_kH"
      },
      "execution_count": null,
      "outputs": []
    },
    {
      "cell_type": "code",
      "source": [
        "clus1_seg_ids, clus1_seg_dirs = [549,549,550,550,551], [0,1,0,1,0]\n",
        "clus2_seg_ids, clus2_seg_dirs = [480,480,481,482,482], [0,1,0,0,1]\n",
        "clus3_seg_ids, clus3_seg_dirs = [1920,1920,1921,1921,1922], [0,1,0,1,1]\n",
        "clus4_seg_ids, clus4_seg_dirs = [696,695,697,694,693], [0,0,0,0,0]\n",
        "clus5_seg_ids, clus5_seg_dirs = [102,102,103,103,105], [0,1,0,1,0]"
      ],
      "metadata": {
        "id": "Y7l15cxSr_hB"
      },
      "execution_count": null,
      "outputs": []
    },
    {
      "cell_type": "code",
      "source": [
        "test1_model_error = calc_error_rate(clus1_seg_ids, clus1_seg_dirs, dates_test1) + calc_error_rate(clus2_seg_ids, clus2_seg_dirs, dates_test1) + \\\n",
        "                    calc_error_rate(clus3_seg_ids, clus3_seg_dirs, dates_test1) + calc_error_rate(clus4_seg_ids, clus4_seg_dirs, dates_test1) +\\\n",
        "                    calc_error_rate(clus5_seg_ids, clus5_seg_dirs, dates_test1)\n",
        "\n",
        "test1_model_error /= 5"
      ],
      "metadata": {
        "id": "dqDQpfmvr_dH"
      },
      "execution_count": null,
      "outputs": []
    },
    {
      "cell_type": "code",
      "source": [
        "print(\"Test 1 Results\")\n",
        "print(\"Cluster 1 mean absolute error rate: \",calc_error_rate(clus1_seg_ids, clus1_seg_dirs, dates_test1))\n",
        "print(\"Cluster 2 mean absolute error rate: \",calc_error_rate(clus2_seg_ids, clus2_seg_dirs, dates_test1))\n",
        "print(\"Cluster 3 mean absolute error rate: \",calc_error_rate(clus3_seg_ids, clus3_seg_dirs, dates_test1))\n",
        "print(\"Cluster 4 mean absolute error rate: \",calc_error_rate(clus4_seg_ids, clus4_seg_dirs, dates_test1))\n",
        "print(\"Cluster 5 mean absolute error rate: \",calc_error_rate(clus5_seg_ids, clus5_seg_dirs, dates_test1))\n",
        "print(\"Model mean absolute error rate: \",test1_model_error)"
      ],
      "metadata": {
        "colab": {
          "base_uri": "https://localhost:8080/"
        },
        "id": "_NfCpnfXr_aP",
        "outputId": "a3c05f04-055c-45dc-bb6e-8aeb2ba3bf62"
      },
      "execution_count": null,
      "outputs": [
        {
          "output_type": "stream",
          "name": "stdout",
          "text": [
            "Test 1 Results\n",
            "Cluster 1 mean absolute error rate:  0.45036019157427765\n",
            "Cluster 2 mean absolute error rate:  0.19534733135794372\n",
            "Cluster 3 mean absolute error rate:  0.0625\n",
            "Cluster 4 mean absolute error rate:  0.00939509225333392\n",
            "Cluster 5 mean absolute error rate:  0.3224631876907737\n",
            "Model mean absolute error rate:  0.2080131605752658\n"
          ]
        }
      ]
    },
    {
      "cell_type": "code",
      "source": [
        "test2_model_error = calc_error_rate(clus1_seg_ids, clus1_seg_dirs, dates_test2) + calc_error_rate(clus2_seg_ids, clus2_seg_dirs, dates_test2) + \\\n",
        "                    calc_error_rate(clus3_seg_ids, clus3_seg_dirs, dates_test2) + calc_error_rate(clus4_seg_ids, clus4_seg_dirs, dates_test2) +\\\n",
        "                    calc_error_rate(clus5_seg_ids, clus5_seg_dirs, dates_test2)\n",
        "\n",
        "test2_model_error /= 5"
      ],
      "metadata": {
        "id": "Up64tC_Sr_XX"
      },
      "execution_count": null,
      "outputs": []
    },
    {
      "cell_type": "code",
      "source": [
        "print(\"Test 2 Results\")\n",
        "print(\"Cluster 1 mean absolute error rate: \",calc_error_rate(clus1_seg_ids, clus1_seg_dirs, dates_test2))\n",
        "print(\"Cluster 2 mean absolute error rate: \",calc_error_rate(clus2_seg_ids, clus2_seg_dirs, dates_test2))\n",
        "print(\"Cluster 3 mean absolute error rate: \",calc_error_rate(clus3_seg_ids, clus3_seg_dirs, dates_test2))\n",
        "print(\"Cluster 4 mean absolute error rate: \",calc_error_rate(clus4_seg_ids, clus4_seg_dirs, dates_test2))\n",
        "print(\"Cluster 5 mean absolute error rate: \",calc_error_rate(clus5_seg_ids, clus5_seg_dirs, dates_test2))\n",
        "print(\"Model mean absolute error rate: \",test2_model_error)"
      ],
      "metadata": {
        "colab": {
          "base_uri": "https://localhost:8080/"
        },
        "id": "JbZkVw1Nr_Pr",
        "outputId": "f472e2c6-d57c-4f3c-c3aa-8a9e127a9b9e"
      },
      "execution_count": null,
      "outputs": [
        {
          "output_type": "stream",
          "name": "stdout",
          "text": [
            "Test 2 Results\n",
            "Cluster 1 mean absolute error rate:  0.3716631341631342\n",
            "Cluster 2 mean absolute error rate:  0.015348211837496456\n",
            "Cluster 3 mean absolute error rate:  0.22222222222222224\n",
            "Cluster 4 mean absolute error rate:  0.03494456514663276\n",
            "Cluster 5 mean absolute error rate:  0.3456621724876918\n",
            "Model mean absolute error rate:  0.1979680611714355\n"
          ]
        }
      ]
    },
    {
      "cell_type": "code",
      "source": [
        "test3_model_error = calc_error_rate(clus1_seg_ids, clus1_seg_dirs, dates_test3) + calc_error_rate(clus2_seg_ids, clus2_seg_dirs, dates_test3) + \\\n",
        "                    calc_error_rate(clus3_seg_ids, clus3_seg_dirs, dates_test3) + calc_error_rate(clus4_seg_ids, clus4_seg_dirs, dates_test3) +\\\n",
        "                    calc_error_rate(clus5_seg_ids, clus5_seg_dirs, dates_test3)\n",
        "\n",
        "test3_model_error /= 5"
      ],
      "metadata": {
        "id": "WsR9BLper_Mz"
      },
      "execution_count": null,
      "outputs": []
    },
    {
      "cell_type": "code",
      "source": [
        "print(\"Test 3 Results\")\n",
        "print(\"Cluster 1 mean absolute error rate: \",calc_error_rate(clus1_seg_ids, clus1_seg_dirs, dates_test3))\n",
        "print(\"Cluster 2 mean absolute error rate: \",calc_error_rate(clus2_seg_ids, clus2_seg_dirs, dates_test3))\n",
        "print(\"Cluster 3 mean absolute error rate: \",calc_error_rate(clus3_seg_ids, clus3_seg_dirs, dates_test3))\n",
        "print(\"Cluster 4 mean absolute error rate: \",calc_error_rate(clus4_seg_ids, clus4_seg_dirs, dates_test3))\n",
        "print(\"Cluster 5 mean absolute error rate: \",calc_error_rate(clus5_seg_ids, clus5_seg_dirs, dates_test3))\n",
        "print(\"Model mean absolute error rate: \",test3_model_error)"
      ],
      "metadata": {
        "colab": {
          "base_uri": "https://localhost:8080/"
        },
        "id": "0F8Dkahyr_J-",
        "outputId": "c2a6e7be-2267-4b9d-8500-09d682a62cfb"
      },
      "execution_count": null,
      "outputs": [
        {
          "output_type": "stream",
          "name": "stdout",
          "text": [
            "Test 3 Results\n",
            "Cluster 1 mean absolute error rate:  0.14877080727029118\n",
            "Cluster 2 mean absolute error rate:  0.04021969758853513\n",
            "Cluster 3 mean absolute error rate:  0.2215371825733976\n",
            "Cluster 4 mean absolute error rate:  0.14771403891371876\n",
            "Cluster 5 mean absolute error rate:  0.3491617958590066\n",
            "Model mean absolute error rate:  0.18148070444098985\n"
          ]
        }
      ]
    },
    {
      "cell_type": "code",
      "source": [
        "model_error = (test1_model_error + test2_model_error + test3_model_error) / 3\n",
        "print(\"Model mean absoulete error rate: \",model_error)"
      ],
      "metadata": {
        "colab": {
          "base_uri": "https://localhost:8080/"
        },
        "id": "ArSnssihr_HN",
        "outputId": "4e5521e2-85a4-4bc2-d39c-1bb20409565b"
      },
      "execution_count": null,
      "outputs": [
        {
          "output_type": "stream",
          "name": "stdout",
          "text": [
            "Model mean absoulete error rate:  0.19582064206256375\n"
          ]
        }
      ]
    }
  ]
}