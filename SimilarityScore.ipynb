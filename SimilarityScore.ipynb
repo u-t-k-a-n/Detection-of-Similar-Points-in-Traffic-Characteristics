{
  "nbformat": 4,
  "nbformat_minor": 0,
  "metadata": {
    "colab": {
      "name": "SimilarityScore",
      "provenance": [],
      "collapsed_sections": [],
      "authorship_tag": "ABX9TyO2gulpf0Fz2gfEkXAEFgmv",
      "include_colab_link": true
    },
    "kernelspec": {
      "name": "python3",
      "display_name": "Python 3"
    },
    "language_info": {
      "name": "python"
    }
  },
  "cells": [
    {
      "cell_type": "markdown",
      "metadata": {
        "id": "view-in-github",
        "colab_type": "text"
      },
      "source": [
        "<a href=\"https://colab.research.google.com/github/u-t-k-a-n/Detection-of-Similar-Points-in-Traffic-Characteristics/blob/main/SimilarityScore.ipynb\" target=\"_parent\"><img src=\"https://colab.research.google.com/assets/colab-badge.svg\" alt=\"Open In Colab\"/></a>"
      ]
    },
    {
      "cell_type": "code",
      "metadata": {
        "id": "_-cK2PmNnXSF"
      },
      "source": [
        "import numpy\n",
        "import pandas as pd\n",
        "import calendar"
      ],
      "execution_count": null,
      "outputs": []
    },
    {
      "cell_type": "code",
      "metadata": {
        "colab": {
          "base_uri": "https://localhost:8080/"
        },
        "id": "aUEJRtpE08zl",
        "outputId": "526f97ea-993c-48f2-bf4e-1c424b3f7bbd"
      },
      "source": [
        "from google.colab import drive\n",
        "drive.mount('/content/drive')"
      ],
      "execution_count": null,
      "outputs": [
        {
          "output_type": "stream",
          "name": "stdout",
          "text": [
            "Mounted at /content/drive\n"
          ]
        }
      ]
    },
    {
      "cell_type": "code",
      "metadata": {
        "id": "o9zH9WcCKh-m"
      },
      "source": [
        "def score_corrcoef(file1,file2,month=None,day=None,minute=5):\n",
        "  \"\"\" month: int 1 -> January\n",
        "                 12 -> December\n",
        "      day: int 0 -> Monday\n",
        "               6 -> Sunday\n",
        "      minute: int -> 10 to 24*60\n",
        "\n",
        "      returns -1 to 1 \n",
        "      -1 -> Negatively the same\n",
        "      0 -> Totally different\n",
        "      1 -> Positively the same\n",
        "  \"\"\"\n",
        "  df1 = pd.read_csv(file1)\n",
        "  df2 = pd.read_csv(file2)\n",
        "  minute_range = minute // 5\n",
        "  list1 = list()\n",
        "  list2 = list()\n",
        "  size = (24 * 60) // 5\n",
        "\n",
        "  if month == None and day == None and minute == 5: #annually\n",
        "    list1 = list(df1[\"speed\"])\n",
        "    list2 = list(df2[\"speed\"])\n",
        "\n",
        "  elif month == None and day == None and minute != 5: #annually with averages\n",
        "    for i in range(0,len(df1),minute_range):\n",
        "      list1.append(df1.iloc[i:i+minute_range][\"speed\"].mean())\n",
        "      list2.append(df2.iloc[i:i+minute_range][\"speed\"].mean())\n",
        "\n",
        "  elif month == None and day != None: #annually with weekdays\n",
        "    for i in range(0,len(df1),size):\n",
        "      date = df1.iloc[i][\"time\"]\n",
        "      year = int(date[:4])\n",
        "      month_ = int(date[5:7])\n",
        "      day_ = int(date[8:10])\n",
        "\n",
        "      if day == calendar.weekday(year,month_,day_):\n",
        "        for j in range(0,size,minute_range):\n",
        "          list1.append(df1.iloc[i+j:i+j+minute_range][\"speed\"].mean())\n",
        "          list2.append(df2.iloc[i+j:i+j+minute_range][\"speed\"].mean())\n",
        "\n",
        "  elif month != None and day == None: #monthly\n",
        "    size = (24 * 60 * 31) // 5\n",
        "    for i in range(0,len(df1),size):\n",
        "      date = df1.iloc[i][\"time\"]\n",
        "      year = int(date[:4])\n",
        "      month_ = int(date[5:7])\n",
        "      day_ = int(date[8:10])\n",
        "\n",
        "      if month == month_:\n",
        "        for j in range(0,size,minute_range):\n",
        "          list1.append(df1.iloc[i+j:i+j+minute_range][\"speed\"].mean())\n",
        "          list2.append(df2.iloc[i+j:i+j+minute_range][\"speed\"].mean())\n",
        "\n",
        "  elif month != None and day != None: #monthly with weekdays\n",
        "    for i in range(0,len(df1),size):\n",
        "      date = df1.iloc[i][\"time\"]\n",
        "      year = int(date[:4])\n",
        "      month_ = int(date[5:7])\n",
        "      day_ = int(date[8:10])\n",
        "    \n",
        "      if month == month_ and day == calendar.weekday(year,month_,day_):\n",
        "        for j in range(0,size,minute_range):\n",
        "          list1.append(df1.iloc[i+j:i+j+minute_range][\"speed\"].mean())\n",
        "          list2.append(df2.iloc[i+j:i+j+minute_range][\"speed\"].mean())\n",
        "\n",
        "\n",
        "  return np.corrcoef(list1,list2,rowvar=False)[0][1]\n",
        "\n",
        "\n"
      ],
      "execution_count": null,
      "outputs": []
    },
    {
      "cell_type": "code",
      "metadata": {
        "colab": {
          "base_uri": "https://localhost:8080/"
        },
        "id": "nysJ3bTMCC2A",
        "outputId": "e340394f-025d-46c0-a231-38a8288aa76c"
      },
      "source": [
        "score_corrcoef('drive/MyDrive/2017_v1/356_0_2017.csv','drive/MyDrive/2017_v1/2098_0_2017.csv')"
      ],
      "execution_count": null,
      "outputs": [
        {
          "output_type": "execute_result",
          "data": {
            "text/plain": [
              "0.3366062429379181"
            ]
          },
          "metadata": {},
          "execution_count": 132
        }
      ]
    },
    {
      "cell_type": "code",
      "metadata": {
        "colab": {
          "base_uri": "https://localhost:8080/"
        },
        "id": "6s8wxYud1Hoe",
        "outputId": "b93410b0-1cea-4e81-c9ed-b49c1cbb4db7"
      },
      "source": [
        "x=score_corrcoef('drive/MyDrive/2017_v1/2097_1_2017.csv','drive/MyDrive/2017_v1/2098_0_2017.csv',7,6)\n",
        "x"
      ],
      "execution_count": null,
      "outputs": [
        {
          "output_type": "execute_result",
          "data": {
            "text/plain": [
              "1.0"
            ]
          },
          "metadata": {},
          "execution_count": 134
        }
      ]
    }
  ]
}