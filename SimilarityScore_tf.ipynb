{
  "nbformat": 4,
  "nbformat_minor": 0,
  "metadata": {
    "colab": {
      "name": "SimilarityScore_tf.ipynb",
      "provenance": [],
      "collapsed_sections": [],
      "authorship_tag": "ABX9TyMEUwXo+7dBKzkpFeT9ACE1",
      "include_colab_link": true
    },
    "kernelspec": {
      "name": "python3",
      "display_name": "Python 3"
    },
    "language_info": {
      "name": "python"
    },
    "accelerator": "TPU"
  },
  "cells": [
    {
      "cell_type": "markdown",
      "metadata": {
        "id": "view-in-github",
        "colab_type": "text"
      },
      "source": [
        "<a href=\"https://colab.research.google.com/github/u-t-k-a-n/Detection-of-Similar-Points-in-Traffic-Characteristics/blob/main/SimilarityScore_tf.ipynb\" target=\"_parent\"><img src=\"https://colab.research.google.com/assets/colab-badge.svg\" alt=\"Open In Colab\"/></a>"
      ]
    },
    {
      "cell_type": "code",
      "metadata": {
        "colab": {
          "base_uri": "https://localhost:8080/"
        },
        "id": "x5x_2uAi92dU",
        "outputId": "53464e4b-e80d-4568-ed5c-4f4ff903ab97"
      },
      "source": [
        "import tensorflow as tf\n",
        "import tensorflow_probability as tfp\n",
        "import numpy as np\n",
        "import pandas as pd\n",
        "from google.colab import drive\n",
        "drive.mount('/content/drive')\n",
        "import os\n",
        "path = \"drive/MyDrive/2017_v1\"\n",
        "files = list()\n",
        "for dirname, _, filenames in os.walk(path):\n",
        "    for filename in filenames:\n",
        "        files.append(os.path.join(dirname, filename))"
      ],
      "execution_count": null,
      "outputs": [
        {
          "output_type": "stream",
          "name": "stdout",
          "text": [
            "Mounted at /content/drive\n"
          ]
        }
      ]
    },
    {
      "cell_type": "code",
      "metadata": {
        "id": "AVxZ8pr3-I0-"
      },
      "source": [
        "start = 270\n",
        "end = 280"
      ],
      "execution_count": null,
      "outputs": []
    },
    {
      "cell_type": "code",
      "metadata": {
        "colab": {
          "base_uri": "https://localhost:8080/"
        },
        "id": "gGOEWIC_-NWH",
        "outputId": "4aff744e-9d11-4668-82fd-49b747889945"
      },
      "source": [
        "df = pd.DataFrame(columns=files)\n",
        "for i in range(start,end):\n",
        "  print(i)\n",
        "  x = pd.read_csv(files[i])\n",
        "  b=list()\n",
        "  for j in range(len(files)):\n",
        "    y  = pd.read_csv(files[j])\n",
        "    corr = tfp.stats.correlation(x[\"speed\"], y[\"speed\"], sample_axis=0, event_axis=None)\n",
        "    b.append(corr.numpy())\n",
        "  df.loc[files[i]] = b\n",
        "  \n",
        "df.to_csv(\"drive/MyDrive/SimilarityScores/2017/{}.csv\".format(start//10))"
      ],
      "execution_count": null,
      "outputs": [
        {
          "output_type": "stream",
          "name": "stdout",
          "text": [
            "270\n",
            "271\n",
            "272\n",
            "273\n",
            "274\n"
          ]
        }
      ]
    }
  ]
}