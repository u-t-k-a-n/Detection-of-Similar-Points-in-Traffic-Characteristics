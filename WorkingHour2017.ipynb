{
  "nbformat": 4,
  "nbformat_minor": 0,
  "metadata": {
    "colab": {
      "name": "WorkingHour2017.ipynb",
      "provenance": [],
      "include_colab_link": true
    },
    "kernelspec": {
      "name": "python3",
      "display_name": "Python 3"
    },
    "language_info": {
      "name": "python"
    }
  },
  "cells": [
    {
      "cell_type": "markdown",
      "metadata": {
        "id": "view-in-github",
        "colab_type": "text"
      },
      "source": [
        "<a href=\"https://colab.research.google.com/github/u-t-k-a-n/Detection-of-Similar-Points-in-Traffic-Characteristics/blob/main/WorkingHour2017.ipynb\" target=\"_parent\"><img src=\"https://colab.research.google.com/assets/colab-badge.svg\" alt=\"Open In Colab\"/></a>"
      ]
    },
    {
      "cell_type": "code",
      "source": [
        "import numpy as np\n",
        "import pandas as pd\n",
        "from google.colab import drive\n",
        "drive.mount('/content/drive')\n",
        "path = \"drive/MyDrive/2017_concat/Concat_2017.csv\""
      ],
      "metadata": {
        "colab": {
          "base_uri": "https://localhost:8080/"
        },
        "id": "DRDrt19b32xh",
        "outputId": "e8671e44-973a-409f-a8d4-531b24d32b4a"
      },
      "execution_count": null,
      "outputs": [
        {
          "output_type": "stream",
          "name": "stdout",
          "text": [
            "Mounted at /content/drive\n"
          ]
        }
      ]
    },
    {
      "cell_type": "code",
      "source": [
        "from sklearn import metrics"
      ],
      "metadata": {
        "id": "81TQqZBAKAwt"
      },
      "execution_count": null,
      "outputs": []
    },
    {
      "cell_type": "code",
      "source": [
        "df = pd.read_csv(path)\n",
        "working_hour_index = set()"
      ],
      "metadata": {
        "id": "WOWrQ8jR320e"
      },
      "execution_count": null,
      "outputs": []
    },
    {
      "cell_type": "code",
      "source": [
        "for i in range(0,24*60//5):\n",
        "  hour = int(df.loc[i][\"time\"][11:13])\n",
        "\n",
        "  if (9 <= hour <= 17):\n",
        "    working_hour_index.add(i)"
      ],
      "metadata": {
        "id": "ovSGtLr7323l"
      },
      "execution_count": null,
      "outputs": []
    },
    {
      "cell_type": "code",
      "source": [
        "all_index = list()\n",
        "for i in range(1,366):\n",
        "  for j in working_hour_index:\n",
        "    all_index.append(i*j)\n",
        "x = list()\n",
        "for i in all_index:\n",
        "  x.append(df.loc[i])\n",
        "df2 = pd.DataFrame()\n",
        "df2 = df2.append(x)\n",
        "df_corr = df2.corr()\n",
        "arr = df_corr.copy()\n",
        "arr"
      ],
      "metadata": {
        "colab": {
          "base_uri": "https://localhost:8080/",
          "height": 870
        },
        "id": "_Mn0L_Nn326T",
        "outputId": "09beea1c-8625-4fdb-d970-f0e244c0e154"
      },
      "execution_count": null,
      "outputs": [
        {
          "output_type": "execute_result",
          "data": {
            "text/html": [
              "\n",
              "  <div id=\"df-2f465679-da9a-4b3e-b040-1430f5955569\">\n",
              "    <div class=\"colab-df-container\">\n",
              "      <div>\n",
              "<style scoped>\n",
              "    .dataframe tbody tr th:only-of-type {\n",
              "        vertical-align: middle;\n",
              "    }\n",
              "\n",
              "    .dataframe tbody tr th {\n",
              "        vertical-align: top;\n",
              "    }\n",
              "\n",
              "    .dataframe thead th {\n",
              "        text-align: right;\n",
              "    }\n",
              "</style>\n",
              "<table border=\"1\" class=\"dataframe\">\n",
              "  <thead>\n",
              "    <tr style=\"text-align: right;\">\n",
              "      <th></th>\n",
              "      <th>drive/MyDrive/2017_v1/739_1_2017.csv</th>\n",
              "      <th>drive/MyDrive/2017_v1/482_1_2017.csv</th>\n",
              "      <th>drive/MyDrive/2017_v1/1920_1_2017.csv</th>\n",
              "      <th>drive/MyDrive/2017_v1/715_0_2017.csv</th>\n",
              "      <th>drive/MyDrive/2017_v1/1778_0_2017.csv</th>\n",
              "      <th>drive/MyDrive/2017_v1/722_1_2017.csv</th>\n",
              "      <th>drive/MyDrive/2017_v1/306_1_2017.csv</th>\n",
              "      <th>drive/MyDrive/2017_v1/1832_1_2017.csv</th>\n",
              "      <th>drive/MyDrive/2017_v1/1923_1_2017.csv</th>\n",
              "      <th>drive/MyDrive/2017_v1/603_1_2017.csv</th>\n",
              "      <th>drive/MyDrive/2017_v1/1868_1_2017.csv</th>\n",
              "      <th>drive/MyDrive/2017_v1/588_1_2017.csv</th>\n",
              "      <th>drive/MyDrive/2017_v1/485_1_2017.csv</th>\n",
              "      <th>drive/MyDrive/2017_v1/743_1_2017.csv</th>\n",
              "      <th>drive/MyDrive/2017_v1/380_1_2017.csv</th>\n",
              "      <th>drive/MyDrive/2017_v1/420_1_2017.csv</th>\n",
              "      <th>drive/MyDrive/2017_v1/1431_0_2017.csv</th>\n",
              "      <th>drive/MyDrive/2017_v1/931_0_2017.csv</th>\n",
              "      <th>drive/MyDrive/2017_v1/256_0_2017.csv</th>\n",
              "      <th>drive/MyDrive/2017_v1/1730_1_2017.csv</th>\n",
              "      <th>drive/MyDrive/2017_v1/452_0_2017.csv</th>\n",
              "      <th>drive/MyDrive/2017_v1/721_0_2017.csv</th>\n",
              "      <th>drive/MyDrive/2017_v1/1967_1_2017.csv</th>\n",
              "      <th>drive/MyDrive/2017_v1/187_1_2017.csv</th>\n",
              "      <th>drive/MyDrive/2017_v1/1746_0_2017.csv</th>\n",
              "      <th>drive/MyDrive/2017_v1/30_0_2017.csv</th>\n",
              "      <th>drive/MyDrive/2017_v1/70_1_2017.csv</th>\n",
              "      <th>drive/MyDrive/2017_v1/102_0_2017.csv</th>\n",
              "      <th>drive/MyDrive/2017_v1/601_0_2017.csv</th>\n",
              "      <th>drive/MyDrive/2017_v1/337_0_2017.csv</th>\n",
              "      <th>drive/MyDrive/2017_v1/694_0_2017.csv</th>\n",
              "      <th>drive/MyDrive/2017_v1/181_0_2017.csv</th>\n",
              "      <th>drive/MyDrive/2017_v1/641_0_2017.csv</th>\n",
              "      <th>drive/MyDrive/2017_v1/644_1_2017.csv</th>\n",
              "      <th>drive/MyDrive/2017_v1/203_0_2017.csv</th>\n",
              "      <th>drive/MyDrive/2017_v1/509_0_2017.csv</th>\n",
              "      <th>drive/MyDrive/2017_v1/326_0_2017.csv</th>\n",
              "      <th>drive/MyDrive/2017_v1/497_0_2017.csv</th>\n",
              "      <th>drive/MyDrive/2017_v1/880_0_2017.csv</th>\n",
              "      <th>drive/MyDrive/2017_v1/821_1_2017.csv</th>\n",
              "      <th>...</th>\n",
              "      <th>drive/MyDrive/2017_v1/726_1_2017.csv</th>\n",
              "      <th>drive/MyDrive/2017_v1/251_1_2017.csv</th>\n",
              "      <th>drive/MyDrive/2017_v1/83_0_2017.csv</th>\n",
              "      <th>drive/MyDrive/2017_v1/514_0_2017.csv</th>\n",
              "      <th>drive/MyDrive/2017_v1/1836_0_2017.csv</th>\n",
              "      <th>drive/MyDrive/2017_v1/504_1_2017.csv</th>\n",
              "      <th>drive/MyDrive/2017_v1/1438_1_2017.csv</th>\n",
              "      <th>drive/MyDrive/2017_v1/599_0_2017.csv</th>\n",
              "      <th>drive/MyDrive/2017_v1/1858_1_2017.csv</th>\n",
              "      <th>drive/MyDrive/2017_v1/638_1_2017.csv</th>\n",
              "      <th>drive/MyDrive/2017_v1/21_0_2017.csv</th>\n",
              "      <th>drive/MyDrive/2017_v1/480_1_2017.csv</th>\n",
              "      <th>drive/MyDrive/2017_v1/891_1_2017.csv</th>\n",
              "      <th>drive/MyDrive/2017_v1/399_1_2017.csv</th>\n",
              "      <th>drive/MyDrive/2017_v1/589_0_2017.csv</th>\n",
              "      <th>drive/MyDrive/2017_v1/1831_1_2017.csv</th>\n",
              "      <th>drive/MyDrive/2017_v1/750_0_2017.csv</th>\n",
              "      <th>drive/MyDrive/2017_v1/1440_1_2017.csv</th>\n",
              "      <th>drive/MyDrive/2017_v1/884_1_2017.csv</th>\n",
              "      <th>drive/MyDrive/2017_v1/387_1_2017.csv</th>\n",
              "      <th>drive/MyDrive/2017_v1/613_0_2017.csv</th>\n",
              "      <th>drive/MyDrive/2017_v1/529_0_2017.csv</th>\n",
              "      <th>drive/MyDrive/2017_v1/17_1_2017.csv</th>\n",
              "      <th>drive/MyDrive/2017_v1/453_1_2017.csv</th>\n",
              "      <th>drive/MyDrive/2017_v1/392_1_2017.csv</th>\n",
              "      <th>drive/MyDrive/2017_v1/740_0_2017.csv</th>\n",
              "      <th>drive/MyDrive/2017_v1/706_1_2017.csv</th>\n",
              "      <th>drive/MyDrive/2017_v1/881_1_2017.csv</th>\n",
              "      <th>drive/MyDrive/2017_v1/308_0_2017.csv</th>\n",
              "      <th>drive/MyDrive/2017_v1/279_0_2017.csv</th>\n",
              "      <th>drive/MyDrive/2017_v1/1837_0_2017.csv</th>\n",
              "      <th>drive/MyDrive/2017_v1/1853_0_2017.csv</th>\n",
              "      <th>drive/MyDrive/2017_v1/202_0_2017.csv</th>\n",
              "      <th>drive/MyDrive/2017_v1/1891_0_2017.csv</th>\n",
              "      <th>drive/MyDrive/2017_v1/619_1_2017.csv</th>\n",
              "      <th>drive/MyDrive/2017_v1/189_0_2017.csv</th>\n",
              "      <th>drive/MyDrive/2017_v1/1751_0_2017.csv</th>\n",
              "      <th>drive/MyDrive/2017_v1/641_1_2017.csv</th>\n",
              "      <th>drive/MyDrive/2017_v1/542_1_2017.csv</th>\n",
              "      <th>drive/MyDrive/2017_v1/714_1_2017.csv</th>\n",
              "    </tr>\n",
              "  </thead>\n",
              "  <tbody>\n",
              "    <tr>\n",
              "      <th>drive/MyDrive/2017_v1/739_1_2017.csv</th>\n",
              "      <td>1.000000</td>\n",
              "      <td>0.421214</td>\n",
              "      <td>0.248288</td>\n",
              "      <td>0.349638</td>\n",
              "      <td>0.576386</td>\n",
              "      <td>0.263268</td>\n",
              "      <td>0.104942</td>\n",
              "      <td>0.334351</td>\n",
              "      <td>0.251853</td>\n",
              "      <td>0.407058</td>\n",
              "      <td>0.312770</td>\n",
              "      <td>0.492331</td>\n",
              "      <td>0.572243</td>\n",
              "      <td>0.213575</td>\n",
              "      <td>0.422945</td>\n",
              "      <td>0.768130</td>\n",
              "      <td>0.328278</td>\n",
              "      <td>0.149913</td>\n",
              "      <td>0.176279</td>\n",
              "      <td>0.598589</td>\n",
              "      <td>0.485507</td>\n",
              "      <td>0.309744</td>\n",
              "      <td>0.108134</td>\n",
              "      <td>0.516384</td>\n",
              "      <td>0.455081</td>\n",
              "      <td>0.227851</td>\n",
              "      <td>0.660894</td>\n",
              "      <td>0.545947</td>\n",
              "      <td>0.522051</td>\n",
              "      <td>0.570046</td>\n",
              "      <td>0.140274</td>\n",
              "      <td>0.085181</td>\n",
              "      <td>0.286707</td>\n",
              "      <td>0.363359</td>\n",
              "      <td>0.413541</td>\n",
              "      <td>-0.044402</td>\n",
              "      <td>0.506225</td>\n",
              "      <td>0.365215</td>\n",
              "      <td>0.368951</td>\n",
              "      <td>-0.228541</td>\n",
              "      <td>...</td>\n",
              "      <td>0.297809</td>\n",
              "      <td>0.224090</td>\n",
              "      <td>0.366064</td>\n",
              "      <td>0.307258</td>\n",
              "      <td>0.331152</td>\n",
              "      <td>0.683509</td>\n",
              "      <td>0.315029</td>\n",
              "      <td>-0.249174</td>\n",
              "      <td>0.352583</td>\n",
              "      <td>0.468450</td>\n",
              "      <td>0.337245</td>\n",
              "      <td>0.442374</td>\n",
              "      <td>0.172770</td>\n",
              "      <td>0.341936</td>\n",
              "      <td>0.200008</td>\n",
              "      <td>-0.005622</td>\n",
              "      <td>0.415344</td>\n",
              "      <td>0.334598</td>\n",
              "      <td>0.132440</td>\n",
              "      <td>0.242499</td>\n",
              "      <td>0.586396</td>\n",
              "      <td>0.377120</td>\n",
              "      <td>-0.063907</td>\n",
              "      <td>0.643534</td>\n",
              "      <td>0.014860</td>\n",
              "      <td>0.622644</td>\n",
              "      <td>0.293240</td>\n",
              "      <td>0.101746</td>\n",
              "      <td>0.660047</td>\n",
              "      <td>0.227146</td>\n",
              "      <td>0.330777</td>\n",
              "      <td>0.203604</td>\n",
              "      <td>0.389544</td>\n",
              "      <td>0.345086</td>\n",
              "      <td>0.585942</td>\n",
              "      <td>0.591576</td>\n",
              "      <td>0.217797</td>\n",
              "      <td>0.271889</td>\n",
              "      <td>0.206095</td>\n",
              "      <td>0.168475</td>\n",
              "    </tr>\n",
              "    <tr>\n",
              "      <th>drive/MyDrive/2017_v1/482_1_2017.csv</th>\n",
              "      <td>0.421214</td>\n",
              "      <td>1.000000</td>\n",
              "      <td>0.439960</td>\n",
              "      <td>0.515520</td>\n",
              "      <td>0.569916</td>\n",
              "      <td>0.470160</td>\n",
              "      <td>0.249930</td>\n",
              "      <td>0.547975</td>\n",
              "      <td>0.445663</td>\n",
              "      <td>0.665962</td>\n",
              "      <td>0.544874</td>\n",
              "      <td>0.342326</td>\n",
              "      <td>0.736334</td>\n",
              "      <td>0.297189</td>\n",
              "      <td>0.580720</td>\n",
              "      <td>0.336433</td>\n",
              "      <td>0.559665</td>\n",
              "      <td>0.333401</td>\n",
              "      <td>0.391767</td>\n",
              "      <td>0.384098</td>\n",
              "      <td>0.622518</td>\n",
              "      <td>0.473261</td>\n",
              "      <td>0.199644</td>\n",
              "      <td>0.722341</td>\n",
              "      <td>0.338853</td>\n",
              "      <td>0.439981</td>\n",
              "      <td>0.627712</td>\n",
              "      <td>0.487628</td>\n",
              "      <td>0.560859</td>\n",
              "      <td>0.711739</td>\n",
              "      <td>0.403395</td>\n",
              "      <td>0.231069</td>\n",
              "      <td>0.539812</td>\n",
              "      <td>0.463773</td>\n",
              "      <td>0.611042</td>\n",
              "      <td>0.202770</td>\n",
              "      <td>0.637866</td>\n",
              "      <td>0.636612</td>\n",
              "      <td>0.362769</td>\n",
              "      <td>0.012461</td>\n",
              "      <td>...</td>\n",
              "      <td>0.560970</td>\n",
              "      <td>0.444624</td>\n",
              "      <td>0.152640</td>\n",
              "      <td>0.426272</td>\n",
              "      <td>0.565469</td>\n",
              "      <td>0.349873</td>\n",
              "      <td>0.538124</td>\n",
              "      <td>0.033690</td>\n",
              "      <td>0.581153</td>\n",
              "      <td>0.411328</td>\n",
              "      <td>0.562872</td>\n",
              "      <td>0.855041</td>\n",
              "      <td>0.366903</td>\n",
              "      <td>0.457181</td>\n",
              "      <td>0.260780</td>\n",
              "      <td>0.099667</td>\n",
              "      <td>0.277992</td>\n",
              "      <td>0.567178</td>\n",
              "      <td>0.241598</td>\n",
              "      <td>0.437217</td>\n",
              "      <td>0.566658</td>\n",
              "      <td>0.409962</td>\n",
              "      <td>0.171732</td>\n",
              "      <td>0.499073</td>\n",
              "      <td>0.229135</td>\n",
              "      <td>0.590868</td>\n",
              "      <td>0.520145</td>\n",
              "      <td>0.307461</td>\n",
              "      <td>0.537084</td>\n",
              "      <td>0.653069</td>\n",
              "      <td>0.568434</td>\n",
              "      <td>0.269668</td>\n",
              "      <td>0.612332</td>\n",
              "      <td>0.566923</td>\n",
              "      <td>0.769044</td>\n",
              "      <td>0.594907</td>\n",
              "      <td>0.411072</td>\n",
              "      <td>0.379271</td>\n",
              "      <td>0.179244</td>\n",
              "      <td>0.355681</td>\n",
              "    </tr>\n",
              "    <tr>\n",
              "      <th>drive/MyDrive/2017_v1/1920_1_2017.csv</th>\n",
              "      <td>0.248288</td>\n",
              "      <td>0.439960</td>\n",
              "      <td>1.000000</td>\n",
              "      <td>0.657453</td>\n",
              "      <td>0.490505</td>\n",
              "      <td>0.607172</td>\n",
              "      <td>0.420148</td>\n",
              "      <td>0.719151</td>\n",
              "      <td>0.937337</td>\n",
              "      <td>0.517813</td>\n",
              "      <td>0.747994</td>\n",
              "      <td>0.438799</td>\n",
              "      <td>0.372009</td>\n",
              "      <td>0.258483</td>\n",
              "      <td>0.663092</td>\n",
              "      <td>0.368563</td>\n",
              "      <td>0.717433</td>\n",
              "      <td>0.373428</td>\n",
              "      <td>0.601327</td>\n",
              "      <td>0.129173</td>\n",
              "      <td>0.521533</td>\n",
              "      <td>0.613400</td>\n",
              "      <td>0.196864</td>\n",
              "      <td>0.578179</td>\n",
              "      <td>0.390361</td>\n",
              "      <td>0.619840</td>\n",
              "      <td>0.467794</td>\n",
              "      <td>0.440089</td>\n",
              "      <td>0.616976</td>\n",
              "      <td>0.585588</td>\n",
              "      <td>0.554437</td>\n",
              "      <td>0.358121</td>\n",
              "      <td>0.543734</td>\n",
              "      <td>0.634170</td>\n",
              "      <td>0.681767</td>\n",
              "      <td>0.448987</td>\n",
              "      <td>0.705500</td>\n",
              "      <td>0.447570</td>\n",
              "      <td>0.330028</td>\n",
              "      <td>0.316429</td>\n",
              "      <td>...</td>\n",
              "      <td>0.695454</td>\n",
              "      <td>0.636886</td>\n",
              "      <td>0.305537</td>\n",
              "      <td>0.529197</td>\n",
              "      <td>0.751427</td>\n",
              "      <td>0.450033</td>\n",
              "      <td>0.705662</td>\n",
              "      <td>0.289777</td>\n",
              "      <td>0.765804</td>\n",
              "      <td>0.552716</td>\n",
              "      <td>0.745686</td>\n",
              "      <td>0.441419</td>\n",
              "      <td>0.519953</td>\n",
              "      <td>0.475175</td>\n",
              "      <td>0.437415</td>\n",
              "      <td>0.364731</td>\n",
              "      <td>0.214534</td>\n",
              "      <td>0.745779</td>\n",
              "      <td>0.304394</td>\n",
              "      <td>0.620781</td>\n",
              "      <td>0.567936</td>\n",
              "      <td>0.416599</td>\n",
              "      <td>0.432350</td>\n",
              "      <td>0.467087</td>\n",
              "      <td>0.482837</td>\n",
              "      <td>0.564394</td>\n",
              "      <td>0.681955</td>\n",
              "      <td>0.421731</td>\n",
              "      <td>0.476795</td>\n",
              "      <td>0.278961</td>\n",
              "      <td>0.755333</td>\n",
              "      <td>0.336088</td>\n",
              "      <td>0.723595</td>\n",
              "      <td>0.750073</td>\n",
              "      <td>0.531081</td>\n",
              "      <td>0.634270</td>\n",
              "      <td>0.611885</td>\n",
              "      <td>0.569530</td>\n",
              "      <td>0.240739</td>\n",
              "      <td>0.547625</td>\n",
              "    </tr>\n",
              "    <tr>\n",
              "      <th>drive/MyDrive/2017_v1/715_0_2017.csv</th>\n",
              "      <td>0.349638</td>\n",
              "      <td>0.515520</td>\n",
              "      <td>0.657453</td>\n",
              "      <td>1.000000</td>\n",
              "      <td>0.582834</td>\n",
              "      <td>0.758270</td>\n",
              "      <td>0.495880</td>\n",
              "      <td>0.807983</td>\n",
              "      <td>0.651760</td>\n",
              "      <td>0.666338</td>\n",
              "      <td>0.845641</td>\n",
              "      <td>0.532353</td>\n",
              "      <td>0.477447</td>\n",
              "      <td>0.347694</td>\n",
              "      <td>0.679965</td>\n",
              "      <td>0.436897</td>\n",
              "      <td>0.827632</td>\n",
              "      <td>0.480555</td>\n",
              "      <td>0.702926</td>\n",
              "      <td>0.213475</td>\n",
              "      <td>0.671519</td>\n",
              "      <td>0.857677</td>\n",
              "      <td>0.366917</td>\n",
              "      <td>0.709857</td>\n",
              "      <td>0.447015</td>\n",
              "      <td>0.676418</td>\n",
              "      <td>0.577915</td>\n",
              "      <td>0.539254</td>\n",
              "      <td>0.736087</td>\n",
              "      <td>0.615795</td>\n",
              "      <td>0.712796</td>\n",
              "      <td>0.418304</td>\n",
              "      <td>0.599745</td>\n",
              "      <td>0.755324</td>\n",
              "      <td>0.811555</td>\n",
              "      <td>0.492612</td>\n",
              "      <td>0.822573</td>\n",
              "      <td>0.563248</td>\n",
              "      <td>0.373245</td>\n",
              "      <td>0.357101</td>\n",
              "      <td>...</td>\n",
              "      <td>0.836614</td>\n",
              "      <td>0.653262</td>\n",
              "      <td>0.314021</td>\n",
              "      <td>0.654717</td>\n",
              "      <td>0.851880</td>\n",
              "      <td>0.545612</td>\n",
              "      <td>0.790309</td>\n",
              "      <td>0.315471</td>\n",
              "      <td>0.845863</td>\n",
              "      <td>0.652525</td>\n",
              "      <td>0.840919</td>\n",
              "      <td>0.525183</td>\n",
              "      <td>0.632369</td>\n",
              "      <td>0.586453</td>\n",
              "      <td>0.543314</td>\n",
              "      <td>0.305919</td>\n",
              "      <td>0.343577</td>\n",
              "      <td>0.828888</td>\n",
              "      <td>0.393841</td>\n",
              "      <td>0.585162</td>\n",
              "      <td>0.669542</td>\n",
              "      <td>0.539083</td>\n",
              "      <td>0.507322</td>\n",
              "      <td>0.576701</td>\n",
              "      <td>0.476452</td>\n",
              "      <td>0.725763</td>\n",
              "      <td>0.853007</td>\n",
              "      <td>0.546599</td>\n",
              "      <td>0.608607</td>\n",
              "      <td>0.423193</td>\n",
              "      <td>0.855299</td>\n",
              "      <td>0.462831</td>\n",
              "      <td>0.843238</td>\n",
              "      <td>0.863300</td>\n",
              "      <td>0.648053</td>\n",
              "      <td>0.776226</td>\n",
              "      <td>0.671445</td>\n",
              "      <td>0.659308</td>\n",
              "      <td>0.284090</td>\n",
              "      <td>0.498717</td>\n",
              "    </tr>\n",
              "    <tr>\n",
              "      <th>drive/MyDrive/2017_v1/1778_0_2017.csv</th>\n",
              "      <td>0.576386</td>\n",
              "      <td>0.569916</td>\n",
              "      <td>0.490505</td>\n",
              "      <td>0.582834</td>\n",
              "      <td>1.000000</td>\n",
              "      <td>0.464860</td>\n",
              "      <td>0.247255</td>\n",
              "      <td>0.607372</td>\n",
              "      <td>0.491198</td>\n",
              "      <td>0.592950</td>\n",
              "      <td>0.605134</td>\n",
              "      <td>0.553047</td>\n",
              "      <td>0.585710</td>\n",
              "      <td>0.236752</td>\n",
              "      <td>0.626273</td>\n",
              "      <td>0.593997</td>\n",
              "      <td>0.604443</td>\n",
              "      <td>0.327231</td>\n",
              "      <td>0.375191</td>\n",
              "      <td>0.598499</td>\n",
              "      <td>0.669493</td>\n",
              "      <td>0.526981</td>\n",
              "      <td>0.168265</td>\n",
              "      <td>0.674253</td>\n",
              "      <td>0.419311</td>\n",
              "      <td>0.412377</td>\n",
              "      <td>0.749934</td>\n",
              "      <td>0.612978</td>\n",
              "      <td>0.633549</td>\n",
              "      <td>0.695760</td>\n",
              "      <td>0.356277</td>\n",
              "      <td>0.133384</td>\n",
              "      <td>0.480899</td>\n",
              "      <td>0.538270</td>\n",
              "      <td>0.686720</td>\n",
              "      <td>0.094535</td>\n",
              "      <td>0.723168</td>\n",
              "      <td>0.598872</td>\n",
              "      <td>0.390302</td>\n",
              "      <td>-0.156794</td>\n",
              "      <td>...</td>\n",
              "      <td>0.532975</td>\n",
              "      <td>0.479112</td>\n",
              "      <td>0.359617</td>\n",
              "      <td>0.466985</td>\n",
              "      <td>0.615274</td>\n",
              "      <td>0.547551</td>\n",
              "      <td>0.576626</td>\n",
              "      <td>-0.173015</td>\n",
              "      <td>0.643826</td>\n",
              "      <td>0.529065</td>\n",
              "      <td>0.588956</td>\n",
              "      <td>0.605053</td>\n",
              "      <td>0.320844</td>\n",
              "      <td>0.457366</td>\n",
              "      <td>0.288721</td>\n",
              "      <td>0.186356</td>\n",
              "      <td>0.389465</td>\n",
              "      <td>0.618587</td>\n",
              "      <td>0.184116</td>\n",
              "      <td>0.452037</td>\n",
              "      <td>0.662457</td>\n",
              "      <td>0.442558</td>\n",
              "      <td>0.080711</td>\n",
              "      <td>0.601780</td>\n",
              "      <td>0.193280</td>\n",
              "      <td>0.718098</td>\n",
              "      <td>0.518704</td>\n",
              "      <td>0.193783</td>\n",
              "      <td>0.673559</td>\n",
              "      <td>0.372316</td>\n",
              "      <td>0.618254</td>\n",
              "      <td>0.270679</td>\n",
              "      <td>0.669694</td>\n",
              "      <td>0.618793</td>\n",
              "      <td>0.680272</td>\n",
              "      <td>0.698578</td>\n",
              "      <td>0.407328</td>\n",
              "      <td>0.429662</td>\n",
              "      <td>0.193670</td>\n",
              "      <td>0.341687</td>\n",
              "    </tr>\n",
              "    <tr>\n",
              "      <th>...</th>\n",
              "      <td>...</td>\n",
              "      <td>...</td>\n",
              "      <td>...</td>\n",
              "      <td>...</td>\n",
              "      <td>...</td>\n",
              "      <td>...</td>\n",
              "      <td>...</td>\n",
              "      <td>...</td>\n",
              "      <td>...</td>\n",
              "      <td>...</td>\n",
              "      <td>...</td>\n",
              "      <td>...</td>\n",
              "      <td>...</td>\n",
              "      <td>...</td>\n",
              "      <td>...</td>\n",
              "      <td>...</td>\n",
              "      <td>...</td>\n",
              "      <td>...</td>\n",
              "      <td>...</td>\n",
              "      <td>...</td>\n",
              "      <td>...</td>\n",
              "      <td>...</td>\n",
              "      <td>...</td>\n",
              "      <td>...</td>\n",
              "      <td>...</td>\n",
              "      <td>...</td>\n",
              "      <td>...</td>\n",
              "      <td>...</td>\n",
              "      <td>...</td>\n",
              "      <td>...</td>\n",
              "      <td>...</td>\n",
              "      <td>...</td>\n",
              "      <td>...</td>\n",
              "      <td>...</td>\n",
              "      <td>...</td>\n",
              "      <td>...</td>\n",
              "      <td>...</td>\n",
              "      <td>...</td>\n",
              "      <td>...</td>\n",
              "      <td>...</td>\n",
              "      <td>...</td>\n",
              "      <td>...</td>\n",
              "      <td>...</td>\n",
              "      <td>...</td>\n",
              "      <td>...</td>\n",
              "      <td>...</td>\n",
              "      <td>...</td>\n",
              "      <td>...</td>\n",
              "      <td>...</td>\n",
              "      <td>...</td>\n",
              "      <td>...</td>\n",
              "      <td>...</td>\n",
              "      <td>...</td>\n",
              "      <td>...</td>\n",
              "      <td>...</td>\n",
              "      <td>...</td>\n",
              "      <td>...</td>\n",
              "      <td>...</td>\n",
              "      <td>...</td>\n",
              "      <td>...</td>\n",
              "      <td>...</td>\n",
              "      <td>...</td>\n",
              "      <td>...</td>\n",
              "      <td>...</td>\n",
              "      <td>...</td>\n",
              "      <td>...</td>\n",
              "      <td>...</td>\n",
              "      <td>...</td>\n",
              "      <td>...</td>\n",
              "      <td>...</td>\n",
              "      <td>...</td>\n",
              "      <td>...</td>\n",
              "      <td>...</td>\n",
              "      <td>...</td>\n",
              "      <td>...</td>\n",
              "      <td>...</td>\n",
              "      <td>...</td>\n",
              "      <td>...</td>\n",
              "      <td>...</td>\n",
              "      <td>...</td>\n",
              "      <td>...</td>\n",
              "    </tr>\n",
              "    <tr>\n",
              "      <th>drive/MyDrive/2017_v1/189_0_2017.csv</th>\n",
              "      <td>0.591576</td>\n",
              "      <td>0.594907</td>\n",
              "      <td>0.634270</td>\n",
              "      <td>0.776226</td>\n",
              "      <td>0.698578</td>\n",
              "      <td>0.685815</td>\n",
              "      <td>0.424912</td>\n",
              "      <td>0.776553</td>\n",
              "      <td>0.631726</td>\n",
              "      <td>0.714617</td>\n",
              "      <td>0.791827</td>\n",
              "      <td>0.627596</td>\n",
              "      <td>0.611258</td>\n",
              "      <td>0.371697</td>\n",
              "      <td>0.742003</td>\n",
              "      <td>0.665379</td>\n",
              "      <td>0.777776</td>\n",
              "      <td>0.433985</td>\n",
              "      <td>0.628242</td>\n",
              "      <td>0.414071</td>\n",
              "      <td>0.710027</td>\n",
              "      <td>0.741029</td>\n",
              "      <td>0.346131</td>\n",
              "      <td>0.797122</td>\n",
              "      <td>0.580193</td>\n",
              "      <td>0.664771</td>\n",
              "      <td>0.735486</td>\n",
              "      <td>0.669452</td>\n",
              "      <td>0.820387</td>\n",
              "      <td>0.754765</td>\n",
              "      <td>0.593558</td>\n",
              "      <td>0.377239</td>\n",
              "      <td>0.592004</td>\n",
              "      <td>0.756210</td>\n",
              "      <td>0.817881</td>\n",
              "      <td>0.376904</td>\n",
              "      <td>0.857246</td>\n",
              "      <td>0.589743</td>\n",
              "      <td>0.447085</td>\n",
              "      <td>0.180680</td>\n",
              "      <td>...</td>\n",
              "      <td>0.770325</td>\n",
              "      <td>0.599231</td>\n",
              "      <td>0.388012</td>\n",
              "      <td>0.643729</td>\n",
              "      <td>0.804981</td>\n",
              "      <td>0.716072</td>\n",
              "      <td>0.757145</td>\n",
              "      <td>0.152457</td>\n",
              "      <td>0.806476</td>\n",
              "      <td>0.725106</td>\n",
              "      <td>0.810205</td>\n",
              "      <td>0.621718</td>\n",
              "      <td>0.575612</td>\n",
              "      <td>0.614108</td>\n",
              "      <td>0.485161</td>\n",
              "      <td>0.273701</td>\n",
              "      <td>0.409066</td>\n",
              "      <td>0.792940</td>\n",
              "      <td>0.363416</td>\n",
              "      <td>0.605531</td>\n",
              "      <td>0.786890</td>\n",
              "      <td>0.567919</td>\n",
              "      <td>0.350047</td>\n",
              "      <td>0.734960</td>\n",
              "      <td>0.406823</td>\n",
              "      <td>0.815766</td>\n",
              "      <td>0.767249</td>\n",
              "      <td>0.460920</td>\n",
              "      <td>0.786126</td>\n",
              "      <td>0.409062</td>\n",
              "      <td>0.808248</td>\n",
              "      <td>0.467166</td>\n",
              "      <td>0.836507</td>\n",
              "      <td>0.818570</td>\n",
              "      <td>0.778433</td>\n",
              "      <td>1.000000</td>\n",
              "      <td>0.632754</td>\n",
              "      <td>0.642934</td>\n",
              "      <td>0.324067</td>\n",
              "      <td>0.503379</td>\n",
              "    </tr>\n",
              "    <tr>\n",
              "      <th>drive/MyDrive/2017_v1/1751_0_2017.csv</th>\n",
              "      <td>0.217797</td>\n",
              "      <td>0.411072</td>\n",
              "      <td>0.611885</td>\n",
              "      <td>0.671445</td>\n",
              "      <td>0.407328</td>\n",
              "      <td>0.637700</td>\n",
              "      <td>0.481915</td>\n",
              "      <td>0.682756</td>\n",
              "      <td>0.605810</td>\n",
              "      <td>0.600567</td>\n",
              "      <td>0.711156</td>\n",
              "      <td>0.424883</td>\n",
              "      <td>0.352582</td>\n",
              "      <td>0.304899</td>\n",
              "      <td>0.622674</td>\n",
              "      <td>0.323881</td>\n",
              "      <td>0.705525</td>\n",
              "      <td>0.376131</td>\n",
              "      <td>0.669402</td>\n",
              "      <td>0.081568</td>\n",
              "      <td>0.522411</td>\n",
              "      <td>0.649383</td>\n",
              "      <td>0.425831</td>\n",
              "      <td>0.582622</td>\n",
              "      <td>0.432986</td>\n",
              "      <td>0.658159</td>\n",
              "      <td>0.452065</td>\n",
              "      <td>0.433120</td>\n",
              "      <td>0.598866</td>\n",
              "      <td>0.549602</td>\n",
              "      <td>0.605723</td>\n",
              "      <td>0.401836</td>\n",
              "      <td>0.532088</td>\n",
              "      <td>0.616318</td>\n",
              "      <td>0.685699</td>\n",
              "      <td>0.572064</td>\n",
              "      <td>0.684567</td>\n",
              "      <td>0.437183</td>\n",
              "      <td>0.308637</td>\n",
              "      <td>0.391704</td>\n",
              "      <td>...</td>\n",
              "      <td>0.711781</td>\n",
              "      <td>0.502213</td>\n",
              "      <td>0.220719</td>\n",
              "      <td>0.763259</td>\n",
              "      <td>0.752110</td>\n",
              "      <td>0.434848</td>\n",
              "      <td>0.692989</td>\n",
              "      <td>0.373102</td>\n",
              "      <td>0.704251</td>\n",
              "      <td>0.499434</td>\n",
              "      <td>0.739184</td>\n",
              "      <td>0.430321</td>\n",
              "      <td>0.594310</td>\n",
              "      <td>0.528486</td>\n",
              "      <td>0.488505</td>\n",
              "      <td>0.307454</td>\n",
              "      <td>0.260671</td>\n",
              "      <td>0.715682</td>\n",
              "      <td>0.391972</td>\n",
              "      <td>0.582109</td>\n",
              "      <td>0.546241</td>\n",
              "      <td>0.451419</td>\n",
              "      <td>0.483600</td>\n",
              "      <td>0.466999</td>\n",
              "      <td>0.484174</td>\n",
              "      <td>0.537157</td>\n",
              "      <td>0.701151</td>\n",
              "      <td>0.515914</td>\n",
              "      <td>0.481237</td>\n",
              "      <td>0.363090</td>\n",
              "      <td>0.755064</td>\n",
              "      <td>0.565124</td>\n",
              "      <td>0.729767</td>\n",
              "      <td>0.759072</td>\n",
              "      <td>0.502414</td>\n",
              "      <td>0.632754</td>\n",
              "      <td>1.000000</td>\n",
              "      <td>0.554176</td>\n",
              "      <td>0.262835</td>\n",
              "      <td>0.475929</td>\n",
              "    </tr>\n",
              "    <tr>\n",
              "      <th>drive/MyDrive/2017_v1/641_1_2017.csv</th>\n",
              "      <td>0.271889</td>\n",
              "      <td>0.379271</td>\n",
              "      <td>0.569530</td>\n",
              "      <td>0.659308</td>\n",
              "      <td>0.429662</td>\n",
              "      <td>0.598454</td>\n",
              "      <td>0.416475</td>\n",
              "      <td>0.645433</td>\n",
              "      <td>0.570554</td>\n",
              "      <td>0.511581</td>\n",
              "      <td>0.672000</td>\n",
              "      <td>0.443231</td>\n",
              "      <td>0.338474</td>\n",
              "      <td>0.242793</td>\n",
              "      <td>0.568115</td>\n",
              "      <td>0.407931</td>\n",
              "      <td>0.648459</td>\n",
              "      <td>0.329051</td>\n",
              "      <td>0.582004</td>\n",
              "      <td>0.113424</td>\n",
              "      <td>0.467750</td>\n",
              "      <td>0.656865</td>\n",
              "      <td>0.280756</td>\n",
              "      <td>0.542757</td>\n",
              "      <td>0.436594</td>\n",
              "      <td>0.572600</td>\n",
              "      <td>0.421307</td>\n",
              "      <td>0.427308</td>\n",
              "      <td>0.612352</td>\n",
              "      <td>0.532526</td>\n",
              "      <td>0.619260</td>\n",
              "      <td>0.338908</td>\n",
              "      <td>0.565080</td>\n",
              "      <td>0.858916</td>\n",
              "      <td>0.641088</td>\n",
              "      <td>0.425389</td>\n",
              "      <td>0.654140</td>\n",
              "      <td>0.365067</td>\n",
              "      <td>0.317182</td>\n",
              "      <td>0.338376</td>\n",
              "      <td>...</td>\n",
              "      <td>0.657012</td>\n",
              "      <td>0.523508</td>\n",
              "      <td>0.258042</td>\n",
              "      <td>0.546018</td>\n",
              "      <td>0.702638</td>\n",
              "      <td>0.496512</td>\n",
              "      <td>0.637956</td>\n",
              "      <td>0.324875</td>\n",
              "      <td>0.674028</td>\n",
              "      <td>0.716281</td>\n",
              "      <td>0.698308</td>\n",
              "      <td>0.421240</td>\n",
              "      <td>0.535119</td>\n",
              "      <td>0.445961</td>\n",
              "      <td>0.447890</td>\n",
              "      <td>0.260041</td>\n",
              "      <td>0.231723</td>\n",
              "      <td>0.670889</td>\n",
              "      <td>0.362699</td>\n",
              "      <td>0.516133</td>\n",
              "      <td>0.575500</td>\n",
              "      <td>0.419386</td>\n",
              "      <td>0.446985</td>\n",
              "      <td>0.507200</td>\n",
              "      <td>0.413398</td>\n",
              "      <td>0.545556</td>\n",
              "      <td>0.658456</td>\n",
              "      <td>0.441689</td>\n",
              "      <td>0.525908</td>\n",
              "      <td>0.271564</td>\n",
              "      <td>0.706411</td>\n",
              "      <td>0.400113</td>\n",
              "      <td>0.680137</td>\n",
              "      <td>0.699987</td>\n",
              "      <td>0.509592</td>\n",
              "      <td>0.642934</td>\n",
              "      <td>0.554176</td>\n",
              "      <td>1.000000</td>\n",
              "      <td>0.206512</td>\n",
              "      <td>0.449027</td>\n",
              "    </tr>\n",
              "    <tr>\n",
              "      <th>drive/MyDrive/2017_v1/542_1_2017.csv</th>\n",
              "      <td>0.206095</td>\n",
              "      <td>0.179244</td>\n",
              "      <td>0.240739</td>\n",
              "      <td>0.284090</td>\n",
              "      <td>0.193670</td>\n",
              "      <td>0.259946</td>\n",
              "      <td>0.142320</td>\n",
              "      <td>0.276612</td>\n",
              "      <td>0.238481</td>\n",
              "      <td>0.249631</td>\n",
              "      <td>0.259939</td>\n",
              "      <td>0.311662</td>\n",
              "      <td>0.240166</td>\n",
              "      <td>0.268149</td>\n",
              "      <td>0.292824</td>\n",
              "      <td>0.254412</td>\n",
              "      <td>0.282393</td>\n",
              "      <td>0.171639</td>\n",
              "      <td>0.246024</td>\n",
              "      <td>0.165738</td>\n",
              "      <td>0.252116</td>\n",
              "      <td>0.289245</td>\n",
              "      <td>0.117568</td>\n",
              "      <td>0.239206</td>\n",
              "      <td>0.266886</td>\n",
              "      <td>0.276940</td>\n",
              "      <td>0.308881</td>\n",
              "      <td>0.240301</td>\n",
              "      <td>0.347136</td>\n",
              "      <td>0.234938</td>\n",
              "      <td>0.230515</td>\n",
              "      <td>0.147065</td>\n",
              "      <td>0.171162</td>\n",
              "      <td>0.257800</td>\n",
              "      <td>0.287793</td>\n",
              "      <td>0.188257</td>\n",
              "      <td>0.310930</td>\n",
              "      <td>0.192554</td>\n",
              "      <td>0.232550</td>\n",
              "      <td>0.152282</td>\n",
              "      <td>...</td>\n",
              "      <td>0.268322</td>\n",
              "      <td>0.225134</td>\n",
              "      <td>0.163657</td>\n",
              "      <td>0.272604</td>\n",
              "      <td>0.280969</td>\n",
              "      <td>0.344400</td>\n",
              "      <td>0.266665</td>\n",
              "      <td>0.084109</td>\n",
              "      <td>0.282727</td>\n",
              "      <td>0.266215</td>\n",
              "      <td>0.290176</td>\n",
              "      <td>0.180158</td>\n",
              "      <td>0.283939</td>\n",
              "      <td>0.319227</td>\n",
              "      <td>0.377975</td>\n",
              "      <td>0.143259</td>\n",
              "      <td>0.294722</td>\n",
              "      <td>0.281029</td>\n",
              "      <td>0.136009</td>\n",
              "      <td>0.234039</td>\n",
              "      <td>0.309153</td>\n",
              "      <td>0.350089</td>\n",
              "      <td>0.143323</td>\n",
              "      <td>0.287081</td>\n",
              "      <td>0.167916</td>\n",
              "      <td>0.291668</td>\n",
              "      <td>0.290012</td>\n",
              "      <td>0.248229</td>\n",
              "      <td>0.282802</td>\n",
              "      <td>0.133675</td>\n",
              "      <td>0.283160</td>\n",
              "      <td>0.147141</td>\n",
              "      <td>0.294023</td>\n",
              "      <td>0.281743</td>\n",
              "      <td>0.283573</td>\n",
              "      <td>0.324067</td>\n",
              "      <td>0.262835</td>\n",
              "      <td>0.206512</td>\n",
              "      <td>1.000000</td>\n",
              "      <td>0.187654</td>\n",
              "    </tr>\n",
              "    <tr>\n",
              "      <th>drive/MyDrive/2017_v1/714_1_2017.csv</th>\n",
              "      <td>0.168475</td>\n",
              "      <td>0.355681</td>\n",
              "      <td>0.547625</td>\n",
              "      <td>0.498717</td>\n",
              "      <td>0.341687</td>\n",
              "      <td>0.485786</td>\n",
              "      <td>0.371350</td>\n",
              "      <td>0.533306</td>\n",
              "      <td>0.555051</td>\n",
              "      <td>0.373414</td>\n",
              "      <td>0.560911</td>\n",
              "      <td>0.288134</td>\n",
              "      <td>0.290062</td>\n",
              "      <td>0.250307</td>\n",
              "      <td>0.595210</td>\n",
              "      <td>0.230958</td>\n",
              "      <td>0.492569</td>\n",
              "      <td>0.244726</td>\n",
              "      <td>0.534365</td>\n",
              "      <td>0.051135</td>\n",
              "      <td>0.406070</td>\n",
              "      <td>0.469737</td>\n",
              "      <td>0.101725</td>\n",
              "      <td>0.446508</td>\n",
              "      <td>0.274417</td>\n",
              "      <td>0.601313</td>\n",
              "      <td>0.327528</td>\n",
              "      <td>0.402009</td>\n",
              "      <td>0.476590</td>\n",
              "      <td>0.478903</td>\n",
              "      <td>0.433004</td>\n",
              "      <td>0.359398</td>\n",
              "      <td>0.411926</td>\n",
              "      <td>0.501129</td>\n",
              "      <td>0.515659</td>\n",
              "      <td>0.348677</td>\n",
              "      <td>0.518140</td>\n",
              "      <td>0.319493</td>\n",
              "      <td>0.357518</td>\n",
              "      <td>0.287677</td>\n",
              "      <td>...</td>\n",
              "      <td>0.557545</td>\n",
              "      <td>0.473634</td>\n",
              "      <td>0.259264</td>\n",
              "      <td>0.374477</td>\n",
              "      <td>0.551813</td>\n",
              "      <td>0.308159</td>\n",
              "      <td>0.506454</td>\n",
              "      <td>0.233225</td>\n",
              "      <td>0.565220</td>\n",
              "      <td>0.448646</td>\n",
              "      <td>0.566301</td>\n",
              "      <td>0.342586</td>\n",
              "      <td>0.448360</td>\n",
              "      <td>0.391135</td>\n",
              "      <td>0.327596</td>\n",
              "      <td>0.344939</td>\n",
              "      <td>0.152615</td>\n",
              "      <td>0.535247</td>\n",
              "      <td>0.227380</td>\n",
              "      <td>0.658395</td>\n",
              "      <td>0.396597</td>\n",
              "      <td>0.316622</td>\n",
              "      <td>0.327817</td>\n",
              "      <td>0.333275</td>\n",
              "      <td>0.473950</td>\n",
              "      <td>0.421512</td>\n",
              "      <td>0.515477</td>\n",
              "      <td>0.349884</td>\n",
              "      <td>0.389586</td>\n",
              "      <td>0.182898</td>\n",
              "      <td>0.554489</td>\n",
              "      <td>0.222062</td>\n",
              "      <td>0.548981</td>\n",
              "      <td>0.559562</td>\n",
              "      <td>0.400464</td>\n",
              "      <td>0.503379</td>\n",
              "      <td>0.475929</td>\n",
              "      <td>0.449027</td>\n",
              "      <td>0.187654</td>\n",
              "      <td>1.000000</td>\n",
              "    </tr>\n",
              "  </tbody>\n",
              "</table>\n",
              "<p>1466 rows × 1466 columns</p>\n",
              "</div>\n",
              "      <button class=\"colab-df-convert\" onclick=\"convertToInteractive('df-2f465679-da9a-4b3e-b040-1430f5955569')\"\n",
              "              title=\"Convert this dataframe to an interactive table.\"\n",
              "              style=\"display:none;\">\n",
              "        \n",
              "  <svg xmlns=\"http://www.w3.org/2000/svg\" height=\"24px\"viewBox=\"0 0 24 24\"\n",
              "       width=\"24px\">\n",
              "    <path d=\"M0 0h24v24H0V0z\" fill=\"none\"/>\n",
              "    <path d=\"M18.56 5.44l.94 2.06.94-2.06 2.06-.94-2.06-.94-.94-2.06-.94 2.06-2.06.94zm-11 1L8.5 8.5l.94-2.06 2.06-.94-2.06-.94L8.5 2.5l-.94 2.06-2.06.94zm10 10l.94 2.06.94-2.06 2.06-.94-2.06-.94-.94-2.06-.94 2.06-2.06.94z\"/><path d=\"M17.41 7.96l-1.37-1.37c-.4-.4-.92-.59-1.43-.59-.52 0-1.04.2-1.43.59L10.3 9.45l-7.72 7.72c-.78.78-.78 2.05 0 2.83L4 21.41c.39.39.9.59 1.41.59.51 0 1.02-.2 1.41-.59l7.78-7.78 2.81-2.81c.8-.78.8-2.07 0-2.86zM5.41 20L4 18.59l7.72-7.72 1.47 1.35L5.41 20z\"/>\n",
              "  </svg>\n",
              "      </button>\n",
              "      \n",
              "  <style>\n",
              "    .colab-df-container {\n",
              "      display:flex;\n",
              "      flex-wrap:wrap;\n",
              "      gap: 12px;\n",
              "    }\n",
              "\n",
              "    .colab-df-convert {\n",
              "      background-color: #E8F0FE;\n",
              "      border: none;\n",
              "      border-radius: 50%;\n",
              "      cursor: pointer;\n",
              "      display: none;\n",
              "      fill: #1967D2;\n",
              "      height: 32px;\n",
              "      padding: 0 0 0 0;\n",
              "      width: 32px;\n",
              "    }\n",
              "\n",
              "    .colab-df-convert:hover {\n",
              "      background-color: #E2EBFA;\n",
              "      box-shadow: 0px 1px 2px rgba(60, 64, 67, 0.3), 0px 1px 3px 1px rgba(60, 64, 67, 0.15);\n",
              "      fill: #174EA6;\n",
              "    }\n",
              "\n",
              "    [theme=dark] .colab-df-convert {\n",
              "      background-color: #3B4455;\n",
              "      fill: #D2E3FC;\n",
              "    }\n",
              "\n",
              "    [theme=dark] .colab-df-convert:hover {\n",
              "      background-color: #434B5C;\n",
              "      box-shadow: 0px 1px 3px 1px rgba(0, 0, 0, 0.15);\n",
              "      filter: drop-shadow(0px 1px 2px rgba(0, 0, 0, 0.3));\n",
              "      fill: #FFFFFF;\n",
              "    }\n",
              "  </style>\n",
              "\n",
              "      <script>\n",
              "        const buttonEl =\n",
              "          document.querySelector('#df-2f465679-da9a-4b3e-b040-1430f5955569 button.colab-df-convert');\n",
              "        buttonEl.style.display =\n",
              "          google.colab.kernel.accessAllowed ? 'block' : 'none';\n",
              "\n",
              "        async function convertToInteractive(key) {\n",
              "          const element = document.querySelector('#df-2f465679-da9a-4b3e-b040-1430f5955569');\n",
              "          const dataTable =\n",
              "            await google.colab.kernel.invokeFunction('convertToInteractive',\n",
              "                                                     [key], {});\n",
              "          if (!dataTable) return;\n",
              "\n",
              "          const docLinkHtml = 'Like what you see? Visit the ' +\n",
              "            '<a target=\"_blank\" href=https://colab.research.google.com/notebooks/data_table.ipynb>data table notebook</a>'\n",
              "            + ' to learn more about interactive tables.';\n",
              "          element.innerHTML = '';\n",
              "          dataTable['output_type'] = 'display_data';\n",
              "          await google.colab.output.renderOutput(dataTable, element);\n",
              "          const docLink = document.createElement('div');\n",
              "          docLink.innerHTML = docLinkHtml;\n",
              "          element.appendChild(docLink);\n",
              "        }\n",
              "      </script>\n",
              "    </div>\n",
              "  </div>\n",
              "  "
            ],
            "text/plain": [
              "                                       drive/MyDrive/2017_v1/739_1_2017.csv  ...  drive/MyDrive/2017_v1/714_1_2017.csv\n",
              "drive/MyDrive/2017_v1/739_1_2017.csv                               1.000000  ...                              0.168475\n",
              "drive/MyDrive/2017_v1/482_1_2017.csv                               0.421214  ...                              0.355681\n",
              "drive/MyDrive/2017_v1/1920_1_2017.csv                              0.248288  ...                              0.547625\n",
              "drive/MyDrive/2017_v1/715_0_2017.csv                               0.349638  ...                              0.498717\n",
              "drive/MyDrive/2017_v1/1778_0_2017.csv                              0.576386  ...                              0.341687\n",
              "...                                                                     ...  ...                                   ...\n",
              "drive/MyDrive/2017_v1/189_0_2017.csv                               0.591576  ...                              0.503379\n",
              "drive/MyDrive/2017_v1/1751_0_2017.csv                              0.217797  ...                              0.475929\n",
              "drive/MyDrive/2017_v1/641_1_2017.csv                               0.271889  ...                              0.449027\n",
              "drive/MyDrive/2017_v1/542_1_2017.csv                               0.206095  ...                              0.187654\n",
              "drive/MyDrive/2017_v1/714_1_2017.csv                               0.168475  ...                              1.000000\n",
              "\n",
              "[1466 rows x 1466 columns]"
            ]
          },
          "metadata": {},
          "execution_count": 5
        }
      ]
    },
    {
      "cell_type": "code",
      "source": [
        "cols = list(arr.columns)\n",
        "corr = np.array(arr)\n",
        "corr"
      ],
      "metadata": {
        "colab": {
          "base_uri": "https://localhost:8080/"
        },
        "id": "fQ7Y51Ah3280",
        "outputId": "e4b47803-de43-4c93-e575-fa92398d8377"
      },
      "execution_count": null,
      "outputs": [
        {
          "output_type": "execute_result",
          "data": {
            "text/plain": [
              "array([[1.        , 0.42121434, 0.24828837, ..., 0.27188875, 0.20609494,\n",
              "        0.16847547],\n",
              "       [0.42121434, 1.        , 0.43995997, ..., 0.37927069, 0.17924396,\n",
              "        0.35568092],\n",
              "       [0.24828837, 0.43995997, 1.        , ..., 0.56953003, 0.24073915,\n",
              "        0.54762531],\n",
              "       ...,\n",
              "       [0.27188875, 0.37927069, 0.56953003, ..., 1.        , 0.2065122 ,\n",
              "        0.44902698],\n",
              "       [0.20609494, 0.17924396, 0.24073915, ..., 0.2065122 , 1.        ,\n",
              "        0.18765366],\n",
              "       [0.16847547, 0.35568092, 0.54762531, ..., 0.44902698, 0.18765366,\n",
              "        1.        ]])"
            ]
          },
          "metadata": {},
          "execution_count": 6
        }
      ]
    },
    {
      "cell_type": "code",
      "source": [
        "from scipy.cluster.hierarchy import linkage, fcluster,dendrogram\n",
        "from scipy.spatial.distance import squareform\n",
        "corr = (corr + corr.T)/2  # making symmetric\n",
        "np.fill_diagonal(corr, 1) # making diagonal 1\n",
        "dissimilarity = 1 - np.abs(corr)"
      ],
      "metadata": {
        "id": "l4sqJrVF32_t"
      },
      "execution_count": null,
      "outputs": []
    },
    {
      "cell_type": "code",
      "source": [
        "from collections import defaultdict"
      ],
      "metadata": {
        "id": "gQHmjyKO33Cj"
      },
      "execution_count": null,
      "outputs": []
    },
    {
      "cell_type": "code",
      "source": [
        "hierarchy = linkage(squareform(dissimilarity), method='single')\n",
        "labels = fcluster(hierarchy, 0.7, criterion='distance')\n",
        "labels.max()"
      ],
      "metadata": {
        "colab": {
          "base_uri": "https://localhost:8080/"
        },
        "id": "TnnWa3Cv33FM",
        "outputId": "405340c7-3d16-48de-f13d-cd83fb8ae549"
      },
      "execution_count": null,
      "outputs": [
        {
          "output_type": "execute_result",
          "data": {
            "text/plain": [
              "4"
            ]
          },
          "metadata": {},
          "execution_count": 9
        }
      ]
    },
    {
      "cell_type": "code",
      "source": [
        "metrics.silhouette_score(corr, labels, metric='euclidean')"
      ],
      "metadata": {
        "colab": {
          "base_uri": "https://localhost:8080/"
        },
        "id": "Whk2RkK3LmJ9",
        "outputId": "d76ee8e6-b057-4420-ed22-ab3447541ad0"
      },
      "execution_count": null,
      "outputs": [
        {
          "output_type": "execute_result",
          "data": {
            "text/plain": [
              "0.1954604050443381"
            ]
          },
          "metadata": {},
          "execution_count": 10
        }
      ]
    },
    {
      "cell_type": "code",
      "source": [
        "metrics.silhouette_score(dissimilarity, labels, metric='euclidean')"
      ],
      "metadata": {
        "colab": {
          "base_uri": "https://localhost:8080/"
        },
        "id": "6Ctvj2SkLmFh",
        "outputId": "5e5c0086-56f2-4358-b3c2-69eff7910da3"
      },
      "execution_count": null,
      "outputs": [
        {
          "output_type": "execute_result",
          "data": {
            "text/plain": [
              "0.20884837715119683"
            ]
          },
          "metadata": {},
          "execution_count": 11
        }
      ]
    },
    {
      "cell_type": "code",
      "source": [
        "den = dendrogram(hierarchy)"
      ],
      "metadata": {
        "colab": {
          "base_uri": "https://localhost:8080/",
          "height": 270
        },
        "id": "nf4XzUUc33Hv",
        "outputId": "04b26668-bb1a-4400-b0dc-4c35280b9a96"
      },
      "execution_count": null,
      "outputs": [
        {
          "output_type": "display_data",
          "data": {
            "image/png": "[encoded data removed]",
            "text/plain": [
              "<Figure size 432x288 with 1 Axes>"
            ]
          },
          "metadata": {
            "needs_background": "light"
          }
        }
      ]
    },
    {
      "cell_type": "code",
      "source": [
        "clusters = defaultdict(list)\n",
        "for i,val in enumerate(labels):\n",
        "  clusters[val].append(cols[i])\n",
        "for cluster in clusters:\n",
        "  print(\"cluster:{} len:{}\".format(cluster,len(clusters[cluster])))"
      ],
      "metadata": {
        "colab": {
          "base_uri": "https://localhost:8080/"
        },
        "id": "P2jqCdpJ33Kq",
        "outputId": "f216c258-bff6-42be-8ac8-ae3b671ce416"
      },
      "execution_count": null,
      "outputs": [
        {
          "output_type": "stream",
          "name": "stdout",
          "text": [
            "cluster:1 len:1463\n",
            "cluster:4 len:1\n",
            "cluster:3 len:1\n",
            "cluster:2 len:1\n"
          ]
        }
      ]
    },
    {
      "cell_type": "code",
      "source": [
        "hierarchy = linkage(squareform(dissimilarity), method='complete')\n",
        "labels = fcluster(hierarchy, 0.7, criterion='distance')\n",
        "labels.max()"
      ],
      "metadata": {
        "colab": {
          "base_uri": "https://localhost:8080/"
        },
        "id": "rYsMX1b133Ne",
        "outputId": "390271c7-efed-4244-99a0-1b78c43626fa"
      },
      "execution_count": null,
      "outputs": [
        {
          "output_type": "execute_result",
          "data": {
            "text/plain": [
              "72"
            ]
          },
          "metadata": {},
          "execution_count": 12
        }
      ]
    },
    {
      "cell_type": "code",
      "source": [
        "metrics.silhouette_score(corr, labels, metric='euclidean')"
      ],
      "metadata": {
        "colab": {
          "base_uri": "https://localhost:8080/"
        },
        "id": "SOmPOqk3LqSK",
        "outputId": "5e136834-c4e1-4ca1-ac0a-99540c14e43d"
      },
      "execution_count": null,
      "outputs": [
        {
          "output_type": "execute_result",
          "data": {
            "text/plain": [
              "0.030527733897410262"
            ]
          },
          "metadata": {},
          "execution_count": 13
        }
      ]
    },
    {
      "cell_type": "code",
      "source": [
        "metrics.silhouette_score(dissimilarity, labels, metric='euclidean')"
      ],
      "metadata": {
        "colab": {
          "base_uri": "https://localhost:8080/"
        },
        "id": "9qpXZJv4LqNl",
        "outputId": "4d5b7ac2-d230-4760-a7c7-b4af3acc20f8"
      },
      "execution_count": null,
      "outputs": [
        {
          "output_type": "execute_result",
          "data": {
            "text/plain": [
              "0.031761759518337776"
            ]
          },
          "metadata": {},
          "execution_count": 14
        }
      ]
    },
    {
      "cell_type": "code",
      "source": [
        "den = dendrogram(hierarchy)"
      ],
      "metadata": {
        "colab": {
          "base_uri": "https://localhost:8080/",
          "height": 268
        },
        "id": "T8ZWQaMK33QD",
        "outputId": "6dd538da-4620-4df6-c0d5-f1059580257f"
      },
      "execution_count": null,
      "outputs": [
        {
          "output_type": "display_data",
          "data": {
            "image/png": "[encoded data removed]",
            "text/plain": [
              "<Figure size 432x288 with 1 Axes>"
            ]
          },
          "metadata": {
            "needs_background": "light"
          }
        }
      ]
    },
    {
      "cell_type": "code",
      "source": [
        "clusters = defaultdict(list)\n",
        "for i,val in enumerate(labels):\n",
        "  clusters[val].append(cols[i])\n",
        "for cluster in clusters:\n",
        "  print(\"cluster:{} len:{}\".format(cluster,len(clusters[cluster])))"
      ],
      "metadata": {
        "colab": {
          "base_uri": "https://localhost:8080/"
        },
        "id": "G2nSgLFF33St",
        "outputId": "34413c24-bd6b-4e95-f82b-7967b0474ad4"
      },
      "execution_count": null,
      "outputs": [
        {
          "output_type": "stream",
          "name": "stdout",
          "text": [
            "cluster:17 len:138\n",
            "cluster:5 len:26\n",
            "cluster:64 len:270\n",
            "cluster:2 len:186\n",
            "cluster:35 len:119\n",
            "cluster:29 len:26\n",
            "cluster:65 len:195\n",
            "cluster:63 len:1\n",
            "cluster:66 len:38\n",
            "cluster:6 len:5\n",
            "cluster:25 len:19\n",
            "cluster:7 len:92\n",
            "cluster:54 len:10\n",
            "cluster:41 len:66\n",
            "cluster:59 len:2\n",
            "cluster:39 len:29\n",
            "cluster:26 len:24\n",
            "cluster:70 len:10\n",
            "cluster:19 len:7\n",
            "cluster:21 len:5\n",
            "cluster:50 len:19\n",
            "cluster:1 len:11\n",
            "cluster:14 len:3\n",
            "cluster:16 len:21\n",
            "cluster:12 len:1\n",
            "cluster:23 len:2\n",
            "cluster:42 len:8\n",
            "cluster:18 len:5\n",
            "cluster:49 len:3\n",
            "cluster:22 len:3\n",
            "cluster:20 len:7\n",
            "cluster:52 len:11\n",
            "cluster:57 len:7\n",
            "cluster:36 len:7\n",
            "cluster:9 len:6\n",
            "cluster:68 len:5\n",
            "cluster:28 len:3\n",
            "cluster:37 len:2\n",
            "cluster:60 len:1\n",
            "cluster:53 len:2\n",
            "cluster:10 len:2\n",
            "cluster:34 len:10\n",
            "cluster:45 len:2\n",
            "cluster:62 len:3\n",
            "cluster:30 len:1\n",
            "cluster:3 len:5\n",
            "cluster:44 len:4\n",
            "cluster:67 len:1\n",
            "cluster:47 len:1\n",
            "cluster:56 len:2\n",
            "cluster:38 len:5\n",
            "cluster:40 len:2\n",
            "cluster:46 len:4\n",
            "cluster:11 len:1\n",
            "cluster:58 len:2\n",
            "cluster:71 len:1\n",
            "cluster:27 len:2\n",
            "cluster:8 len:2\n",
            "cluster:43 len:2\n",
            "cluster:13 len:5\n",
            "cluster:61 len:1\n",
            "cluster:51 len:3\n",
            "cluster:24 len:1\n",
            "cluster:15 len:1\n",
            "cluster:48 len:1\n",
            "cluster:55 len:1\n",
            "cluster:72 len:1\n",
            "cluster:31 len:1\n",
            "cluster:33 len:1\n",
            "cluster:4 len:1\n",
            "cluster:69 len:1\n",
            "cluster:32 len:1\n"
          ]
        }
      ]
    },
    {
      "cell_type": "code",
      "source": [
        "path = 'drive/MyDrive/Metadata/Coordinates_2017.csv'\n",
        "df = pd.read_csv(path)\n",
        "df[\"cluster\"] = -1\n",
        "for i in range(len(df)):\n",
        "  file_name =  'drive/MyDrive/2017_v1/{}_{}_2017.csv'.format(int(df.loc[i][\"vSegID\"]),int(df.loc[i][\"vSegDir\"]))\n",
        "  for cluster in clusters:\n",
        "    if file_name in clusters[cluster]:\n",
        "      df.iloc[i] = [int(df.loc[i][\"vSegID\"]), int(df.loc[i][\"vSegDir\"]),\n",
        "                   df.loc[i][\"longitude\"], df.loc[i][\"latitude\"],\n",
        "                   cluster]\n",
        "      break\n",
        "\n",
        "df.to_csv(\"drive/MyDrive/SimilarityScores/Coordinates/2017/WorkingHourCompleteClusterCoord_2017.csv\")"
      ],
      "metadata": {
        "id": "1mnbLuNf54oj"
      },
      "execution_count": null,
      "outputs": []
    },
    {
      "cell_type": "code",
      "source": [
        "import plotly.express as px\n",
        "path = \"drive/MyDrive/SimilarityScores/Coordinates/2017/WorkingHourCompleteClusterCoord_2017.csv\"\n",
        "df = pd.read_csv(path)\n",
        "df = df.drop(\"Unnamed: 0\",axis=1)\n",
        "df[\"cluster\"] = df[\"cluster\"].astype(str)\n",
        "fig = px.scatter_mapbox(df, lon='latitude', lat='longitude', hover_name='vSegID', hover_data=['vSegDir',\"cluster\"],\n",
        "                        color=\"cluster\", zoom=4, height=600)\n",
        "fig.update_layout(mapbox_style=\"open-street-map\")\n",
        "fig.update_layout(margin={\"r\":0,\"t\":0,\"l\":0,\"b\":0})\n",
        "fig.show()"
      ],
      "metadata": {
        "colab": {
          "base_uri": "https://localhost:8080/",
          "height": 617
        },
        "id": "7JI3DRBM54lv",
        "outputId": "e944a786-e719-4016-dc25-c453952ec6ba"
      },
      "execution_count": null,
      "outputs": [
        {
          "output_type": "display_data",
          "data": {
            "text/html": [
              "<html>\n",
              "<head><meta charset=\"utf-8\" /></head>\n",
              "<body>\n",
              "    <div>\n",
              "            <script src=\"https://cdnjs.cloudflare.com/ajax/libs/mathjax/2.7.5/MathJax.js?config=TeX-AMS-MML_SVG\"></script><script type=\"text/javascript\">if (window.MathJax) {MathJax.Hub.Config({SVG: {font: \"STIX-Web\"}});}</script>\n",
              "                <script type=\"text/javascript\">window.PlotlyConfig = {MathJaxConfig: 'local'};</script>\n",
              "        <script src=\"https://cdn.plot.ly/plotly-latest.min.js\"></script>    \n",
              "            <div id=\"02ff0bf6-8f37-41d8-8365-35cde6702e54\" class=\"plotly-graph-div\" style=\"height:600px; width:100%;\"></div>\n",
              "            <script type=\"text/javascript\">\n",
              "                \n",
              "                    window.PLOTLYENV=window.PLOTLYENV || {};\n",
              "                    \n",
              "                if (document.getElementById(\"02ff0bf6-8f37-41d8-8365-35cde6702e54\")) {\n",
              "                    Plotly.newPlot(\n",
              "                        '02ff0bf6-8f37-41d8-8365-35cde6702e54',\n",
              "                        [{\"customdata\": [[0, \"2\"], [1, \"2\"], [0, \"2\"], [1, \"2\"], [0, \"2\"], [1, \"2\"], [0, \"2\"], [1, \"2\"], [0, \"2\"], [0, \"2\"], [0, \"2\"], [0, \"2\"], [1, \"2\"], [1, \"2\"], [0, \"2\"], [0, \"2\"], [1, \"2\"], [0, \"2\"], [1, \"2\"], [0, \"2\"], [0, \"2\"], [0, \"2\"], [1, \"2\"], [0, \"2\"], [0, \"2\"], [0, \"2\"], [0, \"2\"], [1, \"2\"], [0, \"2\"], [0, \"2\"], [0, \"2\"], [0, \"2\"], [1, \"2\"], [0, \"2\"], [1, \"2\"], [1, \"2\"], [0, \"2\"], [1, \"2\"], [0, \"2\"], [1, \"2\"], [1, \"2\"], [0, \"2\"], [1, \"2\"], [1, \"2\"], [0, \"2\"], [1, \"2\"], [0, \"2\"], [1, \"2\"], [0, \"2\"], [1, \"2\"], [0, \"2\"], [0, \"2\"], [1, \"2\"], [0, \"2\"], [1, \"2\"], [0, \"2\"], [0, \"2\"], [1, \"2\"], [1, \"2\"], [0, \"2\"], [1, \"2\"], [1, \"2\"], [1, \"2\"], [1, \"2\"], [1, \"2\"], [1, \"2\"], [1, \"2\"], [0, \"2\"], [1, \"2\"], [0, \"2\"], [1, \"2\"], [0, \"2\"], [1, \"2\"], [0, \"2\"], [1, \"2\"], [0, \"2\"], [1, \"2\"], [0, \"2\"], [0, \"2\"], [0, \"2\"], [0, \"2\"], [0, \"2\"], [0, \"2\"], [0, \"2\"], [0, \"2\"], [0, \"2\"], [0, \"2\"], [0, \"2\"], [0, \"2\"], [0, \"2\"], [1, \"2\"], [0, \"2\"], [0, \"2\"], [0, \"2\"], [0, \"2\"], [0, \"2\"], [0, \"2\"], [0, \"2\"], [0, \"2\"], [0, \"2\"], [0, \"2\"], [0, \"2\"], [0, \"2\"], [0, \"2\"], [0, \"2\"], [0, \"2\"], [1, \"2\"], [0, \"2\"], [1, \"2\"], [0, \"2\"], [1, \"2\"], [0, \"2\"], [0, \"2\"], [0, \"2\"], [0, \"2\"], [0, \"2\"], [0, \"2\"], [1, \"2\"], [0, \"2\"], [1, \"2\"], [0, \"2\"], [1, \"2\"], [1, \"2\"], [1, \"2\"], [0, \"2\"], [0, \"2\"], [0, \"2\"], [0, \"2\"], [1, \"2\"], [1, \"2\"], [1, \"2\"], [0, \"2\"], [1, \"2\"], [0, \"2\"], [0, \"2\"], [0, \"2\"], [0, \"2\"], [0, \"2\"], [0, \"2\"], [1, \"2\"], [0, \"2\"], [1, \"2\"], [0, \"2\"], [1, \"2\"], [0, \"2\"], [1, \"2\"], [0, \"2\"], [1, \"2\"], [1, \"2\"], [1, \"2\"], [1, \"2\"], [1, \"2\"], [0, \"2\"], [0, \"2\"], [1, \"2\"], [1, \"2\"], [0, \"2\"], [1, \"2\"], [0, \"2\"], [1, \"2\"], [0, \"2\"], [0, \"2\"], [0, \"2\"], [0, \"2\"], [0, \"2\"], [0, \"2\"], [0, \"2\"], [0, \"2\"], [0, \"2\"], [0, \"2\"], [1, \"2\"], [1, \"2\"], [1, \"2\"], [1, \"2\"], [0, \"2\"], [0, \"2\"], [0, \"2\"], [0, \"2\"], [1, \"2\"], [0, \"2\"], [1, \"2\"], [0, \"2\"], [0, \"2\"], [0, \"2\"], [1, \"2\"], [1, \"2\"]], \"hoverlabel\": {\"namelength\": 0}, \"hovertemplate\": \"<b>%{hovertext}</b><br><br>cluster=%{customdata[1]}<br>vSegDir=%{customdata[0]}<br>longitude=%{lat}<br>latitude=%{lon}\", \"hovertext\": [100.0, 100.0, 102.0, 102.0, 10.0, 1181.0, 1189.0, 1189.0, 119.0, 11.0, 120.0, 121.0, 122.0, 123.0, 124.0, 125.0, 125.0, 126.0, 126.0, 12.0, 136.0, 137.0, 137.0, 13.0, 14.0, 1716.0, 1730.0, 1730.0, 1734.0, 1740.0, 1741.0, 1754.0, 1754.0, 1755.0, 1755.0, 1756.0, 1757.0, 1757.0, 1761.0, 1761.0, 1762.0, 1765.0, 1765.0, 1774.0, 1778.0, 1778.0, 177.0, 177.0, 182.0, 182.0, 192.0, 197.0, 197.0, 204.0, 204.0, 205.0, 212.0, 212.0, 213.0, 282.0, 310.0, 311.0, 312.0, 313.0, 314.0, 315.0, 316.0, 317.0, 317.0, 318.0, 318.0, 319.0, 319.0, 320.0, 320.0, 321.0, 321.0, 322.0, 323.0, 324.0, 325.0, 326.0, 329.0, 330.0, 331.0, 332.0, 333.0, 334.0, 335.0, 3.0, 3.0, 408.0, 409.0, 412.0, 413.0, 414.0, 415.0, 416.0, 417.0, 418.0, 419.0, 420.0, 421.0, 422.0, 423.0, 424.0, 424.0, 425.0, 425.0, 426.0, 426.0, 427.0, 428.0, 429.0, 430.0, 431.0, 432.0, 432.0, 433.0, 433.0, 434.0, 434.0, 435.0, 436.0, 452.0, 453.0, 454.0, 455.0, 483.0, 484.0, 485.0, 486.0, 486.0, 487.0, 498.0, 499.0, 503.0, 504.0, 505.0, 523.0, 525.0, 525.0, 553.0, 553.0, 554.0, 554.0, 555.0, 575.0, 600.0, 601.0, 607.0, 608.0, 618.0, 619.0, 620.0, 621.0, 63.0, 63.0, 64.0, 64.0, 68.0, 69.0, 70.0, 71.0, 72.0, 730.0, 731.0, 732.0, 733.0, 734.0, 734.0, 735.0, 736.0, 737.0, 741.0, 742.0, 74.0, 75.0, 79.0, 82.0, 82.0, 86.0, 89.0, 99.0, 99.0, 76.0], \"lat\": [41.0325301, 41.025294, 41.01822, 41.00946, 40.975771, 41.018897, 40.998349, 41.003556, 41.063169, 40.970881, 41.058565, 41.049731, 41.0364434, 41.022972, 41.022953, 41.013949, 41.005064, 41.005025, 40.99732720000001, 40.9657506, 41.045288, 41.03655870000001, 41.0330334, 40.960525, 40.9558413, 41.045456, 41.02864, 41.037869, 41.037835, 41.014521, 41.007171, 41.018919, 41.014376, 41.0473725, 41.05159370000001, 41.0651519, 41.014463, 41.009327, 40.9949971, 40.997078, 41.022797, 41.024773, 41.021212, 41.018435, 41.058329, 41.0527076, 41.0815876, 41.0730731, 41.038938, 41.0349045, 41.022349, 41.030024, 41.025768, 41.0459666, 41.0383765, 41.038301, 41.0851625, 41.077153, 41.0693093, 40.996796, 40.995642, 40.9914344, 40.9875606, 40.9813084, 40.973315, 40.9651314, 40.957967, 40.957863, 40.951106, 40.950999, 40.944568, 40.944459, 40.937978, 40.937869, 40.93143900000001, 40.93133, 40.925024, 40.924904, 40.921276, 40.91798, 40.914582, 40.911129, 40.896475, 40.890585, 40.884764, 40.880431, 40.875825, 40.86849, 40.861608, 40.9898424, 40.9809425, 41.00542700000001, 41.0000889, 40.986569, 40.981051, 40.977334, 40.980254, 40.984049, 40.9864145, 40.9853414, 40.991229, 40.9988679, 40.9996393, 40.993511, 40.992499, 40.99183970000001, 40.9923819, 40.9922119, 40.9952148, 40.99683579999999, 40.998875, 40.99867, 41.0019948, 41.00711920000001, 41.013052, 41.018699, 41.0283639, 41.0352343, 41.0351452, 41.042122, 41.0419854, 41.047595, 41.054649, 41.0609532, 41.061675, 41.064978, 41.06895170000001, 41.075173, 41.0204324, 41.0114162, 41.00252620000001, 40.998487, 40.9944795, 40.9909305, 41.021094, 41.01745, 40.9639074, 40.9632644, 40.968207, 41.027963, 41.033868, 41.040424, 41.04029370000001, 41.0334482, 41.0336138, 41.0279707, 41.0257294, 41.0349667, 41.0239115, 41.02043, 41.028419, 41.034056, 40.999105, 40.995689, 40.99618, 40.994768, 41.065418, 41.0583103, 41.052829, 41.047653, 41.139964, 41.1318451, 41.1228908, 41.1138828, 41.1080586, 41.059069, 41.057292, 41.054394, 41.057197, 41.061914, 41.0611008, 41.062434, 41.0623266, 41.064017, 41.063382, 41.06388, 41.094544, 41.0818288, 41.109824, 41.022475, 41.018858, 41.07896450000001, 41.061461, 41.040595, 41.0324449, 41.072672], \"legendgroup\": \"cluster=2\", \"lon\": [28.9365657, 28.92955, 28.922559000000003, 28.921622, 29.051202000000004, 28.88318, 28.857683, 28.86601, 28.812013, 29.060985, 28.810689, 28.808208, 28.810762, 28.811655, 28.811517, 28.812117, 28.814061, 28.813927000000003, 28.8198703, 29.0706086, 28.884601, 28.8918653, 28.8968592, 29.080108000000006, 29.0901098, 28.83026, 28.835432, 28.834266, 28.834402, 28.838385, 28.838694, 28.957873, 28.954254, 28.945104, 28.9503947, 29.0126882, 28.954123, 28.953401, 28.8636603, 28.869097, 28.961021, 28.928975, 28.934351, 28.891871, 29.01023, 29.009117100000005, 28.6267168, 28.622624600000005, 28.6255558, 28.6235204, 28.961329, 28.971493, 28.9686483, 28.968031300000003, 28.9682642, 28.968155, 28.9785777, 28.970439, 28.964712100000003, 29.129278000000006, 29.065313, 29.0764509, 29.086366100000006, 29.0951613, 29.100245, 29.105279100000004, 29.112418, 29.112324, 29.120095000000006, 29.120004, 29.128243, 29.128155, 29.136326, 29.136238, 29.144475, 29.144387, 29.152758, 29.152686, 29.163538, 29.174576, 29.18556, 29.196515, 29.225939, 29.234905, 29.24394, 29.254087, 29.263667, 29.270519, 29.278172, 29.0364742, 29.0418884, 28.6818826, 28.690845500000002, 28.720654, 28.729996000000003, 28.740486, 28.75158, 28.762312, 28.773369899999995, 28.7837393, 28.7939799, 28.7991975, 28.8099644, 28.818416, 28.8301652, 28.841972, 28.8537295, 28.8537728, 28.8636321, 28.8690912, 28.875843, 28.8759067, 28.8870476, 28.8968156, 28.905402, 28.914604, 28.9239994, 28.9322165, 28.9325483, 28.9404979, 28.9406223, 28.944954, 28.957662, 28.966382300000006, 28.84137, 28.851711, 28.8625091, 28.8703715, 29.120871, 29.1217097, 29.120399300000006, 29.11785, 29.1149674, 29.1116265, 28.934257, 28.939491, 28.8144387, 28.8293617, 28.8384839, 28.956448, 28.948041, 28.940728000000004, 28.9991365, 28.991752, 28.9916757, 28.9842354, 28.9780141, 29.0271553, 29.0570471, 29.067821, 29.130471000000004, 29.139645, 29.108179, 29.118874, 29.142341, 29.154001, 29.0125848, 29.0104338, 29.008895000000006, 29.0080523, 29.027671, 29.024511600000004, 29.0236532, 29.024693900000006, 29.0186643, 28.697778000000003, 28.709254, 28.720437, 28.731514, 28.741319, 28.7530203, 28.764765, 28.7766742, 28.788317, 28.82316, 28.834909000000003, 29.005296, 29.0102912, 29.033029, 28.961269, 28.958003, 28.8766786, 28.902193, 28.940399, 28.9365895, 29.016117600000005], \"marker\": {\"color\": \"#636efa\"}, \"mode\": \"markers\", \"name\": \"cluster=2\", \"showlegend\": true, \"subplot\": \"mapbox\", \"type\": \"scattermapbox\"}, {\"customdata\": [[0, \"65\"], [1, \"65\"], [0, \"65\"], [1, \"65\"], [0, \"65\"], [0, \"65\"], [1, \"65\"], [0, \"65\"], [1, \"65\"], [0, \"65\"], [0, \"65\"], [0, \"65\"], [1, \"65\"], [0, \"65\"], [1, \"65\"], [0, \"65\"], [1, \"65\"], [0, \"65\"], [1, \"65\"], [1, \"65\"], [1, \"65\"], [1, \"65\"], [1, \"65\"], [0, \"65\"], [1, \"65\"], [0, \"65\"], [0, \"65\"], [1, \"65\"], [0, \"65\"], [1, \"65\"], [0, \"65\"], [0, \"65\"], [1, \"65\"], [1, \"65\"], [0, \"65\"], [0, \"65\"], [0, \"65\"], [1, \"65\"], [1, \"65\"], [0, \"65\"], [0, \"65\"], [0, \"65\"], [0, \"65\"], [0, \"65\"], [0, \"65\"], [0, \"65\"], [0, \"65\"], [1, \"65\"], [1, \"65\"], [1, \"65\"], [0, \"65\"], [0, \"65\"], [1, \"65\"], [0, \"65\"], [0, \"65\"], [1, \"65\"], [0, \"65\"], [0, \"65\"], [1, \"65\"], [1, \"65\"], [1, \"65\"], [1, \"65\"], [1, \"65\"], [1, \"65\"], [1, \"65\"], [1, \"65\"], [0, \"65\"], [1, \"65\"], [0, \"65\"], [0, \"65\"], [0, \"65\"], [1, \"65\"], [0, \"65\"], [0, \"65\"], [1, \"65\"], [0, \"65\"], [1, \"65\"], [0, \"65\"], [0, \"65\"], [0, \"65\"], [1, \"65\"], [1, \"65\"], [1, \"65\"], [1, \"65\"], [0, \"65\"], [0, \"65\"], [0, \"65\"], [0, \"65\"], [0, \"65\"], [1, \"65\"], [0, \"65\"], [1, \"65\"], [0, \"65\"], [1, \"65\"], [1, \"65\"], [1, \"65\"], [1, \"65\"], [1, \"65\"], [1, \"65\"], [1, \"65\"], [1, \"65\"], [1, \"65\"], [1, \"65\"], [1, \"65\"], [1, \"65\"], [1, \"65\"], [1, \"65\"], [1, \"65\"], [1, \"65\"], [1, \"65\"], [1, \"65\"], [1, \"65\"], [1, \"65\"], [1, \"65\"], [1, \"65\"], [1, \"65\"], [1, \"65\"], [1, \"65\"], [1, \"65\"], [1, \"65\"], [0, \"65\"], [0, \"65\"], [0, \"65\"], [1, \"65\"], [0, \"65\"], [1, \"65\"], [0, \"65\"], [1, \"65\"], [0, \"65\"], [1, \"65\"], [0, \"65\"], [1, \"65\"], [0, \"65\"], [0, \"65\"], [1, \"65\"], [0, \"65\"], [1, \"65\"], [0, \"65\"], [0, \"65\"], [1, \"65\"], [0, \"65\"], [1, \"65\"], [0, \"65\"], [0, \"65\"], [1, \"65\"], [1, \"65\"], [1, \"65\"], [1, \"65\"], [0, \"65\"], [1, \"65\"], [0, \"65\"], [1, \"65\"], [0, \"65\"], [1, \"65\"], [0, \"65\"], [1, \"65\"], [0, \"65\"], [1, \"65\"], [0, \"65\"], [0, \"65\"], [1, \"65\"], [1, \"65\"], [1, \"65\"], [1, \"65\"], [1, \"65\"], [1, \"65\"], [1, \"65\"], [1, \"65\"], [1, \"65\"], [1, \"65\"], [1, \"65\"], [1, \"65\"], [1, \"65\"], [1, \"65\"], [1, \"65\"], [1, \"65\"], [1, \"65\"], [1, \"65\"], [1, \"65\"], [1, \"65\"], [1, \"65\"], [1, \"65\"], [1, \"65\"], [1, \"65\"], [1, \"65\"], [0, \"65\"], [0, \"65\"], [0, \"65\"], [0, \"65\"], [1, \"65\"], [1, \"65\"], [1, \"65\"], [1, \"65\"], [1, \"65\"], [0, \"65\"]], \"hoverlabel\": {\"namelength\": 0}, \"hovertemplate\": \"<b>%{hovertext}</b><br><br>cluster=%{customdata[1]}<br>vSegDir=%{customdata[0]}<br>longitude=%{lat}<br>latitude=%{lon}\", \"hovertext\": [101.0, 101.0, 111.0, 111.0, 113.0, 114.0, 114.0, 115.0, 115.0, 122.0, 123.0, 128.0, 128.0, 129.0, 129.0, 130.0, 130.0, 131.0, 131.0, 132.0, 133.0, 134.0, 136.0, 138.0, 138.0, 1703.0, 1736.0, 1750.0, 1751.0, 1751.0, 1762.0, 1779.0, 1829.0, 1830.0, 187.0, 188.0, 189.0, 189.0, 192.0, 202.0, 203.0, 2079.0, 2080.0, 2081.0, 2082.0, 2084.0, 2085.0, 215.0, 216.0, 217.0, 241.0, 248.0, 248.0, 261.0, 278.0, 293.0, 300.0, 301.0, 325.0, 326.0, 337.0, 338.0, 339.0, 340.0, 341.0, 342.0, 37.0, 37.0, 380.0, 381.0, 38.0, 38.0, 393.0, 394.0, 403.0, 404.0, 404.0, 405.0, 406.0, 407.0, 431.0, 440.0, 441.0, 442.0, 445.0, 446.0, 447.0, 448.0, 449.0, 449.0, 450.0, 450.0, 451.0, 451.0, 455.0, 456.0, 457.0, 458.0, 459.0, 460.0, 461.0, 462.0, 463.0, 464.0, 465.0, 466.0, 467.0, 468.0, 469.0, 470.0, 471.0, 491.0, 492.0, 493.0, 494.0, 495.0, 496.0, 497.0, 502.0, 503.0, 506.0, 507.0, 511.0, 511.0, 512.0, 512.0, 513.0, 513.0, 514.0, 514.0, 51.0, 51.0, 523.0, 52.0, 52.0, 55.0, 55.0, 575.0, 587.0, 587.0, 588.0, 588.0, 600.0, 601.0, 603.0, 604.0, 605.0, 606.0, 609.0, 609.0, 610.0, 610.0, 611.0, 611.0, 612.0, 612.0, 613.0, 613.0, 614.0, 615.0, 616.0, 617.0, 618.0, 619.0, 626.0, 627.0, 628.0, 629.0, 630.0, 631.0, 632.0, 633.0, 634.0, 635.0, 636.0, 637.0, 638.0, 639.0, 640.0, 641.0, 642.0, 643.0, 644.0, 645.0, 646.0, 724.0, 725.0, 726.0, 727.0, 729.0, 730.0, 731.0, 732.0, 733.0, 79.0], \"lat\": [41.025396, 41.018156, 40.993022, 40.9846737, 40.9882619, 40.9839074, 40.9755626, 40.9756559, 40.9656375, 41.040834, 41.031952, 40.988478, 40.9851961, 40.9849005, 40.983065, 40.9829747, 40.9760544, 40.976209, 40.96482260000001, 41.0709802, 41.0630965, 41.0542413, 41.040261, 41.0278344, 41.023907, 41.011812, 41.02291629999999, 41.0626204, 40.98829600000001, 40.988279, 41.01906500000001, 40.9755076, 41.0699639, 41.0797652, 41.0395014, 41.0308349, 41.0231099, 41.0143476, 41.0260701, 41.0608511, 41.05393, 40.988108, 40.989825, 41.001901, 40.997579, 41.00153, 41.001732, 41.0864187, 41.0775935, 41.068691, 40.9945368, 40.9919944, 40.983615, 41.016099, 41.0139009, 41.0546966, 41.058501, 41.0515099, 40.911263, 40.907769, 40.84481, 40.840157, 40.835503, 40.830919, 40.826347, 40.821634, 40.919129, 40.91019, 41.053896, 41.050817, 40.910198, 40.906106, 41.007711, 41.0102614, 41.0169717, 41.01676370000001, 41.0129369, 41.01266939999999, 41.0086932, 41.005949, 41.028786, 41.0670222, 41.0584, 41.0531853, 41.038556, 41.030039, 41.0183004, 41.0144568, 41.0016283, 40.99716770000001, 40.9973223, 40.993217, 40.993362, 40.9890227, 41.083472, 41.089181, 41.091312, 41.091085, 41.09416, 41.0939943, 41.0917696, 41.0964931, 41.0998141, 41.09997120000001, 41.1009121, 41.1018256, 41.098885, 41.095251, 41.0923122, 41.0908291, 41.0910866, 41.0505593, 41.0460252, 41.04417, 41.040952, 41.03843300000001, 41.0304256, 41.0248125, 40.9639971, 40.96316420000001, 40.9727598, 40.976332, 40.980178, 40.982982, 40.982851, 40.988457, 40.989705, 40.992794, 40.992643, 40.99771, 41.1330986, 41.1259708, 41.02285300000001, 41.1258542, 41.1194014, 41.1081178, 41.1041991, 41.0393064, 40.902088, 40.899623, 40.899497, 40.894593, 41.0223633, 41.0238093, 41.02908920000001, 41.030782, 41.02920200000001, 41.030486, 41.0338157, 41.03662050000001, 41.0364297, 41.03486, 41.03468170000001, 41.02965510000001, 41.029717100000006, 41.022689, 41.02255200000001, 41.0162467, 41.0060031, 41.0069531, 41.005597, 40.99922, 40.995829, 40.996961999999996, 40.982418, 40.979239, 40.976222, 40.975905, 40.972858, 40.970515, 40.964861, 40.959893, 40.955011999999996, 40.95062, 40.944975, 40.94040800000001, 40.935348, 40.931047, 40.923598, 40.915086, 40.90766, 40.900175, 40.89176, 40.884094, 40.87768300000001, 41.0775161, 41.0695099, 41.061311, 41.055578, 41.059207, 41.057424, 41.054534, 41.057311, 41.062054, 41.108471], \"legendgroup\": \"cluster=65\", \"lon\": [28.929454, 28.922682000000002, 28.8876966, 28.8846768, 28.7939511, 28.8008835, 28.8051786, 28.805057300000005, 28.8066001, 28.809407, 28.810634000000004, 28.818654, 28.826769, 28.8251007, 28.836453, 28.835992600000004, 28.8385609, 28.838413, 28.8349919, 28.8786452, 28.8843353, 28.8859967, 28.886949, 28.8990147, 28.8995093, 29.0605387, 29.0475406, 29.0156902, 28.913165000000006, 28.919013, 28.966079, 28.8661842, 28.8149759, 28.8132882, 28.689094800000003, 28.6866443, 28.681041, 28.6788742, 28.968495, 28.9729119, 28.9683682, 28.919091, 28.92421, 28.937183, 28.932985, 28.937489000000006, 28.947219, 28.9611592, 28.9588745, 28.957181800000004, 28.8193206, 28.8511812, 28.853625399999995, 29.182556, 29.0579578, 28.9690951, 28.975399, 28.9818651, 29.196557, 29.207484, 29.30523, 29.315372, 29.325512, 29.335708, 29.345912, 29.355987, 29.212838, 29.213509, 28.377671000000007, 28.388807, 29.213369, 29.211148, 28.517273600000006, 28.5286323, 28.6378869, 28.6377455, 28.648475, 28.648384000000004, 28.6589441, 28.6695755, 28.923868, 29.007727600000006, 29.01778, 29.0264143, 29.041437, 29.0455516, 29.0519111, 29.0572031, 29.0582905, 29.0543082, 29.053993, 29.045343, 29.045342, 29.037425800000005, 28.876004, 28.885094, 28.896576, 28.908426, 28.919533, 28.931164000000006, 28.9426261, 28.952165, 28.9630101, 28.9748774, 28.9863772, 28.998423, 29.009639, 29.020528, 29.030997, 29.0434966, 29.0551706, 28.8726173, 28.8825475, 28.894149, 28.905123, 28.916292, 28.921792600000003, 28.9287625, 28.8141583, 28.8245943, 28.846479100000003, 28.8591309, 28.898043, 28.90844, 28.908596000000006, 28.913135, 28.924366, 28.927888, 28.928064000000006, 28.932718, 29.1290312, 29.134178, 28.96115, 29.1338672, 29.1265213, 29.1100794, 29.099299100000003, 29.0366745, 29.147554, 29.158784000000004, 29.158724, 29.168923, 29.045500300000004, 29.0571148, 29.0864561, 29.097133000000003, 29.108653000000004, 29.119911, 29.139749, 29.1505939, 29.1504945, 29.161982, 29.1618886, 29.1716642, 29.1713471, 29.1787352, 29.178514, 29.1827223, 29.0668228, 29.078494300000006, 29.099901000000006, 29.108258000000006, 29.118888, 29.130625, 29.209554, 29.220505, 29.231581, 29.2434, 29.2545, 29.265873, 29.274968, 29.284743, 29.294686, 29.305001, 29.31422, 29.324375, 29.334161, 29.344547, 29.350824, 29.3545, 29.361064, 29.367574, 29.371686, 29.377668, 29.385875, 28.6443117, 28.6496072, 28.654474, 28.663527, 28.697758, 28.709298, 28.720433, 28.731432, 28.741311, 29.021589], \"marker\": {\"color\": \"#EF553B\"}, \"mode\": \"markers\", \"name\": \"cluster=65\", \"showlegend\": true, \"subplot\": \"mapbox\", \"type\": \"scattermapbox\"}, {\"customdata\": [[1, \"44\"], [0, \"44\"], [1, \"44\"], [1, \"44\"]], \"hoverlabel\": {\"namelength\": 0}, \"hovertemplate\": \"<b>%{hovertext}</b><br><br>cluster=%{customdata[1]}<br>vSegDir=%{customdata[0]}<br>longitude=%{lat}<br>latitude=%{lon}\", \"hovertext\": [1026.0, 1826.0, 582.0, 585.0], \"lat\": [40.9909258, 40.9966141, 40.9306, 40.907209], \"legendgroup\": \"cluster=44\", \"lon\": [28.6798182, 29.0626712, 29.119522, 29.138648], \"marker\": {\"color\": \"#00cc96\"}, \"mode\": \"markers\", \"name\": \"cluster=44\", \"showlegend\": true, \"subplot\": \"mapbox\", \"type\": \"scattermapbox\"}, {\"customdata\": [[0, \"9\"], [1, \"9\"], [0, \"9\"], [1, \"9\"], [0, \"9\"], [1, \"9\"]], \"hoverlabel\": {\"namelength\": 0}, \"hovertemplate\": \"<b>%{hovertext}</b><br><br>cluster=%{customdata[1]}<br>vSegDir=%{customdata[0]}<br>longitude=%{lat}<br>latitude=%{lon}\", \"hovertext\": [103.0, 103.0, 110.0, 110.0, 112.0, 112.0], \"lat\": [41.009464, 41.000631, 41.0015933, 40.9930041, 40.9847176, 40.9787141], \"legendgroup\": \"cluster=9\", \"lon\": [28.921482, 28.919852, 28.884554100000006, 28.8878345, 28.8845094, 28.885757], \"marker\": {\"color\": \"#ab63fa\"}, \"mode\": \"markers\", \"name\": \"cluster=9\", \"showlegend\": true, \"subplot\": \"mapbox\", \"type\": \"scattermapbox\"}, {\"customdata\": [[0, \"7\"], [1, \"7\"], [1, \"7\"], [1, \"7\"], [0, \"7\"], [0, \"7\"], [0, \"7\"], [0, \"7\"], [1, \"7\"], [1, \"7\"], [1, \"7\"], [1, \"7\"], [1, \"7\"], [0, \"7\"], [0, \"7\"], [0, \"7\"], [0, \"7\"], [0, \"7\"], [0, \"7\"], [0, \"7\"], [0, \"7\"], [1, \"7\"], [1, \"7\"], [0, \"7\"], [1, \"7\"], [0, \"7\"], [1, \"7\"], [1, \"7\"], [0, \"7\"], [0, \"7\"], [0, \"7\"], [0, \"7\"], [0, \"7\"], [1, \"7\"], [1, \"7\"], [1, \"7\"], [1, \"7\"], [0, \"7\"], [0, \"7\"], [0, \"7\"], [0, \"7\"], [0, \"7\"], [0, \"7\"], [0, \"7\"], [0, \"7\"], [0, \"7\"], [0, \"7\"], [0, \"7\"], [0, \"7\"], [0, \"7\"], [0, \"7\"], [0, \"7\"], [0, \"7\"], [0, \"7\"], [0, \"7\"], [0, \"7\"], [0, \"7\"], [1, \"7\"], [0, \"7\"], [0, \"7\"], [1, \"7\"], [0, \"7\"], [1, \"7\"], [0, \"7\"], [1, \"7\"], [0, \"7\"], [1, \"7\"], [1, \"7\"], [1, \"7\"], [1, \"7\"], [1, \"7\"], [1, \"7\"], [0, \"7\"], [0, \"7\"], [0, \"7\"], [0, \"7\"], [0, \"7\"], [0, \"7\"], [0, \"7\"], [0, \"7\"], [0, \"7\"], [0, \"7\"], [0, \"7\"], [0, \"7\"], [0, \"7\"], [0, \"7\"], [0, \"7\"], [0, \"7\"], [0, \"7\"], [0, \"7\"], [0, \"7\"], [0, \"7\"]], \"hoverlabel\": {\"namelength\": 0}, \"hovertemplate\": \"<b>%{hovertext}</b><br><br>cluster=%{customdata[1]}<br>vSegDir=%{customdata[0]}<br>longitude=%{lat}<br>latitude=%{lon}\", \"hovertext\": [104.0, 104.0, 1118.0, 124.0, 132.0, 133.0, 134.0, 1753.0, 1753.0, 186.0, 187.0, 188.0, 205.0, 215.0, 216.0, 217.0, 219.0, 280.0, 281.0, 292.0, 293.0, 308.0, 309.0, 327.0, 327.0, 328.0, 328.0, 329.0, 336.0, 337.0, 338.0, 339.0, 340.0, 396.0, 397.0, 399.0, 405.0, 435.0, 436.0, 437.0, 456.0, 457.0, 458.0, 459.0, 460.0, 461.0, 462.0, 489.0, 490.0, 491.0, 492.0, 493.0, 494.0, 495.0, 496.0, 497.0, 49.0, 49.0, 502.0, 518.0, 518.0, 519.0, 519.0, 520.0, 520.0, 521.0, 521.0, 58.0, 59.0, 602.0, 614.0, 615.0, 620.0, 621.0, 622.0, 623.0, 624.0, 625.0, 626.0, 627.0, 628.0, 629.0, 630.0, 631.0, 632.0, 633.0, 634.0, 635.0, 636.0, 637.0, 638.0, 73.0], \"lat\": [40.993921, 40.988264, 41.070453, 41.013957, 41.0749619, 41.0707456, 41.0629935, 41.01576, 41.015975, 41.039465, 41.0308013, 41.02302750000001, 41.0405063, 41.0950138, 41.0863544, 41.0778658, 41.0597514, 41.005077, 40.9972044, 41.0637343, 41.0578749, 41.002372, 40.999591, 40.907638, 40.902427, 40.902309, 40.896593, 40.890703, 40.857208, 40.850747, 40.844682, 40.840029, 40.835375, 41.017961, 41.0195705, 41.0243179, 41.0089461, 41.0513571, 41.0533585, 41.0608913, 41.08337, 41.089053, 41.091172, 41.090945, 41.0939433, 41.0938224, 41.0915815, 41.0590006, 41.0563515, 41.05380820000001, 41.050441, 41.0458128, 41.044035, 41.04081400000001, 41.038311, 41.030585, 41.0869277, 41.0889613, 40.9653468, 41.001851, 41.002147, 41.002009, 41.00793, 41.00787, 41.015647, 41.016116, 41.017665, 41.0889965, 41.092135999999996, 41.0227053, 41.0070148, 41.0095651, 40.9967433, 40.9960874, 40.9945569, 40.9937066, 40.991097, 40.9897938, 40.9837333, 40.982278, 40.979109, 40.976082, 40.975765, 40.972726, 40.970377, 40.964753, 40.959763, 40.95489, 40.950496, 40.944857, 40.940278, 41.0993732], \"legendgroup\": \"cluster=7\", \"lon\": [28.920229, 28.919945, 28.945864, 28.812257, 28.8755117, 28.8785172, 28.8840979, 28.986478, 28.979715, 28.689107, 28.6867794, 28.6811791, 28.9786271, 28.9632276, 28.9610167, 28.958818800000003, 28.9573368, 29.121014, 29.1204898, 28.951544899999995, 28.962093199999998, 29.043359, 29.054643, 29.207435, 29.216986, 29.21691, 29.226015000000004, 29.234981, 29.288439, 29.296491, 29.305172, 29.315314, 29.325454, 28.5627554, 28.5743185, 28.5954304, 28.6590404, 28.9503377, 28.9551331, 28.9666308, 28.8761, 28.88515, 28.896579, 28.90844, 28.9195973, 28.9311853, 28.942651, 28.8444636, 28.8492435, 28.8629224, 28.8724081, 28.8826236, 28.894113, 28.905102000000007, 28.916224, 28.921748, 29.0853272, 29.0914482, 28.8067522, 28.971337, 28.977936, 28.977956, 28.986211, 28.986337, 28.986396000000006, 28.979717, 28.971687, 29.018377, 29.031932, 29.078402, 29.0782832, 29.0896772, 29.130623, 29.142124300000006, 29.153918, 29.166814, 29.1756841, 29.1898441, 29.2014724, 29.209538, 29.220451, 29.231565000000003, 29.2434, 29.254452, 29.265845, 29.27488, 29.284689, 29.29462, 29.304935, 29.314144, 29.324323, 29.0077836], \"marker\": {\"color\": \"#FFA15A\"}, \"mode\": \"markers\", \"name\": \"cluster=7\", \"showlegend\": true, \"subplot\": \"mapbox\", \"type\": \"scattermapbox\"}, {\"customdata\": [[0, \"14\"], [0, \"14\"], [1, \"14\"]], \"hoverlabel\": {\"namelength\": 0}, \"hovertemplate\": \"<b>%{hovertext}</b><br><br>cluster=%{customdata[1]}<br>vSegDir=%{customdata[0]}<br>longitude=%{lat}<br>latitude=%{lon}\", \"hovertext\": [105.0, 1766.0, 1766.0], \"lat\": [41.01654600000001, 41.019089, 41.018714], \"legendgroup\": \"cluster=14\", \"lon\": [28.910908000000006, 28.919722, 28.926372], \"marker\": {\"color\": \"#19d3f3\"}, \"mode\": \"markers\", \"name\": \"cluster=14\", \"showlegend\": true, \"subplot\": \"mapbox\", \"type\": \"scattermapbox\"}, {\"customdata\": [[0, \"19\"], [1, \"19\"], [0, \"19\"], [1, \"19\"], [1, \"19\"], [0, \"19\"], [1, \"19\"]], \"hoverlabel\": {\"namelength\": 0}, \"hovertemplate\": \"<b>%{hovertext}</b><br><br>cluster=%{customdata[1]}<br>vSegDir=%{customdata[0]}<br>longitude=%{lat}<br>latitude=%{lon}\", \"hovertext\": [106.0, 106.0, 107.0, 107.0, 498.0, 94.0, 94.0], \"lat\": [41.01859, 41.015294, 41.015172, 41.011918, 41.017584, 41.02796, 41.021401], \"legendgroup\": \"cluster=19\", \"lon\": [28.926306, 28.933397, 28.933328000000003, 28.940334000000004, 28.939588, 28.937834, 28.945798], \"marker\": {\"color\": \"#FF6692\"}, \"mode\": \"markers\", \"name\": \"cluster=19\", \"showlegend\": true, \"subplot\": \"mapbox\", \"type\": \"scattermapbox\"}, {\"customdata\": [[0, \"20\"], [1, \"20\"], [0, \"20\"], [0, \"20\"], [1, \"20\"], [0, \"20\"], [1, \"20\"]], \"hoverlabel\": {\"namelength\": 0}, \"hovertemplate\": \"<b>%{hovertext}</b><br><br>cluster=%{customdata[1]}<br>vSegDir=%{customdata[0]}<br>longitude=%{lat}<br>latitude=%{lon}\", \"hovertext\": [108.0, 108.0, 297.0, 95.0, 95.0, 96.0, 96.0], \"lat\": [41.011787, 41.009855, 41.060487, 41.021301, 41.015012, 41.01489, 41.012078], \"legendgroup\": \"cluster=20\", \"lon\": [28.940286, 28.948166, 28.9874924, 28.9457, 28.95392, 28.953851, 28.959848], \"marker\": {\"color\": \"#B6E880\"}, \"mode\": \"markers\", \"name\": \"cluster=20\", \"showlegend\": true, \"subplot\": \"mapbox\", \"type\": \"scattermapbox\"}, {\"customdata\": [[0, \"41\"], [0, \"41\"], [0, \"41\"], [1, \"41\"], [0, \"41\"], [1, \"41\"], [0, \"41\"], [0, \"41\"], [0, \"41\"], [0, \"41\"], [0, \"41\"], [1, \"41\"], [0, \"41\"], [1, \"41\"], [0, \"41\"], [0, \"41\"], [0, \"41\"], [1, \"41\"], [1, \"41\"], [0, \"41\"], [0, \"41\"], [1, \"41\"], [0, \"41\"], [1, \"41\"], [0, \"41\"], [1, \"41\"], [0, \"41\"], [1, \"41\"], [0, \"41\"], [1, \"41\"], [0, \"41\"], [1, \"41\"], [0, \"41\"], [1, \"41\"], [0, \"41\"], [1, \"41\"], [0, \"41\"], [1, \"41\"], [0, \"41\"], [1, \"41\"], [0, \"41\"], [1, \"41\"], [0, \"41\"], [1, \"41\"], [0, \"41\"], [1, \"41\"], [0, \"41\"], [0, \"41\"], [0, \"41\"], [1, \"41\"], [0, \"41\"], [1, \"41\"], [0, \"41\"], [1, \"41\"], [0, \"41\"], [0, \"41\"], [1, \"41\"], [0, \"41\"], [1, \"41\"], [1, \"41\"], [1, \"41\"], [0, \"41\"], [1, \"41\"], [1, \"41\"], [0, \"41\"], [0, \"41\"]], \"hoverlabel\": {\"namelength\": 0}, \"hovertemplate\": \"<b>%{hovertext}</b><br><br>cluster=%{customdata[1]}<br>vSegDir=%{customdata[0]}<br>longitude=%{lat}<br>latitude=%{lon}\", \"hovertext\": [1108.0, 1109.0, 1128.0, 1128.0, 1129.0, 1129.0, 1235.0, 1725.0, 1726.0, 1727.0, 1743.0, 1743.0, 1744.0, 1744.0, 1780.0, 1794.0, 1798.0, 218.0, 294.0, 307.0, 368.0, 368.0, 369.0, 369.0, 370.0, 370.0, 371.0, 371.0, 372.0, 372.0, 373.0, 373.0, 374.0, 374.0, 375.0, 375.0, 376.0, 376.0, 377.0, 377.0, 378.0, 378.0, 379.0, 379.0, 383.0, 383.0, 509.0, 510.0, 556.0, 556.0, 557.0, 557.0, 558.0, 558.0, 568.0, 569.0, 569.0, 570.0, 570.0, 571.0, 572.0, 582.0, 61.0, 749.0, 820.0, 821.0], \"lat\": [41.1007258, 41.10236, 41.0838796, 41.0831118, 41.0831224, 41.0760645, 41.0683956, 41.0978454, 41.0894049, 41.0806124, 41.0723221, 41.0652377, 41.0653269, 41.068796, 40.9747233, 40.9660514, 40.9644622, 41.05962570000001, 41.0949598, 41.0055318, 41.078089, 41.075775, 41.075638, 41.073463, 41.073325, 41.071571, 41.071433, 41.0697818, 41.069665, 41.0680059, 41.067879, 41.066206, 41.066068, 41.064436, 41.064298, 41.062643, 41.062505, 41.060869, 41.060731, 41.0590657, 41.058805, 41.05872520000001, 41.0566193, 41.053992, 41.04468, 41.0417, 40.9773824, 40.9798369, 41.064089, 41.0566868, 41.0566904, 41.0521818, 41.0521917, 41.0448793, 41.077114, 41.0757431, 41.0709398, 41.0708862, 41.0626304, 41.0546679, 41.047167, 40.938147, 41.097509, 41.091635, 40.937598, 40.933405], \"legendgroup\": \"cluster=41\", \"lon\": [28.977490000000003, 28.967084000000003, 28.951971, 28.9485974, 28.9485393, 28.9472522, 28.8594107, 28.8491993, 28.8449122, 28.8414896, 28.854092600000005, 28.8453436, 28.8448944, 28.833807, 28.8777762, 28.806179600000004, 28.8088457, 28.957438, 28.9634661, 29.020259600000006, 28.242354, 28.25379, 28.253761, 28.265247, 28.265222, 28.276833, 28.276811, 28.2884493, 28.288436, 28.3000519, 28.300056, 28.311691, 28.311669, 28.323314, 28.323292, 28.334931, 28.334909000000003, 28.346552000000006, 28.34653, 28.358151300000007, 28.358112, 28.3683239, 28.367583000000003, 28.377745500000003, 28.411084, 28.4222153, 28.8824867, 28.8877385, 28.951394, 28.950756899999995, 28.9506333, 28.9415365, 28.9414208, 28.9456484, 29.0665892, 29.0633973, 29.0566744, 29.0565899, 29.0544535, 29.0522005, 29.052363, 29.112668, 29.052657, 29.04706, 29.12384, 29.117045], \"marker\": {\"color\": \"#FF97FF\"}, \"mode\": \"markers\", \"name\": \"cluster=41\", \"showlegend\": true, \"subplot\": \"mapbox\", \"type\": \"scattermapbox\"}, {\"customdata\": [[1, \"43\"], [1, \"43\"]], \"hoverlabel\": {\"namelength\": 0}, \"hovertemplate\": \"<b>%{hovertext}</b><br><br>cluster=%{customdata[1]}<br>vSegDir=%{customdata[0]}<br>longitude=%{lat}<br>latitude=%{lon}\", \"hovertext\": [1108.0, 1109.0], \"lat\": [41.102238, 41.09978570000001], \"legendgroup\": \"cluster=43\", \"lon\": [28.967152, 28.95598], \"marker\": {\"color\": \"#FECB52\"}, \"mode\": \"markers\", \"name\": \"cluster=43\", \"showlegend\": true, \"subplot\": \"mapbox\", \"type\": \"scattermapbox\"}, {\"customdata\": [[0, \"72\"]], \"hoverlabel\": {\"namelength\": 0}, \"hovertemplate\": \"<b>%{hovertext}</b><br><br>cluster=%{customdata[1]}<br>vSegDir=%{customdata[0]}<br>longitude=%{lat}<br>latitude=%{lon}\", \"hovertext\": [1118.0], \"lat\": [41.063704], \"legendgroup\": \"cluster=72\", \"lon\": [28.94966], \"marker\": {\"color\": \"#636efa\"}, \"mode\": \"markers\", \"name\": \"cluster=72\", \"showlegend\": true, \"subplot\": \"mapbox\", \"type\": \"scattermapbox\"}, {\"customdata\": [[1, \"17\"], [1, \"17\"], [1, \"17\"], [1, \"17\"], [0, \"17\"], [1, \"17\"], [0, \"17\"], [1, \"17\"], [0, \"17\"], [1, \"17\"], [0, \"17\"], [0, \"17\"], [0, \"17\"], [0, \"17\"], [0, \"17\"], [0, \"17\"], [1, \"17\"], [0, \"17\"], [0, \"17\"], [1, \"17\"], [0, \"17\"], [1, \"17\"], [0, \"17\"], [0, \"17\"], [0, \"17\"], [0, \"17\"], [0, \"17\"], [0, \"17\"], [0, \"17\"], [0, \"17\"], [0, \"17\"], [1, \"17\"], [1, \"17\"], [1, \"17\"], [1, \"17\"], [1, \"17\"], [1, \"17\"], [1, \"17\"], [1, \"17\"], [1, \"17\"], [1, \"17\"], [1, \"17\"], [1, \"17\"], [1, \"17\"], [1, \"17\"], [1, \"17\"], [1, \"17\"], [1, \"17\"], [1, \"17\"], [1, \"17\"], [1, \"17\"], [1, \"17\"], [1, \"17\"], [1, \"17\"], [1, \"17\"], [1, \"17\"], [1, \"17\"], [1, \"17\"], [1, \"17\"], [1, \"17\"], [1, \"17\"], [1, \"17\"], [0, \"17\"], [0, \"17\"], [0, \"17\"], [0, \"17\"], [0, \"17\"], [1, \"17\"], [1, \"17\"], [1, \"17\"], [0, \"17\"], [0, \"17\"], [0, \"17\"], [0, \"17\"], [0, \"17\"], [0, \"17\"], [0, \"17\"], [0, \"17\"], [0, \"17\"], [0, \"17\"], [0, \"17\"], [0, \"17\"], [0, \"17\"], [0, \"17\"], [0, \"17\"], [0, \"17\"], [0, \"17\"], [0, \"17\"], [0, \"17\"], [0, \"17\"], [0, \"17\"], [1, \"17\"], [1, \"17\"], [1, \"17\"], [1, \"17\"], [1, \"17\"], [1, \"17\"], [1, \"17\"], [0, \"17\"], [1, \"17\"], [1, \"17\"], [1, \"17\"], [0, \"17\"], [0, \"17\"], [0, \"17\"], [0, \"17\"], [0, \"17\"], [0, \"17\"], [0, \"17\"], [0, \"17\"], [0, \"17\"], [0, \"17\"], [0, \"17\"], [1, \"17\"], [1, \"17\"], [1, \"17\"], [1, \"17\"], [0, \"17\"], [1, \"17\"], [1, \"17\"], [1, \"17\"], [1, \"17\"], [1, \"17\"], [0, \"17\"], [0, \"17\"], [0, \"17\"], [0, \"17\"], [1, \"17\"], [0, \"17\"], [1, \"17\"], [1, \"17\"], [0, \"17\"], [1, \"17\"], [1, \"17\"], [1, \"17\"], [1, \"17\"], [1, \"17\"], [0, \"17\"]], \"hoverlabel\": {\"namelength\": 0}, \"hovertemplate\": \"<b>%{hovertext}</b><br><br>cluster=%{customdata[1]}<br>vSegDir=%{customdata[0]}<br>longitude=%{lat}<br>latitude=%{lon}\", \"hovertext\": [113.0, 119.0, 120.0, 121.0, 1745.0, 1745.0, 1746.0, 1746.0, 1747.0, 1747.0, 1748.0, 1749.0, 1750.0, 1756.0, 1769.0, 1777.0, 1779.0, 1788.0, 1793.0, 1793.0, 186.0, 219.0, 308.0, 309.0, 310.0, 311.0, 312.0, 313.0, 314.0, 315.0, 316.0, 322.0, 323.0, 324.0, 330.0, 331.0, 332.0, 333.0, 334.0, 335.0, 336.0, 406.0, 407.0, 408.0, 409.0, 412.0, 413.0, 414.0, 415.0, 416.0, 417.0, 418.0, 419.0, 420.0, 421.0, 422.0, 423.0, 427.0, 428.0, 429.0, 430.0, 437.0, 440.0, 441.0, 442.0, 443.0, 444.0, 452.0, 453.0, 454.0, 463.0, 464.0, 465.0, 466.0, 467.0, 468.0, 469.0, 470.0, 471.0, 472.0, 475.0, 476.0, 477.0, 478.0, 479.0, 480.0, 481.0, 482.0, 483.0, 484.0, 485.0, 487.0, 489.0, 490.0, 504.0, 505.0, 506.0, 507.0, 508.0, 508.0, 580.0, 581.0, 58.0, 59.0, 602.0, 603.0, 604.0, 605.0, 606.0, 607.0, 608.0, 616.0, 617.0, 622.0, 623.0, 624.0, 625.0, 62.0, 68.0, 69.0, 70.0, 71.0, 72.0, 735.0, 736.0, 737.0, 738.0, 738.0, 739.0, 739.0, 73.0, 740.0, 740.0, 741.0, 742.0, 74.0, 75.0, 76.0], \"lat\": [40.983808, 41.058524, 41.049699, 41.0455719, 41.0671546, 41.0670737, 41.0665548, 41.0673205, 41.06652070000001, 41.0667734, 41.0916509, 41.0904012, 41.0662964, 41.072088, 41.101742, 41.055088, 40.97450300000001, 41.0473545, 41.0635218, 41.0620327, 41.04796500000001, 41.056043, 41.00445300000001, 41.002236, 40.999459, 40.99551, 40.991414, 40.987351, 40.9812175, 40.973178, 40.965025, 40.92141, 40.918114, 40.914716, 40.884881, 40.880568, 40.875915, 40.868594, 40.861726, 40.857332, 40.850855, 41.0061705, 41.005648, 41.000196, 40.997664, 40.981172, 40.977474, 40.980386, 40.984181, 40.9866098, 40.985873, 40.991334, 40.99904, 40.999776, 40.993647, 40.992717, 40.992033, 41.002142, 41.00721400000001, 41.013169, 41.01882, 41.0667219, 41.0666177, 41.06260200000001, 41.0582566, 41.053088, 41.045859, 41.065106, 41.069135, 41.0754955, 41.09640170000001, 41.0996615, 41.0998191, 41.1008231, 41.1016518, 41.0988149, 41.0950338, 41.0919426, 41.0906019, 41.0909433, 41.0870382, 41.0780085, 41.0745149, 41.067382, 41.060195, 41.0518507, 41.0384183, 41.033911, 41.024911, 41.015923, 41.006965, 40.9872106, 41.0564896, 41.0549025, 40.9643239, 40.9699945, 40.9761954, 40.97568320000001, 40.974342, 40.9748634, 40.944919, 40.938235, 41.0804807, 41.0888568, 41.0203451, 41.02262879999999, 41.02896550000001, 41.030645, 41.029065, 41.030354, 41.028295, 41.0094479, 41.0055308, 40.9938, 40.991261, 40.9905191, 40.9871483, 41.050658, 41.1317037, 41.1228625, 41.1139717, 41.1079818, 41.1061467, 41.0609205, 41.06221710000001, 41.06215260000001, 41.0638228, 41.063729, 41.06183720000001, 41.0613732, 41.094526, 41.0611777, 41.06352, 41.064018, 41.061805, 41.0858737, 41.078281, 41.0781112], \"legendgroup\": \"cluster=17\", \"lon\": [28.801023, 28.810823, 28.808344, 28.80805, 28.9845218, 28.9906641, 28.972615500000003, 28.9845701, 28.996768100000004, 29.0029131, 29.0707505, 29.0892516, 29.0124985, 29.015889, 28.9930331, 29.012662, 28.873232, 29.1212122, 28.7965462, 28.8033799, 28.689187, 28.96033, 29.03183, 29.043329, 29.054595000000006, 29.065265000000004, 29.075832, 29.086411, 29.094921600000006, 29.10011, 29.105132, 29.163579, 29.174617, 29.185602000000006, 29.244017, 29.254114, 29.263774, 29.270612, 29.278246000000006, 29.288503, 29.296579, 28.6700747, 28.681982, 28.69116, 28.701982, 28.730066, 28.740488, 28.751534000000003, 28.762266, 28.7733155, 28.785012, 28.793631, 28.799059000000003, 28.810194, 28.81845, 28.830183, 28.841993, 28.886849, 28.896509000000002, 28.905325, 28.914534000000003, 28.9725109, 29.0028809, 29.015423, 29.0176095, 29.026214000000003, 29.033887, 28.851653, 28.862265, 28.8702859, 28.9524277, 28.9629197, 28.9748417, 28.986683000000006, 28.9983935, 29.0091955, 29.0204259, 29.031656899999994, 29.0447516, 29.0551587, 29.0929022, 29.0980413, 29.1016393, 29.109094, 29.116225, 29.120534000000006, 29.1210006, 29.120951, 29.120664, 29.121232, 29.121419, 29.1078315, 28.8492729, 28.8560045, 28.8339071, 28.8412077, 28.8519281, 28.8662192, 28.873178000000006, 28.877719300000006, 29.105093, 29.112776, 29.0116377, 29.0185196, 29.067691600000003, 29.0784701, 29.0865773, 29.097105, 29.108675, 29.119867, 29.130535, 29.0893875, 29.0997461, 29.166905, 29.175739, 29.182781800000004, 29.1959062, 29.0086834, 29.0246564, 29.0238142, 29.0248495, 29.0190184, 29.0137237, 28.7530689, 28.7647542, 28.7766952, 28.7882559, 28.796601000000006, 28.8033153, 28.811622600000003, 29.005434, 28.8115771, 28.823132, 28.834935, 28.841422, 29.0074514, 29.0131725, 29.013129600000006], \"marker\": {\"color\": \"#EF553B\"}, \"mode\": \"markers\", \"name\": \"cluster=17\", \"showlegend\": true, \"subplot\": \"mapbox\", \"type\": \"scattermapbox\"}, {\"customdata\": [[0, \"35\"], [1, \"35\"], [1, \"35\"], [0, \"35\"], [1, \"35\"], [0, \"35\"], [1, \"35\"], [0, \"35\"], [1, \"35\"], [0, \"35\"], [1, \"35\"], [1, \"35\"], [1, \"35\"], [1, \"35\"], [1, \"35\"], [0, \"35\"], [0, \"35\"], [1, \"35\"], [0, \"35\"], [1, \"35\"], [0, \"35\"], [0, \"35\"], [0, \"35\"], [1, \"35\"], [0, \"35\"], [1, \"35\"], [0, \"35\"], [1, \"35\"], [0, \"35\"], [0, \"35\"], [0, \"35\"], [0, \"35\"], [1, \"35\"], [0, \"35\"], [1, \"35\"], [0, \"35\"], [1, \"35\"], [0, \"35\"], [1, \"35\"], [0, \"35\"], [1, \"35\"], [0, \"35\"], [1, \"35\"], [0, \"35\"], [1, \"35\"], [0, \"35\"], [1, \"35\"], [0, \"35\"], [1, \"35\"], [0, \"35\"], [1, \"35\"], [0, \"35\"], [1, \"35\"], [0, \"35\"], [1, \"35\"], [0, \"35\"], [1, \"35\"], [0, \"35\"], [1, \"35\"], [0, \"35\"], [1, \"35\"], [0, \"35\"], [1, \"35\"], [1, \"35\"], [1, \"35\"], [0, \"35\"], [1, \"35\"], [0, \"35\"], [1, \"35\"], [1, \"35\"], [0, \"35\"], [1, \"35\"], [1, \"35\"], [0, \"35\"], [1, \"35\"], [1, \"35\"], [1, \"35\"], [1, \"35\"], [1, \"35\"], [1, \"35\"], [1, \"35\"], [1, \"35\"], [1, \"35\"], [1, \"35\"], [1, \"35\"], [1, \"35\"], [1, \"35\"], [0, \"35\"], [1, \"35\"], [0, \"35\"], [1, \"35\"], [0, \"35\"], [1, \"35\"], [0, \"35\"], [1, \"35\"], [0, \"35\"], [1, \"35\"], [0, \"35\"], [1, \"35\"], [1, \"35\"], [1, \"35\"], [1, \"35\"], [1, \"35\"], [1, \"35\"], [1, \"35\"], [1, \"35\"], [0, \"35\"], [1, \"35\"], [0, \"35\"], [1, \"35\"], [0, \"35\"], [1, \"35\"], [0, \"35\"], [1, \"35\"], [0, \"35\"], [1, \"35\"], [0, \"35\"], [1, \"35\"], [1, \"35\"]], \"hoverlabel\": {\"namelength\": 0}, \"hovertemplate\": \"<b>%{hovertext}</b><br><br>cluster=%{customdata[1]}<br>vSegDir=%{customdata[0]}<br>longitude=%{lat}<br>latitude=%{lon}\", \"hovertext\": [116.0, 116.0, 1172.0, 117.0, 117.0, 118.0, 118.0, 1256.0, 1260.0, 16.0, 16.0, 1789.0, 17.0, 18.0, 19.0, 218.0, 22.0, 22.0, 23.0, 23.0, 254.0, 255.0, 256.0, 256.0, 257.0, 257.0, 258.0, 258.0, 299.0, 399.0, 401.0, 402.0, 488.0, 66.0, 66.0, 683.0, 683.0, 684.0, 684.0, 685.0, 685.0, 686.0, 686.0, 687.0, 687.0, 688.0, 688.0, 689.0, 689.0, 690.0, 690.0, 691.0, 691.0, 692.0, 692.0, 693.0, 693.0, 694.0, 694.0, 695.0, 695.0, 696.0, 696.0, 697.0, 698.0, 699.0, 699.0, 700.0, 700.0, 701.0, 702.0, 702.0, 703.0, 704.0, 704.0, 705.0, 706.0, 707.0, 708.0, 709.0, 710.0, 711.0, 712.0, 713.0, 715.0, 716.0, 717.0, 718.0, 718.0, 719.0, 719.0, 720.0, 720.0, 721.0, 721.0, 722.0, 722.0, 723.0, 723.0, 724.0, 725.0, 726.0, 727.0, 728.0, 871.0, 872.0, 881.0, 881.0, 882.0, 882.0, 888.0, 888.0, 889.0, 889.0, 890.0, 890.0, 891.0, 891.0, 892.0], \"lat\": [41.0885163, 41.0846541, 41.0132728, 41.084505, 41.0763689, 41.0762452, 41.0673978, 41.0454506, 40.981017, 40.937657, 40.927315, 41.01745579999999, 40.918477, 40.909414, 40.89951, 41.0686763, 40.881846, 40.877408, 40.877546, 40.873994, 41.1422278, 41.1379559, 41.13491, 41.129953, 41.1298885, 41.1196251, 41.1195786, 41.10964600000001, 41.0545449, 41.0228077, 41.0259734, 41.0258851, 40.9822659, 41.154055, 41.148868, 41.122259, 41.118508, 41.118386, 41.11303, 41.112908, 41.108195, 41.108062, 41.10642100000001, 41.106281, 41.106379, 41.106239, 41.104675, 41.104538, 41.102202, 41.102065, 41.10048, 41.10034, 41.099322, 41.099182, 41.09699000000001, 41.096857, 41.091463, 41.091357, 41.083846, 41.083762, 41.076218, 41.076115, 41.070094, 41.066957, 41.0634223, 41.0633068, 41.05812, 41.057986, 41.055074, 41.05116339999999, 41.051048, 41.05176210000001, 41.056328, 41.056088, 41.058563, 41.05934970000001, 41.06077, 41.066097, 41.074389, 41.083387, 41.091992, 41.0989239, 41.1038289, 41.1063944, 41.1061265, 41.10683220000001, 41.1049374, 41.104778, 41.1028312, 41.10264229999999, 41.100868, 41.1006811, 41.0974759, 41.09727, 41.0919816, 41.091851, 41.085005, 41.084909, 41.0776079, 41.0695636, 41.061411, 41.05571, 41.0539569, 41.0563657, 41.1088289, 41.098543, 41.1694499, 41.17389, 41.163588, 41.1692715, 41.13596550000001, 41.136125, 41.1290461, 41.1357759, 41.123535, 41.1288613, 41.1159529, 41.123347, 41.1159342], \"legendgroup\": \"cluster=35\", \"lon\": [28.8015873, 28.8046887, 28.900002500000006, 28.804428, 28.8094946, 28.8092451, 28.8105184, 28.968255600000006, 29.0884549, 29.329412, 29.32651, 28.9007453, 29.321799, 29.327047, 29.327752, 28.9570311, 29.317657, 29.306626, 29.306602, 29.294727, 28.9071847, 28.9196979, 28.9325901, 28.9443505, 28.9441984, 28.946647100000003, 28.9464522, 28.950347999999998, 28.9688778, 28.5848091, 28.6084285, 28.6176059, 29.0994751, 29.037198, 29.028818, 28.242087, 28.252771000000006, 28.252702000000006, 28.262219, 28.262149, 28.272175, 28.272132, 28.283723, 28.283723, 28.295625, 28.295613, 28.307296, 28.307267, 28.318743, 28.318716, 28.330409000000003, 28.330394, 28.342211, 28.342197, 28.353653, 28.353607, 28.362988, 28.362896000000006, 28.369304, 28.369191999999998, 28.375572, 28.375477000000004, 28.384198, 28.3952623, 28.4061302, 28.4059862, 28.415613, 28.415575, 28.426772, 28.4375514, 28.4373409, 28.4493467, 28.4594184, 28.4593595, 28.470746, 28.482796500000006, 28.494265, 28.503595, 28.507522, 28.507776, 28.5103357, 28.5178654, 28.5278852, 28.5392641, 28.5633857, 28.575074800000003, 28.5865785, 28.586457300000006, 28.5979728, 28.5979966, 28.609655, 28.6096251, 28.6205239, 28.620556, 28.6301055, 28.630001, 28.637614000000006, 28.637512, 28.6444335, 28.6497546, 28.654572, 28.663573, 28.675111600000005, 28.6865274, 28.8489848, 28.856977, 28.7615454, 28.754636, 28.770536, 28.7615278, 28.822323200000003, 28.812072, 28.830181300000003, 28.8226191, 28.839371000000003, 28.8302842, 28.8455183, 28.8392982, 28.8453234], \"marker\": {\"color\": \"#00cc96\"}, \"mode\": \"markers\", \"name\": \"cluster=35\", \"showlegend\": true, \"subplot\": \"mapbox\", \"type\": \"scattermapbox\"}, {\"customdata\": [[0, \"57\"], [0, \"57\"], [0, \"57\"], [0, \"57\"], [1, \"57\"], [0, \"57\"], [1, \"57\"]], \"hoverlabel\": {\"namelength\": 0}, \"hovertemplate\": \"<b>%{hovertext}</b><br><br>cluster=%{customdata[1]}<br>vSegDir=%{customdata[0]}<br>longitude=%{lat}<br>latitude=%{lon}\", \"hovertext\": [1172.0, 15.0, 1789.0, 529.0, 529.0, 530.0, 530.0], \"lat\": [41.0173319, 40.951541, 41.0207299, 41.061567, 41.07006320000001, 41.0701046, 41.0738117], \"legendgroup\": \"cluster=57\", \"lon\": [28.900554600000003, 29.097518, 28.9005139, 28.9423913, 28.9422629, 28.9423495, 28.9458238], \"marker\": {\"color\": \"#ab63fa\"}, \"mode\": \"markers\", \"name\": \"cluster=57\", \"showlegend\": true, \"subplot\": \"mapbox\", \"type\": \"scattermapbox\"}, {\"customdata\": [[0, \"70\"], [0, \"70\"], [1, \"70\"], [0, \"70\"], [1, \"70\"], [0, \"70\"], [1, \"70\"], [0, \"70\"], [1, \"70\"], [1, \"70\"]], \"hoverlabel\": {\"namelength\": 0}, \"hovertemplate\": \"<b>%{hovertext}</b><br><br>cluster=%{customdata[1]}<br>vSegDir=%{customdata[0]}<br>longitude=%{lat}<br>latitude=%{lon}\", \"hovertext\": [1181.0, 1187.0, 1187.0, 1188.0, 1188.0, 1774.0, 1780.0, 184.0, 509.0, 510.0], \"lat\": [41.018562, 41.008048, 41.016743, 41.003436, 41.008156, 41.01896, 40.977547, 41.022373, 40.97988970000001, 40.980298], \"legendgroup\": \"cluster=70\", \"lon\": [28.891812, 28.874745, 28.881094, 28.866082, 28.87466, 28.896969, 28.8825287, 28.6288847, 28.8875702, 28.898115], \"marker\": {\"color\": \"#FFA15A\"}, \"mode\": \"markers\", \"name\": \"cluster=70\", \"showlegend\": true, \"subplot\": \"mapbox\", \"type\": \"scattermapbox\"}, {\"customdata\": [[0, \"55\"]], \"hoverlabel\": {\"namelength\": 0}, \"hovertemplate\": \"<b>%{hovertext}</b><br><br>cluster=%{customdata[1]}<br>vSegDir=%{customdata[0]}<br>longitude=%{lat}<br>latitude=%{lon}\", \"hovertext\": [1183.0], \"lat\": [41.010254], \"legendgroup\": \"cluster=55\", \"lon\": [28.881188], \"marker\": {\"color\": \"#19d3f3\"}, \"mode\": \"markers\", \"name\": \"cluster=55\", \"showlegend\": true, \"subplot\": \"mapbox\", \"type\": \"scattermapbox\"}, {\"customdata\": [[1, \"53\"], [1, \"53\"]], \"hoverlabel\": {\"namelength\": 0}, \"hovertemplate\": \"<b>%{hovertext}</b><br><br>cluster=%{customdata[1]}<br>vSegDir=%{customdata[0]}<br>longitude=%{lat}<br>latitude=%{lon}\", \"hovertext\": [1183.0, 1184.0], \"lat\": [41.019055, 41.0054445], \"legendgroup\": \"cluster=53\", \"lon\": [28.883132, 28.8818571], \"marker\": {\"color\": \"#FF6692\"}, \"mode\": \"markers\", \"name\": \"cluster=53\", \"showlegend\": true, \"subplot\": \"mapbox\", \"type\": \"scattermapbox\"}, {\"customdata\": [[0, \"42\"], [1, \"42\"], [0, \"42\"], [0, \"42\"], [0, \"42\"], [1, \"42\"], [1, \"42\"], [1, \"42\"]], \"hoverlabel\": {\"namelength\": 0}, \"hovertemplate\": \"<b>%{hovertext}</b><br><br>cluster=%{customdata[1]}<br>vSegDir=%{customdata[0]}<br>longitude=%{lat}<br>latitude=%{lon}\", \"hovertext\": [1190.0, 1257.0, 231.0, 233.0, 234.0, 237.0, 238.0, 239.0], \"lat\": [40.9920258, 41.051246, 41.060832, 41.061565, 41.062364, 41.0632683, 41.0645233, 41.0634971], \"legendgroup\": \"cluster=42\", \"lon\": [28.8513178, 28.793325, 28.748361, 28.771617, 28.78345, 28.778191600000003, 28.7896606, 28.8013933], \"marker\": {\"color\": \"#B6E880\"}, \"mode\": \"markers\", \"name\": \"cluster=42\", \"showlegend\": true, \"subplot\": \"mapbox\", \"type\": \"scattermapbox\"}, {\"customdata\": [[1, \"67\"]], \"hoverlabel\": {\"namelength\": 0}, \"hovertemplate\": \"<b>%{hovertext}</b><br><br>cluster=%{customdata[1]}<br>vSegDir=%{customdata[0]}<br>longitude=%{lat}<br>latitude=%{lon}\", \"hovertext\": [1194.0], \"lat\": [41.029316], \"legendgroup\": \"cluster=67\", \"lon\": [28.805437], \"marker\": {\"color\": \"#FF97FF\"}, \"mode\": \"markers\", \"name\": \"cluster=67\", \"showlegend\": true, \"subplot\": \"mapbox\", \"type\": \"scattermapbox\"}, {\"customdata\": [[1, \"33\"]], \"hoverlabel\": {\"namelength\": 0}, \"hovertemplate\": \"<b>%{hovertext}</b><br><br>cluster=%{customdata[1]}<br>vSegDir=%{customdata[0]}<br>longitude=%{lat}<br>latitude=%{lon}\", \"hovertext\": [1204.0], \"lat\": [41.005255], \"legendgroup\": \"cluster=33\", \"lon\": [28.797051], \"marker\": {\"color\": \"#FECB52\"}, \"mode\": \"markers\", \"name\": \"cluster=33\", \"showlegend\": true, \"subplot\": \"mapbox\", \"type\": \"scattermapbox\"}, {\"customdata\": [[0, \"39\"], [1, \"39\"], [1, \"39\"], [1, \"39\"], [1, \"39\"], [1, \"39\"], [1, \"39\"], [1, \"39\"], [1, \"39\"], [1, \"39\"], [0, \"39\"], [0, \"39\"], [0, \"39\"], [0, \"39\"], [0, \"39\"], [1, \"39\"], [0, \"39\"], [0, \"39\"], [0, \"39\"], [0, \"39\"], [0, \"39\"], [0, \"39\"], [1, \"39\"], [1, \"39\"], [0, \"39\"], [1, \"39\"], [0, \"39\"], [1, \"39\"], [1, \"39\"]], \"hoverlabel\": {\"namelength\": 0}, \"hovertemplate\": \"<b>%{hovertext}</b><br><br>cluster=%{customdata[1]}<br>vSegDir=%{customdata[0]}<br>longitude=%{lat}<br>latitude=%{lon}\", \"hovertext\": [1236.0, 1236.0, 1237.0, 1238.0, 1709.0, 1710.0, 1725.0, 1726.0, 1727.0, 1728.0, 1782.0, 17.0, 18.0, 19.0, 356.0, 356.0, 357.0, 384.0, 385.0, 386.0, 48.0, 501.0, 53.0, 594.0, 598.0, 598.0, 599.0, 820.0, 821.0], \"lat\": [41.063675, 41.0683773, 41.063586, 41.058169, 41.07046500000001, 41.0689243, 41.1072356, 41.0980568, 41.0894902, 41.0806089, 41.0800232, 40.927394, 40.918433, 40.909396, 41.066854, 41.071027, 41.070891, 41.041614, 41.0385543, 41.0355021, 41.08007, 40.96459829999999, 41.113449, 40.871281, 40.867384, 40.866941, 40.866815, 40.94325300000001, 40.937734000000006], \"legendgroup\": \"cluster=39\", \"lon\": [28.867668, 28.859251500000006, 28.867559000000004, 28.875786, 28.823184, 28.8339522, 28.849815600000003, 28.8491144, 28.844776799999998, 28.8413185, 29.0698946, 29.326395, 29.321668, 29.326909000000004, 28.10336, 28.113866, 28.113902000000003, 28.422223, 28.4332942, 28.4443463, 29.076703, 28.803754, 29.118967, 29.228404, 29.258456, 29.267976, 29.267914, 29.129777, 29.123811], \"marker\": {\"color\": \"#636efa\"}, \"mode\": \"markers\", \"name\": \"cluster=39\", \"showlegend\": true, \"subplot\": \"mapbox\", \"type\": \"scattermapbox\"}, {\"customdata\": [[0, \"40\"], [0, \"40\"]], \"hoverlabel\": {\"namelength\": 0}, \"hovertemplate\": \"<b>%{hovertext}</b><br><br>cluster=%{customdata[1]}<br>vSegDir=%{customdata[0]}<br>longitude=%{lat}<br>latitude=%{lon}\", \"hovertext\": [1254.0, 1255.0], \"lat\": [40.981482, 40.9753756], \"legendgroup\": \"cluster=40\", \"lon\": [28.859803000000007, 28.8684251], \"marker\": {\"color\": \"#EF553B\"}, \"mode\": \"markers\", \"name\": \"cluster=40\", \"showlegend\": true, \"subplot\": \"mapbox\", \"type\": \"scattermapbox\"}, {\"customdata\": [[0, \"54\"], [0, \"54\"], [1, \"54\"], [0, \"54\"], [1, \"54\"], [0, \"54\"], [1, \"54\"], [0, \"54\"], [1, \"54\"], [0, \"54\"]], \"hoverlabel\": {\"namelength\": 0}, \"hovertemplate\": \"<b>%{hovertext}</b><br><br>cluster=%{customdata[1]}<br>vSegDir=%{customdata[0]}<br>longitude=%{lat}<br>latitude=%{lon}\", \"hovertext\": [1260.0, 178.0, 178.0, 179.0, 179.0, 180.0, 180.0, 181.0, 181.0, 488.0], \"lat\": [40.981544, 41.0730717, 41.0647084, 41.06463400000001, 41.0564036, 41.056347, 41.0475995, 41.0476725, 41.0389985, 40.984492], \"legendgroup\": \"cluster=54\", \"lon\": [29.094675, 28.6223649, 28.6220922, 28.621912, 28.626612899999994, 28.626342, 28.6280485, 28.627885, 28.6258286, 29.1036872], \"marker\": {\"color\": \"#00cc96\"}, \"mode\": \"markers\", \"name\": \"cluster=54\", \"showlegend\": true, \"subplot\": \"mapbox\", \"type\": \"scattermapbox\"}, {\"customdata\": [[0, \"66\"], [1, \"66\"], [0, \"66\"], [1, \"66\"], [1, \"66\"], [0, \"66\"], [1, \"66\"], [0, \"66\"], [0, \"66\"], [0, \"66\"], [0, \"66\"], [1, \"66\"], [0, \"66\"], [1, \"66\"], [0, \"66\"], [1, \"66\"], [1, \"66\"], [1, \"66\"], [0, \"66\"], [1, \"66\"], [0, \"66\"], [1, \"66\"], [1, \"66\"], [1, \"66\"], [1, \"66\"], [1, \"66\"], [1, \"66\"], [1, \"66\"], [1, \"66\"], [0, \"66\"], [1, \"66\"], [0, \"66\"], [0, \"66\"], [0, \"66\"], [0, \"66\"], [1, \"66\"], [0, \"66\"], [1, \"66\"]], \"hoverlabel\": {\"namelength\": 0}, \"hovertemplate\": \"<b>%{hovertext}</b><br><br>cluster=%{customdata[1]}<br>vSegDir=%{customdata[0]}<br>longitude=%{lat}<br>latitude=%{lon}\", \"hovertext\": [127.0, 127.0, 1885.0, 1885.0, 1902.0, 190.0, 190.0, 210.0, 245.0, 246.0, 270.0, 270.0, 30.0, 30.0, 31.0, 31.0, 380.0, 381.0, 382.0, 382.0, 387.0, 387.0, 388.0, 389.0, 393.0, 394.0, 400.0, 401.0, 402.0, 527.0, 527.0, 56.0, 57.0, 585.0, 67.0, 67.0, 714.0, 714.0], \"lat\": [40.997293, 40.9885085, 41.19305070000001, 41.191089, 41.07564179999999, 41.0143569, 41.0054732, 41.09098400000001, 41.0248009, 41.0238591, 40.913342, 40.914688, 40.975622, 40.967936, 40.967878000000006, 40.959307, 41.0509137, 41.0478262, 41.047758, 41.0447609, 41.031049, 41.026519, 41.0219151, 41.0173513, 41.010348, 41.01288579999999, 41.02588239999999, 41.0259855, 41.0217134, 41.0481477, 41.0557162, 41.1043029, 41.0958505, 40.915025, 41.148944, 41.1398967, 41.106251, 41.10648670000001], \"legendgroup\": \"cluster=66\", \"lon\": [28.819641, 28.8188726, 29.183882500000006, 29.192989, 29.2786598, 28.678736600000004, 28.6779223, 28.985062, 28.5907295, 28.6011454, 29.313056, 29.324214, 29.212339, 29.218122, 29.217994, 29.221325, 28.3889045, 28.4000577, 28.39995, 28.4111929, 28.454804, 28.4650868, 28.4752714, 28.485432199999998, 28.5285651, 28.5399441, 28.6067558, 28.617701, 28.6280282, 28.9365364, 28.9376992, 29.0992567, 29.0967568, 29.132448, 29.0287, 29.027863, 28.5392957, 28.5511149], \"marker\": {\"color\": \"#ab63fa\"}, \"mode\": \"markers\", \"name\": \"cluster=66\", \"showlegend\": true, \"subplot\": \"mapbox\", \"type\": \"scattermapbox\"}, {\"customdata\": [[0, \"56\"], [1, \"56\"]], \"hoverlabel\": {\"namelength\": 0}, \"hovertemplate\": \"<b>%{hovertext}</b><br><br>cluster=%{customdata[1]}<br>vSegDir=%{customdata[0]}<br>longitude=%{lat}<br>latitude=%{lon}\", \"hovertext\": [135.0, 135.0], \"lat\": [41.0541508, 41.0452773], \"legendgroup\": \"cluster=56\", \"lon\": [28.8857617, 28.8848059], \"marker\": {\"color\": \"#FFA15A\"}, \"mode\": \"markers\", \"name\": \"cluster=56\", \"showlegend\": true, \"subplot\": \"mapbox\", \"type\": \"scattermapbox\"}, {\"customdata\": [[0, \"47\"]], \"hoverlabel\": {\"namelength\": 0}, \"hovertemplate\": \"<b>%{hovertext}</b><br><br>cluster=%{customdata[1]}<br>vSegDir=%{customdata[0]}<br>longitude=%{lat}<br>latitude=%{lon}\", \"hovertext\": [1423.0], \"lat\": [40.911017], \"legendgroup\": \"cluster=47\", \"lon\": [29.313979], \"marker\": {\"color\": \"#19d3f3\"}, \"mode\": \"markers\", \"name\": \"cluster=47\", \"showlegend\": true, \"subplot\": \"mapbox\", \"type\": \"scattermapbox\"}, {\"customdata\": [[1, \"64\"], [1, \"64\"], [1, \"64\"], [0, \"64\"], [1, \"64\"], [0, \"64\"], [1, \"64\"], [0, \"64\"], [1, \"64\"], [0, \"64\"], [1, \"64\"], [0, \"64\"], [1, \"64\"], [0, \"64\"], [1, \"64\"], [0, \"64\"], [1, \"64\"], [0, \"64\"], [1, \"64\"], [0, \"64\"], [1, \"64\"], [0, \"64\"], [1, \"64\"], [0, \"64\"], [1, \"64\"], [0, \"64\"], [1, \"64\"], [0, \"64\"], [1, \"64\"], [0, \"64\"], [0, \"64\"], [1, \"64\"], [1, \"64\"], [0, \"64\"], [0, \"64\"], [0, \"64\"], [0, \"64\"], [1, \"64\"], [0, \"64\"], [1, \"64\"], [0, \"64\"], [1, \"64\"], [0, \"64\"], [1, \"64\"], [0, \"64\"], [1, \"64\"], [0, \"64\"], [1, \"64\"], [0, \"64\"], [1, \"64\"], [0, \"64\"], [1, \"64\"], [0, \"64\"], [1, \"64\"], [0, \"64\"], [1, \"64\"], [0, \"64\"], [1, \"64\"], [0, \"64\"], [1, \"64\"], [0, \"64\"], [1, \"64\"], [0, \"64\"], [1, \"64\"], [0, \"64\"], [1, \"64\"], [0, \"64\"], [1, \"64\"], [0, \"64\"], [1, \"64\"], [0, \"64\"], [1, \"64\"], [0, \"64\"], [1, \"64\"], [0, \"64\"], [1, \"64\"], [0, \"64\"], [1, \"64\"], [0, \"64\"], [1, \"64\"], [0, \"64\"], [1, \"64\"], [0, \"64\"], [1, \"64\"], [0, \"64\"], [1, \"64\"], [0, \"64\"], [1, \"64\"], [0, \"64\"], [1, \"64\"], [0, \"64\"], [1, \"64\"], [0, \"64\"], [1, \"64\"], [0, \"64\"], [1, \"64\"], [0, \"64\"], [1, \"64\"], [0, \"64\"], [1, \"64\"], [0, \"64\"], [1, \"64\"], [0, \"64\"], [1, \"64\"], [0, \"64\"], [1, \"64\"], [0, \"64\"], [1, \"64\"], [0, \"64\"], [1, \"64\"], [0, \"64\"], [1, \"64\"], [0, \"64\"], [1, \"64\"], [0, \"64\"], [1, \"64\"], [0, \"64\"], [1, \"64\"], [0, \"64\"], [1, \"64\"], [0, \"64\"], [1, \"64\"], [0, \"64\"], [1, \"64\"], [0, \"64\"], [1, \"64\"], [0, \"64\"], [1, \"64\"], [0, \"64\"], [1, \"64\"], [0, \"64\"], [1, \"64\"], [0, \"64\"], [1, \"64\"], [0, \"64\"], [1, \"64\"], [0, \"64\"], [1, \"64\"], [0, \"64\"], [1, \"64\"], [0, \"64\"], [1, \"64\"], [0, \"64\"], [1, \"64\"], [0, \"64\"], [1, \"64\"], [0, \"64\"], [1, \"64\"], [0, \"64\"], [1, \"64\"], [0, \"64\"], [1, \"64\"], [0, \"64\"], [1, \"64\"], [0, \"64\"], [1, \"64\"], [0, \"64\"], [1, \"64\"], [0, \"64\"], [1, \"64\"], [0, \"64\"], [1, \"64\"], [0, \"64\"], [1, \"64\"], [0, \"64\"], [0, \"64\"], [1, \"64\"], [0, \"64\"], [1, \"64\"], [0, \"64\"], [1, \"64\"], [0, \"64\"], [1, \"64\"], [0, \"64\"], [1, \"64\"], [0, \"64\"], [1, \"64\"], [0, \"64\"], [1, \"64\"], [0, \"64\"], [1, \"64\"], [0, \"64\"], [1, \"64\"], [0, \"64\"], [1, \"64\"], [0, \"64\"], [1, \"64\"], [0, \"64\"], [1, \"64\"], [0, \"64\"], [1, \"64\"], [0, \"64\"], [1, \"64\"], [0, \"64\"], [1, \"64\"], [0, \"64\"], [1, \"64\"], [0, \"64\"], [0, \"64\"], [0, \"64\"], [0, \"64\"], [1, \"64\"], [1, \"64\"], [1, \"64\"], [0, \"64\"], [0, \"64\"], [0, \"64\"], [0, \"64\"], [0, \"64\"], [0, \"64\"], [0, \"64\"], [1, \"64\"], [0, \"64\"], [1, \"64\"], [0, \"64\"], [1, \"64\"], [0, \"64\"], [1, \"64\"], [0, \"64\"], [1, \"64\"], [0, \"64\"], [1, \"64\"], [1, \"64\"], [1, \"64\"], [0, \"64\"], [1, \"64\"], [1, \"64\"], [0, \"64\"], [0, \"64\"], [0, \"64\"], [0, \"64\"], [0, \"64\"], [1, \"64\"], [1, \"64\"], [1, \"64\"], [0, \"64\"], [0, \"64\"], [0, \"64\"], [0, \"64\"], [0, \"64\"], [0, \"64\"], [0, \"64\"], [0, \"64\"], [0, \"64\"], [0, \"64\"], [0, \"64\"], [0, \"64\"], [0, \"64\"], [0, \"64\"], [0, \"64\"], [0, \"64\"], [0, \"64\"], [0, \"64\"], [0, \"64\"], [0, \"64\"], [0, \"64\"], [0, \"64\"], [0, \"64\"], [0, \"64\"], [0, \"64\"], [1, \"64\"], [0, \"64\"], [1, \"64\"], [0, \"64\"], [0, \"64\"], [0, \"64\"], [0, \"64\"], [1, \"64\"], [0, \"64\"], [1, \"64\"]], \"hoverlabel\": {\"namelength\": 0}, \"hovertemplate\": \"<b>%{hovertext}</b><br><br>cluster=%{customdata[1]}<br>vSegDir=%{customdata[0]}<br>longitude=%{lat}<br>latitude=%{lon}\", \"hovertext\": [1427.0, 1428.0, 1429.0, 1430.0, 1430.0, 1431.0, 1431.0, 1432.0, 1432.0, 1433.0, 1433.0, 1434.0, 1434.0, 1435.0, 1435.0, 1436.0, 1436.0, 1437.0, 1437.0, 1438.0, 1438.0, 1439.0, 1439.0, 1440.0, 1440.0, 1441.0, 1441.0, 1697.0, 1697.0, 1700.0, 1775.0, 1775.0, 1777.0, 1829.0, 1830.0, 1831.0, 1832.0, 1832.0, 1833.0, 1833.0, 1834.0, 1834.0, 1835.0, 1835.0, 1836.0, 1836.0, 1837.0, 1837.0, 1838.0, 1838.0, 1839.0, 1839.0, 1840.0, 1840.0, 1841.0, 1841.0, 1842.0, 1842.0, 1843.0, 1843.0, 1844.0, 1844.0, 1845.0, 1845.0, 1846.0, 1846.0, 1847.0, 1847.0, 1848.0, 1848.0, 1854.0, 1854.0, 1855.0, 1855.0, 1856.0, 1856.0, 1857.0, 1857.0, 1858.0, 1858.0, 1859.0, 1859.0, 1860.0, 1860.0, 1861.0, 1861.0, 1862.0, 1862.0, 1863.0, 1863.0, 1864.0, 1864.0, 1865.0, 1865.0, 1866.0, 1866.0, 1867.0, 1867.0, 1868.0, 1868.0, 1869.0, 1869.0, 1870.0, 1870.0, 1871.0, 1871.0, 1872.0, 1872.0, 1873.0, 1873.0, 1874.0, 1874.0, 1875.0, 1875.0, 1876.0, 1876.0, 1877.0, 1877.0, 1878.0, 1878.0, 1879.0, 1879.0, 1880.0, 1880.0, 1881.0, 1881.0, 1882.0, 1882.0, 1883.0, 1883.0, 1884.0, 1884.0, 1886.0, 1886.0, 1887.0, 1887.0, 1888.0, 1888.0, 1889.0, 1889.0, 1890.0, 1890.0, 1891.0, 1891.0, 1892.0, 1892.0, 1893.0, 1893.0, 1894.0, 1894.0, 1895.0, 1895.0, 1896.0, 1896.0, 1897.0, 1897.0, 1898.0, 1898.0, 1899.0, 1899.0, 1900.0, 1900.0, 1901.0, 1901.0, 1902.0, 1903.0, 1903.0, 1904.0, 1904.0, 1905.0, 1905.0, 1906.0, 1906.0, 1909.0, 1909.0, 1914.0, 1914.0, 1915.0, 1915.0, 1916.0, 1916.0, 1917.0, 1917.0, 1919.0, 1919.0, 1920.0, 1920.0, 1921.0, 1921.0, 1922.0, 1922.0, 1923.0, 1923.0, 1924.0, 1924.0, 1926.0, 1926.0, 1944.0, 1945.0, 1946.0, 201.0, 201.0, 202.0, 203.0, 2086.0, 2087.0, 2088.0, 2089.0, 2090.0, 2091.0, 21.0, 21.0, 24.0, 24.0, 250.0, 250.0, 251.0, 251.0, 252.0, 252.0, 253.0, 253.0, 254.0, 255.0, 259.0, 259.0, 261.0, 263.0, 264.0, 265.0, 290.0, 403.0, 56.0, 57.0, 62.0, 639.0, 640.0, 641.0, 642.0, 643.0, 644.0, 645.0, 646.0, 697.0, 698.0, 701.0, 703.0, 705.0, 706.0, 707.0, 708.0, 709.0, 710.0, 711.0, 712.0, 713.0, 715.0, 716.0, 717.0, 932.0, 932.0, 933.0, 933.0, 934.0, 935.0, 936.0, 937.0, 937.0, 938.0, 938.0], \"lat\": [40.933212, 40.937431, 40.946637, 40.961273, 40.956337, 40.968337, 40.961411, 40.977124, 40.968336, 40.987102, 40.97704, 40.994528, 40.987122, 40.997073, 40.99465900000001, 41.00001500000001, 40.997203000000006, 41.004537, 41.000155, 41.007018, 41.004671, 41.010455, 41.007153, 41.01691, 41.010595, 41.026802, 41.016934, 41.163935, 41.154326, 41.173972, 41.0640585, 41.0607499, 41.05767700000001, 41.063072, 41.070021, 41.0798284, 41.09004520000001, 41.0994607, 41.0993846, 41.1078186, 41.1077914, 41.1170803, 41.1170908, 41.1248904, 41.1250729, 41.13227, 41.1323548, 41.1412919, 41.141341, 41.150704, 41.150657, 41.1572241, 41.15714970000001, 41.1672798, 41.1672636, 41.1760887, 41.176007, 41.18359270000001, 41.18342420000001, 41.1918959, 41.19184050000001, 41.20028410000001, 41.2003878, 41.2095529, 41.2094903, 41.2154062, 41.2151988, 41.2215277, 41.2214294, 41.2299086, 41.23102, 41.2298132, 41.229582, 41.2326768, 41.232479, 41.2352292, 41.235013, 41.2355938, 41.235414, 41.23544370000001, 41.235229, 41.233978, 41.233819, 41.231367, 41.231232, 41.230852, 41.230714, 41.232755, 41.232616, 41.232733, 41.232601, 41.22884000000001, 41.228709, 41.22471, 41.224578, 41.221491, 41.221352, 41.221659, 41.221525, 41.225525, 41.225387, 41.226103, 41.225963, 41.22595, 41.22581, 41.227012, 41.226872, 41.227203, 41.227064, 41.223709, 41.223581, 41.21700300000001, 41.216892, 41.21083, 41.21071, 41.206799, 41.2065692, 41.202534, 41.2022999, 41.198706, 41.1985176, 41.19721, 41.1964646, 41.1980624, 41.1978474, 41.19874650000001, 41.1985475, 41.1978433, 41.19764, 41.19710560000001, 41.1969031, 41.19319779999999, 41.19086420000001, 41.190255, 41.190062, 41.1868438, 41.1866895, 41.1843753, 41.1841835, 41.1810034, 41.180841, 41.174675, 41.174408, 41.168838, 41.168646, 41.161772, 41.16162720000001, 41.155082, 41.1549704, 41.1473285, 41.1472077, 41.1416725, 41.14157410000001, 41.1330624, 41.1331653, 41.1228585, 41.122953, 41.11340429999999, 41.113315, 41.1034185, 41.1034823, 41.094266, 41.094326, 41.08446729999999, 41.084527, 41.07575900000001, 41.0658296, 41.06585, 41.0554602, 41.0554631, 41.0451108, 41.0450993, 41.03530470000001, 41.016084, 41.00757700000001, 41.0492659, 41.049481, 41.049341, 41.049917, 41.0497436, 41.0513418, 41.0510977, 41.055195, 41.0553831, 41.0498824, 41.049746, 41.0441983, 41.0440424, 41.043084, 41.04287539999999, 41.04555, 41.0453438, 41.04629600000001, 41.0460967, 41.045077, 41.0468764, 41.0504723, 41.0445623, 41.050132, 41.0544868, 41.067517, 41.0639008, 41.0537399, 41.0461458, 41.001226, 41.003884, 41.003374, 41.00315300000001, 41.002522, 41.002133, 40.889836, 40.881738, 40.87413, 40.869604, 41.1766847, 41.1696282, 41.169491, 41.1601784, 41.16005670000001, 41.1512465, 41.1512224, 41.142367, 41.1380848, 41.135047, 41.109564, 41.10132720000001, 41.013848, 41.0157922, 41.0212474, 41.02502379999999, 41.0672915, 41.021567, 41.09552160000001, 41.0888888, 41.05521, 40.935222, 40.930929, 40.923551, 40.91500900000001, 40.907558, 40.900111, 40.89169, 40.883991, 41.069964, 41.0668676, 41.0549589, 41.0515283, 41.0583319, 41.059167, 41.0605685, 41.0659841, 41.074345, 41.08336420000001, 41.0919808, 41.09887020000001, 41.1036952, 41.1063495, 41.1060048, 41.1066495, 41.2210409, 41.229515, 41.2109638, 41.2209644, 41.2067339, 41.2016708, 41.195514, 41.1851746, 41.19546679999999, 41.1768217, 41.18513170000001], \"legendgroup\": \"cluster=64\", \"lon\": [29.34321, 29.333751, 29.338383, 29.334146, 29.342286, 29.327421, 29.33417, 29.332869, 29.327562, 29.333612, 29.332981, 29.327242, 29.33375, 29.317120000000006, 29.327289, 29.307293, 29.317169, 29.298261, 29.307302000000004, 29.288108, 29.298302000000003, 29.278454, 29.288146, 29.272245, 29.278457, 29.273118, 29.272383, 29.030312, 29.025351, 29.037529, 28.9762003, 28.9730782, 29.01776, 28.81215, 28.8153387, 28.813567, 28.8137738, 28.813324, 28.8135956, 28.814665500000004, 28.8150002, 28.8150648, 28.8155092, 28.8101377, 28.810493, 28.8045332, 28.8049824, 28.8064299, 28.8069124, 28.806478, 28.80661, 28.809987300000003, 28.810243300000003, 28.8086294, 28.808894899999995, 28.811314199999998, 28.811518, 28.8185153, 28.8187675, 28.824250300000006, 28.8245126, 28.8238647, 28.8241594, 28.8247529, 28.825029200000003, 28.832144300000003, 28.8323035, 28.8391267, 28.8393673, 28.843118, 28.849871000000004, 28.861273200000007, 28.861318, 28.872472700000007, 28.872579, 28.883829, 28.883916, 28.8955228, 28.895515000000003, 28.9071549, 28.907141, 28.9198844, 28.919818, 28.929999, 28.929964, 28.941499, 28.941522, 28.952973, 28.952993, 28.964557, 28.964503000000004, 28.975495, 28.975446, 28.986366, 28.986319, 28.997506, 28.997484000000004, 29.008984, 29.009027000000003, 29.019936, 29.019964, 29.031522, 29.031522, 29.044341, 29.044346, 29.054688, 29.054699, 29.065132, 29.065121, 29.077388, 29.077333000000007, 29.086887, 29.086801, 29.095313, 29.095241, 29.103684, 29.1035715, 29.113194, 29.1130896, 29.1217, 29.1215867, 29.132802, 29.1329273, 29.1432647, 29.1432179, 29.1536216, 29.1535463, 29.1629803, 29.162912, 29.1744602, 29.1743349, 29.1840803, 29.193016600000004, 29.204431, 29.204386, 29.2155016, 29.2153062, 29.2244443, 29.2243261, 29.2343436, 29.234166, 29.2425792, 29.2425264, 29.2511238, 29.250985, 29.258689, 29.258515600000006, 29.266661, 29.2665017, 29.275093800000004, 29.2749274, 29.2838523, 29.2836503, 29.286948100000004, 29.2867282, 29.2868887, 29.286617, 29.2912002, 29.290984, 29.2924695, 29.2922207, 29.287673100000006, 29.28745, 29.284203, 29.283913, 29.278404, 29.2756365, 29.275353000000006, 29.2764399, 29.2761346, 29.2774096, 29.2771043, 29.2739727, 29.270148, 29.276005, 29.129036600000006, 29.140677, 29.140677, 29.152204, 29.152286199999995, 29.1636921, 29.163742, 29.1744162, 29.1858105, 29.195857300000004, 29.195672, 29.2058113, 29.2056045, 29.217083, 29.2172057, 29.229534, 29.2295769, 29.239842, 29.2398019, 29.251299, 29.2615781, 29.2720635, 29.277428600000004, 29.272705, 29.2762376, 28.978371000000006, 28.9762968, 28.9684594, 28.968216700000006, 28.947371, 28.956382, 28.956498, 28.965390000000006, 28.965343, 28.971297, 29.325129, 29.317745, 29.294695, 29.283106, 28.8781097, 28.8882219, 28.88808, 28.8938227, 28.893680100000005, 28.9010704, 28.9008778, 28.907325, 28.9198358, 28.93269, 28.950234, 28.9543224, 29.193608, 29.2049669, 29.2145501, 29.225256400000006, 28.9523307, 28.627881, 29.0967607, 29.0915701, 29.012592, 29.334099, 29.344471, 29.350693, 29.354383, 29.360968, 29.36745, 29.371566, 29.377573, 28.384144, 28.3949032, 28.4266405, 28.4491726, 28.470849, 28.4826284, 28.4944125, 28.5038769, 28.5079175, 28.508079100000003, 28.5105795, 28.5180936, 28.5279977, 28.551144, 28.5629804, 28.5748704, 28.8359665, 28.829009000000006, 28.8399485, 28.8357059, 28.849567200000006, 28.8591417, 28.8679876, 28.8712539, 28.8677271, 28.8782092, 28.8710471], \"marker\": {\"color\": \"#FF6692\"}, \"mode\": \"markers\", \"name\": \"cluster=64\", \"showlegend\": true, \"subplot\": \"mapbox\", \"type\": \"scattermapbox\"}, {\"customdata\": [[0, \"28\"], [1, \"28\"], [0, \"28\"]], \"hoverlabel\": {\"namelength\": 0}, \"hovertemplate\": \"<b>%{hovertext}</b><br><br>cluster=%{customdata[1]}<br>vSegDir=%{customdata[0]}<br>longitude=%{lat}<br>latitude=%{lon}\", \"hovertext\": [1442.0, 1442.0, 269.0], \"lat\": [41.036307, 41.02673, 41.033254], \"legendgroup\": \"cluster=28\", \"lon\": [29.27209, 29.273238, 29.2695624], \"marker\": {\"color\": \"#B6E880\"}, \"mode\": \"markers\", \"name\": \"cluster=28\", \"showlegend\": true, \"subplot\": \"mapbox\", \"type\": \"scattermapbox\"}, {\"customdata\": [[1, \"5\"], [1, \"5\"], [1, \"5\"], [1, \"5\"], [1, \"5\"], [0, \"5\"], [0, \"5\"], [0, \"5\"], [1, \"5\"], [1, \"5\"], [1, \"5\"], [1, \"5\"], [1, \"5\"], [1, \"5\"], [1, \"5\"], [1, \"5\"], [1, \"5\"], [1, \"5\"], [1, \"5\"], [1, \"5\"], [1, \"5\"], [1, \"5\"], [1, \"5\"], [1, \"5\"], [0, \"5\"], [0, \"5\"]], \"hoverlabel\": {\"namelength\": 0}, \"hovertemplate\": \"<b>%{hovertext}</b><br><br>cluster=%{customdata[1]}<br>vSegDir=%{customdata[0]}<br>longitude=%{lat}<br>latitude=%{lon}\", \"hovertext\": [1703.0, 1736.0, 1748.0, 1749.0, 1788.0, 279.0, 410.0, 411.0, 42.0, 443.0, 444.0, 445.0, 446.0, 447.0, 448.0, 472.0, 475.0, 476.0, 477.0, 478.0, 479.0, 480.0, 481.0, 482.0, 728.0, 729.0], \"lat\": [41.0063815, 41.018454, 41.0921575, 41.087271, 41.0428886, 41.006265, 40.997544, 40.992032, 41.03252970000001, 41.0460156, 41.0387419, 41.0300025, 41.0229701, 41.0146317, 41.0118482, 41.091892, 41.0828616, 41.07463679999999, 41.0711191, 41.06407760000001, 41.0562851, 41.0473757, 41.033908, 41.029376, 41.0537956, 41.056281], \"legendgroup\": \"cluster=5\", \"lon\": [29.060899100000004, 29.052039, 29.0778242, 29.0931779, 29.1213498, 29.0669599, 28.70191, 28.71126, 29.0429364, 29.033967800000006, 29.0415427, 29.0457876, 29.0477581, 29.0573933, 29.060816100000004, 29.070728000000006, 29.0951209, 29.101934000000004, 29.1056346, 29.1130143, 29.1191232, 29.121417200000003, 29.121091, 29.120939, 28.675118800000003, 28.686523], \"marker\": {\"color\": \"#FF97FF\"}, \"mode\": \"markers\", \"name\": \"cluster=5\", \"showlegend\": true, \"subplot\": \"mapbox\", \"type\": \"scattermapbox\"}, {\"customdata\": [[1, \"1\"], [1, \"1\"], [0, \"1\"], [0, \"1\"], [0, \"1\"], [0, \"1\"], [0, \"1\"], [1, \"1\"], [0, \"1\"], [1, \"1\"], [0, \"1\"]], \"hoverlabel\": {\"namelength\": 0}, \"hovertemplate\": \"<b>%{hovertext}</b><br><br>cluster=%{customdata[1]}<br>vSegDir=%{customdata[0]}<br>longitude=%{lat}<br>latitude=%{lon}\", \"hovertext\": [1716.0, 1734.0, 288.0, 743.0, 744.0, 745.0, 750.0, 750.0, 751.0, 751.0, 758.0], \"lat\": [41.0492528, 41.045423, 41.023997, 41.0665771, 41.07217720000001, 41.0766302, 41.0278821, 41.0257527, 41.023871, 41.0278885, 41.015348], \"legendgroup\": \"cluster=1\", \"lon\": [28.8302343, 28.830119, 29.0365712, 29.003113899999995, 29.016116600000004, 29.0212107, 29.0262393, 29.015679, 29.036853000000004, 29.0265447, 29.028721], \"marker\": {\"color\": \"#FECB52\"}, \"mode\": \"markers\", \"name\": \"cluster=1\", \"showlegend\": true, \"subplot\": \"mapbox\", \"type\": \"scattermapbox\"}, {\"customdata\": [[0, \"21\"], [1, \"21\"], [0, \"21\"], [0, \"21\"], [0, \"21\"]], \"hoverlabel\": {\"namelength\": 0}, \"hovertemplate\": \"<b>%{hovertext}</b><br><br>cluster=%{customdata[1]}<br>vSegDir=%{customdata[0]}<br>longitude=%{lat}<br>latitude=%{lon}\", \"hovertext\": [1752.0, 1752.0, 193.0, 194.0, 522.0], \"lat\": [41.0281635, 41.0256353, 41.0227932, 41.0253546, 41.017802], \"legendgroup\": \"cluster=21\", \"lon\": [28.984176, 28.9780735, 28.974835100000004, 28.967624800000007, 28.971712], \"marker\": {\"color\": \"#636efa\"}, \"mode\": \"markers\", \"name\": \"cluster=21\", \"showlegend\": true, \"subplot\": \"mapbox\", \"type\": \"scattermapbox\"}, {\"customdata\": [[0, \"12\"]], \"hoverlabel\": {\"namelength\": 0}, \"hovertemplate\": \"<b>%{hovertext}</b><br><br>cluster=%{customdata[1]}<br>vSegDir=%{customdata[0]}<br>longitude=%{lat}<br>latitude=%{lon}\", \"hovertext\": [1760.0], \"lat\": [41.013855], \"legendgroup\": \"cluster=12\", \"lon\": [28.944755], \"marker\": {\"color\": \"#EF553B\"}, \"mode\": \"markers\", \"name\": \"cluster=12\", \"showlegend\": true, \"subplot\": \"mapbox\", \"type\": \"scattermapbox\"}, {\"customdata\": [[1, \"16\"], [0, \"16\"], [1, \"16\"], [0, \"16\"], [1, \"16\"], [0, \"16\"], [1, \"16\"], [0, \"16\"], [1, \"16\"], [0, \"16\"], [1, \"16\"], [0, \"16\"], [1, \"16\"], [0, \"16\"], [0, \"16\"], [0, \"16\"], [1, \"16\"], [0, \"16\"], [1, \"16\"], [0, \"16\"], [1, \"16\"]], \"hoverlabel\": {\"namelength\": 0}, \"hovertemplate\": \"<b>%{hovertext}</b><br><br>cluster=%{customdata[1]}<br>vSegDir=%{customdata[0]}<br>longitude=%{lat}<br>latitude=%{lon}\", \"hovertext\": [1760.0, 195.0, 195.0, 196.0, 196.0, 298.0, 499.0, 545.0, 545.0, 549.0, 549.0, 551.0, 551.0, 580.0, 581.0, 583.0, 583.0, 584.0, 584.0, 586.0, 586.0], \"lat\": [41.011545, 41.04089000000001, 41.0373006, 41.0360309, 41.02997979999999, 41.0515149, 41.013965, 41.0839576, 41.0793309, 41.0586307, 41.0516284, 41.0461782, 41.0435906, 40.951437, 40.94478, 40.930507, 40.922881, 40.922793, 40.915099, 40.907113, 40.902228], \"legendgroup\": \"cluster=16\", \"lon\": [28.9483363, 28.986388, 28.983495, 28.9780604, 28.971693, 28.9874977, 28.944841, 29.0567703, 29.0475115, 29.035518100000004, 29.0332025, 29.0201222, 29.0137853, 29.097424, 29.105076, 29.119418, 29.12611, 29.126, 29.132567, 29.138546, 29.147542], \"marker\": {\"color\": \"#00cc96\"}, \"mode\": \"markers\", \"name\": \"cluster=16\", \"showlegend\": true, \"subplot\": \"mapbox\", \"type\": \"scattermapbox\"}, {\"customdata\": [[0, \"68\"], [1, \"68\"], [0, \"68\"], [1, \"68\"], [1, \"68\"]], \"hoverlabel\": {\"namelength\": 0}, \"hovertemplate\": \"<b>%{hovertext}</b><br><br>cluster=%{customdata[1]}<br>vSegDir=%{customdata[0]}<br>longitude=%{lat}<br>latitude=%{lon}\", \"hovertext\": [1790.0, 1790.0, 244.0, 410.0, 411.0], \"lat\": [41.10639329999999, 41.099477, 40.993024, 40.992153, 40.98669], \"legendgroup\": \"cluster=68\", \"lon\": [29.013847100000003, 29.0083164, 28.824435, 28.711331, 28.720725], \"marker\": {\"color\": \"#ab63fa\"}, \"mode\": \"markers\", \"name\": \"cluster=68\", \"showlegend\": true, \"subplot\": \"mapbox\", \"type\": \"scattermapbox\"}, {\"customdata\": [[0, \"46\"], [0, \"46\"], [0, \"46\"], [1, \"46\"]], \"hoverlabel\": {\"namelength\": 0}, \"hovertemplate\": \"<b>%{hovertext}</b><br><br>cluster=%{customdata[1]}<br>vSegDir=%{customdata[0]}<br>longitude=%{lat}<br>latitude=%{lon}\", \"hovertext\": [1791.0, 1792.0, 185.0, 647.0], \"lat\": [41.1018663, 41.1010859, 41.0540044, 40.871751], \"legendgroup\": \"cluster=46\", \"lon\": [29.0097539, 29.0036292, 28.6790482, 29.39468], \"marker\": {\"color\": \"#FFA15A\"}, \"mode\": \"markers\", \"name\": \"cluster=46\", \"showlegend\": true, \"subplot\": \"mapbox\", \"type\": \"scattermapbox\"}, {\"customdata\": [[1, \"32\"]], \"hoverlabel\": {\"namelength\": 0}, \"hovertemplate\": \"<b>%{hovertext}</b><br><br>cluster=%{customdata[1]}<br>vSegDir=%{customdata[0]}<br>longitude=%{lat}<br>latitude=%{lon}\", \"hovertext\": [1831.0], \"lat\": [41.0900384], \"legendgroup\": \"cluster=32\", \"lon\": [28.8134818], \"marker\": {\"color\": \"#19d3f3\"}, \"mode\": \"markers\", \"name\": \"cluster=32\", \"showlegend\": true, \"subplot\": \"mapbox\", \"type\": \"scattermapbox\"}, {\"customdata\": [[0, \"25\"], [1, \"25\"], [0, \"25\"], [1, \"25\"], [0, \"25\"], [0, \"25\"], [1, \"25\"], [0, \"25\"], [1, \"25\"], [0, \"25\"], [1, \"25\"], [0, \"25\"], [1, \"25\"], [0, \"25\"], [1, \"25\"], [1, \"25\"], [0, \"25\"], [1, \"25\"], [1, \"25\"]], \"hoverlabel\": {\"namelength\": 0}, \"hovertemplate\": \"<b>%{hovertext}</b><br><br>cluster=%{customdata[1]}<br>vSegDir=%{customdata[0]}<br>longitude=%{lat}<br>latitude=%{lon}\", \"hovertext\": [1851.0, 1851.0, 1852.0, 1852.0, 1853.0, 1954.0, 1954.0, 1965.0, 1965.0, 1966.0, 1966.0, 1967.0, 1967.0, 25.0, 25.0, 395.0, 872.0, 934.0, 935.0], \"lat\": [41.237652, 41.23808, 41.23794, 41.2356438, 41.235446, 41.1213945, 41.123159, 41.1840769, 41.1901217, 41.1899688, 41.1963667, 41.1963386, 41.205435, 40.869744, 40.867011, 41.0154369, 41.08997700000001, 41.2109718, 41.2065629], \"legendgroup\": \"cluster=25\", \"lon\": [28.816203, 28.827824, 28.827819, 28.8391927, 28.839115000000003, 29.1300184, 29.141272999999998, 29.1983437, 29.2066961, 29.2066363, 29.2141521, 29.2142884, 29.21806, 29.283096, 29.272296, 28.5513408, 28.864349, 28.8397239, 28.849537400000006], \"marker\": {\"color\": \"#FF6692\"}, \"mode\": \"markers\", \"name\": \"cluster=25\", \"showlegend\": true, \"subplot\": \"mapbox\", \"type\": \"scattermapbox\"}, {\"customdata\": [[1, \"45\"], [0, \"45\"]], \"hoverlabel\": {\"namelength\": 0}, \"hovertemplate\": \"<b>%{hovertext}</b><br><br>cluster=%{customdata[1]}<br>vSegDir=%{customdata[0]}<br>longitude=%{lat}<br>latitude=%{lon}\", \"hovertext\": [185.0, 284.0], \"lat\": [41.048063, 41.030001], \"legendgroup\": \"cluster=45\", \"lon\": [28.689275, 29.12326], \"marker\": {\"color\": \"#B6E880\"}, \"mode\": \"markers\", \"name\": \"cluster=45\", \"showlegend\": true, \"subplot\": \"mapbox\", \"type\": \"scattermapbox\"}, {\"customdata\": [[0, \"36\"], [1, \"36\"], [0, \"36\"], [1, \"36\"], [0, \"36\"], [1, \"36\"], [0, \"36\"]], \"hoverlabel\": {\"namelength\": 0}, \"hovertemplate\": \"<b>%{hovertext}</b><br><br>cluster=%{customdata[1]}<br>vSegDir=%{customdata[0]}<br>longitude=%{lat}<br>latitude=%{lon}\", \"hovertext\": [1907.0, 1907.0, 1908.0, 1908.0, 1925.0, 1925.0, 1942.0], \"lat\": [41.0355156, 41.02614000000001, 41.026191, 41.016147, 41.0448491, 41.0470539, 41.025987], \"legendgroup\": \"cluster=36\", \"lon\": [29.273772, 29.269043, 29.268913, 29.270273, 29.2513317, 29.2614497, 29.270846], \"marker\": {\"color\": \"#FF97FF\"}, \"mode\": \"markers\", \"name\": \"cluster=36\", \"showlegend\": true, \"subplot\": \"mapbox\", \"type\": \"scattermapbox\"}, {\"customdata\": [[0, \"69\"]], \"hoverlabel\": {\"namelength\": 0}, \"hovertemplate\": \"<b>%{hovertext}</b><br><br>cluster=%{customdata[1]}<br>vSegDir=%{customdata[0]}<br>longitude=%{lat}<br>latitude=%{lon}\", \"hovertext\": [1989.0], \"lat\": [40.988614], \"legendgroup\": \"cluster=69\", \"lon\": [29.14549], \"marker\": {\"color\": \"#FECB52\"}, \"mode\": \"markers\", \"name\": \"cluster=69\", \"showlegend\": true, \"subplot\": \"mapbox\", \"type\": \"scattermapbox\"}, {\"customdata\": [[0, \"26\"], [1, \"26\"], [0, \"26\"], [1, \"26\"], [0, \"26\"], [1, \"26\"], [0, \"26\"], [1, \"26\"], [0, \"26\"], [1, \"26\"], [0, \"26\"], [1, \"26\"], [0, \"26\"], [1, \"26\"], [0, \"26\"], [1, \"26\"], [0, \"26\"], [0, \"26\"], [0, \"26\"], [0, \"26\"], [0, \"26\"], [0, \"26\"], [0, \"26\"], [0, \"26\"]], \"hoverlabel\": {\"namelength\": 0}, \"hovertemplate\": \"<b>%{hovertext}</b><br><br>cluster=%{customdata[1]}<br>vSegDir=%{customdata[0]}<br>longitude=%{lat}<br>latitude=%{lon}\", \"hovertext\": [2092.0, 2092.0, 2093.0, 2093.0, 2094.0, 2094.0, 2095.0, 2095.0, 2096.0, 2096.0, 2097.0, 2097.0, 2098.0, 2098.0, 2099.0, 2099.0, 2100.0, 2101.0, 2102.0, 2104.0, 395.0, 396.0, 397.0, 2083.0], \"lat\": [41.001688, 41.001318, 41.001176, 41.002511, 41.002412, 41.003516, 41.00339, 41.002096, 41.00199600000001, 41.002184, 41.002078, 41.005324, 41.005194, 41.005595, 41.005484, 41.0048372, 41.004681, 41.0059053, 41.0052056, 41.00419, 41.0127956, 41.0153351, 41.0178503, 40.998055], \"legendgroup\": \"cluster=26\", \"lon\": [28.93735, 28.945523, 28.945554, 28.952685, 28.952727000000007, 28.959343, 28.959306, 28.970665000000004, 28.970628, 28.982172, 28.982197, 28.993218, 28.993232, 29.004998, 29.005018, 29.015467200000003, 29.015536, 29.0264886, 29.0269738, 29.033965, 28.5400266, 28.551364000000003, 28.5627655, 28.933086], \"marker\": {\"color\": \"#636efa\"}, \"mode\": \"markers\", \"name\": \"cluster=26\", \"showlegend\": true, \"subplot\": \"mapbox\", \"type\": \"scattermapbox\"}, {\"customdata\": [[0, \"13\"], [0, \"13\"], [1, \"13\"], [0, \"13\"], [1, \"13\"]], \"hoverlabel\": {\"namelength\": 0}, \"hovertemplate\": \"<b>%{hovertext}</b><br><br>cluster=%{customdata[1]}<br>vSegDir=%{customdata[0]}<br>longitude=%{lat}<br>latitude=%{lon}\", \"hovertext\": [211.0, 65.0, 65.0, 83.0, 83.0], \"lat\": [41.0850467, 41.047638, 41.042321, 41.009308, 41.003437], \"legendgroup\": \"cluster=13\", \"lon\": [28.9788928, 29.0077922, 29.006833, 28.953259000000006, 28.954154], \"marker\": {\"color\": \"#EF553B\"}, \"mode\": \"markers\", \"name\": \"cluster=13\", \"showlegend\": true, \"subplot\": \"mapbox\", \"type\": \"scattermapbox\"}, {\"customdata\": [[0, \"62\"], [0, \"62\"], [1, \"62\"]], \"hoverlabel\": {\"namelength\": 0}, \"hovertemplate\": \"<b>%{hovertext}</b><br><br>cluster=%{customdata[1]}<br>vSegDir=%{customdata[0]}<br>longitude=%{lat}<br>latitude=%{lon}\", \"hovertext\": [213.0, 214.0, 214.0], \"lat\": [41.0772105, 41.0694771, 41.0636648], \"legendgroup\": \"cluster=62\", \"lon\": [28.9703954, 28.9646678, 28.95123], \"marker\": {\"color\": \"#00cc96\"}, \"mode\": \"markers\", \"name\": \"cluster=62\", \"showlegend\": true, \"subplot\": \"mapbox\", \"type\": \"scattermapbox\"}, {\"customdata\": [[1, \"71\"]], \"hoverlabel\": {\"namelength\": 0}, \"hovertemplate\": \"<b>%{hovertext}</b><br><br>cluster=%{customdata[1]}<br>vSegDir=%{customdata[0]}<br>longitude=%{lat}<br>latitude=%{lon}\", \"hovertext\": [240.0], \"lat\": [41.06159], \"legendgroup\": \"cluster=71\", \"lon\": [28.807916], \"marker\": {\"color\": \"#ab63fa\"}, \"mode\": \"markers\", \"name\": \"cluster=71\", \"showlegend\": true, \"subplot\": \"mapbox\", \"type\": \"scattermapbox\"}, {\"customdata\": [[1, \"15\"]], \"hoverlabel\": {\"namelength\": 0}, \"hovertemplate\": \"<b>%{hovertext}</b><br><br>cluster=%{customdata[1]}<br>vSegDir=%{customdata[0]}<br>longitude=%{lat}<br>latitude=%{lon}\", \"hovertext\": [260.0], \"lat\": [41.02115300000001], \"legendgroup\": \"cluster=15\", \"lon\": [29.128352000000003], \"marker\": {\"color\": \"#FFA15A\"}, \"mode\": \"markers\", \"name\": \"cluster=15\", \"showlegend\": true, \"subplot\": \"mapbox\", \"type\": \"scattermapbox\"}, {\"customdata\": [[0, \"29\"], [1, \"29\"], [1, \"29\"], [1, \"29\"], [1, \"29\"], [0, \"29\"], [1, \"29\"], [1, \"29\"], [0, \"29\"], [1, \"29\"], [0, \"29\"], [1, \"29\"], [0, \"29\"], [1, \"29\"], [0, \"29\"], [1, \"29\"], [0, \"29\"], [1, \"29\"], [0, \"29\"], [0, \"29\"], [0, \"29\"], [1, \"29\"], [0, \"29\"], [1, \"29\"], [0, \"29\"], [1, \"29\"]], \"hoverlabel\": {\"namelength\": 0}, \"hovertemplate\": \"<b>%{hovertext}</b><br><br>cluster=%{customdata[1]}<br>vSegDir=%{customdata[0]}<br>longitude=%{lat}<br>latitude=%{lon}\", \"hovertext\": [262.0, 262.0, 263.0, 264.0, 265.0, 29.0, 306.0, 307.0, 32.0, 32.0, 33.0, 33.0, 34.0, 34.0, 35.0, 35.0, 36.0, 36.0, 388.0, 389.0, 390.0, 390.0, 391.0, 391.0, 392.0, 392.0], \"lat\": [41.0137235, 41.0160165, 41.021421, 41.0251501, 41.02715120000001, 40.98085, 41.00563820000001, 41.004594, 40.959269, 40.95056500000001, 40.950648, 40.943142, 40.943235, 40.935119, 40.93518, 40.926442, 40.926416, 40.919124, 41.026452, 41.0219335, 41.0172755, 41.012769, 41.012688, 41.0081554, 41.0080904, 41.0078236], \"legendgroup\": \"cluster=29\", \"lon\": [29.1935369, 29.2050354, 29.2145278, 29.2252092, 29.2365507, 29.206268, 29.0202724, 29.031854, 29.221191, 29.220304, 29.220192, 29.213645, 29.21354, 29.208516, 29.20839, 29.206595, 29.206457, 29.212978000000003, 28.464981, 28.4749654, 28.4853401, 28.495547, 28.4954332, 28.5058667, 28.5056653, 28.5172338], \"marker\": {\"color\": \"#19d3f3\"}, \"mode\": \"markers\", \"name\": \"cluster=29\", \"showlegend\": true, \"subplot\": \"mapbox\", \"type\": \"scattermapbox\"}, {\"customdata\": [[0, \"38\"], [1, \"38\"], [0, \"38\"], [1, \"38\"], [0, \"38\"]], \"hoverlabel\": {\"namelength\": 0}, \"hovertemplate\": \"<b>%{hovertext}</b><br><br>cluster=%{customdata[1]}<br>vSegDir=%{customdata[0]}<br>longitude=%{lat}<br>latitude=%{lon}\", \"hovertext\": [266.0, 266.0, 267.0, 267.0, 268.0], \"lat\": [41.0270114, 41.0278424, 41.0277191, 41.0281033, 41.0279827], \"legendgroup\": \"cluster=38\", \"lon\": [29.236543800000003, 29.2482837, 29.2482853, 29.2601131, 29.260079], \"marker\": {\"color\": \"#FF6692\"}, \"mode\": \"markers\", \"name\": \"cluster=38\", \"showlegend\": true, \"subplot\": \"mapbox\", \"type\": \"scattermapbox\"}, {\"customdata\": [[1, \"37\"], [1, \"37\"]], \"hoverlabel\": {\"namelength\": 0}, \"hovertemplate\": \"<b>%{hovertext}</b><br><br>cluster=%{customdata[1]}<br>vSegDir=%{customdata[0]}<br>longitude=%{lat}<br>latitude=%{lon}\", \"hovertext\": [268.0, 269.0], \"lat\": [41.0333531, 41.0425588], \"legendgroup\": \"cluster=37\", \"lon\": [29.2693933, 29.2749328], \"marker\": {\"color\": \"#B6E880\"}, \"mode\": \"markers\", \"name\": \"cluster=37\", \"showlegend\": true, \"subplot\": \"mapbox\", \"type\": \"scattermapbox\"}, {\"customdata\": [[1, \"30\"]], \"hoverlabel\": {\"namelength\": 0}, \"hovertemplate\": \"<b>%{hovertext}</b><br><br>cluster=%{customdata[1]}<br>vSegDir=%{customdata[0]}<br>longitude=%{lat}<br>latitude=%{lon}\", \"hovertext\": [29.0], \"lat\": [40.97591], \"legendgroup\": \"cluster=30\", \"lon\": [29.212162], \"marker\": {\"color\": \"#FF97FF\"}, \"mode\": \"markers\", \"name\": \"cluster=30\", \"showlegend\": true, \"subplot\": \"mapbox\", \"type\": \"scattermapbox\"}, {\"customdata\": [[0, \"27\"], [1, \"27\"]], \"hoverlabel\": {\"namelength\": 0}, \"hovertemplate\": \"<b>%{hovertext}</b><br><br>cluster=%{customdata[1]}<br>vSegDir=%{customdata[0]}<br>longitude=%{lat}<br>latitude=%{lon}\", \"hovertext\": [306.0, 579.0], \"lat\": [41.00686470000001, 41.012674], \"legendgroup\": \"cluster=27\", \"lon\": [29.0118314, 29.011524800000004], \"marker\": {\"color\": \"#FECB52\"}, \"mode\": \"markers\", \"name\": \"cluster=27\", \"showlegend\": true, \"subplot\": \"mapbox\", \"type\": \"scattermapbox\"}, {\"customdata\": [[0, \"6\"], [0, \"6\"], [0, \"6\"], [1, \"6\"], [1, \"6\"]], \"hoverlabel\": {\"namelength\": 0}, \"hovertemplate\": \"<b>%{hovertext}</b><br><br>cluster=%{customdata[1]}<br>vSegDir=%{customdata[0]}<br>longitude=%{lat}<br>latitude=%{lon}\", \"hovertext\": [341.0, 342.0, 931.0, 931.0, 936.0], \"lat\": [40.830791, 40.826219, 41.229617, 41.232835, 41.201524], \"legendgroup\": \"cluster=6\", \"lon\": [29.33565, 29.345855, 28.829105, 28.8188414, 28.859017], \"marker\": {\"color\": \"#636efa\"}, \"mode\": \"markers\", \"name\": \"cluster=6\", \"showlegend\": true, \"subplot\": \"mapbox\", \"type\": \"scattermapbox\"}, {\"customdata\": [[0, \"60\"]], \"hoverlabel\": {\"namelength\": 0}, \"hovertemplate\": \"<b>%{hovertext}</b><br><br>cluster=%{customdata[1]}<br>vSegDir=%{customdata[0]}<br>longitude=%{lat}<br>latitude=%{lon}\", \"hovertext\": [46.0], \"lat\": [41.0214851], \"legendgroup\": \"cluster=60\", \"lon\": [29.0354287], \"marker\": {\"color\": \"#EF553B\"}, \"mode\": \"markers\", \"name\": \"cluster=60\", \"showlegend\": true, \"subplot\": \"mapbox\", \"type\": \"scattermapbox\"}, {\"customdata\": [[0, \"18\"], [0, \"18\"], [1, \"18\"], [0, \"18\"], [0, \"18\"]], \"hoverlabel\": {\"namelength\": 0}, \"hovertemplate\": \"<b>%{hovertext}</b><br><br>cluster=%{customdata[1]}<br>vSegDir=%{customdata[0]}<br>longitude=%{lat}<br>latitude=%{lon}\", \"hovertext\": [4.0, 552.0, 552.0, 5.0, 6.0], \"lat\": [40.98083, 41.042308, 41.040304600000006, 40.9742725, 40.968029], \"legendgroup\": \"cluster=18\", \"lon\": [29.041581, 29.00675, 28.9993463, 29.0468345, 29.054825], \"marker\": {\"color\": \"#00cc96\"}, \"mode\": \"markers\", \"name\": \"cluster=18\", \"showlegend\": true, \"subplot\": \"mapbox\", \"type\": \"scattermapbox\"}, {\"customdata\": [[1, \"11\"]], \"hoverlabel\": {\"namelength\": 0}, \"hovertemplate\": \"<b>%{hovertext}</b><br><br>cluster=%{customdata[1]}<br>vSegDir=%{customdata[0]}<br>longitude=%{lat}<br>latitude=%{lon}\", \"hovertext\": [500.0], \"lat\": [41.009731], \"legendgroup\": \"cluster=11\", \"lon\": [28.953346000000003], \"marker\": {\"color\": \"#ab63fa\"}, \"mode\": \"markers\", \"name\": \"cluster=11\", \"showlegend\": true, \"subplot\": \"mapbox\", \"type\": \"scattermapbox\"}, {\"customdata\": [[0, \"51\"], [0, \"51\"], [1, \"51\"]], \"hoverlabel\": {\"namelength\": 0}, \"hovertemplate\": \"<b>%{hovertext}</b><br><br>cluster=%{customdata[1]}<br>vSegDir=%{customdata[0]}<br>longitude=%{lat}<br>latitude=%{lon}\", \"hovertext\": [524.0, 526.0, 573.0], \"lat\": [41.028095, 41.040554, 41.0429295], \"legendgroup\": \"cluster=51\", \"lon\": [28.956492, 28.940777, 29.041957300000004], \"marker\": {\"color\": \"#FFA15A\"}, \"mode\": \"markers\", \"name\": \"cluster=51\", \"showlegend\": true, \"subplot\": \"mapbox\", \"type\": \"scattermapbox\"}, {\"customdata\": [[1, \"22\"], [1, \"22\"], [1, \"22\"]], \"hoverlabel\": {\"namelength\": 0}, \"hovertemplate\": \"<b>%{hovertext}</b><br><br>cluster=%{customdata[1]}<br>vSegDir=%{customdata[0]}<br>longitude=%{lat}<br>latitude=%{lon}\", \"hovertext\": [524.0, 576.0, 577.0], \"lat\": [41.033766, 41.029423, 41.02508320000001], \"legendgroup\": \"cluster=22\", \"lon\": [28.947945, 29.017868, 29.008675], \"marker\": {\"color\": \"#19d3f3\"}, \"mode\": \"markers\", \"name\": \"cluster=22\", \"showlegend\": true, \"subplot\": \"mapbox\", \"type\": \"scattermapbox\"}, {\"customdata\": [[0, \"52\"], [1, \"52\"], [0, \"52\"], [1, \"52\"], [0, \"52\"], [1, \"52\"], [0, \"52\"], [1, \"52\"], [0, \"52\"], [1, \"52\"], [0, \"52\"]], \"hoverlabel\": {\"namelength\": 0}, \"hovertemplate\": \"<b>%{hovertext}</b><br><br>cluster=%{customdata[1]}<br>vSegDir=%{customdata[0]}<br>longitude=%{lat}<br>latitude=%{lon}\", \"hovertext\": [542.0, 542.0, 543.0, 543.0, 544.0, 544.0, 546.0, 546.0, 547.0, 547.0, 548.0], \"lat\": [41.108695, 41.100504, 41.100555, 41.0924927, 41.092424, 41.08377279999999, 41.0794026, 41.0726032, 41.0725949, 41.06588350000001, 41.066058], \"legendgroup\": \"cluster=52\", \"lon\": [29.058943, 29.054712, 29.054582, 29.0550007, 29.054925, 29.0568168, 29.0476612, 29.044725300000003, 29.0445595, 29.041497600000003, 29.041447100000006], \"marker\": {\"color\": \"#FF6692\"}, \"mode\": \"markers\", \"name\": \"cluster=52\", \"showlegend\": true, \"subplot\": \"mapbox\", \"type\": \"scattermapbox\"}, {\"customdata\": [[0, \"8\"], [1, \"8\"]], \"hoverlabel\": {\"namelength\": 0}, \"hovertemplate\": \"<b>%{hovertext}</b><br><br>cluster=%{customdata[1]}<br>vSegDir=%{customdata[0]}<br>longitude=%{lat}<br>latitude=%{lon}\", \"hovertext\": [550.0, 550.0], \"lat\": [41.0486543, 41.0460455], \"legendgroup\": \"cluster=8\", \"lon\": [29.0266245, 29.0199994], \"marker\": {\"color\": \"#B6E880\"}, \"mode\": \"markers\", \"name\": \"cluster=8\", \"showlegend\": true, \"subplot\": \"mapbox\", \"type\": \"scattermapbox\"}, {\"customdata\": [[0, \"23\"], [0, \"23\"]], \"hoverlabel\": {\"namelength\": 0}, \"hovertemplate\": \"<b>%{hovertext}</b><br><br>cluster=%{customdata[1]}<br>vSegDir=%{customdata[0]}<br>longitude=%{lat}<br>latitude=%{lon}\", \"hovertext\": [571.0, 572.0], \"lat\": [41.0627507, 41.0547215], \"legendgroup\": \"cluster=23\", \"lon\": [29.0544844, 29.052140100000006], \"marker\": {\"color\": \"#FF97FF\"}, \"mode\": \"markers\", \"name\": \"cluster=23\", \"showlegend\": true, \"subplot\": \"mapbox\", \"type\": \"scattermapbox\"}, {\"customdata\": [[0, \"24\"]], \"hoverlabel\": {\"namelength\": 0}, \"hovertemplate\": \"<b>%{hovertext}</b><br><br>cluster=%{customdata[1]}<br>vSegDir=%{customdata[0]}<br>longitude=%{lat}<br>latitude=%{lon}\", \"hovertext\": [573.0], \"lat\": [41.0472141], \"legendgroup\": \"cluster=24\", \"lon\": [29.0523077], \"marker\": {\"color\": \"#FECB52\"}, \"mode\": \"markers\", \"name\": \"cluster=24\", \"showlegend\": true, \"subplot\": \"mapbox\", \"type\": \"scattermapbox\"}, {\"customdata\": [[0, \"50\"], [1, \"50\"], [0, \"50\"], [1, \"50\"], [0, \"50\"], [1, \"50\"], [0, \"50\"], [1, \"50\"], [0, \"50\"], [1, \"50\"], [0, \"50\"], [0, \"50\"], [0, \"50\"], [1, \"50\"], [0, \"50\"], [1, \"50\"], [0, \"50\"], [0, \"50\"], [0, \"50\"]], \"hoverlabel\": {\"namelength\": 0}, \"hovertemplate\": \"<b>%{hovertext}</b><br><br>cluster=%{customdata[1]}<br>vSegDir=%{customdata[0]}<br>longitude=%{lat}<br>latitude=%{lon}\", \"hovertext\": [589.0, 589.0, 590.0, 590.0, 591.0, 591.0, 592.0, 592.0, 593.0, 593.0, 594.0, 595.0, 596.0, 596.0, 597.0, 597.0, 7.0, 8.0, 9.0], \"lat\": [40.894473, 40.887952, 40.887857, 40.887579, 40.887443, 40.884675, 40.884535, 40.882242, 40.882114, 40.877276, 40.877137, 40.871141, 40.875597, 40.872325, 40.872201, 40.867514, 40.9638965, 40.958238, 40.954825], \"legendgroup\": \"cluster=50\", \"lon\": [29.168849, 29.177187, 29.177084000000004, 29.187398, 29.187428000000004, 29.198643, 29.198649, 29.210169, 29.210113, 29.219867, 29.21985, 29.2284, 29.237116, 29.248259, 29.248195000000006, 29.258406, 29.0651964, 29.073387, 29.083659], \"marker\": {\"color\": \"#636efa\"}, \"mode\": \"markers\", \"name\": \"cluster=50\", \"showlegend\": true, \"subplot\": \"mapbox\", \"type\": \"scattermapbox\"}, {\"customdata\": [[1, \"63\"]], \"hoverlabel\": {\"namelength\": 0}, \"hovertemplate\": \"<b>%{hovertext}</b><br><br>cluster=%{customdata[1]}<br>vSegDir=%{customdata[0]}<br>longitude=%{lat}<br>latitude=%{lon}\", \"hovertext\": [743.0], \"lat\": [41.070513], \"legendgroup\": \"cluster=63\", \"lon\": [29.015109], \"marker\": {\"color\": \"#EF553B\"}, \"mode\": \"markers\", \"name\": \"cluster=63\", \"showlegend\": true, \"subplot\": \"mapbox\", \"type\": \"scattermapbox\"}, {\"customdata\": [[0, \"61\"]], \"hoverlabel\": {\"namelength\": 0}, \"hovertemplate\": \"<b>%{hovertext}</b><br><br>cluster=%{customdata[1]}<br>vSegDir=%{customdata[0]}<br>longitude=%{lat}<br>latitude=%{lon}\", \"hovertext\": [759.0], \"lat\": [41.012588], \"legendgroup\": \"cluster=61\", \"lon\": [29.020281], \"marker\": {\"color\": \"#00cc96\"}, \"mode\": \"markers\", \"name\": \"cluster=61\", \"showlegend\": true, \"subplot\": \"mapbox\", \"type\": \"scattermapbox\"}, {\"customdata\": [[1, \"48\"]], \"hoverlabel\": {\"namelength\": 0}, \"hovertemplate\": \"<b>%{hovertext}</b><br><br>cluster=%{customdata[1]}<br>vSegDir=%{customdata[0]}<br>longitude=%{lat}<br>latitude=%{lon}\", \"hovertext\": [759.0], \"lat\": [41.0154266], \"legendgroup\": \"cluster=48\", \"lon\": [29.028667100000003], \"marker\": {\"color\": \"#ab63fa\"}, \"mode\": \"markers\", \"name\": \"cluster=48\", \"showlegend\": true, \"subplot\": \"mapbox\", \"type\": \"scattermapbox\"}, {\"customdata\": [[1, \"31\"]], \"hoverlabel\": {\"namelength\": 0}, \"hovertemplate\": \"<b>%{hovertext}</b><br><br>cluster=%{customdata[1]}<br>vSegDir=%{customdata[0]}<br>longitude=%{lat}<br>latitude=%{lon}\", \"hovertext\": [768.0], \"lat\": [41.020856], \"legendgroup\": \"cluster=31\", \"lon\": [29.120802], \"marker\": {\"color\": \"#FFA15A\"}, \"mode\": \"markers\", \"name\": \"cluster=31\", \"showlegend\": true, \"subplot\": \"mapbox\", \"type\": \"scattermapbox\"}, {\"customdata\": [[0, \"49\"], [1, \"49\"], [1, \"49\"]], \"hoverlabel\": {\"namelength\": 0}, \"hovertemplate\": \"<b>%{hovertext}</b><br><br>cluster=%{customdata[1]}<br>vSegDir=%{customdata[0]}<br>longitude=%{lat}<br>latitude=%{lon}\", \"hovertext\": [80.0, 80.0, 81.0], \"lat\": [41.109694, 41.112457, 41.112462], \"legendgroup\": \"cluster=49\", \"lon\": [29.033081, 29.044127000000003, 29.055740000000004], \"marker\": {\"color\": \"#19d3f3\"}, \"mode\": \"markers\", \"name\": \"cluster=49\", \"showlegend\": true, \"subplot\": \"mapbox\", \"type\": \"scattermapbox\"}, {\"customdata\": [[0, \"58\"], [0, \"58\"]], \"hoverlabel\": {\"namelength\": 0}, \"hovertemplate\": \"<b>%{hovertext}</b><br><br>cluster=%{customdata[1]}<br>vSegDir=%{customdata[0]}<br>longitude=%{lat}<br>latitude=%{lon}\", \"hovertext\": [84.0, 85.0], \"lat\": [41.089803, 41.0862787], \"legendgroup\": \"cluster=58\", \"lon\": [28.8642812, 28.8695446], \"marker\": {\"color\": \"#FF6692\"}, \"mode\": \"markers\", \"name\": \"cluster=58\", \"showlegend\": true, \"subplot\": \"mapbox\", \"type\": \"scattermapbox\"}, {\"customdata\": [[1, \"3\"], [1, \"3\"], [1, \"3\"], [1, \"3\"], [1, \"3\"]], \"hoverlabel\": {\"namelength\": 0}, \"hovertemplate\": \"<b>%{hovertext}</b><br><br>cluster=%{customdata[1]}<br>vSegDir=%{customdata[0]}<br>longitude=%{lat}<br>latitude=%{lon}\", \"hovertext\": [84.0, 85.0, 86.0, 87.0, 89.0], \"lat\": [41.086405, 41.079199, 41.073883, 41.06863, 41.054855], \"legendgroup\": \"cluster=3\", \"lon\": [28.869698, 28.876708, 28.885984000000004, 28.895512, 28.909952], \"marker\": {\"color\": \"#B6E880\"}, \"mode\": \"markers\", \"name\": \"cluster=3\", \"showlegend\": true, \"subplot\": \"mapbox\", \"type\": \"scattermapbox\"}, {\"customdata\": [[0, \"59\"], [1, \"59\"]], \"hoverlabel\": {\"namelength\": 0}, \"hovertemplate\": \"<b>%{hovertext}</b><br><br>cluster=%{customdata[1]}<br>vSegDir=%{customdata[0]}<br>longitude=%{lat}<br>latitude=%{lon}\", \"hovertext\": [880.0, 880.0], \"lat\": [41.1759419, 41.180989], \"legendgroup\": \"cluster=59\", \"lon\": [28.7487197, 28.744826], \"marker\": {\"color\": \"#FF97FF\"}, \"mode\": \"markers\", \"name\": \"cluster=59\", \"showlegend\": true, \"subplot\": \"mapbox\", \"type\": \"scattermapbox\"}, {\"customdata\": [[0, \"34\"], [1, \"34\"], [0, \"34\"], [1, \"34\"], [0, \"34\"], [1, \"34\"], [0, \"34\"], [1, \"34\"], [0, \"34\"], [1, \"34\"]], \"hoverlabel\": {\"namelength\": 0}, \"hovertemplate\": \"<b>%{hovertext}</b><br><br>cluster=%{customdata[1]}<br>vSegDir=%{customdata[0]}<br>longitude=%{lat}<br>latitude=%{lon}\", \"hovertext\": [883.0, 883.0, 884.0, 884.0, 885.0, 885.0, 886.0, 886.0, 887.0, 887.0], \"lat\": [41.1602584, 41.1635119, 41.153903, 41.1600969, 41.1464528, 41.1539879, 41.1409758, 41.1462273, 41.1363092, 41.1408415], \"legendgroup\": \"cluster=34\", \"lon\": [28.7805086, 28.770387300000003, 28.787291, 28.7804287, 28.7931028, 28.7871966, 28.8023937, 28.793224, 28.811485, 28.802301], \"marker\": {\"color\": \"#FECB52\"}, \"mode\": \"markers\", \"name\": \"cluster=34\", \"showlegend\": true, \"subplot\": \"mapbox\", \"type\": \"scattermapbox\"}, {\"customdata\": [[0, \"4\"]], \"hoverlabel\": {\"namelength\": 0}, \"hovertemplate\": \"<b>%{hovertext}</b><br><br>cluster=%{customdata[1]}<br>vSegDir=%{customdata[0]}<br>longitude=%{lat}<br>latitude=%{lon}\", \"hovertext\": [88.0], \"lat\": [41.068517], \"legendgroup\": \"cluster=4\", \"lon\": [28.89543], \"marker\": {\"color\": \"#636efa\"}, \"mode\": \"markers\", \"name\": \"cluster=4\", \"showlegend\": true, \"subplot\": \"mapbox\", \"type\": \"scattermapbox\"}, {\"customdata\": [[0, \"10\"], [1, \"10\"]], \"hoverlabel\": {\"namelength\": 0}, \"hovertemplate\": \"<b>%{hovertext}</b><br><br>cluster=%{customdata[1]}<br>vSegDir=%{customdata[0]}<br>longitude=%{lat}<br>latitude=%{lon}\", \"hovertext\": [93.0, 93.0], \"lat\": [41.0336173, 41.0280471], \"legendgroup\": \"cluster=10\", \"lon\": [28.9297105, 28.9378891], \"marker\": {\"color\": \"#EF553B\"}, \"mode\": \"markers\", \"name\": \"cluster=10\", \"showlegend\": true, \"subplot\": \"mapbox\", \"type\": \"scattermapbox\"}],\n",
              "                        {\"height\": 600, \"legend\": {\"tracegroupgap\": 0}, \"mapbox\": {\"center\": {\"lat\": 41.04406665006823, \"lon\": 28.949562592087293}, \"domain\": {\"x\": [0.0, 1.0], \"y\": [0.0, 1.0]}, \"style\": \"open-street-map\", \"zoom\": 4}, \"margin\": {\"b\": 0, \"l\": 0, \"r\": 0, \"t\": 0}, \"template\": {\"data\": {\"bar\": [{\"error_x\": {\"color\": \"#2a3f5f\"}, \"error_y\": {\"color\": \"#2a3f5f\"}, \"marker\": {\"line\": {\"color\": \"#E5ECF6\", \"width\": 0.5}}, \"type\": \"bar\"}], \"barpolar\": [{\"marker\": {\"line\": {\"color\": \"#E5ECF6\", \"width\": 0.5}}, \"type\": \"barpolar\"}], \"carpet\": [{\"aaxis\": {\"endlinecolor\": \"#2a3f5f\", \"gridcolor\": \"white\", \"linecolor\": \"white\", \"minorgridcolor\": \"white\", \"startlinecolor\": \"#2a3f5f\"}, \"baxis\": {\"endlinecolor\": \"#2a3f5f\", \"gridcolor\": \"white\", \"linecolor\": \"white\", \"minorgridcolor\": \"white\", \"startlinecolor\": \"#2a3f5f\"}, \"type\": \"carpet\"}], \"choropleth\": [{\"colorbar\": {\"outlinewidth\": 0, \"ticks\": \"\"}, \"type\": \"choropleth\"}], \"contour\": [{\"colorbar\": {\"outlinewidth\": 0, \"ticks\": \"\"}, \"colorscale\": [[0.0, \"#0d0887\"], [0.1111111111111111, \"#46039f\"], [0.2222222222222222, \"#7201a8\"], [0.3333333333333333, \"#9c179e\"], [0.4444444444444444, \"#bd3786\"], [0.5555555555555556, \"#d8576b\"], [0.6666666666666666, \"#ed7953\"], [0.7777777777777778, \"#fb9f3a\"], [0.8888888888888888, \"#fdca26\"], [1.0, \"#f0f921\"]], \"type\": \"contour\"}], \"contourcarpet\": [{\"colorbar\": {\"outlinewidth\": 0, \"ticks\": \"\"}, \"type\": \"contourcarpet\"}], \"heatmap\": [{\"colorbar\": {\"outlinewidth\": 0, \"ticks\": \"\"}, \"colorscale\": [[0.0, \"#0d0887\"], [0.1111111111111111, \"#46039f\"], [0.2222222222222222, \"#7201a8\"], [0.3333333333333333, \"#9c179e\"], [0.4444444444444444, \"#bd3786\"], [0.5555555555555556, \"#d8576b\"], [0.6666666666666666, \"#ed7953\"], [0.7777777777777778, \"#fb9f3a\"], [0.8888888888888888, \"#fdca26\"], [1.0, \"#f0f921\"]], \"type\": \"heatmap\"}], \"heatmapgl\": [{\"colorbar\": {\"outlinewidth\": 0, \"ticks\": \"\"}, \"colorscale\": [[0.0, \"#0d0887\"], [0.1111111111111111, \"#46039f\"], [0.2222222222222222, \"#7201a8\"], [0.3333333333333333, \"#9c179e\"], [0.4444444444444444, \"#bd3786\"], [0.5555555555555556, \"#d8576b\"], [0.6666666666666666, \"#ed7953\"], [0.7777777777777778, \"#fb9f3a\"], [0.8888888888888888, \"#fdca26\"], [1.0, \"#f0f921\"]], \"type\": \"heatmapgl\"}], \"histogram\": [{\"marker\": {\"colorbar\": {\"outlinewidth\": 0, \"ticks\": \"\"}}, \"type\": \"histogram\"}], \"histogram2d\": [{\"colorbar\": {\"outlinewidth\": 0, \"ticks\": \"\"}, \"colorscale\": [[0.0, \"#0d0887\"], [0.1111111111111111, \"#46039f\"], [0.2222222222222222, \"#7201a8\"], [0.3333333333333333, \"#9c179e\"], [0.4444444444444444, \"#bd3786\"], [0.5555555555555556, \"#d8576b\"], [0.6666666666666666, \"#ed7953\"], [0.7777777777777778, \"#fb9f3a\"], [0.8888888888888888, \"#fdca26\"], [1.0, \"#f0f921\"]], \"type\": \"histogram2d\"}], \"histogram2dcontour\": [{\"colorbar\": {\"outlinewidth\": 0, \"ticks\": \"\"}, \"colorscale\": [[0.0, \"#0d0887\"], [0.1111111111111111, \"#46039f\"], [0.2222222222222222, \"#7201a8\"], [0.3333333333333333, \"#9c179e\"], [0.4444444444444444, \"#bd3786\"], [0.5555555555555556, \"#d8576b\"], [0.6666666666666666, \"#ed7953\"], [0.7777777777777778, \"#fb9f3a\"], [0.8888888888888888, \"#fdca26\"], [1.0, \"#f0f921\"]], \"type\": \"histogram2dcontour\"}], \"mesh3d\": [{\"colorbar\": {\"outlinewidth\": 0, \"ticks\": \"\"}, \"type\": \"mesh3d\"}], \"parcoords\": [{\"line\": {\"colorbar\": {\"outlinewidth\": 0, \"ticks\": \"\"}}, \"type\": \"parcoords\"}], \"pie\": [{\"automargin\": true, \"type\": \"pie\"}], \"scatter\": [{\"marker\": {\"colorbar\": {\"outlinewidth\": 0, \"ticks\": \"\"}}, \"type\": \"scatter\"}], \"scatter3d\": [{\"line\": {\"colorbar\": {\"outlinewidth\": 0, \"ticks\": \"\"}}, \"marker\": {\"colorbar\": {\"outlinewidth\": 0, \"ticks\": \"\"}}, \"type\": \"scatter3d\"}], \"scattercarpet\": [{\"marker\": {\"colorbar\": {\"outlinewidth\": 0, \"ticks\": \"\"}}, \"type\": \"scattercarpet\"}], \"scattergeo\": [{\"marker\": {\"colorbar\": {\"outlinewidth\": 0, \"ticks\": \"\"}}, \"type\": \"scattergeo\"}], \"scattergl\": [{\"marker\": {\"colorbar\": {\"outlinewidth\": 0, \"ticks\": \"\"}}, \"type\": \"scattergl\"}], \"scattermapbox\": [{\"marker\": {\"colorbar\": {\"outlinewidth\": 0, \"ticks\": \"\"}}, \"type\": \"scattermapbox\"}], \"scatterpolar\": [{\"marker\": {\"colorbar\": {\"outlinewidth\": 0, \"ticks\": \"\"}}, \"type\": \"scatterpolar\"}], \"scatterpolargl\": [{\"marker\": {\"colorbar\": {\"outlinewidth\": 0, \"ticks\": \"\"}}, \"type\": \"scatterpolargl\"}], \"scatterternary\": [{\"marker\": {\"colorbar\": {\"outlinewidth\": 0, \"ticks\": \"\"}}, \"type\": \"scatterternary\"}], \"surface\": [{\"colorbar\": {\"outlinewidth\": 0, \"ticks\": \"\"}, \"colorscale\": [[0.0, \"#0d0887\"], [0.1111111111111111, \"#46039f\"], [0.2222222222222222, \"#7201a8\"], [0.3333333333333333, \"#9c179e\"], [0.4444444444444444, \"#bd3786\"], [0.5555555555555556, \"#d8576b\"], [0.6666666666666666, \"#ed7953\"], [0.7777777777777778, \"#fb9f3a\"], [0.8888888888888888, \"#fdca26\"], [1.0, \"#f0f921\"]], \"type\": \"surface\"}], \"table\": [{\"cells\": {\"fill\": {\"color\": \"#EBF0F8\"}, \"line\": {\"color\": \"white\"}}, \"header\": {\"fill\": {\"color\": \"#C8D4E3\"}, \"line\": {\"color\": \"white\"}}, \"type\": \"table\"}]}, \"layout\": {\"annotationdefaults\": {\"arrowcolor\": \"#2a3f5f\", \"arrowhead\": 0, \"arrowwidth\": 1}, \"coloraxis\": {\"colorbar\": {\"outlinewidth\": 0, \"ticks\": \"\"}}, \"colorscale\": {\"diverging\": [[0, \"#8e0152\"], [0.1, \"#c51b7d\"], [0.2, \"#de77ae\"], [0.3, \"#f1b6da\"], [0.4, \"#fde0ef\"], [0.5, \"#f7f7f7\"], [0.6, \"#e6f5d0\"], [0.7, \"#b8e186\"], [0.8, \"#7fbc41\"], [0.9, \"#4d9221\"], [1, \"#276419\"]], \"sequential\": [[0.0, \"#0d0887\"], [0.1111111111111111, \"#46039f\"], [0.2222222222222222, \"#7201a8\"], [0.3333333333333333, \"#9c179e\"], [0.4444444444444444, \"#bd3786\"], [0.5555555555555556, \"#d8576b\"], [0.6666666666666666, \"#ed7953\"], [0.7777777777777778, \"#fb9f3a\"], [0.8888888888888888, \"#fdca26\"], [1.0, \"#f0f921\"]], \"sequentialminus\": [[0.0, \"#0d0887\"], [0.1111111111111111, \"#46039f\"], [0.2222222222222222, \"#7201a8\"], [0.3333333333333333, \"#9c179e\"], [0.4444444444444444, \"#bd3786\"], [0.5555555555555556, \"#d8576b\"], [0.6666666666666666, \"#ed7953\"], [0.7777777777777778, \"#fb9f3a\"], [0.8888888888888888, \"#fdca26\"], [1.0, \"#f0f921\"]]}, \"colorway\": [\"#636efa\", \"#EF553B\", \"#00cc96\", \"#ab63fa\", \"#FFA15A\", \"#19d3f3\", \"#FF6692\", \"#B6E880\", \"#FF97FF\", \"#FECB52\"], \"font\": {\"color\": \"#2a3f5f\"}, \"geo\": {\"bgcolor\": \"white\", \"lakecolor\": \"white\", \"landcolor\": \"#E5ECF6\", \"showlakes\": true, \"showland\": true, \"subunitcolor\": \"white\"}, \"hoverlabel\": {\"align\": \"left\"}, \"hovermode\": \"closest\", \"mapbox\": {\"style\": \"light\"}, \"paper_bgcolor\": \"white\", \"plot_bgcolor\": \"#E5ECF6\", \"polar\": {\"angularaxis\": {\"gridcolor\": \"white\", \"linecolor\": \"white\", \"ticks\": \"\"}, \"bgcolor\": \"#E5ECF6\", \"radialaxis\": {\"gridcolor\": \"white\", \"linecolor\": \"white\", \"ticks\": \"\"}}, \"scene\": {\"xaxis\": {\"backgroundcolor\": \"#E5ECF6\", \"gridcolor\": \"white\", \"gridwidth\": 2, \"linecolor\": \"white\", \"showbackground\": true, \"ticks\": \"\", \"zerolinecolor\": \"white\"}, \"yaxis\": {\"backgroundcolor\": \"#E5ECF6\", \"gridcolor\": \"white\", \"gridwidth\": 2, \"linecolor\": \"white\", \"showbackground\": true, \"ticks\": \"\", \"zerolinecolor\": \"white\"}, \"zaxis\": {\"backgroundcolor\": \"#E5ECF6\", \"gridcolor\": \"white\", \"gridwidth\": 2, \"linecolor\": \"white\", \"showbackground\": true, \"ticks\": \"\", \"zerolinecolor\": \"white\"}}, \"shapedefaults\": {\"line\": {\"color\": \"#2a3f5f\"}}, \"ternary\": {\"aaxis\": {\"gridcolor\": \"white\", \"linecolor\": \"white\", \"ticks\": \"\"}, \"baxis\": {\"gridcolor\": \"white\", \"linecolor\": \"white\", \"ticks\": \"\"}, \"bgcolor\": \"#E5ECF6\", \"caxis\": {\"gridcolor\": \"white\", \"linecolor\": \"white\", \"ticks\": \"\"}}, \"title\": {\"x\": 0.05}, \"xaxis\": {\"automargin\": true, \"gridcolor\": \"white\", \"linecolor\": \"white\", \"ticks\": \"\", \"title\": {\"standoff\": 15}, \"zerolinecolor\": \"white\", \"zerolinewidth\": 2}, \"yaxis\": {\"automargin\": true, \"gridcolor\": \"white\", \"linecolor\": \"white\", \"ticks\": \"\", \"title\": {\"standoff\": 15}, \"zerolinecolor\": \"white\", \"zerolinewidth\": 2}}}},\n",
              "                        {\"responsive\": true}\n",
              "                    ).then(function(){\n",
              "                            \n",
              "var gd = document.getElementById('02ff0bf6-8f37-41d8-8365-35cde6702e54');\n",
              "var x = new MutationObserver(function (mutations, observer) {{\n",
              "        var display = window.getComputedStyle(gd).display;\n",
              "        if (!display || display === 'none') {{\n",
              "            console.log([gd, 'removed!']);\n",
              "            Plotly.purge(gd);\n",
              "            observer.disconnect();\n",
              "        }}\n",
              "}});\n",
              "\n",
              "// Listen for the removal of the full notebook cells\n",
              "var notebookContainer = gd.closest('#notebook-container');\n",
              "if (notebookContainer) {{\n",
              "    x.observe(notebookContainer, {childList: true});\n",
              "}}\n",
              "\n",
              "// Listen for the clearing of the current output cell\n",
              "var outputEl = gd.closest('.output');\n",
              "if (outputEl) {{\n",
              "    x.observe(outputEl, {childList: true});\n",
              "}}\n",
              "\n",
              "                        })\n",
              "                };\n",
              "                \n",
              "            </script>\n",
              "        </div>\n",
              "</body>\n",
              "</html>"
            ]
          },
          "metadata": {}
        }
      ]
    },
    {
      "cell_type": "code",
      "source": [
        "hierarchy = linkage(squareform(dissimilarity), method='weighted')\n",
        "labels = fcluster(hierarchy, 0.7, criterion='distance')\n",
        "labels.max()"
      ],
      "metadata": {
        "colab": {
          "base_uri": "https://localhost:8080/"
        },
        "id": "Fd45PBOT54de",
        "outputId": "1965183d-b27e-455c-d3c4-05d516fb42fe"
      },
      "execution_count": null,
      "outputs": [
        {
          "output_type": "execute_result",
          "data": {
            "text/plain": [
              "43"
            ]
          },
          "metadata": {},
          "execution_count": 15
        }
      ]
    },
    {
      "cell_type": "code",
      "source": [
        "metrics.silhouette_score(corr, labels, metric='euclidean')"
      ],
      "metadata": {
        "colab": {
          "base_uri": "https://localhost:8080/"
        },
        "id": "j1z-SxqjLxjS",
        "outputId": "053da08c-61e8-42cc-eeba-aa3d08bd9039"
      },
      "execution_count": null,
      "outputs": [
        {
          "output_type": "execute_result",
          "data": {
            "text/plain": [
              "-0.0204075349210778"
            ]
          },
          "metadata": {},
          "execution_count": 16
        }
      ]
    },
    {
      "cell_type": "code",
      "source": [
        "metrics.silhouette_score(dissimilarity, labels, metric='euclidean')"
      ],
      "metadata": {
        "colab": {
          "base_uri": "https://localhost:8080/"
        },
        "id": "DDmGO_LSLxfJ",
        "outputId": "c9dfbfcf-7b6d-4951-f516-8caf6309fb52"
      },
      "execution_count": null,
      "outputs": [
        {
          "output_type": "execute_result",
          "data": {
            "text/plain": [
              "-0.020016024312386613"
            ]
          },
          "metadata": {},
          "execution_count": 17
        }
      ]
    },
    {
      "cell_type": "code",
      "source": [
        "den = dendrogram(hierarchy)"
      ],
      "metadata": {
        "colab": {
          "base_uri": "https://localhost:8080/",
          "height": 268
        },
        "id": "KCzE8nnH54a0",
        "outputId": "e34136f3-2f18-4154-e158-f1ecdebb2e43"
      },
      "execution_count": null,
      "outputs": [
        {
          "output_type": "display_data",
          "data": {
            "image/png": "[encoded data removed]",
            "text/plain": [
              "<Figure size 432x288 with 1 Axes>"
            ]
          },
          "metadata": {
            "needs_background": "light"
          }
        }
      ]
    },
    {
      "cell_type": "code",
      "source": [
        "clusters = defaultdict(list)\n",
        "for i,val in enumerate(labels):\n",
        "  clusters[val].append(cols[i])\n",
        "for cluster in clusters:\n",
        "  print(\"cluster:{} len:{}\".format(cluster,len(clusters[cluster])))"
      ],
      "metadata": {
        "colab": {
          "base_uri": "https://localhost:8080/"
        },
        "id": "mQUNAJbU54YT",
        "outputId": "5ede5097-a0a3-426e-d0c0-df68a24c8fc3"
      },
      "execution_count": null,
      "outputs": [
        {
          "output_type": "stream",
          "name": "stdout",
          "text": [
            "cluster:32 len:183\n",
            "cluster:13 len:488\n",
            "cluster:40 len:581\n",
            "cluster:27 len:1\n",
            "cluster:30 len:17\n",
            "cluster:26 len:7\n",
            "cluster:38 len:39\n",
            "cluster:31 len:25\n",
            "cluster:9 len:14\n",
            "cluster:7 len:11\n",
            "cluster:19 len:4\n",
            "cluster:11 len:1\n",
            "cluster:1 len:14\n",
            "cluster:35 len:8\n",
            "cluster:5 len:9\n",
            "cluster:24 len:3\n",
            "cluster:6 len:4\n",
            "cluster:14 len:1\n",
            "cluster:4 len:8\n",
            "cluster:39 len:6\n",
            "cluster:22 len:1\n",
            "cluster:28 len:2\n",
            "cluster:8 len:2\n",
            "cluster:36 len:4\n",
            "cluster:25 len:4\n",
            "cluster:37 len:1\n",
            "cluster:17 len:1\n",
            "cluster:34 len:1\n",
            "cluster:33 len:7\n",
            "cluster:10 len:1\n",
            "cluster:12 len:4\n",
            "cluster:15 len:1\n",
            "cluster:3 len:2\n",
            "cluster:29 len:2\n",
            "cluster:23 len:1\n",
            "cluster:2 len:1\n",
            "cluster:43 len:1\n",
            "cluster:41 len:1\n",
            "cluster:21 len:1\n",
            "cluster:42 len:1\n",
            "cluster:16 len:1\n",
            "cluster:18 len:1\n",
            "cluster:20 len:1\n"
          ]
        }
      ]
    },
    {
      "cell_type": "code",
      "source": [
        "path = 'drive/MyDrive/Metadata/Coordinates_2017.csv'\n",
        "df = pd.read_csv(path)\n",
        "df[\"cluster\"] = -1\n",
        "for i in range(len(df)):\n",
        "  file_name =  'drive/MyDrive/2017_v1/{}_{}_2017.csv'.format(int(df.loc[i][\"vSegID\"]),int(df.loc[i][\"vSegDir\"]))\n",
        "  for cluster in clusters:\n",
        "    if file_name in clusters[cluster]:\n",
        "      df.iloc[i] = [int(df.loc[i][\"vSegID\"]), int(df.loc[i][\"vSegDir\"]),\n",
        "                   df.loc[i][\"longitude\"], df.loc[i][\"latitude\"],\n",
        "                   cluster]\n",
        "      break\n",
        "\n",
        "df.to_csv(\"drive/MyDrive/SimilarityScores/Coordinates/2017/WorkingHourWeightedClusterCoord_2017.csv\")"
      ],
      "metadata": {
        "id": "APrxOunt54Vr"
      },
      "execution_count": null,
      "outputs": []
    },
    {
      "cell_type": "code",
      "source": [
        "path = \"drive/MyDrive/SimilarityScores/Coordinates/2017/WorkingHourWeightedClusterCoord_2017.csv\"\n",
        "df = pd.read_csv(path)\n",
        "df = df.drop(\"Unnamed: 0\",axis=1)\n",
        "df[\"cluster\"] = df[\"cluster\"].astype(str)\n",
        "fig = px.scatter_mapbox(df, lon='latitude', lat='longitude', hover_name='vSegID', hover_data=['vSegDir',\"cluster\"],\n",
        "                        color=\"cluster\", zoom=4, height=600)\n",
        "fig.update_layout(mapbox_style=\"open-street-map\")\n",
        "fig.update_layout(margin={\"r\":0,\"t\":0,\"l\":0,\"b\":0})\n",
        "fig.show()"
      ],
      "metadata": {
        "colab": {
          "base_uri": "https://localhost:8080/",
          "height": 617
        },
        "id": "B5NvqsYM54Sq",
        "outputId": "f4c3fe1e-ed03-4f63-f0d9-995450686466"
      },
      "execution_count": null,
      "outputs": [
        {
          "output_type": "display_data",
          "data": {
            "text/html": [
              "<html>\n",
              "<head><meta charset=\"utf-8\" /></head>\n",
              "<body>\n",
              "    <div>\n",
              "            <script src=\"https://cdnjs.cloudflare.com/ajax/libs/mathjax/2.7.5/MathJax.js?config=TeX-AMS-MML_SVG\"></script><script type=\"text/javascript\">if (window.MathJax) {MathJax.Hub.Config({SVG: {font: \"STIX-Web\"}});}</script>\n",
              "                <script type=\"text/javascript\">window.PlotlyConfig = {MathJaxConfig: 'local'};</script>\n",
              "        <script src=\"https://cdn.plot.ly/plotly-latest.min.js\"></script>    \n",
              "            <div id=\"07989a63-83d1-4f35-8ab8-e3c575c934a8\" class=\"plotly-graph-div\" style=\"height:600px; width:100%;\"></div>\n",
              "            <script type=\"text/javascript\">\n",
              "                \n",
              "                    window.PLOTLYENV=window.PLOTLYENV || {};\n",
              "                    \n",
              "                if (document.getElementById(\"07989a63-83d1-4f35-8ab8-e3c575c934a8\")) {\n",
              "                    Plotly.newPlot(\n",
              "                        '07989a63-83d1-4f35-8ab8-e3c575c934a8',\n",
              "                        [{\"customdata\": [[0, \"13\"], [1, \"13\"], [0, \"13\"], [1, \"13\"], [0, \"13\"], [1, \"13\"], [0, \"13\"], [1, \"13\"], [0, \"13\"], [1, \"13\"], [0, \"13\"], [1, \"13\"], [0, \"13\"], [1, \"13\"], [0, \"13\"], [1, \"13\"], [0, \"13\"], [1, \"13\"], [0, \"13\"], [1, \"13\"], [0, \"13\"], [1, \"13\"], [0, \"13\"], [1, \"13\"], [0, \"13\"], [0, \"13\"], [1, \"13\"], [0, \"13\"], [1, \"13\"], [0, \"13\"], [1, \"13\"], [0, \"13\"], [1, \"13\"], [0, \"13\"], [0, \"13\"], [1, \"13\"], [0, \"13\"], [1, \"13\"], [0, \"13\"], [0, \"13\"], [0, \"13\"], [0, \"13\"], [1, \"13\"], [0, \"13\"], [1, \"13\"], [0, \"13\"], [1, \"13\"], [0, \"13\"], [1, \"13\"], [0, \"13\"], [1, \"13\"], [0, \"13\"], [0, \"13\"], [1, \"13\"], [0, \"13\"], [1, \"13\"], [0, \"13\"], [1, \"13\"], [0, \"13\"], [1, \"13\"], [1, \"13\"], [0, \"13\"], [0, \"13\"], [1, \"13\"], [1, \"13\"], [1, \"13\"], [0, \"13\"], [1, \"13\"], [0, \"13\"], [1, \"13\"], [1, \"13\"], [1, \"13\"], [0, \"13\"], [1, \"13\"], [0, \"13\"], [1, \"13\"], [1, \"13\"], [0, \"13\"], [1, \"13\"], [0, \"13\"], [0, \"13\"], [1, \"13\"], [0, \"13\"], [1, \"13\"], [0, \"13\"], [1, \"13\"], [0, \"13\"], [1, \"13\"], [0, \"13\"], [1, \"13\"], [0, \"13\"], [1, \"13\"], [0, \"13\"], [1, \"13\"], [0, \"13\"], [1, \"13\"], [0, \"13\"], [1, \"13\"], [0, \"13\"], [1, \"13\"], [0, \"13\"], [1, \"13\"], [0, \"13\"], [1, \"13\"], [1, \"13\"], [0, \"13\"], [1, \"13\"], [0, \"13\"], [1, \"13\"], [0, \"13\"], [1, \"13\"], [0, \"13\"], [0, \"13\"], [1, \"13\"], [1, \"13\"], [1, \"13\"], [1, \"13\"], [1, \"13\"], [0, \"13\"], [1, \"13\"], [0, \"13\"], [0, \"13\"], [0, \"13\"], [0, \"13\"], [1, \"13\"], [0, \"13\"], [0, \"13\"], [1, \"13\"], [1, \"13\"], [1, \"13\"], [1, \"13\"], [1, \"13\"], [1, \"13\"], [1, \"13\"], [1, \"13\"], [1, \"13\"], [0, \"13\"], [1, \"13\"], [0, \"13\"], [1, \"13\"], [0, \"13\"], [1, \"13\"], [0, \"13\"], [1, \"13\"], [0, \"13\"], [1, \"13\"], [0, \"13\"], [1, \"13\"], [0, \"13\"], [1, \"13\"], [0, \"13\"], [1, \"13\"], [0, \"13\"], [1, \"13\"], [0, \"13\"], [1, \"13\"], [0, \"13\"], [1, \"13\"], [0, \"13\"], [1, \"13\"], [0, \"13\"], [1, \"13\"], [0, \"13\"], [1, \"13\"], [0, \"13\"], [1, \"13\"], [0, \"13\"], [1, \"13\"], [0, \"13\"], [1, \"13\"], [0, \"13\"], [1, \"13\"], [0, \"13\"], [1, \"13\"], [0, \"13\"], [1, \"13\"], [0, \"13\"], [1, \"13\"], [0, \"13\"], [1, \"13\"], [0, \"13\"], [1, \"13\"], [0, \"13\"], [1, \"13\"], [0, \"13\"], [1, \"13\"], [0, \"13\"], [1, \"13\"], [0, \"13\"], [1, \"13\"], [1, \"13\"], [1, \"13\"], [1, \"13\"], [1, \"13\"], [0, \"13\"], [1, \"13\"], [0, \"13\"], [1, \"13\"], [0, \"13\"], [0, \"13\"], [0, \"13\"], [0, \"13\"], [0, \"13\"], [0, \"13\"], [0, \"13\"], [0, \"13\"], [0, \"13\"], [0, \"13\"], [0, \"13\"], [0, \"13\"], [0, \"13\"], [1, \"13\"], [0, \"13\"], [1, \"13\"], [0, \"13\"], [0, \"13\"], [0, \"13\"], [0, \"13\"], [0, \"13\"], [0, \"13\"], [1, \"13\"], [0, \"13\"], [1, \"13\"], [0, \"13\"], [1, \"13\"], [0, \"13\"], [1, \"13\"], [0, \"13\"], [1, \"13\"], [0, \"13\"], [1, \"13\"], [0, \"13\"], [1, \"13\"], [0, \"13\"], [1, \"13\"], [0, \"13\"], [1, \"13\"], [1, \"13\"], [1, \"13\"], [1, \"13\"], [1, \"13\"], [1, \"13\"], [0, \"13\"], [1, \"13\"], [0, \"13\"], [1, \"13\"], [0, \"13\"], [1, \"13\"], [1, \"13\"], [1, \"13\"], [1, \"13\"], [1, \"13\"], [0, \"13\"], [0, \"13\"], [0, \"13\"], [0, \"13\"], [1, \"13\"], [0, \"13\"], [1, \"13\"], [0, \"13\"], [1, \"13\"], [0, \"13\"], [1, \"13\"], [0, \"13\"], [1, \"13\"], [0, \"13\"], [1, \"13\"], [0, \"13\"], [1, \"13\"], [0, \"13\"], [1, \"13\"], [1, \"13\"], [1, \"13\"], [1, \"13\"], [1, \"13\"], [0, \"13\"], [1, \"13\"], [0, \"13\"], [1, \"13\"], [0, \"13\"], [1, \"13\"], [0, \"13\"], [1, \"13\"], [0, \"13\"], [1, \"13\"], [0, \"13\"], [1, \"13\"], [0, \"13\"], [1, \"13\"], [0, \"13\"], [1, \"13\"], [0, \"13\"], [1, \"13\"], [0, \"13\"], [1, \"13\"], [0, \"13\"], [1, \"13\"], [0, \"13\"], [1, \"13\"], [0, \"13\"], [1, \"13\"], [0, \"13\"], [1, \"13\"], [0, \"13\"], [0, \"13\"], [0, \"13\"], [1, \"13\"], [0, \"13\"], [1, \"13\"], [0, \"13\"], [1, \"13\"], [0, \"13\"], [1, \"13\"], [0, \"13\"], [1, \"13\"], [0, \"13\"], [1, \"13\"], [0, \"13\"], [1, \"13\"], [0, \"13\"], [0, \"13\"], [0, \"13\"], [1, \"13\"], [1, \"13\"], [0, \"13\"], [1, \"13\"], [0, \"13\"], [1, \"13\"], [0, \"13\"], [1, \"13\"], [0, \"13\"], [1, \"13\"], [0, \"13\"], [1, \"13\"], [0, \"13\"], [1, \"13\"], [1, \"13\"], [0, \"13\"], [1, \"13\"], [0, \"13\"], [1, \"13\"], [0, \"13\"], [1, \"13\"], [0, \"13\"], [1, \"13\"], [0, \"13\"], [1, \"13\"], [0, \"13\"], [1, \"13\"], [0, \"13\"], [1, \"13\"], [0, \"13\"], [1, \"13\"], [0, \"13\"], [1, \"13\"], [0, \"13\"], [1, \"13\"], [0, \"13\"], [1, \"13\"], [0, \"13\"], [1, \"13\"], [0, \"13\"], [1, \"13\"], [0, \"13\"], [1, \"13\"], [0, \"13\"], [1, \"13\"], [0, \"13\"], [1, \"13\"], [0, \"13\"], [1, \"13\"], [0, \"13\"], [1, \"13\"], [0, \"13\"], [1, \"13\"], [0, \"13\"], [1, \"13\"], [0, \"13\"], [1, \"13\"], [0, \"13\"], [1, \"13\"], [0, \"13\"], [0, \"13\"], [0, \"13\"], [0, \"13\"], [0, \"13\"], [0, \"13\"], [1, \"13\"], [0, \"13\"], [0, \"13\"], [0, \"13\"], [0, \"13\"], [1, \"13\"], [0, \"13\"], [1, \"13\"], [0, \"13\"], [1, \"13\"], [0, \"13\"], [1, \"13\"], [0, \"13\"], [1, \"13\"], [0, \"13\"], [1, \"13\"], [0, \"13\"], [1, \"13\"], [0, \"13\"], [1, \"13\"], [0, \"13\"], [1, \"13\"], [0, \"13\"], [1, \"13\"], [0, \"13\"], [1, \"13\"], [0, \"13\"], [1, \"13\"], [0, \"13\"], [1, \"13\"], [0, \"13\"], [1, \"13\"], [0, \"13\"], [1, \"13\"], [0, \"13\"], [1, \"13\"], [0, \"13\"], [1, \"13\"], [0, \"13\"], [1, \"13\"], [0, \"13\"], [1, \"13\"], [0, \"13\"], [0, \"13\"], [0, \"13\"], [1, \"13\"], [0, \"13\"], [1, \"13\"], [0, \"13\"], [1, \"13\"], [0, \"13\"], [1, \"13\"], [0, \"13\"], [1, \"13\"], [0, \"13\"], [1, \"13\"], [0, \"13\"], [0, \"13\"], [1, \"13\"], [0, \"13\"], [1, \"13\"], [0, \"13\"], [1, \"13\"], [0, \"13\"], [1, \"13\"], [1, \"13\"], [1, \"13\"], [1, \"13\"], [1, \"13\"], [1, \"13\"], [1, \"13\"], [0, \"13\"], [0, \"13\"], [1, \"13\"], [0, \"13\"], [0, \"13\"], [0, \"13\"], [0, \"13\"], [0, \"13\"], [0, \"13\"], [0, \"13\"], [1, \"13\"], [0, \"13\"], [1, \"13\"], [0, \"13\"], [1, \"13\"], [0, \"13\"], [0, \"13\"], [1, \"13\"], [0, \"13\"], [1, \"13\"], [0, \"13\"], [1, \"13\"], [0, \"13\"], [1, \"13\"], [1, \"13\"], [0, \"13\"], [1, \"13\"], [0, \"13\"], [1, \"13\"], [1, \"13\"]], \"hoverlabel\": {\"namelength\": 0}, \"hovertemplate\": \"<b>%{hovertext}</b><br><br>cluster=%{customdata[1]}<br>vSegDir=%{customdata[0]}<br>longitude=%{lat}<br>latitude=%{lon}\", \"hovertext\": [100.0, 100.0, 102.0, 102.0, 10.0, 1118.0, 111.0, 111.0, 113.0, 113.0, 114.0, 114.0, 115.0, 115.0, 1181.0, 1181.0, 1187.0, 1187.0, 1188.0, 1188.0, 1189.0, 1189.0, 119.0, 119.0, 11.0, 120.0, 120.0, 121.0, 121.0, 122.0, 122.0, 123.0, 123.0, 124.0, 125.0, 125.0, 126.0, 126.0, 12.0, 130.0, 131.0, 132.0, 132.0, 133.0, 133.0, 134.0, 134.0, 136.0, 136.0, 137.0, 137.0, 13.0, 14.0, 1703.0, 1716.0, 1716.0, 1730.0, 1730.0, 1734.0, 1734.0, 1736.0, 1740.0, 1741.0, 1745.0, 1746.0, 1747.0, 1748.0, 1748.0, 1749.0, 1749.0, 1750.0, 1753.0, 1754.0, 1754.0, 1755.0, 1755.0, 1756.0, 1757.0, 1757.0, 1761.0, 1762.0, 1762.0, 1765.0, 1765.0, 1774.0, 1774.0, 1778.0, 1778.0, 177.0, 177.0, 1788.0, 1788.0, 182.0, 182.0, 186.0, 186.0, 187.0, 187.0, 188.0, 188.0, 189.0, 189.0, 192.0, 192.0, 195.0, 196.0, 196.0, 197.0, 197.0, 204.0, 204.0, 205.0, 212.0, 212.0, 213.0, 215.0, 216.0, 217.0, 248.0, 248.0, 261.0, 279.0, 282.0, 288.0, 293.0, 300.0, 301.0, 308.0, 309.0, 310.0, 311.0, 312.0, 313.0, 314.0, 315.0, 316.0, 317.0, 317.0, 318.0, 318.0, 319.0, 319.0, 320.0, 320.0, 321.0, 321.0, 322.0, 322.0, 323.0, 323.0, 324.0, 324.0, 325.0, 325.0, 326.0, 326.0, 327.0, 327.0, 328.0, 328.0, 329.0, 329.0, 330.0, 330.0, 331.0, 331.0, 332.0, 332.0, 333.0, 333.0, 334.0, 334.0, 335.0, 335.0, 336.0, 336.0, 337.0, 337.0, 338.0, 338.0, 339.0, 339.0, 340.0, 340.0, 37.0, 37.0, 38.0, 38.0, 3.0, 3.0, 403.0, 404.0, 406.0, 407.0, 408.0, 408.0, 409.0, 409.0, 410.0, 411.0, 412.0, 413.0, 414.0, 415.0, 416.0, 417.0, 418.0, 419.0, 420.0, 421.0, 422.0, 422.0, 423.0, 423.0, 424.0, 425.0, 426.0, 427.0, 428.0, 429.0, 42.0, 430.0, 430.0, 431.0, 431.0, 432.0, 432.0, 433.0, 433.0, 434.0, 434.0, 435.0, 435.0, 436.0, 436.0, 437.0, 437.0, 440.0, 441.0, 442.0, 443.0, 444.0, 445.0, 445.0, 446.0, 446.0, 447.0, 447.0, 448.0, 449.0, 450.0, 451.0, 452.0, 453.0, 454.0, 455.0, 455.0, 456.0, 456.0, 457.0, 457.0, 458.0, 458.0, 459.0, 459.0, 460.0, 460.0, 461.0, 461.0, 462.0, 462.0, 463.0, 464.0, 465.0, 466.0, 472.0, 472.0, 475.0, 475.0, 476.0, 476.0, 477.0, 477.0, 478.0, 478.0, 479.0, 479.0, 480.0, 480.0, 481.0, 481.0, 482.0, 482.0, 483.0, 483.0, 484.0, 484.0, 485.0, 485.0, 486.0, 486.0, 487.0, 487.0, 489.0, 490.0, 491.0, 491.0, 492.0, 492.0, 493.0, 493.0, 494.0, 494.0, 495.0, 495.0, 496.0, 496.0, 497.0, 497.0, 498.0, 499.0, 49.0, 49.0, 502.0, 503.0, 503.0, 504.0, 504.0, 505.0, 505.0, 518.0, 518.0, 519.0, 519.0, 520.0, 520.0, 521.0, 523.0, 523.0, 525.0, 525.0, 529.0, 529.0, 530.0, 530.0, 545.0, 545.0, 553.0, 553.0, 554.0, 554.0, 555.0, 575.0, 580.0, 580.0, 581.0, 581.0, 583.0, 583.0, 584.0, 584.0, 586.0, 586.0, 600.0, 600.0, 601.0, 601.0, 602.0, 602.0, 603.0, 603.0, 604.0, 604.0, 605.0, 605.0, 606.0, 606.0, 607.0, 607.0, 608.0, 608.0, 609.0, 610.0, 611.0, 612.0, 613.0, 614.0, 614.0, 615.0, 616.0, 617.0, 618.0, 618.0, 619.0, 619.0, 620.0, 620.0, 621.0, 621.0, 622.0, 622.0, 623.0, 623.0, 624.0, 624.0, 625.0, 625.0, 626.0, 626.0, 627.0, 627.0, 628.0, 628.0, 629.0, 629.0, 630.0, 630.0, 631.0, 631.0, 632.0, 632.0, 633.0, 633.0, 634.0, 634.0, 635.0, 635.0, 636.0, 636.0, 637.0, 638.0, 63.0, 63.0, 64.0, 64.0, 68.0, 68.0, 69.0, 69.0, 70.0, 70.0, 71.0, 71.0, 728.0, 729.0, 729.0, 72.0, 72.0, 730.0, 730.0, 731.0, 731.0, 732.0, 733.0, 734.0, 735.0, 736.0, 737.0, 739.0, 73.0, 73.0, 740.0, 741.0, 742.0, 743.0, 744.0, 745.0, 74.0, 74.0, 750.0, 750.0, 751.0, 751.0, 758.0, 75.0, 75.0, 79.0, 79.0, 82.0, 82.0, 86.0, 86.0, 87.0, 89.0, 89.0, 99.0, 99.0, 76.0], \"lat\": [41.0325301, 41.025294, 41.01822, 41.00946, 40.975771, 41.070453, 40.993022, 40.9846737, 40.9882619, 40.983808, 40.9839074, 40.9755626, 40.9756559, 40.9656375, 41.018562, 41.018897, 41.008048, 41.016743, 41.003436, 41.008156, 40.998349, 41.003556, 41.063169, 41.058524, 40.970881, 41.058565, 41.049699, 41.049731, 41.0455719, 41.040834, 41.0364434, 41.031952, 41.022972, 41.022953, 41.013949, 41.005064, 41.005025, 40.99732720000001, 40.9657506, 40.9829747, 40.976209, 41.0749619, 41.0709802, 41.0707456, 41.0630965, 41.0629935, 41.0542413, 41.045288, 41.040261, 41.03655870000001, 41.0330334, 40.960525, 40.9558413, 41.0063815, 41.045456, 41.0492528, 41.02864, 41.037869, 41.037835, 41.045423, 41.018454, 41.014521, 41.007171, 41.0670737, 41.0673205, 41.0667734, 41.0916509, 41.0921575, 41.0904012, 41.087271, 41.0626204, 41.015975, 41.018919, 41.014376, 41.0473725, 41.05159370000001, 41.0651519, 41.014463, 41.009327, 40.9949971, 41.01906500000001, 41.022797, 41.024773, 41.021212, 41.01896, 41.018435, 41.058329, 41.0527076, 41.0815876, 41.0730731, 41.0473545, 41.0428886, 41.038938, 41.0349045, 41.04796500000001, 41.039465, 41.0395014, 41.0308013, 41.0308349, 41.02302750000001, 41.0231099, 41.0143476, 41.022349, 41.0260701, 41.0373006, 41.0360309, 41.02997979999999, 41.030024, 41.025768, 41.0459666, 41.0383765, 41.038301, 41.0851625, 41.077153, 41.0693093, 41.0864187, 41.0775935, 41.068691, 40.9919944, 40.983615, 41.016099, 41.006265, 40.996796, 41.023997, 41.0546966, 41.058501, 41.0515099, 41.002372, 40.999591, 40.995642, 40.9914344, 40.9875606, 40.9813084, 40.973315, 40.9651314, 40.957967, 40.957863, 40.951106, 40.950999, 40.944568, 40.944459, 40.937978, 40.937869, 40.93143900000001, 40.93133, 40.925024, 40.924904, 40.92141, 40.921276, 40.918114, 40.91798, 40.914716, 40.914582, 40.911263, 40.911129, 40.907769, 40.907638, 40.902427, 40.902309, 40.896593, 40.896475, 40.890703, 40.890585, 40.884881, 40.884764, 40.880568, 40.880431, 40.875915, 40.875825, 40.868594, 40.86849, 40.861726, 40.861608, 40.857332, 40.857208, 40.850855, 40.850747, 40.84481, 40.844682, 40.840157, 40.840029, 40.835503, 40.835375, 40.830919, 40.919129, 40.91019, 40.910198, 40.906106, 40.9898424, 40.9809425, 41.0169717, 41.0129369, 41.0061705, 41.005648, 41.00542700000001, 41.000196, 41.0000889, 40.997664, 40.997544, 40.992032, 40.986569, 40.981051, 40.977334, 40.980254, 40.984049, 40.9864145, 40.9853414, 40.991229, 40.9988679, 40.9996393, 40.993511, 40.992717, 40.992499, 40.992033, 40.99183970000001, 40.9922119, 40.99683579999999, 40.99867, 41.0019948, 41.00711920000001, 41.03252970000001, 41.013052, 41.01882, 41.018699, 41.028786, 41.0283639, 41.0352343, 41.0351452, 41.042122, 41.0419854, 41.047595, 41.0513571, 41.054649, 41.0533585, 41.0609532, 41.0608913, 41.0667219, 41.0670222, 41.0584, 41.0531853, 41.0460156, 41.0387419, 41.038556, 41.0300025, 41.030039, 41.0229701, 41.0183004, 41.0146317, 41.0118482, 40.99716770000001, 40.993217, 40.9890227, 41.061675, 41.064978, 41.06895170000001, 41.075173, 41.083472, 41.08337, 41.089181, 41.089053, 41.091312, 41.091172, 41.091085, 41.090945, 41.09416, 41.0939433, 41.0939943, 41.0938224, 41.0917696, 41.0915815, 41.0964931, 41.0998141, 41.09997120000001, 41.1009121, 41.1018256, 41.0909433, 41.091892, 41.0870382, 41.0828616, 41.0780085, 41.07463679999999, 41.0745149, 41.0711191, 41.067382, 41.06407760000001, 41.060195, 41.0562851, 41.0518507, 41.0473757, 41.0384183, 41.033908, 41.033911, 41.029376, 41.024911, 41.0204324, 41.015923, 41.0114162, 41.006965, 41.00252620000001, 40.998487, 40.9944795, 40.9909305, 40.9872106, 41.0590006, 41.0563515, 41.05380820000001, 41.0505593, 41.050441, 41.0460252, 41.0458128, 41.04417, 41.044035, 41.040952, 41.04081400000001, 41.03843300000001, 41.038311, 41.0304256, 41.030585, 41.0248125, 41.021094, 41.01745, 41.0869277, 41.0889613, 40.9639971, 40.9639074, 40.96316420000001, 40.9632644, 40.9643239, 40.968207, 40.9699945, 41.001851, 41.002147, 41.002009, 41.00793, 41.00787, 41.015647, 41.017665, 41.02285300000001, 41.027963, 41.033868, 41.040424, 41.061567, 41.07006320000001, 41.0701046, 41.0738117, 41.0839576, 41.0793309, 41.04029370000001, 41.0334482, 41.0336138, 41.0279707, 41.0257294, 41.0349667, 40.951437, 40.944919, 40.94478, 40.938235, 40.930507, 40.922881, 40.922793, 40.915099, 40.907113, 40.902228, 41.0223633, 41.0239115, 41.0238093, 41.02043, 41.0203451, 41.0227053, 41.02262879999999, 41.02908920000001, 41.02896550000001, 41.030782, 41.030645, 41.02920200000001, 41.029065, 41.030486, 41.030354, 41.028419, 41.028295, 41.034056, 41.0338157, 41.0364297, 41.03468170000001, 41.029717100000006, 41.02255200000001, 41.0060031, 41.0070148, 41.0069531, 41.0094479, 41.0055308, 40.999105, 40.995829, 40.995689, 40.996961999999996, 40.9967433, 40.99618, 40.9960874, 40.994768, 40.9945569, 40.9938, 40.9937066, 40.991261, 40.991097, 40.9905191, 40.9897938, 40.9871483, 40.9837333, 40.982418, 40.982278, 40.979239, 40.979109, 40.976222, 40.976082, 40.975905, 40.975765, 40.972858, 40.972726, 40.970515, 40.970377, 40.964861, 40.964753, 40.959893, 40.959763, 40.955011999999996, 40.95489, 40.95062, 40.950496, 40.944975, 40.944857, 40.940278, 41.065418, 41.0583103, 41.052829, 41.047653, 41.139964, 41.1317037, 41.1318451, 41.1228625, 41.1228908, 41.1139717, 41.1138828, 41.1079818, 41.0537956, 41.056281, 41.059207, 41.1080586, 41.1061467, 41.059069, 41.057424, 41.057292, 41.054534, 41.057311, 41.062054, 41.0611008, 41.062434, 41.0623266, 41.064017, 41.06183720000001, 41.0993732, 41.094526, 41.0611777, 41.063382, 41.06388, 41.0665771, 41.07217720000001, 41.0766302, 41.094544, 41.0858737, 41.0278821, 41.0257527, 41.023871, 41.0278885, 41.015348, 41.0818288, 41.078281, 41.108471, 41.109824, 41.022475, 41.018858, 41.07896450000001, 41.073883, 41.06863, 41.061461, 41.054855, 41.040595, 41.0324449, 41.072672], \"legendgroup\": \"cluster=13\", \"lon\": [28.9365657, 28.92955, 28.922559000000003, 28.921622, 29.051202000000004, 28.945864, 28.8876966, 28.8846768, 28.7939511, 28.801023, 28.8008835, 28.8051786, 28.805057300000005, 28.8066001, 28.891812, 28.88318, 28.874745, 28.881094, 28.866082, 28.87466, 28.857683, 28.86601, 28.812013, 28.810823, 29.060985, 28.810689, 28.808344, 28.808208, 28.80805, 28.809407, 28.810762, 28.810634000000004, 28.811655, 28.811517, 28.812117, 28.814061, 28.813927000000003, 28.8198703, 29.0706086, 28.835992600000004, 28.838413, 28.8755117, 28.8786452, 28.8785172, 28.8843353, 28.8840979, 28.8859967, 28.884601, 28.886949, 28.8918653, 28.8968592, 29.080108000000006, 29.0901098, 29.060899100000004, 28.83026, 28.8302343, 28.835432, 28.834266, 28.834402, 28.830119, 29.052039, 28.838385, 28.838694, 28.9906641, 28.9845701, 29.0029131, 29.0707505, 29.0778242, 29.0892516, 29.0931779, 29.0156902, 28.979715, 28.957873, 28.954254, 28.945104, 28.9503947, 29.0126882, 28.954123, 28.953401, 28.8636603, 28.966079, 28.961021, 28.928975, 28.934351, 28.896969, 28.891871, 29.01023, 29.009117100000005, 28.6267168, 28.622624600000005, 29.1212122, 29.1213498, 28.6255558, 28.6235204, 28.689187, 28.689107, 28.689094800000003, 28.6867794, 28.6866443, 28.6811791, 28.681041, 28.6788742, 28.961329, 28.968495, 28.983495, 28.9780604, 28.971693, 28.971493, 28.9686483, 28.968031300000003, 28.9682642, 28.968155, 28.9785777, 28.970439, 28.964712100000003, 28.9611592, 28.9588745, 28.957181800000004, 28.8511812, 28.853625399999995, 29.182556, 29.0669599, 29.129278000000006, 29.0365712, 28.9690951, 28.975399, 28.9818651, 29.043359, 29.054643, 29.065313, 29.0764509, 29.086366100000006, 29.0951613, 29.100245, 29.105279100000004, 29.112418, 29.112324, 29.120095000000006, 29.120004, 29.128243, 29.128155, 29.136326, 29.136238, 29.144475, 29.144387, 29.152758, 29.152686, 29.163579, 29.163538, 29.174617, 29.174576, 29.185602000000006, 29.18556, 29.196557, 29.196515, 29.207484, 29.207435, 29.216986, 29.21691, 29.226015000000004, 29.225939, 29.234981, 29.234905, 29.244017, 29.24394, 29.254114, 29.254087, 29.263774, 29.263667, 29.270612, 29.270519, 29.278246000000006, 29.278172, 29.288503, 29.288439, 29.296579, 29.296491, 29.30523, 29.305172, 29.315372, 29.315314, 29.325512, 29.325454, 29.335708, 29.212838, 29.213509, 29.213369, 29.211148, 29.0364742, 29.0418884, 28.6378869, 28.648475, 28.6700747, 28.681982, 28.6818826, 28.69116, 28.690845500000002, 28.701982, 28.70191, 28.71126, 28.720654, 28.729996000000003, 28.740486, 28.75158, 28.762312, 28.773369899999995, 28.7837393, 28.7939799, 28.7991975, 28.8099644, 28.818416, 28.830183, 28.8301652, 28.841993, 28.841972, 28.8537728, 28.8690912, 28.8759067, 28.8870476, 28.8968156, 29.0429364, 28.905402, 28.914534000000003, 28.914604, 28.923868, 28.9239994, 28.9322165, 28.9325483, 28.9404979, 28.9406223, 28.944954, 28.9503377, 28.957662, 28.9551331, 28.966382300000006, 28.9666308, 28.9725109, 29.007727600000006, 29.01778, 29.0264143, 29.033967800000006, 29.0415427, 29.041437, 29.0457876, 29.0455516, 29.0477581, 29.0519111, 29.0573933, 29.060816100000004, 29.0543082, 29.045343, 29.037425800000005, 28.84137, 28.851711, 28.8625091, 28.8703715, 28.876004, 28.8761, 28.885094, 28.88515, 28.896576, 28.896579, 28.908426, 28.90844, 28.919533, 28.9195973, 28.931164000000006, 28.9311853, 28.9426261, 28.942651, 28.952165, 28.9630101, 28.9748774, 28.9863772, 28.998423, 29.0551587, 29.070728000000006, 29.0929022, 29.0951209, 29.0980413, 29.101934000000004, 29.1016393, 29.1056346, 29.109094, 29.1130143, 29.116225, 29.1191232, 29.120534000000006, 29.121417200000003, 29.1210006, 29.121091, 29.120951, 29.120939, 29.120664, 29.120871, 29.121232, 29.1217097, 29.121419, 29.120399300000006, 29.11785, 29.1149674, 29.1116265, 29.1078315, 28.8444636, 28.8492435, 28.8629224, 28.8726173, 28.8724081, 28.8825475, 28.8826236, 28.894149, 28.894113, 28.905123, 28.905102000000007, 28.916292, 28.916224, 28.921792600000003, 28.921748, 28.9287625, 28.934257, 28.939491, 29.0853272, 29.0914482, 28.8141583, 28.8144387, 28.8245943, 28.8293617, 28.8339071, 28.8384839, 28.8412077, 28.971337, 28.977936, 28.977956, 28.986211, 28.986337, 28.986396000000006, 28.971687, 28.96115, 28.956448, 28.948041, 28.940728000000004, 28.9423913, 28.9422629, 28.9423495, 28.9458238, 29.0567703, 29.0475115, 28.9991365, 28.991752, 28.9916757, 28.9842354, 28.9780141, 29.0271553, 29.097424, 29.105093, 29.105076, 29.112776, 29.119418, 29.12611, 29.126, 29.132567, 29.138546, 29.147542, 29.045500300000004, 29.0570471, 29.0571148, 29.067821, 29.067691600000003, 29.078402, 29.0784701, 29.0864561, 29.0865773, 29.097133000000003, 29.097105, 29.108653000000004, 29.108675, 29.119911, 29.119867, 29.130471000000004, 29.130535, 29.139645, 29.139749, 29.1504945, 29.1618886, 29.1713471, 29.178514, 29.0668228, 29.0782832, 29.078494300000006, 29.0893875, 29.0997461, 29.108179, 29.118888, 29.118874, 29.130625, 29.130623, 29.142341, 29.142124300000006, 29.154001, 29.153918, 29.166905, 29.166814, 29.175739, 29.1756841, 29.182781800000004, 29.1898441, 29.1959062, 29.2014724, 29.209554, 29.209538, 29.220505, 29.220451, 29.231581, 29.231565000000003, 29.2434, 29.2434, 29.2545, 29.254452, 29.265873, 29.265845, 29.274968, 29.27488, 29.284743, 29.284689, 29.294686, 29.29462, 29.305001, 29.304935, 29.31422, 29.314144, 29.324323, 29.0125848, 29.0104338, 29.008895000000006, 29.0080523, 29.027671, 29.0246564, 29.024511600000004, 29.0238142, 29.0236532, 29.0248495, 29.024693900000006, 29.0190184, 28.675118800000003, 28.686523, 28.697758, 29.0186643, 29.0137237, 28.697778000000003, 28.709298, 28.709254, 28.720433, 28.731432, 28.741311, 28.7530203, 28.764765, 28.7766742, 28.788317, 28.8033153, 29.0077836, 29.005434, 28.8115771, 28.82316, 28.834909000000003, 29.003113899999995, 29.016116600000004, 29.0212107, 29.005296, 29.0074514, 29.0262393, 29.015679, 29.036853000000004, 29.0265447, 29.028721, 29.0102912, 29.0131725, 29.021589, 29.033029, 28.961269, 28.958003, 28.8766786, 28.885984000000004, 28.895512, 28.902193, 28.909952, 28.940399, 28.9365895, 29.016117600000005], \"marker\": {\"color\": \"#636efa\"}, \"mode\": \"markers\", \"name\": \"cluster=13\", \"showlegend\": true, \"subplot\": \"mapbox\", \"type\": \"scattermapbox\"}, {\"customdata\": [[0, \"32\"], [1, \"32\"], [0, \"32\"], [1, \"32\"], [1, \"32\"], [0, \"32\"], [1, \"32\"], [0, \"32\"], [1, \"32\"], [0, \"32\"], [0, \"32\"], [0, \"32\"], [0, \"32\"], [0, \"32\"], [0, \"32\"], [1, \"32\"], [0, \"32\"], [0, \"32\"], [1, \"32\"], [0, \"32\"], [0, \"32\"], [1, \"32\"], [1, \"32\"], [0, \"32\"], [1, \"32\"], [1, \"32\"], [1, \"32\"], [1, \"32\"], [0, \"32\"], [0, \"32\"], [0, \"32\"], [0, \"32\"], [0, \"32\"], [0, \"32\"], [0, \"32\"], [0, \"32\"], [0, \"32\"], [0, \"32\"], [0, \"32\"], [0, \"32\"], [0, \"32\"], [1, \"32\"], [0, \"32\"], [0, \"32\"], [0, \"32\"], [0, \"32\"], [0, \"32\"], [1, \"32\"], [0, \"32\"], [1, \"32\"], [0, \"32\"], [0, \"32\"], [0, \"32\"], [0, \"32\"], [0, \"32\"], [0, \"32\"], [0, \"32\"], [0, \"32\"], [0, \"32\"], [0, \"32\"], [0, \"32\"], [0, \"32\"], [0, \"32\"], [0, \"32\"], [0, \"32\"], [1, \"32\"], [0, \"32\"], [1, \"32\"], [1, \"32\"], [1, \"32\"], [1, \"32\"], [1, \"32\"], [1, \"32\"], [1, \"32\"], [0, \"32\"], [0, \"32\"], [0, \"32\"], [1, \"32\"], [0, \"32\"], [0, \"32\"], [1, \"32\"], [1, \"32\"], [1, \"32\"], [1, \"32\"], [1, \"32\"], [1, \"32\"], [1, \"32\"], [1, \"32\"], [1, \"32\"], [1, \"32\"], [1, \"32\"], [1, \"32\"], [1, \"32\"], [1, \"32\"], [1, \"32\"], [1, \"32\"], [1, \"32\"], [1, \"32\"], [0, \"32\"], [0, \"32\"], [0, \"32\"], [0, \"32\"], [0, \"32\"], [0, \"32\"], [1, \"32\"], [1, \"32\"], [1, \"32\"], [0, \"32\"], [0, \"32\"], [0, \"32\"], [0, \"32\"], [0, \"32\"], [0, \"32\"], [0, \"32\"], [0, \"32\"], [0, \"32\"], [1, \"32\"], [1, \"32\"], [0, \"32\"], [0, \"32\"], [1, \"32\"], [1, \"32\"], [0, \"32\"], [1, \"32\"], [1, \"32\"], [1, \"32\"], [0, \"32\"], [1, \"32\"], [0, \"32\"], [1, \"32\"], [0, \"32\"], [1, \"32\"], [0, \"32\"], [1, \"32\"], [0, \"32\"], [0, \"32\"], [0, \"32\"], [1, \"32\"], [0, \"32\"], [1, \"32\"], [0, \"32\"], [1, \"32\"], [0, \"32\"], [1, \"32\"], [0, \"32\"], [1, \"32\"], [1, \"32\"], [0, \"32\"], [1, \"32\"], [1, \"32\"], [0, \"32\"], [1, \"32\"], [0, \"32\"], [1, \"32\"], [0, \"32\"], [1, \"32\"], [0, \"32\"], [1, \"32\"], [0, \"32\"], [1, \"32\"], [0, \"32\"], [1, \"32\"], [0, \"32\"], [1, \"32\"], [0, \"32\"], [1, \"32\"], [0, \"32\"], [0, \"32\"], [0, \"32\"], [0, \"32\"], [0, \"32\"], [0, \"32\"], [0, \"32\"], [0, \"32\"], [1, \"32\"], [1, \"32\"], [1, \"32\"], [1, \"32\"], [1, \"32\"], [0, \"32\"], [0, \"32\"], [1, \"32\"], [1, \"32\"]], \"hoverlabel\": {\"namelength\": 0}, \"hovertemplate\": \"<b>%{hovertext}</b><br><br>cluster=%{customdata[1]}<br>vSegDir=%{customdata[0]}<br>longitude=%{lat}<br>latitude=%{lon}\", \"hovertext\": [101.0, 101.0, 104.0, 104.0, 124.0, 135.0, 135.0, 138.0, 138.0, 1736.0, 1745.0, 1746.0, 1747.0, 1750.0, 1751.0, 1751.0, 1753.0, 1756.0, 1761.0, 1769.0, 1777.0, 1779.0, 1780.0, 1793.0, 1793.0, 1829.0, 1830.0, 205.0, 2079.0, 2080.0, 2081.0, 2082.0, 2084.0, 2085.0, 2086.0, 2087.0, 2088.0, 2089.0, 2090.0, 2091.0, 217.0, 219.0, 241.0, 263.0, 264.0, 265.0, 266.0, 266.0, 267.0, 267.0, 278.0, 280.0, 281.0, 292.0, 293.0, 308.0, 309.0, 310.0, 311.0, 312.0, 313.0, 314.0, 315.0, 316.0, 341.0, 341.0, 342.0, 342.0, 396.0, 397.0, 399.0, 400.0, 401.0, 402.0, 403.0, 404.0, 405.0, 405.0, 406.0, 407.0, 410.0, 411.0, 412.0, 413.0, 414.0, 415.0, 416.0, 417.0, 418.0, 419.0, 420.0, 421.0, 424.0, 425.0, 426.0, 427.0, 428.0, 429.0, 440.0, 441.0, 442.0, 443.0, 444.0, 448.0, 452.0, 453.0, 454.0, 463.0, 464.0, 465.0, 466.0, 467.0, 468.0, 469.0, 470.0, 471.0, 489.0, 490.0, 4.0, 502.0, 506.0, 507.0, 508.0, 508.0, 509.0, 510.0, 511.0, 511.0, 512.0, 512.0, 513.0, 513.0, 514.0, 514.0, 521.0, 575.0, 587.0, 587.0, 588.0, 588.0, 58.0, 58.0, 59.0, 59.0, 5.0, 609.0, 610.0, 62.0, 637.0, 638.0, 639.0, 639.0, 640.0, 640.0, 641.0, 641.0, 642.0, 642.0, 643.0, 643.0, 644.0, 644.0, 645.0, 645.0, 646.0, 646.0, 6.0, 732.0, 733.0, 734.0, 735.0, 736.0, 737.0, 738.0, 738.0, 739.0, 740.0, 741.0, 742.0, 76.0, 931.0, 931.0, 936.0], \"lat\": [41.025396, 41.018156, 40.993921, 40.988264, 41.013957, 41.0541508, 41.0452773, 41.0278344, 41.023907, 41.02291629999999, 41.0671546, 41.0665548, 41.06652070000001, 41.0662964, 40.98829600000001, 40.988279, 41.01576, 41.072088, 40.997078, 41.101742, 41.055088, 40.97450300000001, 40.977547, 41.0635218, 41.0620327, 41.0699639, 41.0797652, 41.0405063, 40.988108, 40.989825, 41.001901, 40.997579, 41.00153, 41.001732, 41.001226, 41.003884, 41.003374, 41.00315300000001, 41.002522, 41.002133, 41.0778658, 41.056043, 40.9945368, 41.0157922, 41.0212474, 41.02502379999999, 41.0270114, 41.0278424, 41.0277191, 41.0281033, 41.0139009, 41.005077, 40.9972044, 41.0637343, 41.0578749, 41.00445300000001, 41.002236, 40.999459, 40.99551, 40.991414, 40.987351, 40.9812175, 40.973178, 40.965025, 40.830791, 40.826347, 40.826219, 40.821634, 41.017961, 41.0195705, 41.0243179, 41.02588239999999, 41.0259855, 41.0217134, 41.021567, 41.01676370000001, 41.01266939999999, 41.0089461, 41.0086932, 41.005949, 40.992153, 40.98669, 40.981172, 40.977474, 40.980386, 40.984181, 40.9866098, 40.985873, 40.991334, 40.99904, 40.999776, 40.993647, 40.9923819, 40.9952148, 40.998875, 41.002142, 41.00721400000001, 41.013169, 41.0666177, 41.06260200000001, 41.0582566, 41.053088, 41.045859, 41.0144568, 41.065106, 41.069135, 41.0754955, 41.09640170000001, 41.0996615, 41.0998191, 41.1008231, 41.1016518, 41.0988149, 41.0950338, 41.0919426, 41.0906019, 41.0564896, 41.0549025, 40.98083, 40.9653468, 40.9761954, 40.97568320000001, 40.974342, 40.9748634, 40.97988970000001, 40.980298, 40.980178, 40.982982, 40.982851, 40.988457, 40.989705, 40.992794, 40.992643, 40.99771, 41.016116, 41.0393064, 40.902088, 40.899623, 40.899497, 40.894593, 41.0804807, 41.0889965, 41.0888568, 41.092135999999996, 40.9742725, 41.03662050000001, 41.03486, 41.050658, 40.94040800000001, 40.935348, 40.935222, 40.931047, 40.930929, 40.923598, 40.923551, 40.915086, 40.91500900000001, 40.90766, 40.907558, 40.900175, 40.900111, 40.89176, 40.89169, 40.884094, 40.883991, 40.87768300000001, 40.968029, 41.054394, 41.057197, 41.061914, 41.0609205, 41.06221710000001, 41.06215260000001, 41.0638228, 41.063729, 41.0613732, 41.06352, 41.064018, 41.061805, 41.0781112, 41.229617, 41.232835, 41.201524], \"legendgroup\": \"cluster=32\", \"lon\": [28.929454, 28.922682000000002, 28.920229, 28.919945, 28.812257, 28.8857617, 28.8848059, 28.8990147, 28.8995093, 29.0475406, 28.9845218, 28.972615500000003, 28.996768100000004, 29.0124985, 28.913165000000006, 28.919013, 28.986478, 29.015889, 28.869097, 28.9930331, 29.012662, 28.873232, 28.8825287, 28.7965462, 28.8033799, 28.8149759, 28.8132882, 28.9786271, 28.919091, 28.92421, 28.937183, 28.932985, 28.937489000000006, 28.947219, 28.947371, 28.956382, 28.956498, 28.965390000000006, 28.965343, 28.971297, 28.958818800000003, 28.96033, 28.8193206, 29.2049669, 29.2145501, 29.225256400000006, 29.236543800000003, 29.2482837, 29.2482853, 29.2601131, 29.0579578, 29.121014, 29.1204898, 28.951544899999995, 28.962093199999998, 29.03183, 29.043329, 29.054595000000006, 29.065265000000004, 29.075832, 29.086411, 29.094921600000006, 29.10011, 29.105132, 29.33565, 29.345912, 29.345855, 29.355987, 28.5627554, 28.5743185, 28.5954304, 28.6067558, 28.617701, 28.6280282, 28.627881, 28.6377455, 28.648384000000004, 28.6590404, 28.6589441, 28.6695755, 28.711331, 28.720725, 28.730066, 28.740488, 28.751534000000003, 28.762266, 28.7733155, 28.785012, 28.793631, 28.799059000000003, 28.810194, 28.81845, 28.8537295, 28.8636321, 28.875843, 28.886849, 28.896509000000002, 28.905325, 29.0028809, 29.015423, 29.0176095, 29.026214000000003, 29.033887, 29.0572031, 28.851653, 28.862265, 28.8702859, 28.9524277, 28.9629197, 28.9748417, 28.986683000000006, 28.9983935, 29.0091955, 29.0204259, 29.031656899999994, 29.0447516, 28.8492729, 28.8560045, 29.041581, 28.8067522, 28.8519281, 28.8662192, 28.873178000000006, 28.877719300000006, 28.8875702, 28.898115, 28.898043, 28.90844, 28.908596000000006, 28.913135, 28.924366, 28.927888, 28.928064000000006, 28.932718, 28.979717, 29.0366745, 29.147554, 29.158784000000004, 29.158724, 29.168923, 29.0116377, 29.018377, 29.0185196, 29.031932, 29.0468345, 29.1505939, 29.161982, 29.0086834, 29.324375, 29.334161, 29.334099, 29.344547, 29.344471, 29.350824, 29.350693, 29.3545, 29.354383, 29.361064, 29.360968, 29.367574, 29.36745, 29.371686, 29.371566, 29.377668, 29.377573, 29.385875, 29.054825, 28.720437, 28.731514, 28.741319, 28.7530689, 28.7647542, 28.7766952, 28.7882559, 28.796601000000006, 28.811622600000003, 28.823132, 28.834935, 28.841422, 29.013129600000006, 28.829105, 28.8188414, 28.859017], \"marker\": {\"color\": \"#EF553B\"}, \"mode\": \"markers\", \"name\": \"cluster=32\", \"showlegend\": true, \"subplot\": \"mapbox\", \"type\": \"scattermapbox\"}, {\"customdata\": [[1, \"36\"], [0, \"36\"], [1, \"36\"], [0, \"36\"]], \"hoverlabel\": {\"namelength\": 0}, \"hovertemplate\": \"<b>%{hovertext}</b><br><br>cluster=%{customdata[1]}<br>vSegDir=%{customdata[0]}<br>longitude=%{lat}<br>latitude=%{lon}\", \"hovertext\": [1026.0, 1826.0, 185.0, 284.0], \"lat\": [40.9909258, 40.9966141, 41.048063, 41.030001], \"legendgroup\": \"cluster=36\", \"lon\": [28.6798182, 29.0626712, 28.689275, 29.12326], \"marker\": {\"color\": \"#00cc96\"}, \"mode\": \"markers\", \"name\": \"cluster=36\", \"showlegend\": true, \"subplot\": \"mapbox\", \"type\": \"scattermapbox\"}, {\"customdata\": [[0, \"7\"], [1, \"7\"], [0, \"7\"], [1, \"7\"], [0, \"7\"], [1, \"7\"], [0, \"7\"], [1, \"7\"], [0, \"7\"], [0, \"7\"], [0, \"7\"]], \"hoverlabel\": {\"namelength\": 0}, \"hovertemplate\": \"<b>%{hovertext}</b><br><br>cluster=%{customdata[1]}<br>vSegDir=%{customdata[0]}<br>longitude=%{lat}<br>latitude=%{lon}\", \"hovertext\": [103.0, 103.0, 110.0, 110.0, 112.0, 112.0, 1752.0, 1752.0, 193.0, 194.0, 522.0], \"lat\": [41.009464, 41.000631, 41.0015933, 40.9930041, 40.9847176, 40.9787141, 41.0281635, 41.0256353, 41.0227932, 41.0253546, 41.017802], \"legendgroup\": \"cluster=7\", \"lon\": [28.921482, 28.919852, 28.884554100000006, 28.8878345, 28.8845094, 28.885757, 28.984176, 28.9780735, 28.974835100000004, 28.967624800000007, 28.971712], \"marker\": {\"color\": \"#ab63fa\"}, \"mode\": \"markers\", \"name\": \"cluster=7\", \"showlegend\": true, \"subplot\": \"mapbox\", \"type\": \"scattermapbox\"}, {\"customdata\": [[0, \"19\"], [0, \"19\"], [1, \"19\"], [1, \"19\"]], \"hoverlabel\": {\"namelength\": 0}, \"hovertemplate\": \"<b>%{hovertext}</b><br><br>cluster=%{customdata[1]}<br>vSegDir=%{customdata[0]}<br>longitude=%{lat}<br>latitude=%{lon}\", \"hovertext\": [105.0, 1766.0, 1766.0, 260.0], \"lat\": [41.01654600000001, 41.019089, 41.018714, 41.02115300000001], \"legendgroup\": \"cluster=19\", \"lon\": [28.910908000000006, 28.919722, 28.926372, 29.128352000000003], \"marker\": {\"color\": \"#FFA15A\"}, \"mode\": \"markers\", \"name\": \"cluster=19\", \"showlegend\": true, \"subplot\": \"mapbox\", \"type\": \"scattermapbox\"}, {\"customdata\": [[0, \"9\"], [1, \"9\"], [0, \"9\"], [1, \"9\"], [0, \"9\"], [1, \"9\"], [0, \"9\"], [1, \"9\"], [0, \"9\"], [1, \"9\"], [0, \"9\"], [1, \"9\"], [0, \"9\"], [1, \"9\"]], \"hoverlabel\": {\"namelength\": 0}, \"hovertemplate\": \"<b>%{hovertext}</b><br><br>cluster=%{customdata[1]}<br>vSegDir=%{customdata[0]}<br>longitude=%{lat}<br>latitude=%{lon}\", \"hovertext\": [106.0, 106.0, 107.0, 107.0, 108.0, 108.0, 297.0, 498.0, 94.0, 94.0, 95.0, 95.0, 96.0, 96.0], \"lat\": [41.01859, 41.015294, 41.015172, 41.011918, 41.011787, 41.009855, 41.060487, 41.017584, 41.02796, 41.021401, 41.021301, 41.015012, 41.01489, 41.012078], \"legendgroup\": \"cluster=9\", \"lon\": [28.926306, 28.933397, 28.933328000000003, 28.940334000000004, 28.940286, 28.948166, 28.9874924, 28.939588, 28.937834, 28.945798, 28.9457, 28.95392, 28.953851, 28.959848], \"marker\": {\"color\": \"#19d3f3\"}, \"mode\": \"markers\", \"name\": \"cluster=9\", \"showlegend\": true, \"subplot\": \"mapbox\", \"type\": \"scattermapbox\"}, {\"customdata\": [[0, \"40\"], [0, \"40\"], [0, \"40\"], [1, \"40\"], [0, \"40\"], [1, \"40\"], [0, \"40\"], [1, \"40\"], [0, \"40\"], [1, \"40\"], [0, \"40\"], [1, \"40\"], [0, \"40\"], [1, \"40\"], [1, \"40\"], [1, \"40\"], [1, \"40\"], [1, \"40\"], [1, \"40\"], [0, \"40\"], [1, \"40\"], [0, \"40\"], [1, \"40\"], [0, \"40\"], [1, \"40\"], [0, \"40\"], [1, \"40\"], [0, \"40\"], [1, \"40\"], [0, \"40\"], [1, \"40\"], [0, \"40\"], [1, \"40\"], [0, \"40\"], [1, \"40\"], [0, \"40\"], [1, \"40\"], [0, \"40\"], [1, \"40\"], [0, \"40\"], [1, \"40\"], [0, \"40\"], [1, \"40\"], [0, \"40\"], [1, \"40\"], [0, \"40\"], [1, \"40\"], [0, \"40\"], [0, \"40\"], [0, \"40\"], [1, \"40\"], [1, \"40\"], [0, \"40\"], [0, \"40\"], [0, \"40\"], [0, \"40\"], [1, \"40\"], [0, \"40\"], [0, \"40\"], [0, \"40\"], [0, \"40\"], [1, \"40\"], [0, \"40\"], [1, \"40\"], [0, \"40\"], [1, \"40\"], [0, \"40\"], [1, \"40\"], [0, \"40\"], [1, \"40\"], [0, \"40\"], [1, \"40\"], [0, \"40\"], [1, \"40\"], [0, \"40\"], [1, \"40\"], [0, \"40\"], [1, \"40\"], [0, \"40\"], [1, \"40\"], [0, \"40\"], [1, \"40\"], [0, \"40\"], [1, \"40\"], [0, \"40\"], [1, \"40\"], [0, \"40\"], [1, \"40\"], [0, \"40\"], [1, \"40\"], [0, \"40\"], [1, \"40\"], [0, \"40\"], [1, \"40\"], [0, \"40\"], [1, \"40\"], [0, \"40\"], [1, \"40\"], [0, \"40\"], [0, \"40\"], [1, \"40\"], [0, \"40\"], [1, \"40\"], [0, \"40\"], [1, \"40\"], [0, \"40\"], [1, \"40\"], [0, \"40\"], [1, \"40\"], [0, \"40\"], [1, \"40\"], [0, \"40\"], [1, \"40\"], [0, \"40\"], [1, \"40\"], [0, \"40\"], [1, \"40\"], [0, \"40\"], [1, \"40\"], [0, \"40\"], [1, \"40\"], [0, \"40\"], [1, \"40\"], [0, \"40\"], [1, \"40\"], [0, \"40\"], [1, \"40\"], [0, \"40\"], [1, \"40\"], [0, \"40\"], [1, \"40\"], [0, \"40\"], [1, \"40\"], [0, \"40\"], [1, \"40\"], [0, \"40\"], [1, \"40\"], [0, \"40\"], [1, \"40\"], [0, \"40\"], [1, \"40\"], [0, \"40\"], [1, \"40\"], [0, \"40\"], [1, \"40\"], [0, \"40\"], [1, \"40\"], [0, \"40\"], [1, \"40\"], [0, \"40\"], [1, \"40\"], [0, \"40\"], [1, \"40\"], [0, \"40\"], [1, \"40\"], [0, \"40\"], [1, \"40\"], [0, \"40\"], [1, \"40\"], [0, \"40\"], [1, \"40\"], [0, \"40\"], [1, \"40\"], [0, \"40\"], [1, \"40\"], [0, \"40\"], [1, \"40\"], [0, \"40\"], [1, \"40\"], [0, \"40\"], [1, \"40\"], [0, \"40\"], [1, \"40\"], [0, \"40\"], [1, \"40\"], [0, \"40\"], [1, \"40\"], [0, \"40\"], [1, \"40\"], [0, \"40\"], [1, \"40\"], [0, \"40\"], [1, \"40\"], [0, \"40\"], [1, \"40\"], [0, \"40\"], [1, \"40\"], [0, \"40\"], [1, \"40\"], [0, \"40\"], [1, \"40\"], [1, \"40\"], [0, \"40\"], [1, \"40\"], [0, \"40\"], [1, \"40\"], [0, \"40\"], [1, \"40\"], [0, \"40\"], [1, \"40\"], [0, \"40\"], [1, \"40\"], [0, \"40\"], [1, \"40\"], [0, \"40\"], [1, \"40\"], [0, \"40\"], [1, \"40\"], [0, \"40\"], [1, \"40\"], [0, \"40\"], [1, \"40\"], [0, \"40\"], [1, \"40\"], [0, \"40\"], [1, \"40\"], [0, \"40\"], [1, \"40\"], [0, \"40\"], [1, \"40\"], [0, \"40\"], [1, \"40\"], [0, \"40\"], [1, \"40\"], [0, \"40\"], [1, \"40\"], [0, \"40\"], [1, \"40\"], [0, \"40\"], [1, \"40\"], [0, \"40\"], [1, \"40\"], [0, \"40\"], [1, \"40\"], [0, \"40\"], [1, \"40\"], [0, \"40\"], [1, \"40\"], [0, \"40\"], [0, \"40\"], [0, \"40\"], [0, \"40\"], [0, \"40\"], [1, \"40\"], [0, \"40\"], [1, \"40\"], [0, \"40\"], [1, \"40\"], [0, \"40\"], [1, \"40\"], [1, \"40\"], [0, \"40\"], [1, \"40\"], [0, \"40\"], [1, \"40\"], [0, \"40\"], [1, \"40\"], [0, \"40\"], [0, \"40\"], [0, \"40\"], [0, \"40\"], [1, \"40\"], [0, \"40\"], [0, \"40\"], [1, \"40\"], [0, \"40\"], [1, \"40\"], [0, \"40\"], [1, \"40\"], [0, \"40\"], [0, \"40\"], [0, \"40\"], [1, \"40\"], [0, \"40\"], [1, \"40\"], [0, \"40\"], [1, \"40\"], [0, \"40\"], [1, \"40\"], [0, \"40\"], [1, \"40\"], [0, \"40\"], [1, \"40\"], [0, \"40\"], [1, \"40\"], [0, \"40\"], [1, \"40\"], [0, \"40\"], [1, \"40\"], [0, \"40\"], [1, \"40\"], [0, \"40\"], [1, \"40\"], [0, \"40\"], [1, \"40\"], [1, \"40\"], [0, \"40\"], [1, \"40\"], [1, \"40\"], [1, \"40\"], [1, \"40\"], [0, \"40\"], [1, \"40\"], [0, \"40\"], [1, \"40\"], [0, \"40\"], [0, \"40\"], [1, \"40\"], [0, \"40\"], [1, \"40\"], [0, \"40\"], [1, \"40\"], [0, \"40\"], [1, \"40\"], [0, \"40\"], [1, \"40\"], [0, \"40\"], [1, \"40\"], [0, \"40\"], [1, \"40\"], [0, \"40\"], [1, \"40\"], [0, \"40\"], [1, \"40\"], [0, \"40\"], [1, \"40\"], [0, \"40\"], [1, \"40\"], [0, \"40\"], [1, \"40\"], [0, \"40\"], [1, \"40\"], [0, \"40\"], [1, \"40\"], [0, \"40\"], [1, \"40\"], [0, \"40\"], [1, \"40\"], [0, \"40\"], [1, \"40\"], [0, \"40\"], [1, \"40\"], [0, \"40\"], [1, \"40\"], [0, \"40\"], [1, \"40\"], [0, \"40\"], [1, \"40\"], [0, \"40\"], [1, \"40\"], [0, \"40\"], [1, \"40\"], [0, \"40\"], [1, \"40\"], [0, \"40\"], [1, \"40\"], [0, \"40\"], [1, \"40\"], [0, \"40\"], [1, \"40\"], [0, \"40\"], [1, \"40\"], [0, \"40\"], [1, \"40\"], [0, \"40\"], [1, \"40\"], [0, \"40\"], [1, \"40\"], [0, \"40\"], [1, \"40\"], [0, \"40\"], [1, \"40\"], [0, \"40\"], [0, \"40\"], [0, \"40\"], [0, \"40\"], [0, \"40\"], [0, \"40\"], [1, \"40\"], [1, \"40\"], [1, \"40\"], [1, \"40\"], [1, \"40\"], [1, \"40\"], [0, \"40\"], [0, \"40\"], [0, \"40\"], [0, \"40\"], [0, \"40\"], [1, \"40\"], [0, \"40\"], [1, \"40\"], [0, \"40\"], [1, \"40\"], [0, \"40\"], [0, \"40\"], [1, \"40\"], [0, \"40\"], [1, \"40\"], [0, \"40\"], [1, \"40\"], [0, \"40\"], [0, \"40\"], [1, \"40\"], [0, \"40\"], [1, \"40\"], [0, \"40\"], [1, \"40\"], [1, \"40\"], [1, \"40\"], [0, \"40\"], [1, \"40\"], [0, \"40\"], [1, \"40\"], [0, \"40\"], [1, \"40\"], [0, \"40\"], [1, \"40\"], [0, \"40\"], [1, \"40\"], [0, \"40\"], [1, \"40\"], [0, \"40\"], [1, \"40\"], [0, \"40\"], [1, \"40\"], [0, \"40\"], [0, \"40\"], [0, \"40\"], [1, \"40\"], [0, \"40\"], [1, \"40\"], [1, \"40\"], [1, \"40\"], [1, \"40\"], [1, \"40\"], [1, \"40\"], [1, \"40\"], [1, \"40\"], [1, \"40\"], [0, \"40\"], [1, \"40\"], [0, \"40\"], [1, \"40\"], [0, \"40\"], [1, \"40\"], [0, \"40\"], [1, \"40\"], [0, \"40\"], [1, \"40\"], [0, \"40\"], [1, \"40\"], [0, \"40\"], [1, \"40\"], [0, \"40\"], [1, \"40\"], [0, \"40\"], [1, \"40\"], [0, \"40\"], [1, \"40\"], [0, \"40\"], [1, \"40\"], [0, \"40\"], [1, \"40\"], [0, \"40\"], [1, \"40\"], [0, \"40\"], [1, \"40\"], [0, \"40\"], [1, \"40\"], [0, \"40\"], [1, \"40\"], [0, \"40\"], [1, \"40\"], [0, \"40\"], [1, \"40\"], [0, \"40\"], [1, \"40\"], [0, \"40\"], [1, \"40\"], [0, \"40\"], [1, \"40\"], [0, \"40\"], [1, \"40\"], [0, \"40\"], [1, \"40\"], [0, \"40\"], [1, \"40\"], [0, \"40\"], [1, \"40\"], [0, \"40\"], [1, \"40\"], [0, \"40\"], [1, \"40\"], [0, \"40\"], [1, \"40\"], [0, \"40\"], [1, \"40\"], [0, \"40\"], [1, \"40\"], [0, \"40\"], [1, \"40\"], [0, \"40\"], [1, \"40\"], [0, \"40\"], [1, \"40\"], [0, \"40\"], [1, \"40\"], [0, \"40\"], [1, \"40\"], [0, \"40\"], [1, \"40\"], [0, \"40\"], [1, \"40\"], [0, \"40\"], [1, \"40\"], [0, \"40\"], [1, \"40\"], [0, \"40\"], [1, \"40\"], [0, \"40\"], [1, \"40\"], [0, \"40\"], [1, \"40\"], [0, \"40\"], [1, \"40\"], [0, \"40\"], [1, \"40\"], [0, \"40\"], [1, \"40\"], [0, \"40\"], [1, \"40\"], [0, \"40\"], [1, \"40\"], [1, \"40\"], [1, \"40\"], [0, \"40\"], [0, \"40\"], [0, \"40\"], [1, \"40\"], [0, \"40\"], [1, \"40\"], [1, \"40\"], [0, \"40\"], [1, \"40\"], [0, \"40\"], [1, \"40\"], [0, \"40\"], [1, \"40\"], [0, \"40\"], [1, \"40\"], [0, \"40\"], [1, \"40\"], [0, \"40\"], [1, \"40\"], [0, \"40\"], [1, \"40\"], [0, \"40\"], [1, \"40\"], [0, \"40\"], [1, \"40\"], [0, \"40\"], [1, \"40\"], [0, \"40\"], [1, \"40\"], [1, \"40\"], [0, \"40\"], [0, \"40\"], [1, \"40\"], [0, \"40\"], [1, \"40\"], [0, \"40\"], [1, \"40\"], [0, \"40\"], [1, \"40\"], [0, \"40\"], [0, \"40\"], [1, \"40\"], [0, \"40\"], [1, \"40\"], [0, \"40\"]], \"hoverlabel\": {\"namelength\": 0}, \"hovertemplate\": \"<b>%{hovertext}</b><br><br>cluster=%{customdata[1]}<br>vSegDir=%{customdata[0]}<br>longitude=%{lat}<br>latitude=%{lon}\", \"hovertext\": [1108.0, 1109.0, 1128.0, 1128.0, 1129.0, 1129.0, 1256.0, 1260.0, 127.0, 127.0, 128.0, 128.0, 129.0, 129.0, 130.0, 131.0, 1427.0, 1428.0, 1429.0, 1430.0, 1430.0, 1431.0, 1431.0, 1432.0, 1432.0, 1433.0, 1433.0, 1434.0, 1434.0, 1435.0, 1435.0, 1436.0, 1436.0, 1437.0, 1437.0, 1438.0, 1438.0, 1439.0, 1439.0, 1440.0, 1440.0, 1441.0, 1441.0, 1697.0, 1697.0, 16.0, 16.0, 1700.0, 1703.0, 1775.0, 1775.0, 1777.0, 1779.0, 1780.0, 1794.0, 1798.0, 17.0, 1829.0, 1830.0, 1831.0, 1832.0, 1832.0, 1833.0, 1833.0, 1834.0, 1834.0, 1835.0, 1835.0, 1836.0, 1836.0, 1837.0, 1837.0, 1838.0, 1838.0, 1839.0, 1839.0, 1840.0, 1840.0, 1841.0, 1841.0, 1842.0, 1842.0, 1843.0, 1843.0, 1844.0, 1844.0, 1845.0, 1845.0, 1846.0, 1846.0, 1847.0, 1847.0, 1848.0, 1848.0, 1851.0, 1851.0, 1852.0, 1852.0, 1853.0, 1854.0, 1854.0, 1855.0, 1855.0, 1856.0, 1856.0, 1857.0, 1857.0, 1858.0, 1858.0, 1859.0, 1859.0, 1860.0, 1860.0, 1861.0, 1861.0, 1862.0, 1862.0, 1863.0, 1863.0, 1864.0, 1864.0, 1865.0, 1865.0, 1866.0, 1866.0, 1867.0, 1867.0, 1868.0, 1868.0, 1869.0, 1869.0, 1870.0, 1870.0, 1871.0, 1871.0, 1872.0, 1872.0, 1873.0, 1873.0, 1874.0, 1874.0, 1875.0, 1875.0, 1876.0, 1876.0, 1877.0, 1877.0, 1878.0, 1878.0, 1879.0, 1879.0, 1880.0, 1880.0, 1881.0, 1881.0, 1882.0, 1882.0, 1883.0, 1883.0, 1884.0, 1884.0, 1885.0, 1885.0, 1886.0, 1886.0, 1887.0, 1887.0, 1888.0, 1888.0, 1889.0, 1889.0, 1890.0, 1890.0, 1891.0, 1891.0, 1892.0, 1892.0, 1893.0, 1893.0, 1894.0, 1894.0, 1895.0, 1895.0, 1896.0, 1896.0, 1897.0, 1897.0, 1898.0, 1898.0, 1899.0, 1899.0, 18.0, 1900.0, 1900.0, 1901.0, 1901.0, 1902.0, 1902.0, 1903.0, 1903.0, 1904.0, 1904.0, 1905.0, 1905.0, 1906.0, 1906.0, 1907.0, 1907.0, 1908.0, 1908.0, 1909.0, 1909.0, 190.0, 190.0, 1914.0, 1914.0, 1915.0, 1915.0, 1916.0, 1916.0, 1917.0, 1917.0, 1919.0, 1919.0, 1920.0, 1920.0, 1921.0, 1921.0, 1922.0, 1922.0, 1923.0, 1923.0, 1924.0, 1924.0, 1925.0, 1925.0, 1926.0, 1926.0, 1942.0, 1944.0, 1945.0, 1946.0, 1954.0, 1954.0, 1965.0, 1965.0, 1966.0, 1966.0, 1967.0, 1967.0, 19.0, 201.0, 201.0, 202.0, 202.0, 203.0, 203.0, 210.0, 215.0, 216.0, 218.0, 218.0, 219.0, 21.0, 21.0, 22.0, 22.0, 23.0, 23.0, 245.0, 246.0, 24.0, 24.0, 250.0, 250.0, 251.0, 251.0, 252.0, 252.0, 253.0, 253.0, 254.0, 254.0, 255.0, 255.0, 256.0, 256.0, 257.0, 257.0, 258.0, 258.0, 259.0, 259.0, 25.0, 25.0, 261.0, 262.0, 262.0, 263.0, 264.0, 265.0, 270.0, 270.0, 290.0, 294.0, 299.0, 29.0, 306.0, 307.0, 307.0, 30.0, 30.0, 31.0, 31.0, 32.0, 32.0, 33.0, 33.0, 34.0, 34.0, 35.0, 35.0, 368.0, 368.0, 369.0, 369.0, 36.0, 36.0, 370.0, 370.0, 371.0, 371.0, 372.0, 372.0, 373.0, 373.0, 374.0, 374.0, 375.0, 375.0, 376.0, 376.0, 377.0, 377.0, 378.0, 378.0, 379.0, 379.0, 380.0, 380.0, 381.0, 381.0, 382.0, 382.0, 383.0, 383.0, 387.0, 387.0, 388.0, 388.0, 389.0, 389.0, 390.0, 390.0, 391.0, 391.0, 392.0, 392.0, 393.0, 393.0, 394.0, 394.0, 399.0, 401.0, 402.0, 449.0, 450.0, 451.0, 467.0, 468.0, 469.0, 470.0, 471.0, 488.0, 506.0, 507.0, 509.0, 510.0, 51.0, 51.0, 527.0, 527.0, 52.0, 52.0, 556.0, 557.0, 557.0, 558.0, 558.0, 55.0, 55.0, 568.0, 569.0, 569.0, 56.0, 56.0, 570.0, 570.0, 571.0, 572.0, 57.0, 57.0, 582.0, 582.0, 585.0, 585.0, 589.0, 589.0, 590.0, 590.0, 591.0, 591.0, 592.0, 592.0, 593.0, 593.0, 594.0, 595.0, 596.0, 596.0, 597.0, 597.0, 611.0, 612.0, 613.0, 615.0, 616.0, 617.0, 61.0, 62.0, 66.0, 66.0, 67.0, 67.0, 683.0, 683.0, 684.0, 684.0, 685.0, 685.0, 686.0, 686.0, 687.0, 687.0, 688.0, 688.0, 689.0, 689.0, 690.0, 690.0, 691.0, 691.0, 692.0, 692.0, 693.0, 693.0, 694.0, 694.0, 695.0, 695.0, 696.0, 696.0, 697.0, 697.0, 698.0, 698.0, 699.0, 699.0, 700.0, 700.0, 701.0, 701.0, 702.0, 702.0, 703.0, 703.0, 704.0, 704.0, 705.0, 705.0, 706.0, 706.0, 707.0, 707.0, 708.0, 708.0, 709.0, 709.0, 710.0, 710.0, 711.0, 711.0, 712.0, 712.0, 713.0, 713.0, 714.0, 714.0, 715.0, 715.0, 716.0, 716.0, 717.0, 717.0, 718.0, 718.0, 719.0, 719.0, 720.0, 720.0, 721.0, 721.0, 722.0, 722.0, 723.0, 723.0, 724.0, 724.0, 725.0, 725.0, 726.0, 726.0, 727.0, 727.0, 728.0, 749.0, 7.0, 820.0, 821.0, 871.0, 872.0, 872.0, 880.0, 881.0, 881.0, 882.0, 882.0, 883.0, 883.0, 884.0, 884.0, 885.0, 885.0, 886.0, 886.0, 887.0, 887.0, 888.0, 888.0, 889.0, 889.0, 890.0, 890.0, 891.0, 891.0, 892.0, 8.0, 932.0, 932.0, 933.0, 933.0, 934.0, 934.0, 935.0, 935.0, 936.0, 937.0, 937.0, 938.0, 938.0, 9.0], \"lat\": [41.1007258, 41.10236, 41.0838796, 41.0831118, 41.0831224, 41.0760645, 41.0454506, 40.981017, 40.997293, 40.9885085, 40.988478, 40.9851961, 40.9849005, 40.983065, 40.9760544, 40.96482260000001, 40.933212, 40.937431, 40.946637, 40.961273, 40.956337, 40.968337, 40.961411, 40.977124, 40.968336, 40.987102, 40.97704, 40.994528, 40.987122, 40.997073, 40.99465900000001, 41.00001500000001, 40.997203000000006, 41.004537, 41.000155, 41.007018, 41.004671, 41.010455, 41.007153, 41.01691, 41.010595, 41.026802, 41.016934, 41.163935, 41.154326, 40.937657, 40.927315, 41.173972, 41.011812, 41.0640585, 41.0607499, 41.05767700000001, 40.9755076, 40.9747233, 40.9660514, 40.9644622, 40.918477, 41.063072, 41.070021, 41.0798284, 41.09004520000001, 41.0994607, 41.0993846, 41.1078186, 41.1077914, 41.1170803, 41.1170908, 41.1248904, 41.1250729, 41.13227, 41.1323548, 41.1412919, 41.141341, 41.150704, 41.150657, 41.1572241, 41.15714970000001, 41.1672798, 41.1672636, 41.1760887, 41.176007, 41.18359270000001, 41.18342420000001, 41.1918959, 41.19184050000001, 41.20028410000001, 41.2003878, 41.2095529, 41.2094903, 41.2154062, 41.2151988, 41.2215277, 41.2214294, 41.2299086, 41.237652, 41.23808, 41.23794, 41.2356438, 41.235446, 41.23102, 41.2298132, 41.229582, 41.2326768, 41.232479, 41.2352292, 41.235013, 41.2355938, 41.235414, 41.23544370000001, 41.235229, 41.233978, 41.233819, 41.231367, 41.231232, 41.230852, 41.230714, 41.232755, 41.232616, 41.232733, 41.232601, 41.22884000000001, 41.228709, 41.22471, 41.224578, 41.221491, 41.221352, 41.221659, 41.221525, 41.225525, 41.225387, 41.226103, 41.225963, 41.22595, 41.22581, 41.227012, 41.226872, 41.227203, 41.227064, 41.223709, 41.223581, 41.21700300000001, 41.216892, 41.21083, 41.21071, 41.206799, 41.2065692, 41.202534, 41.2022999, 41.198706, 41.1985176, 41.19721, 41.1964646, 41.1980624, 41.1978474, 41.19874650000001, 41.1985475, 41.1978433, 41.19764, 41.19710560000001, 41.1969031, 41.19319779999999, 41.19305070000001, 41.191089, 41.19086420000001, 41.190255, 41.190062, 41.1868438, 41.1866895, 41.1843753, 41.1841835, 41.1810034, 41.180841, 41.174675, 41.174408, 41.168838, 41.168646, 41.161772, 41.16162720000001, 41.155082, 41.1549704, 41.1473285, 41.1472077, 41.1416725, 41.14157410000001, 41.1330624, 41.1331653, 41.1228585, 41.122953, 41.11340429999999, 41.113315, 41.1034185, 40.909414, 41.1034823, 41.094266, 41.094326, 41.08446729999999, 41.084527, 41.07564179999999, 41.07575900000001, 41.0658296, 41.06585, 41.0554602, 41.0554631, 41.0451108, 41.0450993, 41.03530470000001, 41.0355156, 41.02614000000001, 41.026191, 41.016147, 41.016084, 41.00757700000001, 41.0143569, 41.0054732, 41.0492659, 41.049481, 41.049341, 41.049917, 41.0497436, 41.0513418, 41.0510977, 41.055195, 41.0553831, 41.0498824, 41.049746, 41.0441983, 41.0440424, 41.043084, 41.04287539999999, 41.04555, 41.0453438, 41.04629600000001, 41.0460967, 41.045077, 41.0448491, 41.0470539, 41.0468764, 41.0504723, 41.025987, 41.0445623, 41.050132, 41.0544868, 41.1213945, 41.123159, 41.1840769, 41.1901217, 41.1899688, 41.1963667, 41.1963386, 41.205435, 40.89951, 41.067517, 41.0639008, 41.0608511, 41.0537399, 41.05393, 41.0461458, 41.09098400000001, 41.0950138, 41.0863544, 41.0686763, 41.05962570000001, 41.0597514, 40.889836, 40.881738, 40.881846, 40.877408, 40.877546, 40.873994, 41.0248009, 41.0238591, 40.87413, 40.869604, 41.1766847, 41.1696282, 41.169491, 41.1601784, 41.16005670000001, 41.1512465, 41.1512224, 41.142367, 41.1422278, 41.1380848, 41.1379559, 41.135047, 41.13491, 41.129953, 41.1298885, 41.1196251, 41.1195786, 41.10964600000001, 41.109564, 41.10132720000001, 40.869744, 40.867011, 41.013848, 41.0137235, 41.0160165, 41.021421, 41.0251501, 41.02715120000001, 40.913342, 40.914688, 41.0672915, 41.0949598, 41.0545449, 40.98085, 41.00563820000001, 41.0055318, 41.004594, 40.975622, 40.967936, 40.967878000000006, 40.959307, 40.959269, 40.95056500000001, 40.950648, 40.943142, 40.943235, 40.935119, 40.93518, 40.926442, 41.078089, 41.075775, 41.075638, 41.073463, 40.926416, 40.919124, 41.073325, 41.071571, 41.071433, 41.0697818, 41.069665, 41.0680059, 41.067879, 41.066206, 41.066068, 41.064436, 41.064298, 41.062643, 41.062505, 41.060869, 41.060731, 41.0590657, 41.058805, 41.05872520000001, 41.0566193, 41.053992, 41.053896, 41.0509137, 41.050817, 41.0478262, 41.047758, 41.0447609, 41.04468, 41.0417, 41.031049, 41.026519, 41.026452, 41.0219151, 41.0219335, 41.0173513, 41.0172755, 41.012769, 41.012688, 41.0081554, 41.0080904, 41.0078236, 41.007711, 41.010348, 41.0102614, 41.01288579999999, 41.0228077, 41.0259734, 41.0258851, 41.0016283, 40.9973223, 40.993362, 41.098885, 41.095251, 41.0923122, 41.0908291, 41.0910866, 40.9822659, 40.9727598, 40.976332, 40.9773824, 40.9798369, 41.1330986, 41.1259708, 41.0481477, 41.0557162, 41.1258542, 41.1194014, 41.064089, 41.0566904, 41.0521818, 41.0521917, 41.0448793, 41.1081178, 41.1041991, 41.077114, 41.0757431, 41.0709398, 41.1043029, 41.09552160000001, 41.0708862, 41.0626304, 41.0546679, 41.047167, 41.0958505, 41.0888888, 40.938147, 40.9306, 40.915025, 40.907209, 40.894473, 40.887952, 40.887857, 40.887579, 40.887443, 40.884675, 40.884535, 40.882242, 40.882114, 40.877276, 40.877137, 40.871141, 40.875597, 40.872325, 40.872201, 40.867514, 41.02965510000001, 41.022689, 41.0162467, 41.0095651, 41.005597, 40.99922, 41.097509, 41.05521, 41.154055, 41.148868, 41.148944, 41.1398967, 41.122259, 41.118508, 41.118386, 41.11303, 41.112908, 41.108195, 41.108062, 41.10642100000001, 41.106281, 41.106379, 41.106239, 41.104675, 41.104538, 41.102202, 41.102065, 41.10048, 41.10034, 41.099322, 41.099182, 41.09699000000001, 41.096857, 41.091463, 41.091357, 41.083846, 41.083762, 41.076218, 41.076115, 41.070094, 41.069964, 41.066957, 41.0668676, 41.0634223, 41.0633068, 41.05812, 41.057986, 41.055074, 41.0549589, 41.05116339999999, 41.051048, 41.05176210000001, 41.0515283, 41.056328, 41.056088, 41.058563, 41.0583319, 41.05934970000001, 41.059167, 41.06077, 41.0605685, 41.066097, 41.0659841, 41.074389, 41.074345, 41.083387, 41.08336420000001, 41.091992, 41.0919808, 41.0989239, 41.09887020000001, 41.1038289, 41.1036952, 41.1063944, 41.106251, 41.10648670000001, 41.1063495, 41.1061265, 41.1060048, 41.10683220000001, 41.1066495, 41.1049374, 41.104778, 41.1028312, 41.10264229999999, 41.100868, 41.1006811, 41.0974759, 41.09727, 41.0919816, 41.091851, 41.085005, 41.084909, 41.0776079, 41.0775161, 41.0695636, 41.0695099, 41.061411, 41.061311, 41.05571, 41.055578, 41.0539569, 41.0563657, 41.091635, 40.9638965, 40.937598, 40.933405, 41.1088289, 41.08997700000001, 41.098543, 41.180989, 41.1694499, 41.17389, 41.163588, 41.1692715, 41.1602584, 41.1635119, 41.153903, 41.1600969, 41.1464528, 41.1539879, 41.1409758, 41.1462273, 41.1363092, 41.1408415, 41.13596550000001, 41.136125, 41.1290461, 41.1357759, 41.123535, 41.1288613, 41.1159529, 41.123347, 41.1159342, 40.958238, 41.2210409, 41.229515, 41.2109638, 41.2209644, 41.2067339, 41.2109718, 41.2016708, 41.2065629, 41.195514, 41.1851746, 41.19546679999999, 41.1768217, 41.18513170000001, 40.954825], \"legendgroup\": \"cluster=40\", \"lon\": [28.977490000000003, 28.967084000000003, 28.951971, 28.9485974, 28.9485393, 28.9472522, 28.968255600000006, 29.0884549, 28.819641, 28.8188726, 28.818654, 28.826769, 28.8251007, 28.836453, 28.8385609, 28.8349919, 29.34321, 29.333751, 29.338383, 29.334146, 29.342286, 29.327421, 29.33417, 29.332869, 29.327562, 29.333612, 29.332981, 29.327242, 29.33375, 29.317120000000006, 29.327289, 29.307293, 29.317169, 29.298261, 29.307302000000004, 29.288108, 29.298302000000003, 29.278454, 29.288146, 29.272245, 29.278457, 29.273118, 29.272383, 29.030312, 29.025351, 29.329412, 29.32651, 29.037529, 29.0605387, 28.9762003, 28.9730782, 29.01776, 28.8661842, 28.8777762, 28.806179600000004, 28.8088457, 29.321799, 28.81215, 28.8153387, 28.813567, 28.8137738, 28.813324, 28.8135956, 28.814665500000004, 28.8150002, 28.8150648, 28.8155092, 28.8101377, 28.810493, 28.8045332, 28.8049824, 28.8064299, 28.8069124, 28.806478, 28.80661, 28.809987300000003, 28.810243300000003, 28.8086294, 28.808894899999995, 28.811314199999998, 28.811518, 28.8185153, 28.8187675, 28.824250300000006, 28.8245126, 28.8238647, 28.8241594, 28.8247529, 28.825029200000003, 28.832144300000003, 28.8323035, 28.8391267, 28.8393673, 28.843118, 28.816203, 28.827824, 28.827819, 28.8391927, 28.839115000000003, 28.849871000000004, 28.861273200000007, 28.861318, 28.872472700000007, 28.872579, 28.883829, 28.883916, 28.8955228, 28.895515000000003, 28.9071549, 28.907141, 28.9198844, 28.919818, 28.929999, 28.929964, 28.941499, 28.941522, 28.952973, 28.952993, 28.964557, 28.964503000000004, 28.975495, 28.975446, 28.986366, 28.986319, 28.997506, 28.997484000000004, 29.008984, 29.009027000000003, 29.019936, 29.019964, 29.031522, 29.031522, 29.044341, 29.044346, 29.054688, 29.054699, 29.065132, 29.065121, 29.077388, 29.077333000000007, 29.086887, 29.086801, 29.095313, 29.095241, 29.103684, 29.1035715, 29.113194, 29.1130896, 29.1217, 29.1215867, 29.132802, 29.1329273, 29.1432647, 29.1432179, 29.1536216, 29.1535463, 29.1629803, 29.162912, 29.1744602, 29.1743349, 29.1840803, 29.183882500000006, 29.192989, 29.193016600000004, 29.204431, 29.204386, 29.2155016, 29.2153062, 29.2244443, 29.2243261, 29.2343436, 29.234166, 29.2425792, 29.2425264, 29.2511238, 29.250985, 29.258689, 29.258515600000006, 29.266661, 29.2665017, 29.275093800000004, 29.2749274, 29.2838523, 29.2836503, 29.286948100000004, 29.2867282, 29.2868887, 29.286617, 29.2912002, 29.290984, 29.2924695, 29.327047, 29.2922207, 29.287673100000006, 29.28745, 29.284203, 29.283913, 29.2786598, 29.278404, 29.2756365, 29.275353000000006, 29.2764399, 29.2761346, 29.2774096, 29.2771043, 29.2739727, 29.273772, 29.269043, 29.268913, 29.270273, 29.270148, 29.276005, 28.678736600000004, 28.6779223, 29.129036600000006, 29.140677, 29.140677, 29.152204, 29.152286199999995, 29.1636921, 29.163742, 29.1744162, 29.1858105, 29.195857300000004, 29.195672, 29.2058113, 29.2056045, 29.217083, 29.2172057, 29.229534, 29.2295769, 29.239842, 29.2398019, 29.251299, 29.2513317, 29.2614497, 29.2615781, 29.2720635, 29.270846, 29.277428600000004, 29.272705, 29.2762376, 29.1300184, 29.141272999999998, 29.1983437, 29.2066961, 29.2066363, 29.2141521, 29.2142884, 29.21806, 29.327752, 28.978371000000006, 28.9762968, 28.9729119, 28.9684594, 28.9683682, 28.968216700000006, 28.985062, 28.9632276, 28.9610167, 28.9570311, 28.957438, 28.9573368, 29.325129, 29.317745, 29.317657, 29.306626, 29.306602, 29.294727, 28.5907295, 28.6011454, 29.294695, 29.283106, 28.8781097, 28.8882219, 28.88808, 28.8938227, 28.893680100000005, 28.9010704, 28.9008778, 28.907325, 28.9071847, 28.9198358, 28.9196979, 28.93269, 28.9325901, 28.9443505, 28.9441984, 28.946647100000003, 28.9464522, 28.950347999999998, 28.950234, 28.9543224, 29.283096, 29.272296, 29.193608, 29.1935369, 29.2050354, 29.2145278, 29.2252092, 29.2365507, 29.313056, 29.324214, 28.9523307, 28.9634661, 28.9688778, 29.206268, 29.0202724, 29.020259600000006, 29.031854, 29.212339, 29.218122, 29.217994, 29.221325, 29.221191, 29.220304, 29.220192, 29.213645, 29.21354, 29.208516, 29.20839, 29.206595, 28.242354, 28.25379, 28.253761, 28.265247, 29.206457, 29.212978000000003, 28.265222, 28.276833, 28.276811, 28.2884493, 28.288436, 28.3000519, 28.300056, 28.311691, 28.311669, 28.323314, 28.323292, 28.334931, 28.334909000000003, 28.346552000000006, 28.34653, 28.358151300000007, 28.358112, 28.3683239, 28.367583000000003, 28.377745500000003, 28.377671000000007, 28.3889045, 28.388807, 28.4000577, 28.39995, 28.4111929, 28.411084, 28.4222153, 28.454804, 28.4650868, 28.464981, 28.4752714, 28.4749654, 28.485432199999998, 28.4853401, 28.495547, 28.4954332, 28.5058667, 28.5056653, 28.5172338, 28.517273600000006, 28.5285651, 28.5286323, 28.5399441, 28.5848091, 28.6084285, 28.6176059, 29.0582905, 29.053993, 29.045342, 29.009639, 29.020528, 29.030997, 29.0434966, 29.0551706, 29.0994751, 28.846479100000003, 28.8591309, 28.8824867, 28.8877385, 29.1290312, 29.134178, 28.9365364, 28.9376992, 29.1338672, 29.1265213, 28.951394, 28.9506333, 28.9415365, 28.9414208, 28.9456484, 29.1100794, 29.099299100000003, 29.0665892, 29.0633973, 29.0566744, 29.0992567, 29.0967607, 29.0565899, 29.0544535, 29.0522005, 29.052363, 29.0967568, 29.0915701, 29.112668, 29.119522, 29.132448, 29.138648, 29.168849, 29.177187, 29.177084000000004, 29.187398, 29.187428000000004, 29.198643, 29.198649, 29.210169, 29.210113, 29.219867, 29.21985, 29.2284, 29.237116, 29.248259, 29.248195000000006, 29.258406, 29.1716642, 29.1787352, 29.1827223, 29.0896772, 29.099901000000006, 29.108258000000006, 29.052657, 29.012592, 29.037198, 29.028818, 29.0287, 29.027863, 28.242087, 28.252771000000006, 28.252702000000006, 28.262219, 28.262149, 28.272175, 28.272132, 28.283723, 28.283723, 28.295625, 28.295613, 28.307296, 28.307267, 28.318743, 28.318716, 28.330409000000003, 28.330394, 28.342211, 28.342197, 28.353653, 28.353607, 28.362988, 28.362896000000006, 28.369304, 28.369191999999998, 28.375572, 28.375477000000004, 28.384198, 28.384144, 28.3952623, 28.3949032, 28.4061302, 28.4059862, 28.415613, 28.415575, 28.426772, 28.4266405, 28.4375514, 28.4373409, 28.4493467, 28.4491726, 28.4594184, 28.4593595, 28.470746, 28.470849, 28.482796500000006, 28.4826284, 28.494265, 28.4944125, 28.503595, 28.5038769, 28.507522, 28.5079175, 28.507776, 28.508079100000003, 28.5103357, 28.5105795, 28.5178654, 28.5180936, 28.5278852, 28.5279977, 28.5392641, 28.5392957, 28.5511149, 28.551144, 28.5633857, 28.5629804, 28.575074800000003, 28.5748704, 28.5865785, 28.586457300000006, 28.5979728, 28.5979966, 28.609655, 28.6096251, 28.6205239, 28.620556, 28.6301055, 28.630001, 28.637614000000006, 28.637512, 28.6444335, 28.6443117, 28.6497546, 28.6496072, 28.654572, 28.654474, 28.663573, 28.663527, 28.675111600000005, 28.6865274, 29.04706, 29.0651964, 29.12384, 29.117045, 28.8489848, 28.864349, 28.856977, 28.744826, 28.7615454, 28.754636, 28.770536, 28.7615278, 28.7805086, 28.770387300000003, 28.787291, 28.7804287, 28.7931028, 28.7871966, 28.8023937, 28.793224, 28.811485, 28.802301, 28.822323200000003, 28.812072, 28.830181300000003, 28.8226191, 28.839371000000003, 28.8302842, 28.8455183, 28.8392982, 28.8453234, 29.073387, 28.8359665, 28.829009000000006, 28.8399485, 28.8357059, 28.849567200000006, 28.8397239, 28.8591417, 28.849537400000006, 28.8679876, 28.8712539, 28.8677271, 28.8782092, 28.8710471, 29.083659], \"marker\": {\"color\": \"#FF6692\"}, \"mode\": \"markers\", \"name\": \"cluster=40\", \"showlegend\": true, \"subplot\": \"mapbox\", \"type\": \"scattermapbox\"}, {\"customdata\": [[1, \"29\"], [1, \"29\"]], \"hoverlabel\": {\"namelength\": 0}, \"hovertemplate\": \"<b>%{hovertext}</b><br><br>cluster=%{customdata[1]}<br>vSegDir=%{customdata[0]}<br>longitude=%{lat}<br>latitude=%{lon}\", \"hovertext\": [1108.0, 1109.0], \"lat\": [41.102238, 41.09978570000001], \"legendgroup\": \"cluster=29\", \"lon\": [28.967152, 28.95598], \"marker\": {\"color\": \"#B6E880\"}, \"mode\": \"markers\", \"name\": \"cluster=29\", \"showlegend\": true, \"subplot\": \"mapbox\", \"type\": \"scattermapbox\"}, {\"customdata\": [[0, \"41\"]], \"hoverlabel\": {\"namelength\": 0}, \"hovertemplate\": \"<b>%{hovertext}</b><br><br>cluster=%{customdata[1]}<br>vSegDir=%{customdata[0]}<br>longitude=%{lat}<br>latitude=%{lon}\", \"hovertext\": [1118.0], \"lat\": [41.063704], \"legendgroup\": \"cluster=41\", \"lon\": [28.94966], \"marker\": {\"color\": \"#FF97FF\"}, \"mode\": \"markers\", \"name\": \"cluster=41\", \"showlegend\": true, \"subplot\": \"mapbox\", \"type\": \"scattermapbox\"}, {\"customdata\": [[0, \"30\"], [1, \"30\"], [0, \"30\"], [1, \"30\"], [0, \"30\"], [0, \"30\"], [1, \"30\"], [0, \"30\"], [0, \"30\"], [1, \"30\"], [0, \"30\"], [1, \"30\"], [0, \"30\"], [1, \"30\"], [0, \"30\"], [1, \"30\"], [0, \"30\"]], \"hoverlabel\": {\"namelength\": 0}, \"hovertemplate\": \"<b>%{hovertext}</b><br><br>cluster=%{customdata[1]}<br>vSegDir=%{customdata[0]}<br>longitude=%{lat}<br>latitude=%{lon}\", \"hovertext\": [116.0, 116.0, 117.0, 117.0, 1183.0, 118.0, 118.0, 1260.0, 178.0, 178.0, 179.0, 179.0, 180.0, 180.0, 181.0, 181.0, 488.0], \"lat\": [41.0885163, 41.0846541, 41.084505, 41.0763689, 41.010254, 41.0762452, 41.0673978, 40.981544, 41.0730717, 41.0647084, 41.06463400000001, 41.0564036, 41.056347, 41.0475995, 41.0476725, 41.0389985, 40.984492], \"legendgroup\": \"cluster=30\", \"lon\": [28.8015873, 28.8046887, 28.804428, 28.8094946, 28.881188, 28.8092451, 28.8105184, 29.094675, 28.6223649, 28.6220922, 28.621912, 28.626612899999994, 28.626342, 28.6280485, 28.627885, 28.6258286, 29.1036872], \"marker\": {\"color\": \"#FECB52\"}, \"mode\": \"markers\", \"name\": \"cluster=30\", \"showlegend\": true, \"subplot\": \"mapbox\", \"type\": \"scattermapbox\"}, {\"customdata\": [[0, \"26\"], [1, \"26\"], [0, \"26\"], [0, \"26\"], [1, \"26\"], [1, \"26\"], [0, \"26\"]], \"hoverlabel\": {\"namelength\": 0}, \"hovertemplate\": \"<b>%{hovertext}</b><br><br>cluster=%{customdata[1]}<br>vSegDir=%{customdata[0]}<br>longitude=%{lat}<br>latitude=%{lon}\", \"hovertext\": [1172.0, 1172.0, 15.0, 1789.0, 1789.0, 524.0, 880.0], \"lat\": [41.0173319, 41.0132728, 40.951541, 41.0207299, 41.01745579999999, 41.033766, 41.1759419], \"legendgroup\": \"cluster=26\", \"lon\": [28.900554600000003, 28.900002500000006, 29.097518, 28.9005139, 28.9007453, 28.947945, 28.7487197], \"marker\": {\"color\": \"#636efa\"}, \"mode\": \"markers\", \"name\": \"cluster=26\", \"showlegend\": true, \"subplot\": \"mapbox\", \"type\": \"scattermapbox\"}, {\"customdata\": [[1, \"28\"], [1, \"28\"]], \"hoverlabel\": {\"namelength\": 0}, \"hovertemplate\": \"<b>%{hovertext}</b><br><br>cluster=%{customdata[1]}<br>vSegDir=%{customdata[0]}<br>longitude=%{lat}<br>latitude=%{lon}\", \"hovertext\": [1183.0, 1184.0], \"lat\": [41.019055, 41.0054445], \"legendgroup\": \"cluster=28\", \"lon\": [28.883132, 28.8818571], \"marker\": {\"color\": \"#EF553B\"}, \"mode\": \"markers\", \"name\": \"cluster=28\", \"showlegend\": true, \"subplot\": \"mapbox\", \"type\": \"scattermapbox\"}, {\"customdata\": [[0, \"35\"], [1, \"35\"], [0, \"35\"], [0, \"35\"], [0, \"35\"], [1, \"35\"], [1, \"35\"], [1, \"35\"]], \"hoverlabel\": {\"namelength\": 0}, \"hovertemplate\": \"<b>%{hovertext}</b><br><br>cluster=%{customdata[1]}<br>vSegDir=%{customdata[0]}<br>longitude=%{lat}<br>latitude=%{lon}\", \"hovertext\": [1190.0, 1257.0, 231.0, 233.0, 234.0, 237.0, 238.0, 239.0], \"lat\": [40.9920258, 41.051246, 41.060832, 41.061565, 41.062364, 41.0632683, 41.0645233, 41.0634971], \"legendgroup\": \"cluster=35\", \"lon\": [28.8513178, 28.793325, 28.748361, 28.771617, 28.78345, 28.778191600000003, 28.7896606, 28.8013933], \"marker\": {\"color\": \"#00cc96\"}, \"mode\": \"markers\", \"name\": \"cluster=35\", \"showlegend\": true, \"subplot\": \"mapbox\", \"type\": \"scattermapbox\"}, {\"customdata\": [[1, \"17\"]], \"hoverlabel\": {\"namelength\": 0}, \"hovertemplate\": \"<b>%{hovertext}</b><br><br>cluster=%{customdata[1]}<br>vSegDir=%{customdata[0]}<br>longitude=%{lat}<br>latitude=%{lon}\", \"hovertext\": [1194.0], \"lat\": [41.029316], \"legendgroup\": \"cluster=17\", \"lon\": [28.805437], \"marker\": {\"color\": \"#ab63fa\"}, \"mode\": \"markers\", \"name\": \"cluster=17\", \"showlegend\": true, \"subplot\": \"mapbox\", \"type\": \"scattermapbox\"}, {\"customdata\": [[1, \"42\"]], \"hoverlabel\": {\"namelength\": 0}, \"hovertemplate\": \"<b>%{hovertext}</b><br><br>cluster=%{customdata[1]}<br>vSegDir=%{customdata[0]}<br>longitude=%{lat}<br>latitude=%{lon}\", \"hovertext\": [1204.0], \"lat\": [41.005255], \"legendgroup\": \"cluster=42\", \"lon\": [28.797051], \"marker\": {\"color\": \"#FFA15A\"}, \"mode\": \"markers\", \"name\": \"cluster=42\", \"showlegend\": true, \"subplot\": \"mapbox\", \"type\": \"scattermapbox\"}, {\"customdata\": [[0, \"38\"], [0, \"38\"], [1, \"38\"], [1, \"38\"], [1, \"38\"], [0, \"38\"], [0, \"38\"], [1, \"38\"], [1, \"38\"], [0, \"38\"], [1, \"38\"], [0, \"38\"], [1, \"38\"], [0, \"38\"], [1, \"38\"], [1, \"38\"], [0, \"38\"], [1, \"38\"], [0, \"38\"], [1, \"38\"], [0, \"38\"], [0, \"38\"], [0, \"38\"], [0, \"38\"], [0, \"38\"], [1, \"38\"], [0, \"38\"], [0, \"38\"], [0, \"38\"], [0, \"38\"], [0, \"38\"], [0, \"38\"], [1, \"38\"], [1, \"38\"], [0, \"38\"], [1, \"38\"], [0, \"38\"], [1, \"38\"], [1, \"38\"]], \"hoverlabel\": {\"namelength\": 0}, \"hovertemplate\": \"<b>%{hovertext}</b><br><br>cluster=%{customdata[1]}<br>vSegDir=%{customdata[0]}<br>longitude=%{lat}<br>latitude=%{lon}\", \"hovertext\": [1235.0, 1236.0, 1236.0, 1237.0, 1238.0, 1254.0, 1255.0, 1709.0, 1710.0, 1725.0, 1725.0, 1726.0, 1726.0, 1727.0, 1727.0, 1728.0, 1743.0, 1743.0, 1744.0, 1744.0, 1782.0, 17.0, 18.0, 19.0, 356.0, 356.0, 357.0, 384.0, 385.0, 386.0, 48.0, 501.0, 53.0, 594.0, 598.0, 598.0, 599.0, 820.0, 821.0], \"lat\": [41.0683956, 41.063675, 41.0683773, 41.063586, 41.058169, 40.981482, 40.9753756, 41.07046500000001, 41.0689243, 41.0978454, 41.1072356, 41.0894049, 41.0980568, 41.0806124, 41.0894902, 41.0806089, 41.0723221, 41.0652377, 41.0653269, 41.068796, 41.0800232, 40.927394, 40.918433, 40.909396, 41.066854, 41.071027, 41.070891, 41.041614, 41.0385543, 41.0355021, 41.08007, 40.96459829999999, 41.113449, 40.871281, 40.867384, 40.866941, 40.866815, 40.94325300000001, 40.937734000000006], \"legendgroup\": \"cluster=38\", \"lon\": [28.8594107, 28.867668, 28.859251500000006, 28.867559000000004, 28.875786, 28.859803000000007, 28.8684251, 28.823184, 28.8339522, 28.8491993, 28.849815600000003, 28.8449122, 28.8491144, 28.8414896, 28.844776799999998, 28.8413185, 28.854092600000005, 28.8453436, 28.8448944, 28.833807, 29.0698946, 29.326395, 29.321668, 29.326909000000004, 28.10336, 28.113866, 28.113902000000003, 28.422223, 28.4332942, 28.4443463, 29.076703, 28.803754, 29.118967, 29.228404, 29.258456, 29.267976, 29.267914, 29.129777, 29.123811], \"marker\": {\"color\": \"#19d3f3\"}, \"mode\": \"markers\", \"name\": \"cluster=38\", \"showlegend\": true, \"subplot\": \"mapbox\", \"type\": \"scattermapbox\"}, {\"customdata\": [[0, \"34\"]], \"hoverlabel\": {\"namelength\": 0}, \"hovertemplate\": \"<b>%{hovertext}</b><br><br>cluster=%{customdata[1]}<br>vSegDir=%{customdata[0]}<br>longitude=%{lat}<br>latitude=%{lon}\", \"hovertext\": [1423.0], \"lat\": [40.911017], \"legendgroup\": \"cluster=34\", \"lon\": [29.313979], \"marker\": {\"color\": \"#FF6692\"}, \"mode\": \"markers\", \"name\": \"cluster=34\", \"showlegend\": true, \"subplot\": \"mapbox\", \"type\": \"scattermapbox\"}, {\"customdata\": [[0, \"39\"], [1, \"39\"], [0, \"39\"], [1, \"39\"], [0, \"39\"], [1, \"39\"]], \"hoverlabel\": {\"namelength\": 0}, \"hovertemplate\": \"<b>%{hovertext}</b><br><br>cluster=%{customdata[1]}<br>vSegDir=%{customdata[0]}<br>longitude=%{lat}<br>latitude=%{lon}\", \"hovertext\": [1442.0, 1442.0, 268.0, 268.0, 269.0, 269.0], \"lat\": [41.036307, 41.02673, 41.0279827, 41.0333531, 41.033254, 41.0425588], \"legendgroup\": \"cluster=39\", \"lon\": [29.27209, 29.273238, 29.260079, 29.2693933, 29.2695624, 29.2749328], \"marker\": {\"color\": \"#B6E880\"}, \"mode\": \"markers\", \"name\": \"cluster=39\", \"showlegend\": true, \"subplot\": \"mapbox\", \"type\": \"scattermapbox\"}, {\"customdata\": [[0, \"11\"]], \"hoverlabel\": {\"namelength\": 0}, \"hovertemplate\": \"<b>%{hovertext}</b><br><br>cluster=%{customdata[1]}<br>vSegDir=%{customdata[0]}<br>longitude=%{lat}<br>latitude=%{lon}\", \"hovertext\": [1760.0], \"lat\": [41.013855], \"legendgroup\": \"cluster=11\", \"lon\": [28.944755], \"marker\": {\"color\": \"#FF97FF\"}, \"mode\": \"markers\", \"name\": \"cluster=11\", \"showlegend\": true, \"subplot\": \"mapbox\", \"type\": \"scattermapbox\"}, {\"customdata\": [[1, \"4\"], [0, \"4\"], [0, \"4\"], [1, \"4\"], [0, \"4\"], [1, \"4\"], [0, \"4\"], [1, \"4\"]], \"hoverlabel\": {\"namelength\": 0}, \"hovertemplate\": \"<b>%{hovertext}</b><br><br>cluster=%{customdata[1]}<br>vSegDir=%{customdata[0]}<br>longitude=%{lat}<br>latitude=%{lon}\", \"hovertext\": [1760.0, 195.0, 298.0, 499.0, 549.0, 549.0, 551.0, 551.0], \"lat\": [41.011545, 41.04089000000001, 41.0515149, 41.013965, 41.0586307, 41.0516284, 41.0461782, 41.0435906], \"legendgroup\": \"cluster=4\", \"lon\": [28.9483363, 28.986388, 28.9874977, 28.944841, 29.035518100000004, 29.0332025, 29.0201222, 29.0137853], \"marker\": {\"color\": \"#FECB52\"}, \"mode\": \"markers\", \"name\": \"cluster=4\", \"showlegend\": true, \"subplot\": \"mapbox\", \"type\": \"scattermapbox\"}, {\"customdata\": [[0, \"33\"], [1, \"33\"], [0, \"33\"], [0, \"33\"], [0, \"33\"], [0, \"33\"], [1, \"33\"]], \"hoverlabel\": {\"namelength\": 0}, \"hovertemplate\": \"<b>%{hovertext}</b><br><br>cluster=%{customdata[1]}<br>vSegDir=%{customdata[0]}<br>longitude=%{lat}<br>latitude=%{lon}\", \"hovertext\": [1790.0, 1790.0, 1791.0, 1792.0, 185.0, 244.0, 647.0], \"lat\": [41.10639329999999, 41.099477, 41.1018663, 41.1010859, 41.0540044, 40.993024, 40.871751], \"legendgroup\": \"cluster=33\", \"lon\": [29.013847100000003, 29.0083164, 29.0097539, 29.0036292, 28.6790482, 28.824435, 29.39468], \"marker\": {\"color\": \"#636efa\"}, \"mode\": \"markers\", \"name\": \"cluster=33\", \"showlegend\": true, \"subplot\": \"mapbox\", \"type\": \"scattermapbox\"}, {\"customdata\": [[1, \"20\"]], \"hoverlabel\": {\"namelength\": 0}, \"hovertemplate\": \"<b>%{hovertext}</b><br><br>cluster=%{customdata[1]}<br>vSegDir=%{customdata[0]}<br>longitude=%{lat}<br>latitude=%{lon}\", \"hovertext\": [1831.0], \"lat\": [41.0900384], \"legendgroup\": \"cluster=20\", \"lon\": [28.8134818], \"marker\": {\"color\": \"#EF553B\"}, \"mode\": \"markers\", \"name\": \"cluster=20\", \"showlegend\": true, \"subplot\": \"mapbox\", \"type\": \"scattermapbox\"}, {\"customdata\": [[0, \"14\"]], \"hoverlabel\": {\"namelength\": 0}, \"hovertemplate\": \"<b>%{hovertext}</b><br><br>cluster=%{customdata[1]}<br>vSegDir=%{customdata[0]}<br>longitude=%{lat}<br>latitude=%{lon}\", \"hovertext\": [184.0], \"lat\": [41.022373], \"legendgroup\": \"cluster=14\", \"lon\": [28.6288847], \"marker\": {\"color\": \"#00cc96\"}, \"mode\": \"markers\", \"name\": \"cluster=14\", \"showlegend\": true, \"subplot\": \"mapbox\", \"type\": \"scattermapbox\"}, {\"customdata\": [[0, \"18\"]], \"hoverlabel\": {\"namelength\": 0}, \"hovertemplate\": \"<b>%{hovertext}</b><br><br>cluster=%{customdata[1]}<br>vSegDir=%{customdata[0]}<br>longitude=%{lat}<br>latitude=%{lon}\", \"hovertext\": [1989.0], \"lat\": [40.988614], \"legendgroup\": \"cluster=18\", \"lon\": [29.14549], \"marker\": {\"color\": \"#ab63fa\"}, \"mode\": \"markers\", \"name\": \"cluster=18\", \"showlegend\": true, \"subplot\": \"mapbox\", \"type\": \"scattermapbox\"}, {\"customdata\": [[0, \"31\"], [1, \"31\"], [0, \"31\"], [1, \"31\"], [0, \"31\"], [1, \"31\"], [0, \"31\"], [1, \"31\"], [0, \"31\"], [1, \"31\"], [0, \"31\"], [1, \"31\"], [0, \"31\"], [1, \"31\"], [0, \"31\"], [1, \"31\"], [0, \"31\"], [0, \"31\"], [0, \"31\"], [0, \"31\"], [0, \"31\"], [1, \"31\"], [0, \"31\"], [0, \"31\"], [0, \"31\"]], \"hoverlabel\": {\"namelength\": 0}, \"hovertemplate\": \"<b>%{hovertext}</b><br><br>cluster=%{customdata[1]}<br>vSegDir=%{customdata[0]}<br>longitude=%{lat}<br>latitude=%{lon}\", \"hovertext\": [2092.0, 2092.0, 2093.0, 2093.0, 2094.0, 2094.0, 2095.0, 2095.0, 2096.0, 2096.0, 2097.0, 2097.0, 2098.0, 2098.0, 2099.0, 2099.0, 2100.0, 2101.0, 2102.0, 2104.0, 395.0, 395.0, 396.0, 397.0, 2083.0], \"lat\": [41.001688, 41.001318, 41.001176, 41.002511, 41.002412, 41.003516, 41.00339, 41.002096, 41.00199600000001, 41.002184, 41.002078, 41.005324, 41.005194, 41.005595, 41.005484, 41.0048372, 41.004681, 41.0059053, 41.0052056, 41.00419, 41.0127956, 41.0154369, 41.0153351, 41.0178503, 40.998055], \"legendgroup\": \"cluster=31\", \"lon\": [28.93735, 28.945523, 28.945554, 28.952685, 28.952727000000007, 28.959343, 28.959306, 28.970665000000004, 28.970628, 28.982172, 28.982197, 28.993218, 28.993232, 29.004998, 29.005018, 29.015467200000003, 29.015536, 29.0264886, 29.0269738, 29.033965, 28.5400266, 28.5513408, 28.551364000000003, 28.5627655, 28.933086], \"marker\": {\"color\": \"#FFA15A\"}, \"mode\": \"markers\", \"name\": \"cluster=31\", \"showlegend\": true, \"subplot\": \"mapbox\", \"type\": \"scattermapbox\"}, {\"customdata\": [[0, \"5\"], [0, \"5\"], [0, \"5\"], [0, \"5\"], [1, \"5\"], [0, \"5\"], [1, \"5\"], [0, \"5\"], [1, \"5\"]], \"hoverlabel\": {\"namelength\": 0}, \"hovertemplate\": \"<b>%{hovertext}</b><br><br>cluster=%{customdata[1]}<br>vSegDir=%{customdata[0]}<br>longitude=%{lat}<br>latitude=%{lon}\", \"hovertext\": [211.0, 524.0, 526.0, 552.0, 552.0, 65.0, 65.0, 83.0, 83.0], \"lat\": [41.0850467, 41.028095, 41.040554, 41.042308, 41.040304600000006, 41.047638, 41.042321, 41.009308, 41.003437], \"legendgroup\": \"cluster=5\", \"lon\": [28.9788928, 28.956492, 28.940777, 29.00675, 28.9993463, 29.0077922, 29.006833, 28.953259000000006, 28.954154], \"marker\": {\"color\": \"#19d3f3\"}, \"mode\": \"markers\", \"name\": \"cluster=5\", \"showlegend\": true, \"subplot\": \"mapbox\", \"type\": \"scattermapbox\"}, {\"customdata\": [[0, \"25\"], [0, \"25\"], [1, \"25\"], [1, \"25\"]], \"hoverlabel\": {\"namelength\": 0}, \"hovertemplate\": \"<b>%{hovertext}</b><br><br>cluster=%{customdata[1]}<br>vSegDir=%{customdata[0]}<br>longitude=%{lat}<br>latitude=%{lon}\", \"hovertext\": [213.0, 214.0, 214.0, 556.0], \"lat\": [41.0772105, 41.0694771, 41.0636648, 41.0566868], \"legendgroup\": \"cluster=25\", \"lon\": [28.9703954, 28.9646678, 28.95123, 28.950756899999995], \"marker\": {\"color\": \"#FF6692\"}, \"mode\": \"markers\", \"name\": \"cluster=25\", \"showlegend\": true, \"subplot\": \"mapbox\", \"type\": \"scattermapbox\"}, {\"customdata\": [[1, \"15\"]], \"hoverlabel\": {\"namelength\": 0}, \"hovertemplate\": \"<b>%{hovertext}</b><br><br>cluster=%{customdata[1]}<br>vSegDir=%{customdata[0]}<br>longitude=%{lat}<br>latitude=%{lon}\", \"hovertext\": [240.0], \"lat\": [41.06159], \"legendgroup\": \"cluster=15\", \"lon\": [28.807916], \"marker\": {\"color\": \"#B6E880\"}, \"mode\": \"markers\", \"name\": \"cluster=15\", \"showlegend\": true, \"subplot\": \"mapbox\", \"type\": \"scattermapbox\"}, {\"customdata\": [[1, \"37\"]], \"hoverlabel\": {\"namelength\": 0}, \"hovertemplate\": \"<b>%{hovertext}</b><br><br>cluster=%{customdata[1]}<br>vSegDir=%{customdata[0]}<br>longitude=%{lat}<br>latitude=%{lon}\", \"hovertext\": [29.0], \"lat\": [40.97591], \"legendgroup\": \"cluster=37\", \"lon\": [29.212162], \"marker\": {\"color\": \"#FF97FF\"}, \"mode\": \"markers\", \"name\": \"cluster=37\", \"showlegend\": true, \"subplot\": \"mapbox\", \"type\": \"scattermapbox\"}, {\"customdata\": [[0, \"6\"], [1, \"6\"], [1, \"6\"], [1, \"6\"]], \"hoverlabel\": {\"namelength\": 0}, \"hovertemplate\": \"<b>%{hovertext}</b><br><br>cluster=%{customdata[1]}<br>vSegDir=%{customdata[0]}<br>longitude=%{lat}<br>latitude=%{lon}\", \"hovertext\": [306.0, 576.0, 577.0, 579.0], \"lat\": [41.00686470000001, 41.029423, 41.02508320000001, 41.012674], \"legendgroup\": \"cluster=6\", \"lon\": [29.0118314, 29.017868, 29.008675, 29.011524800000004], \"marker\": {\"color\": \"#FECB52\"}, \"mode\": \"markers\", \"name\": \"cluster=6\", \"showlegend\": true, \"subplot\": \"mapbox\", \"type\": \"scattermapbox\"}, {\"customdata\": [[0, \"22\"]], \"hoverlabel\": {\"namelength\": 0}, \"hovertemplate\": \"<b>%{hovertext}</b><br><br>cluster=%{customdata[1]}<br>vSegDir=%{customdata[0]}<br>longitude=%{lat}<br>latitude=%{lon}\", \"hovertext\": [46.0], \"lat\": [41.0214851], \"legendgroup\": \"cluster=22\", \"lon\": [29.0354287], \"marker\": {\"color\": \"#636efa\"}, \"mode\": \"markers\", \"name\": \"cluster=22\", \"showlegend\": true, \"subplot\": \"mapbox\", \"type\": \"scattermapbox\"}, {\"customdata\": [[1, \"10\"]], \"hoverlabel\": {\"namelength\": 0}, \"hovertemplate\": \"<b>%{hovertext}</b><br><br>cluster=%{customdata[1]}<br>vSegDir=%{customdata[0]}<br>longitude=%{lat}<br>latitude=%{lon}\", \"hovertext\": [500.0], \"lat\": [41.009731], \"legendgroup\": \"cluster=10\", \"lon\": [28.953346000000003], \"marker\": {\"color\": \"#EF553B\"}, \"mode\": \"markers\", \"name\": \"cluster=10\", \"showlegend\": true, \"subplot\": \"mapbox\", \"type\": \"scattermapbox\"}, {\"customdata\": [[0, \"1\"], [1, \"1\"], [0, \"1\"], [1, \"1\"], [0, \"1\"], [1, \"1\"], [0, \"1\"], [1, \"1\"], [0, \"1\"], [1, \"1\"], [0, \"1\"], [0, \"1\"], [0, \"1\"], [1, \"1\"]], \"hoverlabel\": {\"namelength\": 0}, \"hovertemplate\": \"<b>%{hovertext}</b><br><br>cluster=%{customdata[1]}<br>vSegDir=%{customdata[0]}<br>longitude=%{lat}<br>latitude=%{lon}\", \"hovertext\": [542.0, 542.0, 543.0, 543.0, 544.0, 544.0, 546.0, 546.0, 547.0, 547.0, 548.0, 571.0, 572.0, 573.0], \"lat\": [41.108695, 41.100504, 41.100555, 41.0924927, 41.092424, 41.08377279999999, 41.0794026, 41.0726032, 41.0725949, 41.06588350000001, 41.066058, 41.0627507, 41.0547215, 41.0429295], \"legendgroup\": \"cluster=1\", \"lon\": [29.058943, 29.054712, 29.054582, 29.0550007, 29.054925, 29.0568168, 29.0476612, 29.044725300000003, 29.0445595, 29.041497600000003, 29.041447100000006, 29.0544844, 29.052140100000006, 29.041957300000004], \"marker\": {\"color\": \"#00cc96\"}, \"mode\": \"markers\", \"name\": \"cluster=1\", \"showlegend\": true, \"subplot\": \"mapbox\", \"type\": \"scattermapbox\"}, {\"customdata\": [[0, \"3\"], [1, \"3\"]], \"hoverlabel\": {\"namelength\": 0}, \"hovertemplate\": \"<b>%{hovertext}</b><br><br>cluster=%{customdata[1]}<br>vSegDir=%{customdata[0]}<br>longitude=%{lat}<br>latitude=%{lon}\", \"hovertext\": [550.0, 550.0], \"lat\": [41.0486543, 41.0460455], \"legendgroup\": \"cluster=3\", \"lon\": [29.0266245, 29.0199994], \"marker\": {\"color\": \"#ab63fa\"}, \"mode\": \"markers\", \"name\": \"cluster=3\", \"showlegend\": true, \"subplot\": \"mapbox\", \"type\": \"scattermapbox\"}, {\"customdata\": [[0, \"2\"]], \"hoverlabel\": {\"namelength\": 0}, \"hovertemplate\": \"<b>%{hovertext}</b><br><br>cluster=%{customdata[1]}<br>vSegDir=%{customdata[0]}<br>longitude=%{lat}<br>latitude=%{lon}\", \"hovertext\": [573.0], \"lat\": [41.0472141], \"legendgroup\": \"cluster=2\", \"lon\": [29.0523077], \"marker\": {\"color\": \"#FFA15A\"}, \"mode\": \"markers\", \"name\": \"cluster=2\", \"showlegend\": true, \"subplot\": \"mapbox\", \"type\": \"scattermapbox\"}, {\"customdata\": [[1, \"27\"]], \"hoverlabel\": {\"namelength\": 0}, \"hovertemplate\": \"<b>%{hovertext}</b><br><br>cluster=%{customdata[1]}<br>vSegDir=%{customdata[0]}<br>longitude=%{lat}<br>latitude=%{lon}\", \"hovertext\": [743.0], \"lat\": [41.070513], \"legendgroup\": \"cluster=27\", \"lon\": [29.015109], \"marker\": {\"color\": \"#19d3f3\"}, \"mode\": \"markers\", \"name\": \"cluster=27\", \"showlegend\": true, \"subplot\": \"mapbox\", \"type\": \"scattermapbox\"}, {\"customdata\": [[0, \"23\"]], \"hoverlabel\": {\"namelength\": 0}, \"hovertemplate\": \"<b>%{hovertext}</b><br><br>cluster=%{customdata[1]}<br>vSegDir=%{customdata[0]}<br>longitude=%{lat}<br>latitude=%{lon}\", \"hovertext\": [759.0], \"lat\": [41.012588], \"legendgroup\": \"cluster=23\", \"lon\": [29.020281], \"marker\": {\"color\": \"#FF6692\"}, \"mode\": \"markers\", \"name\": \"cluster=23\", \"showlegend\": true, \"subplot\": \"mapbox\", \"type\": \"scattermapbox\"}, {\"customdata\": [[1, \"43\"]], \"hoverlabel\": {\"namelength\": 0}, \"hovertemplate\": \"<b>%{hovertext}</b><br><br>cluster=%{customdata[1]}<br>vSegDir=%{customdata[0]}<br>longitude=%{lat}<br>latitude=%{lon}\", \"hovertext\": [759.0], \"lat\": [41.0154266], \"legendgroup\": \"cluster=43\", \"lon\": [29.028667100000003], \"marker\": {\"color\": \"#B6E880\"}, \"mode\": \"markers\", \"name\": \"cluster=43\", \"showlegend\": true, \"subplot\": \"mapbox\", \"type\": \"scattermapbox\"}, {\"customdata\": [[1, \"21\"]], \"hoverlabel\": {\"namelength\": 0}, \"hovertemplate\": \"<b>%{hovertext}</b><br><br>cluster=%{customdata[1]}<br>vSegDir=%{customdata[0]}<br>longitude=%{lat}<br>latitude=%{lon}\", \"hovertext\": [768.0], \"lat\": [41.020856], \"legendgroup\": \"cluster=21\", \"lon\": [29.120802], \"marker\": {\"color\": \"#FF97FF\"}, \"mode\": \"markers\", \"name\": \"cluster=21\", \"showlegend\": true, \"subplot\": \"mapbox\", \"type\": \"scattermapbox\"}, {\"customdata\": [[0, \"24\"], [1, \"24\"], [1, \"24\"]], \"hoverlabel\": {\"namelength\": 0}, \"hovertemplate\": \"<b>%{hovertext}</b><br><br>cluster=%{customdata[1]}<br>vSegDir=%{customdata[0]}<br>longitude=%{lat}<br>latitude=%{lon}\", \"hovertext\": [80.0, 80.0, 81.0], \"lat\": [41.109694, 41.112457, 41.112462], \"legendgroup\": \"cluster=24\", \"lon\": [29.033081, 29.044127000000003, 29.055740000000004], \"marker\": {\"color\": \"#FECB52\"}, \"mode\": \"markers\", \"name\": \"cluster=24\", \"showlegend\": true, \"subplot\": \"mapbox\", \"type\": \"scattermapbox\"}, {\"customdata\": [[0, \"12\"], [1, \"12\"], [0, \"12\"], [1, \"12\"]], \"hoverlabel\": {\"namelength\": 0}, \"hovertemplate\": \"<b>%{hovertext}</b><br><br>cluster=%{customdata[1]}<br>vSegDir=%{customdata[0]}<br>longitude=%{lat}<br>latitude=%{lon}\", \"hovertext\": [84.0, 84.0, 85.0, 85.0], \"lat\": [41.089803, 41.086405, 41.0862787, 41.079199], \"legendgroup\": \"cluster=12\", \"lon\": [28.8642812, 28.869698, 28.8695446, 28.876708], \"marker\": {\"color\": \"#636efa\"}, \"mode\": \"markers\", \"name\": \"cluster=12\", \"showlegend\": true, \"subplot\": \"mapbox\", \"type\": \"scattermapbox\"}, {\"customdata\": [[0, \"16\"]], \"hoverlabel\": {\"namelength\": 0}, \"hovertemplate\": \"<b>%{hovertext}</b><br><br>cluster=%{customdata[1]}<br>vSegDir=%{customdata[0]}<br>longitude=%{lat}<br>latitude=%{lon}\", \"hovertext\": [88.0], \"lat\": [41.068517], \"legendgroup\": \"cluster=16\", \"lon\": [28.89543], \"marker\": {\"color\": \"#EF553B\"}, \"mode\": \"markers\", \"name\": \"cluster=16\", \"showlegend\": true, \"subplot\": \"mapbox\", \"type\": \"scattermapbox\"}, {\"customdata\": [[0, \"8\"], [1, \"8\"]], \"hoverlabel\": {\"namelength\": 0}, \"hovertemplate\": \"<b>%{hovertext}</b><br><br>cluster=%{customdata[1]}<br>vSegDir=%{customdata[0]}<br>longitude=%{lat}<br>latitude=%{lon}\", \"hovertext\": [93.0, 93.0], \"lat\": [41.0336173, 41.0280471], \"legendgroup\": \"cluster=8\", \"lon\": [28.9297105, 28.9378891], \"marker\": {\"color\": \"#00cc96\"}, \"mode\": \"markers\", \"name\": \"cluster=8\", \"showlegend\": true, \"subplot\": \"mapbox\", \"type\": \"scattermapbox\"}],\n",
              "                        {\"height\": 600, \"legend\": {\"tracegroupgap\": 0}, \"mapbox\": {\"center\": {\"lat\": 41.04406665006823, \"lon\": 28.949562592087293}, \"domain\": {\"x\": [0.0, 1.0], \"y\": [0.0, 1.0]}, \"style\": \"open-street-map\", \"zoom\": 4}, \"margin\": {\"b\": 0, \"l\": 0, \"r\": 0, \"t\": 0}, \"template\": {\"data\": {\"bar\": [{\"error_x\": {\"color\": \"#2a3f5f\"}, \"error_y\": {\"color\": \"#2a3f5f\"}, \"marker\": {\"line\": {\"color\": \"#E5ECF6\", \"width\": 0.5}}, \"type\": \"bar\"}], \"barpolar\": [{\"marker\": {\"line\": {\"color\": \"#E5ECF6\", \"width\": 0.5}}, \"type\": \"barpolar\"}], \"carpet\": [{\"aaxis\": {\"endlinecolor\": \"#2a3f5f\", \"gridcolor\": \"white\", \"linecolor\": \"white\", \"minorgridcolor\": \"white\", \"startlinecolor\": \"#2a3f5f\"}, \"baxis\": {\"endlinecolor\": \"#2a3f5f\", \"gridcolor\": \"white\", \"linecolor\": \"white\", \"minorgridcolor\": \"white\", \"startlinecolor\": \"#2a3f5f\"}, \"type\": \"carpet\"}], \"choropleth\": [{\"colorbar\": {\"outlinewidth\": 0, \"ticks\": \"\"}, \"type\": \"choropleth\"}], \"contour\": [{\"colorbar\": {\"outlinewidth\": 0, \"ticks\": \"\"}, \"colorscale\": [[0.0, \"#0d0887\"], [0.1111111111111111, \"#46039f\"], [0.2222222222222222, \"#7201a8\"], [0.3333333333333333, \"#9c179e\"], [0.4444444444444444, \"#bd3786\"], [0.5555555555555556, \"#d8576b\"], [0.6666666666666666, \"#ed7953\"], [0.7777777777777778, \"#fb9f3a\"], [0.8888888888888888, \"#fdca26\"], [1.0, \"#f0f921\"]], \"type\": \"contour\"}], \"contourcarpet\": [{\"colorbar\": {\"outlinewidth\": 0, \"ticks\": \"\"}, \"type\": \"contourcarpet\"}], \"heatmap\": [{\"colorbar\": {\"outlinewidth\": 0, \"ticks\": \"\"}, \"colorscale\": [[0.0, \"#0d0887\"], [0.1111111111111111, \"#46039f\"], [0.2222222222222222, \"#7201a8\"], [0.3333333333333333, \"#9c179e\"], [0.4444444444444444, \"#bd3786\"], [0.5555555555555556, \"#d8576b\"], [0.6666666666666666, \"#ed7953\"], [0.7777777777777778, \"#fb9f3a\"], [0.8888888888888888, \"#fdca26\"], [1.0, \"#f0f921\"]], \"type\": \"heatmap\"}], \"heatmapgl\": [{\"colorbar\": {\"outlinewidth\": 0, \"ticks\": \"\"}, \"colorscale\": [[0.0, \"#0d0887\"], [0.1111111111111111, \"#46039f\"], [0.2222222222222222, \"#7201a8\"], [0.3333333333333333, \"#9c179e\"], [0.4444444444444444, \"#bd3786\"], [0.5555555555555556, \"#d8576b\"], [0.6666666666666666, \"#ed7953\"], [0.7777777777777778, \"#fb9f3a\"], [0.8888888888888888, \"#fdca26\"], [1.0, \"#f0f921\"]], \"type\": \"heatmapgl\"}], \"histogram\": [{\"marker\": {\"colorbar\": {\"outlinewidth\": 0, \"ticks\": \"\"}}, \"type\": \"histogram\"}], \"histogram2d\": [{\"colorbar\": {\"outlinewidth\": 0, \"ticks\": \"\"}, \"colorscale\": [[0.0, \"#0d0887\"], [0.1111111111111111, \"#46039f\"], [0.2222222222222222, \"#7201a8\"], [0.3333333333333333, \"#9c179e\"], [0.4444444444444444, \"#bd3786\"], [0.5555555555555556, \"#d8576b\"], [0.6666666666666666, \"#ed7953\"], [0.7777777777777778, \"#fb9f3a\"], [0.8888888888888888, \"#fdca26\"], [1.0, \"#f0f921\"]], \"type\": \"histogram2d\"}], \"histogram2dcontour\": [{\"colorbar\": {\"outlinewidth\": 0, \"ticks\": \"\"}, \"colorscale\": [[0.0, \"#0d0887\"], [0.1111111111111111, \"#46039f\"], [0.2222222222222222, \"#7201a8\"], [0.3333333333333333, \"#9c179e\"], [0.4444444444444444, \"#bd3786\"], [0.5555555555555556, \"#d8576b\"], [0.6666666666666666, \"#ed7953\"], [0.7777777777777778, \"#fb9f3a\"], [0.8888888888888888, \"#fdca26\"], [1.0, \"#f0f921\"]], \"type\": \"histogram2dcontour\"}], \"mesh3d\": [{\"colorbar\": {\"outlinewidth\": 0, \"ticks\": \"\"}, \"type\": \"mesh3d\"}], \"parcoords\": [{\"line\": {\"colorbar\": {\"outlinewidth\": 0, \"ticks\": \"\"}}, \"type\": \"parcoords\"}], \"pie\": [{\"automargin\": true, \"type\": \"pie\"}], \"scatter\": [{\"marker\": {\"colorbar\": {\"outlinewidth\": 0, \"ticks\": \"\"}}, \"type\": \"scatter\"}], \"scatter3d\": [{\"line\": {\"colorbar\": {\"outlinewidth\": 0, \"ticks\": \"\"}}, \"marker\": {\"colorbar\": {\"outlinewidth\": 0, \"ticks\": \"\"}}, \"type\": \"scatter3d\"}], \"scattercarpet\": [{\"marker\": {\"colorbar\": {\"outlinewidth\": 0, \"ticks\": \"\"}}, \"type\": \"scattercarpet\"}], \"scattergeo\": [{\"marker\": {\"colorbar\": {\"outlinewidth\": 0, \"ticks\": \"\"}}, \"type\": \"scattergeo\"}], \"scattergl\": [{\"marker\": {\"colorbar\": {\"outlinewidth\": 0, \"ticks\": \"\"}}, \"type\": \"scattergl\"}], \"scattermapbox\": [{\"marker\": {\"colorbar\": {\"outlinewidth\": 0, \"ticks\": \"\"}}, \"type\": \"scattermapbox\"}], \"scatterpolar\": [{\"marker\": {\"colorbar\": {\"outlinewidth\": 0, \"ticks\": \"\"}}, \"type\": \"scatterpolar\"}], \"scatterpolargl\": [{\"marker\": {\"colorbar\": {\"outlinewidth\": 0, \"ticks\": \"\"}}, \"type\": \"scatterpolargl\"}], \"scatterternary\": [{\"marker\": {\"colorbar\": {\"outlinewidth\": 0, \"ticks\": \"\"}}, \"type\": \"scatterternary\"}], \"surface\": [{\"colorbar\": {\"outlinewidth\": 0, \"ticks\": \"\"}, \"colorscale\": [[0.0, \"#0d0887\"], [0.1111111111111111, \"#46039f\"], [0.2222222222222222, \"#7201a8\"], [0.3333333333333333, \"#9c179e\"], [0.4444444444444444, \"#bd3786\"], [0.5555555555555556, \"#d8576b\"], [0.6666666666666666, \"#ed7953\"], [0.7777777777777778, \"#fb9f3a\"], [0.8888888888888888, \"#fdca26\"], [1.0, \"#f0f921\"]], \"type\": \"surface\"}], \"table\": [{\"cells\": {\"fill\": {\"color\": \"#EBF0F8\"}, \"line\": {\"color\": \"white\"}}, \"header\": {\"fill\": {\"color\": \"#C8D4E3\"}, \"line\": {\"color\": \"white\"}}, \"type\": \"table\"}]}, \"layout\": {\"annotationdefaults\": {\"arrowcolor\": \"#2a3f5f\", \"arrowhead\": 0, \"arrowwidth\": 1}, \"coloraxis\": {\"colorbar\": {\"outlinewidth\": 0, \"ticks\": \"\"}}, \"colorscale\": {\"diverging\": [[0, \"#8e0152\"], [0.1, \"#c51b7d\"], [0.2, \"#de77ae\"], [0.3, \"#f1b6da\"], [0.4, \"#fde0ef\"], [0.5, \"#f7f7f7\"], [0.6, \"#e6f5d0\"], [0.7, \"#b8e186\"], [0.8, \"#7fbc41\"], [0.9, \"#4d9221\"], [1, \"#276419\"]], \"sequential\": [[0.0, \"#0d0887\"], [0.1111111111111111, \"#46039f\"], [0.2222222222222222, \"#7201a8\"], [0.3333333333333333, \"#9c179e\"], [0.4444444444444444, \"#bd3786\"], [0.5555555555555556, \"#d8576b\"], [0.6666666666666666, \"#ed7953\"], [0.7777777777777778, \"#fb9f3a\"], [0.8888888888888888, \"#fdca26\"], [1.0, \"#f0f921\"]], \"sequentialminus\": [[0.0, \"#0d0887\"], [0.1111111111111111, \"#46039f\"], [0.2222222222222222, \"#7201a8\"], [0.3333333333333333, \"#9c179e\"], [0.4444444444444444, \"#bd3786\"], [0.5555555555555556, \"#d8576b\"], [0.6666666666666666, \"#ed7953\"], [0.7777777777777778, \"#fb9f3a\"], [0.8888888888888888, \"#fdca26\"], [1.0, \"#f0f921\"]]}, \"colorway\": [\"#636efa\", \"#EF553B\", \"#00cc96\", \"#ab63fa\", \"#FFA15A\", \"#19d3f3\", \"#FF6692\", \"#B6E880\", \"#FF97FF\", \"#FECB52\"], \"font\": {\"color\": \"#2a3f5f\"}, \"geo\": {\"bgcolor\": \"white\", \"lakecolor\": \"white\", \"landcolor\": \"#E5ECF6\", \"showlakes\": true, \"showland\": true, \"subunitcolor\": \"white\"}, \"hoverlabel\": {\"align\": \"left\"}, \"hovermode\": \"closest\", \"mapbox\": {\"style\": \"light\"}, \"paper_bgcolor\": \"white\", \"plot_bgcolor\": \"#E5ECF6\", \"polar\": {\"angularaxis\": {\"gridcolor\": \"white\", \"linecolor\": \"white\", \"ticks\": \"\"}, \"bgcolor\": \"#E5ECF6\", \"radialaxis\": {\"gridcolor\": \"white\", \"linecolor\": \"white\", \"ticks\": \"\"}}, \"scene\": {\"xaxis\": {\"backgroundcolor\": \"#E5ECF6\", \"gridcolor\": \"white\", \"gridwidth\": 2, \"linecolor\": \"white\", \"showbackground\": true, \"ticks\": \"\", \"zerolinecolor\": \"white\"}, \"yaxis\": {\"backgroundcolor\": \"#E5ECF6\", \"gridcolor\": \"white\", \"gridwidth\": 2, \"linecolor\": \"white\", \"showbackground\": true, \"ticks\": \"\", \"zerolinecolor\": \"white\"}, \"zaxis\": {\"backgroundcolor\": \"#E5ECF6\", \"gridcolor\": \"white\", \"gridwidth\": 2, \"linecolor\": \"white\", \"showbackground\": true, \"ticks\": \"\", \"zerolinecolor\": \"white\"}}, \"shapedefaults\": {\"line\": {\"color\": \"#2a3f5f\"}}, \"ternary\": {\"aaxis\": {\"gridcolor\": \"white\", \"linecolor\": \"white\", \"ticks\": \"\"}, \"baxis\": {\"gridcolor\": \"white\", \"linecolor\": \"white\", \"ticks\": \"\"}, \"bgcolor\": \"#E5ECF6\", \"caxis\": {\"gridcolor\": \"white\", \"linecolor\": \"white\", \"ticks\": \"\"}}, \"title\": {\"x\": 0.05}, \"xaxis\": {\"automargin\": true, \"gridcolor\": \"white\", \"linecolor\": \"white\", \"ticks\": \"\", \"title\": {\"standoff\": 15}, \"zerolinecolor\": \"white\", \"zerolinewidth\": 2}, \"yaxis\": {\"automargin\": true, \"gridcolor\": \"white\", \"linecolor\": \"white\", \"ticks\": \"\", \"title\": {\"standoff\": 15}, \"zerolinecolor\": \"white\", \"zerolinewidth\": 2}}}},\n",
              "                        {\"responsive\": true}\n",
              "                    ).then(function(){\n",
              "                            \n",
              "var gd = document.getElementById('07989a63-83d1-4f35-8ab8-e3c575c934a8');\n",
              "var x = new MutationObserver(function (mutations, observer) {{\n",
              "        var display = window.getComputedStyle(gd).display;\n",
              "        if (!display || display === 'none') {{\n",
              "            console.log([gd, 'removed!']);\n",
              "            Plotly.purge(gd);\n",
              "            observer.disconnect();\n",
              "        }}\n",
              "}});\n",
              "\n",
              "// Listen for the removal of the full notebook cells\n",
              "var notebookContainer = gd.closest('#notebook-container');\n",
              "if (notebookContainer) {{\n",
              "    x.observe(notebookContainer, {childList: true});\n",
              "}}\n",
              "\n",
              "// Listen for the clearing of the current output cell\n",
              "var outputEl = gd.closest('.output');\n",
              "if (outputEl) {{\n",
              "    x.observe(outputEl, {childList: true});\n",
              "}}\n",
              "\n",
              "                        })\n",
              "                };\n",
              "                \n",
              "            </script>\n",
              "        </div>\n",
              "</body>\n",
              "</html>"
            ]
          },
          "metadata": {}
        }
      ]
    },
    {
      "cell_type": "code",
      "source": [
        "hierarchy = linkage(squareform(dissimilarity), method='centroid')\n",
        "labels = fcluster(hierarchy, 0.7, criterion='distance')\n",
        "labels.max()"
      ],
      "metadata": {
        "colab": {
          "base_uri": "https://localhost:8080/"
        },
        "id": "FxPuqu-R54QD",
        "outputId": "a0d14983-9830-43a3-cba7-f7fdd1888f5e"
      },
      "execution_count": null,
      "outputs": [
        {
          "output_type": "execute_result",
          "data": {
            "text/plain": [
              "8"
            ]
          },
          "metadata": {},
          "execution_count": 18
        }
      ]
    },
    {
      "cell_type": "code",
      "source": [
        "metrics.silhouette_score(corr, labels, metric='euclidean')"
      ],
      "metadata": {
        "colab": {
          "base_uri": "https://localhost:8080/"
        },
        "id": "_EHE2HsnL4-j",
        "outputId": "aac472ed-c1df-4788-bb3b-5f691ab647c4"
      },
      "execution_count": null,
      "outputs": [
        {
          "output_type": "execute_result",
          "data": {
            "text/plain": [
              "0.1627640826281327"
            ]
          },
          "metadata": {},
          "execution_count": 19
        }
      ]
    },
    {
      "cell_type": "code",
      "source": [
        "metrics.silhouette_score(dissimilarity, labels, metric='euclidean')"
      ],
      "metadata": {
        "colab": {
          "base_uri": "https://localhost:8080/"
        },
        "id": "MEHzgtVKL552",
        "outputId": "bc0cd60a-617d-4c2d-d815-d833722ec7b8"
      },
      "execution_count": null,
      "outputs": [
        {
          "output_type": "execute_result",
          "data": {
            "text/plain": [
              "0.17756513998146953"
            ]
          },
          "metadata": {},
          "execution_count": 20
        }
      ]
    },
    {
      "cell_type": "code",
      "source": [
        "den = dendrogram(hierarchy)"
      ],
      "metadata": {
        "colab": {
          "base_uri": "https://localhost:8080/",
          "height": 268
        },
        "id": "xeZNTj-754NJ",
        "outputId": "88b8b126-b53c-4073-bd72-4149070d19f1"
      },
      "execution_count": null,
      "outputs": [
        {
          "output_type": "display_data",
          "data": {
            "image/png": "[encoded data removed]",
            "text/plain": [
              "<Figure size 432x288 with 1 Axes>"
            ]
          },
          "metadata": {
            "needs_background": "light"
          }
        }
      ]
    },
    {
      "cell_type": "code",
      "source": [
        "clusters = defaultdict(list)\n",
        "for i,val in enumerate(labels):\n",
        "  clusters[val].append(cols[i])\n",
        "for cluster in clusters:\n",
        "  print(\"cluster:{} len:{}\".format(cluster,len(clusters[cluster])))"
      ],
      "metadata": {
        "colab": {
          "base_uri": "https://localhost:8080/"
        },
        "id": "7w7OeSo154Kk",
        "outputId": "70bd6be0-3ab7-463f-b742-d3e6b22c8ee8"
      },
      "execution_count": null,
      "outputs": [
        {
          "output_type": "stream",
          "name": "stdout",
          "text": [
            "cluster:1 len:1459\n",
            "cluster:7 len:1\n",
            "cluster:5 len:1\n",
            "cluster:8 len:1\n",
            "cluster:6 len:1\n",
            "cluster:2 len:1\n",
            "cluster:4 len:1\n",
            "cluster:3 len:1\n"
          ]
        }
      ]
    },
    {
      "cell_type": "code",
      "source": [
        "hierarchy = linkage(squareform(dissimilarity), method='average')\n",
        "labels = fcluster(hierarchy, 0.7, criterion='distance')\n",
        "labels.max()"
      ],
      "metadata": {
        "colab": {
          "base_uri": "https://localhost:8080/"
        },
        "id": "6giZpj1L54ID",
        "outputId": "b88edc75-f99a-4817-f8ac-7be64494b30f"
      },
      "execution_count": null,
      "outputs": [
        {
          "output_type": "execute_result",
          "data": {
            "text/plain": [
              "32"
            ]
          },
          "metadata": {},
          "execution_count": 21
        }
      ]
    },
    {
      "cell_type": "code",
      "source": [
        "metrics.silhouette_score(corr, labels, metric='euclidean')"
      ],
      "metadata": {
        "colab": {
          "base_uri": "https://localhost:8080/"
        },
        "id": "Uwq5DpoBL-D-",
        "outputId": "3657f9c5-e356-4285-d113-e46a0bd5f4e8"
      },
      "execution_count": null,
      "outputs": [
        {
          "output_type": "execute_result",
          "data": {
            "text/plain": [
              "0.1539588583102246"
            ]
          },
          "metadata": {},
          "execution_count": 22
        }
      ]
    },
    {
      "cell_type": "code",
      "source": [
        "metrics.silhouette_score(dissimilarity, labels, metric='euclidean')"
      ],
      "metadata": {
        "colab": {
          "base_uri": "https://localhost:8080/"
        },
        "id": "04D5JdZ9L91h",
        "outputId": "0abff148-2333-4df0-a090-410606869508"
      },
      "execution_count": null,
      "outputs": [
        {
          "output_type": "execute_result",
          "data": {
            "text/plain": [
              "0.1616620784065242"
            ]
          },
          "metadata": {},
          "execution_count": 23
        }
      ]
    },
    {
      "cell_type": "code",
      "source": [
        "den = dendrogram(hierarchy)"
      ],
      "metadata": {
        "colab": {
          "base_uri": "https://localhost:8080/",
          "height": 268
        },
        "id": "yndR523N54Es",
        "outputId": "3f694767-0dd8-4895-baa2-8a2aad880bb4"
      },
      "execution_count": null,
      "outputs": [
        {
          "output_type": "display_data",
          "data": {
            "image/png": "[encoded data removed]",
            "text/plain": [
              "<Figure size 432x288 with 1 Axes>"
            ]
          },
          "metadata": {
            "needs_background": "light"
          }
        }
      ]
    },
    {
      "cell_type": "code",
      "source": [
        "clusters = defaultdict(list)\n",
        "for i,val in enumerate(labels):\n",
        "  clusters[val].append(cols[i])\n",
        "for cluster in clusters:\n",
        "  print(\"cluster:{} len:{}\".format(cluster,len(clusters[cluster])))"
      ],
      "metadata": {
        "colab": {
          "base_uri": "https://localhost:8080/"
        },
        "id": "KOrO1C2z7Q5T",
        "outputId": "dd4e9351-4d92-4b56-8c77-f335acb5b3e5"
      },
      "execution_count": null,
      "outputs": [
        {
          "output_type": "stream",
          "name": "stdout",
          "text": [
            "cluster:14 len:1198\n",
            "cluster:18 len:173\n",
            "cluster:19 len:1\n",
            "cluster:6 len:17\n",
            "cluster:5 len:11\n",
            "cluster:26 len:1\n",
            "cluster:24 len:14\n",
            "cluster:23 len:3\n",
            "cluster:22 len:4\n",
            "cluster:8 len:1\n",
            "cluster:11 len:6\n",
            "cluster:3 len:1\n",
            "cluster:2 len:2\n",
            "cluster:17 len:4\n",
            "cluster:13 len:2\n",
            "cluster:10 len:5\n",
            "cluster:15 len:1\n",
            "cluster:30 len:1\n",
            "cluster:16 len:6\n",
            "cluster:7 len:1\n",
            "cluster:9 len:1\n",
            "cluster:1 len:2\n",
            "cluster:4 len:1\n",
            "cluster:12 len:2\n",
            "cluster:21 len:1\n",
            "cluster:32 len:1\n",
            "cluster:31 len:1\n",
            "cluster:28 len:1\n",
            "cluster:29 len:1\n",
            "cluster:27 len:1\n",
            "cluster:20 len:1\n",
            "cluster:25 len:1\n"
          ]
        }
      ]
    },
    {
      "cell_type": "code",
      "source": [
        "path = 'drive/MyDrive/Metadata/Coordinates_2017.csv'\n",
        "df = pd.read_csv(path)\n",
        "df[\"cluster\"] = -1\n",
        "for i in range(len(df)):\n",
        "  file_name =  'drive/MyDrive/2017_v1/{}_{}_2017.csv'.format(int(df.loc[i][\"vSegID\"]),int(df.loc[i][\"vSegDir\"]))\n",
        "  for cluster in clusters:\n",
        "    if file_name in clusters[cluster]:\n",
        "      df.iloc[i] = [int(df.loc[i][\"vSegID\"]), int(df.loc[i][\"vSegDir\"]),\n",
        "                   df.loc[i][\"longitude\"], df.loc[i][\"latitude\"],\n",
        "                   cluster]\n",
        "      break\n",
        "\n",
        "df.to_csv(\"drive/MyDrive/SimilarityScores/Coordinates/2017/WorkingHourAverageClusterCoord_2017.csv\")"
      ],
      "metadata": {
        "id": "pZjRgHTJ7Q2-"
      },
      "execution_count": null,
      "outputs": []
    },
    {
      "cell_type": "code",
      "source": [
        "path = \"drive/MyDrive/SimilarityScores/Coordinates/2017/WorkingHourAverageClusterCoord_2017.csv\"\n",
        "df = pd.read_csv(path)\n",
        "df = df.drop(\"Unnamed: 0\",axis=1)\n",
        "df[\"cluster\"] = df[\"cluster\"].astype(str)\n",
        "fig = px.scatter_mapbox(df, lon='latitude', lat='longitude', hover_name='vSegID', hover_data=['vSegDir',\"cluster\"],\n",
        "                        color=\"cluster\", zoom=4, height=600)\n",
        "fig.update_layout(mapbox_style=\"open-street-map\")\n",
        "fig.update_layout(margin={\"r\":0,\"t\":0,\"l\":0,\"b\":0})\n",
        "fig.show()"
      ],
      "metadata": {
        "colab": {
          "base_uri": "https://localhost:8080/",
          "height": 617
        },
        "id": "dlmI3Ds47Q0U",
        "outputId": "10e1c87e-944c-42b8-dede-11828fa618e9"
      },
      "execution_count": null,
      "outputs": [
        {
          "output_type": "display_data",
          "data": {
            "text/html": [
              "<html>\n",
              "<head><meta charset=\"utf-8\" /></head>\n",
              "<body>\n",
              "    <div>\n",
              "            <script src=\"https://cdnjs.cloudflare.com/ajax/libs/mathjax/2.7.5/MathJax.js?config=TeX-AMS-MML_SVG\"></script><script type=\"text/javascript\">if (window.MathJax) {MathJax.Hub.Config({SVG: {font: \"STIX-Web\"}});}</script>\n",
              "                <script type=\"text/javascript\">window.PlotlyConfig = {MathJaxConfig: 'local'};</script>\n",
              "        <script src=\"https://cdn.plot.ly/plotly-latest.min.js\"></script>    \n",
              "            <div id=\"b67aeb95-d242-48a0-8392-499002aa9c95\" class=\"plotly-graph-div\" style=\"height:600px; width:100%;\"></div>\n",
              "            <script type=\"text/javascript\">\n",
              "                \n",
              "                    window.PLOTLYENV=window.PLOTLYENV || {};\n",
              "                    \n",
              "                if (document.getElementById(\"b67aeb95-d242-48a0-8392-499002aa9c95\")) {\n",
              "                    Plotly.newPlot(\n",
              "                        'b67aeb95-d242-48a0-8392-499002aa9c95',\n",
              "                        [{\"customdata\": [[0, \"14\"], [1, \"14\"], [0, \"14\"], [1, \"14\"], [0, \"14\"], [1, \"14\"], [0, \"14\"], [1, \"14\"], [0, \"14\"], [1, \"14\"], [0, \"14\"], [1, \"14\"], [0, \"14\"], [1, \"14\"], [0, \"14\"], [1, \"14\"], [0, \"14\"], [1, \"14\"], [0, \"14\"], [1, \"14\"], [0, \"14\"], [1, \"14\"], [0, \"14\"], [1, \"14\"], [0, \"14\"], [1, \"14\"], [0, \"14\"], [1, \"14\"], [0, \"14\"], [1, \"14\"], [0, \"14\"], [1, \"14\"], [0, \"14\"], [1, \"14\"], [0, \"14\"], [1, \"14\"], [0, \"14\"], [0, \"14\"], [1, \"14\"], [0, \"14\"], [1, \"14\"], [0, \"14\"], [1, \"14\"], [0, \"14\"], [1, \"14\"], [0, \"14\"], [1, \"14\"], [0, \"14\"], [1, \"14\"], [0, \"14\"], [1, \"14\"], [0, \"14\"], [1, \"14\"], [0, \"14\"], [1, \"14\"], [0, \"14\"], [1, \"14\"], [0, \"14\"], [0, \"14\"], [1, \"14\"], [0, \"14\"], [1, \"14\"], [0, \"14\"], [1, \"14\"], [0, \"14\"], [1, \"14\"], [0, \"14\"], [1, \"14\"], [0, \"14\"], [1, \"14\"], [0, \"14\"], [1, \"14\"], [0, \"14\"], [1, \"14\"], [0, \"14\"], [1, \"14\"], [0, \"14\"], [1, \"14\"], [1, \"14\"], [1, \"14\"], [0, \"14\"], [1, \"14\"], [0, \"14\"], [1, \"14\"], [0, \"14\"], [1, \"14\"], [0, \"14\"], [1, \"14\"], [0, \"14\"], [1, \"14\"], [0, \"14\"], [1, \"14\"], [0, \"14\"], [1, \"14\"], [0, \"14\"], [1, \"14\"], [0, \"14\"], [1, \"14\"], [0, \"14\"], [1, \"14\"], [0, \"14\"], [1, \"14\"], [0, \"14\"], [1, \"14\"], [0, \"14\"], [0, \"14\"], [1, \"14\"], [0, \"14\"], [0, \"14\"], [1, \"14\"], [0, \"14\"], [1, \"14\"], [0, \"14\"], [1, \"14\"], [0, \"14\"], [1, \"14\"], [0, \"14\"], [1, \"14\"], [0, \"14\"], [0, \"14\"], [0, \"14\"], [1, \"14\"], [0, \"14\"], [1, \"14\"], [0, \"14\"], [1, \"14\"], [0, \"14\"], [1, \"14\"], [0, \"14\"], [1, \"14\"], [0, \"14\"], [1, \"14\"], [0, \"14\"], [1, \"14\"], [0, \"14\"], [1, \"14\"], [0, \"14\"], [1, \"14\"], [0, \"14\"], [1, \"14\"], [0, \"14\"], [1, \"14\"], [0, \"14\"], [1, \"14\"], [1, \"14\"], [0, \"14\"], [1, \"14\"], [0, \"14\"], [1, \"14\"], [0, \"14\"], [1, \"14\"], [1, \"14\"], [0, \"14\"], [0, \"14\"], [1, \"14\"], [0, \"14\"], [1, \"14\"], [0, \"14\"], [1, \"14\"], [0, \"14\"], [1, \"14\"], [0, \"14\"], [1, \"14\"], [0, \"14\"], [1, \"14\"], [1, \"14\"], [0, \"14\"], [1, \"14\"], [0, \"14\"], [1, \"14\"], [0, \"14\"], [1, \"14\"], [0, \"14\"], [1, \"14\"], [0, \"14\"], [1, \"14\"], [0, \"14\"], [1, \"14\"], [0, \"14\"], [0, \"14\"], [1, \"14\"], [0, \"14\"], [1, \"14\"], [0, \"14\"], [1, \"14\"], [0, \"14\"], [1, \"14\"], [0, \"14\"], [1, \"14\"], [0, \"14\"], [1, \"14\"], [0, \"14\"], [1, \"14\"], [0, \"14\"], [1, \"14\"], [0, \"14\"], [1, \"14\"], [0, \"14\"], [1, \"14\"], [0, \"14\"], [1, \"14\"], [0, \"14\"], [1, \"14\"], [0, \"14\"], [1, \"14\"], [0, \"14\"], [1, \"14\"], [0, \"14\"], [1, \"14\"], [0, \"14\"], [1, \"14\"], [0, \"14\"], [1, \"14\"], [0, \"14\"], [1, \"14\"], [0, \"14\"], [1, \"14\"], [0, \"14\"], [0, \"14\"], [1, \"14\"], [0, \"14\"], [1, \"14\"], [0, \"14\"], [1, \"14\"], [0, \"14\"], [1, \"14\"], [0, \"14\"], [1, \"14\"], [0, \"14\"], [1, \"14\"], [0, \"14\"], [1, \"14\"], [0, \"14\"], [1, \"14\"], [0, \"14\"], [1, \"14\"], [0, \"14\"], [1, \"14\"], [0, \"14\"], [1, \"14\"], [0, \"14\"], [1, \"14\"], [0, \"14\"], [1, \"14\"], [0, \"14\"], [1, \"14\"], [0, \"14\"], [1, \"14\"], [0, \"14\"], [1, \"14\"], [0, \"14\"], [1, \"14\"], [0, \"14\"], [1, \"14\"], [0, \"14\"], [1, \"14\"], [0, \"14\"], [1, \"14\"], [0, \"14\"], [1, \"14\"], [0, \"14\"], [1, \"14\"], [0, \"14\"], [1, \"14\"], [0, \"14\"], [1, \"14\"], [0, \"14\"], [1, \"14\"], [0, \"14\"], [1, \"14\"], [0, \"14\"], [1, \"14\"], [0, \"14\"], [1, \"14\"], [0, \"14\"], [1, \"14\"], [0, \"14\"], [1, \"14\"], [0, \"14\"], [1, \"14\"], [0, \"14\"], [1, \"14\"], [0, \"14\"], [1, \"14\"], [0, \"14\"], [1, \"14\"], [0, \"14\"], [1, \"14\"], [0, \"14\"], [1, \"14\"], [0, \"14\"], [1, \"14\"], [0, \"14\"], [1, \"14\"], [0, \"14\"], [1, \"14\"], [0, \"14\"], [1, \"14\"], [0, \"14\"], [1, \"14\"], [0, \"14\"], [1, \"14\"], [0, \"14\"], [1, \"14\"], [0, \"14\"], [1, \"14\"], [0, \"14\"], [1, \"14\"], [0, \"14\"], [1, \"14\"], [0, \"14\"], [1, \"14\"], [0, \"14\"], [1, \"14\"], [0, \"14\"], [1, \"14\"], [0, \"14\"], [1, \"14\"], [0, \"14\"], [1, \"14\"], [0, \"14\"], [1, \"14\"], [0, \"14\"], [1, \"14\"], [0, \"14\"], [1, \"14\"], [0, \"14\"], [1, \"14\"], [0, \"14\"], [1, \"14\"], [0, \"14\"], [1, \"14\"], [0, \"14\"], [1, \"14\"], [0, \"14\"], [1, \"14\"], [0, \"14\"], [1, \"14\"], [0, \"14\"], [1, \"14\"], [0, \"14\"], [1, \"14\"], [0, \"14\"], [1, \"14\"], [0, \"14\"], [1, \"14\"], [0, \"14\"], [1, \"14\"], [0, \"14\"], [1, \"14\"], [0, \"14\"], [1, \"14\"], [0, \"14\"], [1, \"14\"], [0, \"14\"], [1, \"14\"], [0, \"14\"], [1, \"14\"], [0, \"14\"], [1, \"14\"], [0, \"14\"], [1, \"14\"], [0, \"14\"], [1, \"14\"], [0, \"14\"], [1, \"14\"], [0, \"14\"], [0, \"14\"], [0, \"14\"], [0, \"14\"], [0, \"14\"], [1, \"14\"], [0, \"14\"], [1, \"14\"], [0, \"14\"], [1, \"14\"], [0, \"14\"], [1, \"14\"], [0, \"14\"], [1, \"14\"], [0, \"14\"], [1, \"14\"], [0, \"14\"], [1, \"14\"], [0, \"14\"], [1, \"14\"], [0, \"14\"], [1, \"14\"], [0, \"14\"], [1, \"14\"], [0, \"14\"], [1, \"14\"], [0, \"14\"], [1, \"14\"], [0, \"14\"], [0, \"14\"], [0, \"14\"], [0, \"14\"], [0, \"14\"], [0, \"14\"], [0, \"14\"], [0, \"14\"], [0, \"14\"], [0, \"14\"], [0, \"14\"], [0, \"14\"], [0, \"14\"], [1, \"14\"], [0, \"14\"], [1, \"14\"], [0, \"14\"], [1, \"14\"], [0, \"14\"], [1, \"14\"], [0, \"14\"], [1, \"14\"], [0, \"14\"], [1, \"14\"], [0, \"14\"], [1, \"14\"], [0, \"14\"], [1, \"14\"], [0, \"14\"], [0, \"14\"], [0, \"14\"], [0, \"14\"], [0, \"14\"], [0, \"14\"], [0, \"14\"], [1, \"14\"], [0, \"14\"], [1, \"14\"], [0, \"14\"], [0, \"14\"], [1, \"14\"], [0, \"14\"], [1, \"14\"], [0, \"14\"], [1, \"14\"], [0, \"14\"], [1, \"14\"], [0, \"14\"], [1, \"14\"], [0, \"14\"], [0, \"14\"], [0, \"14\"], [0, \"14\"], [0, \"14\"], [1, \"14\"], [0, \"14\"], [1, \"14\"], [0, \"14\"], [1, \"14\"], [0, \"14\"], [1, \"14\"], [0, \"14\"], [1, \"14\"], [0, \"14\"], [1, \"14\"], [0, \"14\"], [1, \"14\"], [0, \"14\"], [1, \"14\"], [0, \"14\"], [1, \"14\"], [0, \"14\"], [1, \"14\"], [0, \"14\"], [1, \"14\"], [0, \"14\"], [1, \"14\"], [0, \"14\"], [1, \"14\"], [1, \"14\"], [0, \"14\"], [1, \"14\"], [0, \"14\"], [1, \"14\"], [0, \"14\"], [1, \"14\"], [0, \"14\"], [1, \"14\"], [0, \"14\"], [1, \"14\"], [0, \"14\"], [1, \"14\"], [0, \"14\"], [1, \"14\"], [0, \"14\"], [1, \"14\"], [0, \"14\"], [0, \"14\"], [0, \"14\"], [0, \"14\"], [0, \"14\"], [0, \"14\"], [0, \"14\"], [0, \"14\"], [0, \"14\"], [1, \"14\"], [0, \"14\"], [0, \"14\"], [0, \"14\"], [1, \"14\"], [0, \"14\"], [1, \"14\"], [0, \"14\"], [1, \"14\"], [0, \"14\"], [1, \"14\"], [0, \"14\"], [1, \"14\"], [0, \"14\"], [1, \"14\"], [0, \"14\"], [1, \"14\"], [0, \"14\"], [1, \"14\"], [0, \"14\"], [1, \"14\"], [0, \"14\"], [1, \"14\"], [0, \"14\"], [1, \"14\"], [0, \"14\"], [1, \"14\"], [0, \"14\"], [1, \"14\"], [0, \"14\"], [1, \"14\"], [0, \"14\"], [1, \"14\"], [0, \"14\"], [1, \"14\"], [0, \"14\"], [1, \"14\"], [0, \"14\"], [1, \"14\"], [0, \"14\"], [1, \"14\"], [0, \"14\"], [1, \"14\"], [0, \"14\"], [1, \"14\"], [0, \"14\"], [1, \"14\"], [0, \"14\"], [1, \"14\"], [0, \"14\"], [1, \"14\"], [0, \"14\"], [1, \"14\"], [0, \"14\"], [1, \"14\"], [0, \"14\"], [1, \"14\"], [0, \"14\"], [1, \"14\"], [0, \"14\"], [1, \"14\"], [0, \"14\"], [1, \"14\"], [0, \"14\"], [1, \"14\"], [0, \"14\"], [1, \"14\"], [0, \"14\"], [1, \"14\"], [0, \"14\"], [1, \"14\"], [0, \"14\"], [1, \"14\"], [0, \"14\"], [1, \"14\"], [0, \"14\"], [1, \"14\"], [0, \"14\"], [1, \"14\"], [0, \"14\"], [1, \"14\"], [0, \"14\"], [1, \"14\"], [0, \"14\"], [1, \"14\"], [0, \"14\"], [1, \"14\"], [0, \"14\"], [1, \"14\"], [0, \"14\"], [1, \"14\"], [0, \"14\"], [1, \"14\"], [0, \"14\"], [1, \"14\"], [0, \"14\"], [1, \"14\"], [0, \"14\"], [1, \"14\"], [0, \"14\"], [1, \"14\"], [0, \"14\"], [1, \"14\"], [0, \"14\"], [1, \"14\"], [0, \"14\"], [1, \"14\"], [0, \"14\"], [1, \"14\"], [1, \"14\"], [0, \"14\"], [1, \"14\"], [1, \"14\"], [1, \"14\"], [1, \"14\"], [0, \"14\"], [1, \"14\"], [0, \"14\"], [1, \"14\"], [0, \"14\"], [1, \"14\"], [0, \"14\"], [1, \"14\"], [0, \"14\"], [1, \"14\"], [0, \"14\"], [1, \"14\"], [0, \"14\"], [1, \"14\"], [0, \"14\"], [1, \"14\"], [0, \"14\"], [1, \"14\"], [0, \"14\"], [1, \"14\"], [0, \"14\"], [1, \"14\"], [0, \"14\"], [1, \"14\"], [0, \"14\"], [1, \"14\"], [0, \"14\"], [1, \"14\"], [0, \"14\"], [1, \"14\"], [0, \"14\"], [1, \"14\"], [0, \"14\"], [1, \"14\"], [0, \"14\"], [1, \"14\"], [0, \"14\"], [1, \"14\"], [0, \"14\"], [1, \"14\"], [0, \"14\"], [1, \"14\"], [0, \"14\"], [1, \"14\"], [0, \"14\"], [1, \"14\"], [0, \"14\"], [1, \"14\"], [0, \"14\"], [1, \"14\"], [0, \"14\"], [1, \"14\"], [0, \"14\"], [1, \"14\"], [1, \"14\"], [0, \"14\"], [1, \"14\"], [0, \"14\"], [1, \"14\"], [0, \"14\"], [1, \"14\"], [0, \"14\"], [1, \"14\"], [0, \"14\"], [1, \"14\"], [0, \"14\"], [1, \"14\"], [0, \"14\"], [1, \"14\"], [0, \"14\"], [1, \"14\"], [0, \"14\"], [1, \"14\"], [0, \"14\"], [1, \"14\"], [0, \"14\"], [1, \"14\"], [0, \"14\"], [1, \"14\"], [0, \"14\"], [1, \"14\"], [0, \"14\"], [1, \"14\"], [0, \"14\"], [1, \"14\"], [0, \"14\"], [1, \"14\"], [0, \"14\"], [1, \"14\"], [0, \"14\"], [1, \"14\"], [0, \"14\"], [1, \"14\"], [0, \"14\"], [1, \"14\"], [0, \"14\"], [1, \"14\"], [0, \"14\"], [1, \"14\"], [0, \"14\"], [1, \"14\"], [0, \"14\"], [1, \"14\"], [0, \"14\"], [1, \"14\"], [0, \"14\"], [1, \"14\"], [0, \"14\"], [1, \"14\"], [0, \"14\"], [1, \"14\"], [0, \"14\"], [1, \"14\"], [0, \"14\"], [1, \"14\"], [0, \"14\"], [1, \"14\"], [0, \"14\"], [1, \"14\"], [0, \"14\"], [1, \"14\"], [0, \"14\"], [1, \"14\"], [0, \"14\"], [1, \"14\"], [0, \"14\"], [1, \"14\"], [0, \"14\"], [1, \"14\"], [0, \"14\"], [1, \"14\"], [0, \"14\"], [1, \"14\"], [0, \"14\"], [1, \"14\"], [0, \"14\"], [1, \"14\"], [0, \"14\"], [1, \"14\"], [0, \"14\"], [1, \"14\"], [0, \"14\"], [1, \"14\"], [0, \"14\"], [1, \"14\"], [0, \"14\"], [1, \"14\"], [0, \"14\"], [1, \"14\"], [0, \"14\"], [1, \"14\"], [0, \"14\"], [1, \"14\"], [0, \"14\"], [1, \"14\"], [0, \"14\"], [1, \"14\"], [0, \"14\"], [1, \"14\"], [0, \"14\"], [1, \"14\"], [0, \"14\"], [1, \"14\"], [0, \"14\"], [1, \"14\"], [0, \"14\"], [1, \"14\"], [0, \"14\"], [1, \"14\"], [0, \"14\"], [1, \"14\"], [0, \"14\"], [1, \"14\"], [0, \"14\"], [1, \"14\"], [0, \"14\"], [1, \"14\"], [0, \"14\"], [1, \"14\"], [0, \"14\"], [1, \"14\"], [0, \"14\"], [0, \"14\"], [1, \"14\"], [0, \"14\"], [1, \"14\"], [0, \"14\"], [0, \"14\"], [1, \"14\"], [0, \"14\"], [1, \"14\"], [0, \"14\"], [1, \"14\"], [0, \"14\"], [1, \"14\"], [0, \"14\"], [1, \"14\"], [0, \"14\"], [1, \"14\"], [0, \"14\"], [1, \"14\"], [1, \"14\"], [1, \"14\"], [0, \"14\"], [1, \"14\"], [0, \"14\"], [1, \"14\"], [0, \"14\"], [1, \"14\"], [0, \"14\"], [1, \"14\"], [0, \"14\"], [1, \"14\"], [0, \"14\"], [1, \"14\"], [0, \"14\"], [1, \"14\"], [0, \"14\"], [1, \"14\"], [0, \"14\"], [1, \"14\"], [0, \"14\"], [1, \"14\"], [0, \"14\"], [0, \"14\"], [1, \"14\"], [0, \"14\"], [0, \"14\"], [1, \"14\"], [0, \"14\"], [1, \"14\"], [0, \"14\"], [1, \"14\"], [0, \"14\"], [1, \"14\"], [0, \"14\"], [1, \"14\"], [0, \"14\"], [1, \"14\"], [0, \"14\"], [1, \"14\"], [0, \"14\"], [1, \"14\"], [0, \"14\"], [1, \"14\"], [0, \"14\"], [1, \"14\"], [0, \"14\"], [0, \"14\"], [1, \"14\"], [0, \"14\"], [1, \"14\"], [0, \"14\"], [1, \"14\"], [0, \"14\"], [1, \"14\"], [0, \"14\"], [1, \"14\"], [0, \"14\"], [1, \"14\"], [0, \"14\"], [1, \"14\"], [0, \"14\"], [1, \"14\"], [0, \"14\"], [0, \"14\"], [1, \"14\"], [0, \"14\"], [1, \"14\"], [0, \"14\"], [1, \"14\"], [0, \"14\"], [1, \"14\"], [0, \"14\"], [1, \"14\"], [0, \"14\"], [0, \"14\"], [1, \"14\"], [0, \"14\"], [1, \"14\"], [0, \"14\"], [1, \"14\"], [0, \"14\"], [1, \"14\"], [0, \"14\"], [1, \"14\"], [0, \"14\"], [1, \"14\"], [0, \"14\"], [1, \"14\"], [0, \"14\"], [1, \"14\"], [0, \"14\"], [1, \"14\"], [0, \"14\"], [1, \"14\"], [0, \"14\"], [1, \"14\"], [0, \"14\"], [1, \"14\"], [0, \"14\"], [1, \"14\"], [0, \"14\"], [1, \"14\"], [0, \"14\"], [1, \"14\"], [0, \"14\"], [1, \"14\"], [0, \"14\"], [1, \"14\"], [0, \"14\"], [1, \"14\"], [0, \"14\"], [1, \"14\"], [0, \"14\"], [1, \"14\"], [0, \"14\"], [1, \"14\"], [0, \"14\"], [1, \"14\"], [0, \"14\"], [1, \"14\"], [0, \"14\"], [1, \"14\"], [0, \"14\"], [1, \"14\"], [0, \"14\"], [1, \"14\"], [0, \"14\"], [1, \"14\"], [0, \"14\"], [1, \"14\"], [0, \"14\"], [1, \"14\"], [0, \"14\"], [1, \"14\"], [0, \"14\"], [1, \"14\"], [0, \"14\"], [1, \"14\"], [0, \"14\"], [1, \"14\"], [0, \"14\"], [1, \"14\"], [0, \"14\"], [1, \"14\"], [0, \"14\"], [1, \"14\"], [0, \"14\"], [1, \"14\"], [0, \"14\"], [1, \"14\"], [0, \"14\"], [1, \"14\"], [0, \"14\"], [1, \"14\"], [0, \"14\"], [1, \"14\"], [0, \"14\"], [1, \"14\"], [0, \"14\"], [1, \"14\"], [0, \"14\"], [1, \"14\"], [0, \"14\"], [1, \"14\"], [0, \"14\"], [1, \"14\"], [0, \"14\"], [1, \"14\"], [0, \"14\"], [1, \"14\"], [0, \"14\"], [1, \"14\"], [0, \"14\"], [1, \"14\"], [0, \"14\"], [1, \"14\"], [0, \"14\"], [1, \"14\"], [0, \"14\"], [1, \"14\"], [0, \"14\"], [1, \"14\"], [0, \"14\"], [1, \"14\"], [0, \"14\"], [1, \"14\"], [0, \"14\"], [1, \"14\"], [0, \"14\"], [1, \"14\"], [0, \"14\"], [1, \"14\"], [0, \"14\"], [1, \"14\"], [0, \"14\"], [1, \"14\"], [0, \"14\"], [1, \"14\"], [0, \"14\"], [1, \"14\"], [0, \"14\"], [1, \"14\"], [0, \"14\"], [1, \"14\"], [0, \"14\"], [1, \"14\"], [0, \"14\"], [1, \"14\"], [0, \"14\"], [1, \"14\"], [0, \"14\"], [1, \"14\"], [0, \"14\"], [1, \"14\"], [0, \"14\"], [1, \"14\"], [0, \"14\"], [0, \"14\"], [1, \"14\"], [0, \"14\"], [1, \"14\"], [0, \"14\"], [1, \"14\"], [0, \"14\"], [1, \"14\"], [0, \"14\"], [1, \"14\"], [0, \"14\"], [1, \"14\"], [0, \"14\"], [1, \"14\"], [0, \"14\"], [1, \"14\"], [0, \"14\"], [1, \"14\"], [0, \"14\"], [1, \"14\"], [0, \"14\"], [1, \"14\"], [0, \"14\"], [1, \"14\"], [0, \"14\"], [1, \"14\"], [0, \"14\"], [1, \"14\"], [0, \"14\"], [1, \"14\"], [0, \"14\"], [1, \"14\"], [0, \"14\"], [1, \"14\"], [0, \"14\"], [1, \"14\"], [0, \"14\"], [1, \"14\"], [0, \"14\"], [1, \"14\"], [0, \"14\"], [1, \"14\"], [0, \"14\"], [1, \"14\"], [0, \"14\"], [1, \"14\"], [0, \"14\"], [1, \"14\"], [0, \"14\"], [1, \"14\"], [0, \"14\"], [1, \"14\"], [0, \"14\"], [1, \"14\"], [0, \"14\"], [1, \"14\"], [0, \"14\"], [1, \"14\"], [0, \"14\"], [1, \"14\"], [0, \"14\"], [1, \"14\"], [0, \"14\"], [1, \"14\"], [0, \"14\"], [1, \"14\"], [0, \"14\"], [1, \"14\"], [0, \"14\"], [1, \"14\"], [0, \"14\"], [1, \"14\"], [0, \"14\"], [1, \"14\"], [0, \"14\"], [1, \"14\"], [0, \"14\"], [1, \"14\"], [0, \"14\"], [1, \"14\"], [0, \"14\"], [1, \"14\"], [0, \"14\"], [1, \"14\"], [0, \"14\"], [1, \"14\"], [0, \"14\"], [1, \"14\"], [0, \"14\"], [1, \"14\"], [0, \"14\"], [1, \"14\"], [0, \"14\"], [1, \"14\"], [0, \"14\"], [0, \"14\"], [0, \"14\"], [0, \"14\"], [1, \"14\"], [0, \"14\"], [1, \"14\"], [0, \"14\"], [1, \"14\"], [0, \"14\"], [0, \"14\"], [1, \"14\"], [0, \"14\"], [0, \"14\"], [1, \"14\"], [0, \"14\"], [1, \"14\"], [0, \"14\"], [1, \"14\"], [0, \"14\"], [0, \"14\"], [0, \"14\"], [1, \"14\"], [0, \"14\"], [1, \"14\"], [0, \"14\"], [1, \"14\"], [0, \"14\"], [1, \"14\"], [0, \"14\"], [1, \"14\"], [0, \"14\"], [1, \"14\"], [0, \"14\"], [1, \"14\"], [0, \"14\"], [1, \"14\"], [0, \"14\"], [1, \"14\"], [0, \"14\"], [1, \"14\"], [0, \"14\"], [1, \"14\"], [0, \"14\"], [1, \"14\"], [0, \"14\"], [1, \"14\"], [0, \"14\"], [1, \"14\"], [1, \"14\"], [0, \"14\"], [0, \"14\"], [1, \"14\"], [0, \"14\"], [1, \"14\"], [0, \"14\"], [1, \"14\"], [0, \"14\"], [1, \"14\"], [0, \"14\"], [1, \"14\"], [0, \"14\"], [1, \"14\"], [0, \"14\"], [1, \"14\"], [0, \"14\"], [1, \"14\"], [0, \"14\"], [1, \"14\"], [0, \"14\"], [1, \"14\"]], \"hoverlabel\": {\"namelength\": 0}, \"hovertemplate\": \"<b>%{hovertext}</b><br><br>cluster=%{customdata[1]}<br>vSegDir=%{customdata[0]}<br>longitude=%{lat}<br>latitude=%{lon}\", \"hovertext\": [100.0, 100.0, 101.0, 101.0, 102.0, 102.0, 104.0, 104.0, 10.0, 1118.0, 111.0, 111.0, 113.0, 113.0, 114.0, 114.0, 115.0, 115.0, 116.0, 116.0, 1172.0, 1172.0, 117.0, 117.0, 1181.0, 1181.0, 1187.0, 1187.0, 1188.0, 1188.0, 1189.0, 1189.0, 118.0, 118.0, 119.0, 119.0, 11.0, 120.0, 120.0, 121.0, 121.0, 122.0, 122.0, 123.0, 123.0, 124.0, 124.0, 125.0, 125.0, 126.0, 126.0, 127.0, 127.0, 128.0, 128.0, 129.0, 129.0, 12.0, 130.0, 130.0, 131.0, 131.0, 132.0, 132.0, 133.0, 133.0, 134.0, 134.0, 135.0, 135.0, 136.0, 136.0, 137.0, 137.0, 138.0, 138.0, 13.0, 1427.0, 1428.0, 1429.0, 1430.0, 1430.0, 1431.0, 1431.0, 1432.0, 1432.0, 1433.0, 1433.0, 1434.0, 1434.0, 1435.0, 1435.0, 1436.0, 1436.0, 1437.0, 1437.0, 1438.0, 1438.0, 1439.0, 1439.0, 1440.0, 1440.0, 1441.0, 1441.0, 14.0, 1697.0, 1697.0, 1700.0, 1703.0, 1703.0, 1716.0, 1716.0, 1730.0, 1730.0, 1734.0, 1734.0, 1736.0, 1736.0, 1740.0, 1741.0, 1745.0, 1745.0, 1746.0, 1746.0, 1747.0, 1747.0, 1748.0, 1748.0, 1749.0, 1749.0, 1750.0, 1750.0, 1751.0, 1751.0, 1753.0, 1753.0, 1754.0, 1754.0, 1755.0, 1755.0, 1756.0, 1756.0, 1757.0, 1757.0, 1760.0, 1761.0, 1761.0, 1762.0, 1762.0, 1765.0, 1765.0, 1766.0, 1769.0, 1774.0, 1774.0, 1775.0, 1775.0, 1777.0, 1777.0, 1778.0, 1778.0, 1779.0, 1779.0, 177.0, 177.0, 1780.0, 1788.0, 1788.0, 1789.0, 1789.0, 1793.0, 1793.0, 1829.0, 1829.0, 182.0, 182.0, 1830.0, 1830.0, 1831.0, 1832.0, 1832.0, 1833.0, 1833.0, 1834.0, 1834.0, 1835.0, 1835.0, 1836.0, 1836.0, 1837.0, 1837.0, 1838.0, 1838.0, 1839.0, 1839.0, 1840.0, 1840.0, 1841.0, 1841.0, 1842.0, 1842.0, 1843.0, 1843.0, 1844.0, 1844.0, 1845.0, 1845.0, 1846.0, 1846.0, 1847.0, 1847.0, 1848.0, 1848.0, 1851.0, 1851.0, 1852.0, 1852.0, 1853.0, 1854.0, 1854.0, 1855.0, 1855.0, 1856.0, 1856.0, 1857.0, 1857.0, 1858.0, 1858.0, 1859.0, 1859.0, 1860.0, 1860.0, 1861.0, 1861.0, 1862.0, 1862.0, 1863.0, 1863.0, 1864.0, 1864.0, 1865.0, 1865.0, 1866.0, 1866.0, 1867.0, 1867.0, 1868.0, 1868.0, 1869.0, 1869.0, 186.0, 186.0, 1870.0, 1870.0, 1871.0, 1871.0, 1872.0, 1872.0, 1873.0, 1873.0, 1874.0, 1874.0, 1875.0, 1875.0, 1876.0, 1876.0, 1877.0, 1877.0, 1878.0, 1878.0, 1879.0, 1879.0, 187.0, 187.0, 1880.0, 1880.0, 1881.0, 1881.0, 1882.0, 1882.0, 1883.0, 1883.0, 1884.0, 1884.0, 1885.0, 1885.0, 1886.0, 1886.0, 1887.0, 1887.0, 1888.0, 1888.0, 1889.0, 1889.0, 188.0, 188.0, 1890.0, 1890.0, 1891.0, 1891.0, 1892.0, 1892.0, 1893.0, 1893.0, 1894.0, 1894.0, 1895.0, 1895.0, 1896.0, 1896.0, 1897.0, 1897.0, 1898.0, 1898.0, 1899.0, 1899.0, 189.0, 189.0, 1900.0, 1900.0, 1901.0, 1901.0, 1902.0, 1902.0, 1903.0, 1903.0, 1904.0, 1904.0, 1905.0, 1905.0, 1906.0, 1906.0, 1907.0, 1907.0, 1908.0, 1908.0, 1909.0, 1909.0, 190.0, 190.0, 1914.0, 1914.0, 1915.0, 1915.0, 1916.0, 1916.0, 1917.0, 1917.0, 1919.0, 1919.0, 1920.0, 1920.0, 1921.0, 1921.0, 1922.0, 1922.0, 1923.0, 1923.0, 1924.0, 1924.0, 1925.0, 1925.0, 1926.0, 1926.0, 192.0, 192.0, 1942.0, 1944.0, 1945.0, 1946.0, 1954.0, 1954.0, 195.0, 195.0, 1965.0, 1965.0, 1966.0, 1966.0, 1967.0, 1967.0, 196.0, 196.0, 197.0, 197.0, 201.0, 201.0, 202.0, 202.0, 203.0, 203.0, 204.0, 204.0, 205.0, 205.0, 2079.0, 2080.0, 2081.0, 2082.0, 2084.0, 2085.0, 2086.0, 2087.0, 2088.0, 2089.0, 2090.0, 2091.0, 2092.0, 2092.0, 2093.0, 2093.0, 2094.0, 2094.0, 2095.0, 2095.0, 2096.0, 2096.0, 2097.0, 2097.0, 2098.0, 2098.0, 2099.0, 2099.0, 2100.0, 2101.0, 2102.0, 2104.0, 210.0, 211.0, 212.0, 212.0, 213.0, 213.0, 214.0, 215.0, 215.0, 216.0, 216.0, 217.0, 217.0, 219.0, 219.0, 21.0, 21.0, 241.0, 244.0, 245.0, 246.0, 248.0, 248.0, 24.0, 24.0, 250.0, 250.0, 251.0, 251.0, 252.0, 252.0, 253.0, 253.0, 254.0, 254.0, 255.0, 255.0, 256.0, 256.0, 257.0, 257.0, 258.0, 258.0, 259.0, 259.0, 25.0, 25.0, 260.0, 261.0, 261.0, 262.0, 262.0, 263.0, 263.0, 264.0, 264.0, 265.0, 265.0, 266.0, 266.0, 267.0, 267.0, 270.0, 270.0, 278.0, 279.0, 280.0, 281.0, 282.0, 288.0, 290.0, 292.0, 293.0, 293.0, 300.0, 301.0, 308.0, 308.0, 309.0, 309.0, 30.0, 30.0, 310.0, 310.0, 311.0, 311.0, 312.0, 312.0, 313.0, 313.0, 314.0, 314.0, 315.0, 315.0, 316.0, 316.0, 317.0, 317.0, 318.0, 318.0, 319.0, 319.0, 31.0, 31.0, 320.0, 320.0, 321.0, 321.0, 322.0, 322.0, 323.0, 323.0, 324.0, 324.0, 325.0, 325.0, 326.0, 326.0, 327.0, 327.0, 328.0, 328.0, 329.0, 329.0, 330.0, 330.0, 331.0, 331.0, 332.0, 332.0, 333.0, 333.0, 334.0, 334.0, 335.0, 335.0, 336.0, 336.0, 337.0, 337.0, 338.0, 338.0, 339.0, 339.0, 340.0, 340.0, 341.0, 341.0, 342.0, 342.0, 37.0, 37.0, 380.0, 380.0, 381.0, 381.0, 382.0, 382.0, 387.0, 387.0, 388.0, 388.0, 389.0, 389.0, 38.0, 38.0, 390.0, 390.0, 391.0, 391.0, 392.0, 392.0, 393.0, 393.0, 394.0, 394.0, 395.0, 395.0, 396.0, 396.0, 397.0, 397.0, 399.0, 3.0, 3.0, 400.0, 401.0, 402.0, 403.0, 403.0, 404.0, 404.0, 405.0, 405.0, 406.0, 406.0, 407.0, 407.0, 408.0, 408.0, 409.0, 409.0, 410.0, 410.0, 411.0, 411.0, 412.0, 412.0, 413.0, 413.0, 414.0, 414.0, 415.0, 415.0, 416.0, 416.0, 417.0, 417.0, 418.0, 418.0, 419.0, 419.0, 420.0, 420.0, 421.0, 421.0, 422.0, 422.0, 423.0, 423.0, 424.0, 424.0, 425.0, 425.0, 426.0, 426.0, 427.0, 427.0, 428.0, 428.0, 429.0, 429.0, 42.0, 430.0, 430.0, 431.0, 431.0, 432.0, 432.0, 433.0, 433.0, 434.0, 434.0, 435.0, 435.0, 436.0, 436.0, 437.0, 437.0, 440.0, 440.0, 441.0, 441.0, 442.0, 442.0, 443.0, 443.0, 444.0, 444.0, 445.0, 445.0, 446.0, 446.0, 447.0, 447.0, 448.0, 448.0, 449.0, 449.0, 450.0, 450.0, 451.0, 451.0, 452.0, 452.0, 453.0, 453.0, 454.0, 454.0, 455.0, 455.0, 456.0, 456.0, 457.0, 457.0, 458.0, 458.0, 459.0, 459.0, 460.0, 460.0, 461.0, 461.0, 462.0, 462.0, 463.0, 463.0, 464.0, 464.0, 465.0, 465.0, 466.0, 466.0, 467.0, 467.0, 468.0, 468.0, 469.0, 469.0, 470.0, 470.0, 471.0, 471.0, 472.0, 472.0, 475.0, 475.0, 476.0, 476.0, 477.0, 477.0, 478.0, 478.0, 479.0, 479.0, 480.0, 480.0, 481.0, 481.0, 482.0, 482.0, 483.0, 483.0, 484.0, 484.0, 485.0, 485.0, 486.0, 486.0, 487.0, 487.0, 489.0, 489.0, 490.0, 490.0, 491.0, 491.0, 492.0, 492.0, 493.0, 493.0, 494.0, 494.0, 495.0, 495.0, 496.0, 496.0, 497.0, 497.0, 498.0, 499.0, 499.0, 49.0, 49.0, 4.0, 502.0, 502.0, 503.0, 503.0, 504.0, 504.0, 505.0, 505.0, 506.0, 506.0, 507.0, 507.0, 508.0, 508.0, 509.0, 510.0, 511.0, 511.0, 512.0, 512.0, 513.0, 513.0, 514.0, 514.0, 518.0, 518.0, 519.0, 519.0, 51.0, 51.0, 520.0, 520.0, 521.0, 521.0, 523.0, 523.0, 524.0, 525.0, 525.0, 526.0, 527.0, 527.0, 529.0, 529.0, 52.0, 52.0, 530.0, 530.0, 545.0, 545.0, 549.0, 549.0, 551.0, 551.0, 552.0, 552.0, 553.0, 553.0, 554.0, 554.0, 555.0, 55.0, 55.0, 56.0, 56.0, 575.0, 575.0, 57.0, 57.0, 580.0, 580.0, 581.0, 581.0, 583.0, 583.0, 584.0, 584.0, 585.0, 586.0, 586.0, 587.0, 587.0, 588.0, 588.0, 58.0, 58.0, 59.0, 59.0, 5.0, 600.0, 600.0, 601.0, 601.0, 602.0, 602.0, 603.0, 603.0, 604.0, 604.0, 605.0, 605.0, 606.0, 606.0, 607.0, 607.0, 608.0, 608.0, 609.0, 609.0, 610.0, 610.0, 611.0, 611.0, 612.0, 612.0, 613.0, 613.0, 614.0, 614.0, 615.0, 615.0, 616.0, 616.0, 617.0, 617.0, 618.0, 618.0, 619.0, 619.0, 620.0, 620.0, 621.0, 621.0, 622.0, 622.0, 623.0, 623.0, 624.0, 624.0, 625.0, 625.0, 626.0, 626.0, 627.0, 627.0, 628.0, 628.0, 629.0, 629.0, 62.0, 62.0, 630.0, 630.0, 631.0, 631.0, 632.0, 632.0, 633.0, 633.0, 634.0, 634.0, 635.0, 635.0, 636.0, 636.0, 637.0, 637.0, 638.0, 638.0, 639.0, 639.0, 63.0, 63.0, 640.0, 640.0, 641.0, 641.0, 642.0, 642.0, 643.0, 643.0, 644.0, 644.0, 645.0, 645.0, 646.0, 646.0, 64.0, 64.0, 65.0, 65.0, 67.0, 67.0, 683.0, 683.0, 684.0, 684.0, 685.0, 685.0, 686.0, 686.0, 687.0, 687.0, 688.0, 688.0, 689.0, 689.0, 68.0, 68.0, 690.0, 690.0, 691.0, 691.0, 692.0, 692.0, 693.0, 693.0, 694.0, 694.0, 695.0, 695.0, 696.0, 696.0, 697.0, 697.0, 698.0, 698.0, 699.0, 699.0, 69.0, 69.0, 6.0, 700.0, 700.0, 701.0, 701.0, 702.0, 702.0, 703.0, 703.0, 704.0, 704.0, 705.0, 705.0, 706.0, 706.0, 707.0, 707.0, 708.0, 708.0, 709.0, 709.0, 70.0, 70.0, 710.0, 710.0, 711.0, 711.0, 712.0, 712.0, 713.0, 713.0, 714.0, 714.0, 715.0, 715.0, 716.0, 716.0, 717.0, 717.0, 718.0, 718.0, 719.0, 719.0, 71.0, 71.0, 720.0, 720.0, 721.0, 721.0, 722.0, 722.0, 723.0, 723.0, 724.0, 724.0, 725.0, 725.0, 726.0, 726.0, 727.0, 727.0, 728.0, 728.0, 729.0, 729.0, 72.0, 72.0, 730.0, 730.0, 731.0, 731.0, 732.0, 732.0, 733.0, 733.0, 734.0, 734.0, 735.0, 735.0, 736.0, 736.0, 737.0, 737.0, 738.0, 738.0, 739.0, 739.0, 73.0, 73.0, 740.0, 740.0, 741.0, 741.0, 742.0, 742.0, 743.0, 744.0, 745.0, 74.0, 74.0, 750.0, 750.0, 751.0, 751.0, 758.0, 75.0, 75.0, 76.0, 79.0, 79.0, 82.0, 82.0, 83.0, 83.0, 84.0, 85.0, 86.0, 871.0, 872.0, 872.0, 880.0, 880.0, 881.0, 881.0, 882.0, 882.0, 883.0, 883.0, 884.0, 884.0, 885.0, 885.0, 886.0, 886.0, 887.0, 887.0, 888.0, 888.0, 889.0, 889.0, 890.0, 890.0, 891.0, 891.0, 892.0, 89.0, 931.0, 931.0, 932.0, 932.0, 933.0, 933.0, 934.0, 934.0, 935.0, 935.0, 936.0, 936.0, 937.0, 937.0, 938.0, 938.0, 99.0, 99.0, 2083.0, 76.0], \"lat\": [41.0325301, 41.025294, 41.025396, 41.018156, 41.01822, 41.00946, 40.993921, 40.988264, 40.975771, 41.070453, 40.993022, 40.9846737, 40.9882619, 40.983808, 40.9839074, 40.9755626, 40.9756559, 40.9656375, 41.0885163, 41.0846541, 41.0173319, 41.0132728, 41.084505, 41.0763689, 41.018562, 41.018897, 41.008048, 41.016743, 41.003436, 41.008156, 40.998349, 41.003556, 41.0762452, 41.0673978, 41.063169, 41.058524, 40.970881, 41.058565, 41.049699, 41.049731, 41.0455719, 41.040834, 41.0364434, 41.031952, 41.022972, 41.022953, 41.013957, 41.013949, 41.005064, 41.005025, 40.99732720000001, 40.997293, 40.9885085, 40.988478, 40.9851961, 40.9849005, 40.983065, 40.9657506, 40.9829747, 40.9760544, 40.976209, 40.96482260000001, 41.0749619, 41.0709802, 41.0707456, 41.0630965, 41.0629935, 41.0542413, 41.0541508, 41.0452773, 41.045288, 41.040261, 41.03655870000001, 41.0330334, 41.0278344, 41.023907, 40.960525, 40.933212, 40.937431, 40.946637, 40.961273, 40.956337, 40.968337, 40.961411, 40.977124, 40.968336, 40.987102, 40.97704, 40.994528, 40.987122, 40.997073, 40.99465900000001, 41.00001500000001, 40.997203000000006, 41.004537, 41.000155, 41.007018, 41.004671, 41.010455, 41.007153, 41.01691, 41.010595, 41.026802, 41.016934, 40.9558413, 41.163935, 41.154326, 41.173972, 41.011812, 41.0063815, 41.045456, 41.0492528, 41.02864, 41.037869, 41.037835, 41.045423, 41.02291629999999, 41.018454, 41.014521, 41.007171, 41.0671546, 41.0670737, 41.0665548, 41.0673205, 41.06652070000001, 41.0667734, 41.0916509, 41.0921575, 41.0904012, 41.087271, 41.0662964, 41.0626204, 40.98829600000001, 40.988279, 41.01576, 41.015975, 41.018919, 41.014376, 41.0473725, 41.05159370000001, 41.072088, 41.0651519, 41.014463, 41.009327, 41.011545, 40.9949971, 40.997078, 41.01906500000001, 41.022797, 41.024773, 41.021212, 41.018714, 41.101742, 41.01896, 41.018435, 41.0640585, 41.0607499, 41.055088, 41.05767700000001, 41.058329, 41.0527076, 40.9755076, 40.97450300000001, 41.0815876, 41.0730731, 40.977547, 41.0473545, 41.0428886, 41.0207299, 41.01745579999999, 41.0635218, 41.0620327, 41.063072, 41.0699639, 41.038938, 41.0349045, 41.070021, 41.0797652, 41.0798284, 41.09004520000001, 41.0994607, 41.0993846, 41.1078186, 41.1077914, 41.1170803, 41.1170908, 41.1248904, 41.1250729, 41.13227, 41.1323548, 41.1412919, 41.141341, 41.150704, 41.150657, 41.1572241, 41.15714970000001, 41.1672798, 41.1672636, 41.1760887, 41.176007, 41.18359270000001, 41.18342420000001, 41.1918959, 41.19184050000001, 41.20028410000001, 41.2003878, 41.2095529, 41.2094903, 41.2154062, 41.2151988, 41.2215277, 41.2214294, 41.2299086, 41.237652, 41.23808, 41.23794, 41.2356438, 41.235446, 41.23102, 41.2298132, 41.229582, 41.2326768, 41.232479, 41.2352292, 41.235013, 41.2355938, 41.235414, 41.23544370000001, 41.235229, 41.233978, 41.233819, 41.231367, 41.231232, 41.230852, 41.230714, 41.232755, 41.232616, 41.232733, 41.232601, 41.22884000000001, 41.228709, 41.22471, 41.224578, 41.221491, 41.221352, 41.221659, 41.221525, 41.225525, 41.225387, 41.226103, 41.04796500000001, 41.039465, 41.225963, 41.22595, 41.22581, 41.227012, 41.226872, 41.227203, 41.227064, 41.223709, 41.223581, 41.21700300000001, 41.216892, 41.21083, 41.21071, 41.206799, 41.2065692, 41.202534, 41.2022999, 41.198706, 41.1985176, 41.19721, 41.0395014, 41.0308013, 41.1964646, 41.1980624, 41.1978474, 41.19874650000001, 41.1985475, 41.1978433, 41.19764, 41.19710560000001, 41.1969031, 41.19319779999999, 41.19305070000001, 41.191089, 41.19086420000001, 41.190255, 41.190062, 41.1868438, 41.1866895, 41.1843753, 41.1841835, 41.1810034, 41.0308349, 41.02302750000001, 41.180841, 41.174675, 41.174408, 41.168838, 41.168646, 41.161772, 41.16162720000001, 41.155082, 41.1549704, 41.1473285, 41.1472077, 41.1416725, 41.14157410000001, 41.1330624, 41.1331653, 41.1228585, 41.122953, 41.11340429999999, 41.113315, 41.1034185, 41.0231099, 41.0143476, 41.1034823, 41.094266, 41.094326, 41.08446729999999, 41.084527, 41.07564179999999, 41.07575900000001, 41.0658296, 41.06585, 41.0554602, 41.0554631, 41.0451108, 41.0450993, 41.03530470000001, 41.0355156, 41.02614000000001, 41.026191, 41.016147, 41.016084, 41.00757700000001, 41.0143569, 41.0054732, 41.0492659, 41.049481, 41.049341, 41.049917, 41.0497436, 41.0513418, 41.0510977, 41.055195, 41.0553831, 41.0498824, 41.049746, 41.0441983, 41.0440424, 41.043084, 41.04287539999999, 41.04555, 41.0453438, 41.04629600000001, 41.0460967, 41.045077, 41.0448491, 41.0470539, 41.0468764, 41.0504723, 41.022349, 41.0260701, 41.025987, 41.0445623, 41.050132, 41.0544868, 41.1213945, 41.123159, 41.04089000000001, 41.0373006, 41.1840769, 41.1901217, 41.1899688, 41.1963667, 41.1963386, 41.205435, 41.0360309, 41.02997979999999, 41.030024, 41.025768, 41.067517, 41.0639008, 41.0608511, 41.0537399, 41.05393, 41.0461458, 41.0459666, 41.0383765, 41.038301, 41.0405063, 40.988108, 40.989825, 41.001901, 40.997579, 41.00153, 41.001732, 41.001226, 41.003884, 41.003374, 41.00315300000001, 41.002522, 41.002133, 41.001688, 41.001318, 41.001176, 41.002511, 41.002412, 41.003516, 41.00339, 41.002096, 41.00199600000001, 41.002184, 41.002078, 41.005324, 41.005194, 41.005595, 41.005484, 41.0048372, 41.004681, 41.0059053, 41.0052056, 41.00419, 41.09098400000001, 41.0850467, 41.0851625, 41.077153, 41.0772105, 41.0693093, 41.0694771, 41.0950138, 41.0864187, 41.0863544, 41.0775935, 41.0778658, 41.068691, 41.0597514, 41.056043, 40.889836, 40.881738, 40.9945368, 40.993024, 41.0248009, 41.0238591, 40.9919944, 40.983615, 40.87413, 40.869604, 41.1766847, 41.1696282, 41.169491, 41.1601784, 41.16005670000001, 41.1512465, 41.1512224, 41.142367, 41.1422278, 41.1380848, 41.1379559, 41.135047, 41.13491, 41.129953, 41.1298885, 41.1196251, 41.1195786, 41.10964600000001, 41.109564, 41.10132720000001, 40.869744, 40.867011, 41.02115300000001, 41.016099, 41.013848, 41.0137235, 41.0160165, 41.0157922, 41.021421, 41.0212474, 41.0251501, 41.02502379999999, 41.02715120000001, 41.0270114, 41.0278424, 41.0277191, 41.0281033, 40.913342, 40.914688, 41.0139009, 41.006265, 41.005077, 40.9972044, 40.996796, 41.023997, 41.0672915, 41.0637343, 41.0578749, 41.0546966, 41.058501, 41.0515099, 41.00445300000001, 41.002372, 41.002236, 40.999591, 40.975622, 40.967936, 40.999459, 40.995642, 40.99551, 40.9914344, 40.991414, 40.9875606, 40.987351, 40.9813084, 40.9812175, 40.973315, 40.973178, 40.9651314, 40.965025, 40.957967, 40.957863, 40.951106, 40.950999, 40.944568, 40.944459, 40.937978, 40.967878000000006, 40.959307, 40.937869, 40.93143900000001, 40.93133, 40.925024, 40.924904, 40.92141, 40.921276, 40.918114, 40.91798, 40.914716, 40.914582, 40.911263, 40.911129, 40.907769, 40.907638, 40.902427, 40.902309, 40.896593, 40.896475, 40.890703, 40.890585, 40.884881, 40.884764, 40.880568, 40.880431, 40.875915, 40.875825, 40.868594, 40.86849, 40.861726, 40.861608, 40.857332, 40.857208, 40.850855, 40.850747, 40.84481, 40.844682, 40.840157, 40.840029, 40.835503, 40.835375, 40.830919, 40.830791, 40.826347, 40.826219, 40.821634, 40.919129, 40.91019, 41.053896, 41.0509137, 41.050817, 41.0478262, 41.047758, 41.0447609, 41.031049, 41.026519, 41.026452, 41.0219151, 41.0219335, 41.0173513, 40.910198, 40.906106, 41.0172755, 41.012769, 41.012688, 41.0081554, 41.0080904, 41.0078236, 41.007711, 41.010348, 41.0102614, 41.01288579999999, 41.0127956, 41.0154369, 41.0153351, 41.017961, 41.0178503, 41.0195705, 41.0243179, 40.9898424, 40.9809425, 41.02588239999999, 41.0259855, 41.0217134, 41.021567, 41.0169717, 41.01676370000001, 41.0129369, 41.01266939999999, 41.0089461, 41.0086932, 41.0061705, 41.005949, 41.005648, 41.00542700000001, 41.000196, 41.0000889, 40.997664, 40.997544, 40.992153, 40.992032, 40.98669, 40.986569, 40.981172, 40.981051, 40.977474, 40.977334, 40.980386, 40.980254, 40.984181, 40.984049, 40.9866098, 40.9864145, 40.985873, 40.9853414, 40.991334, 40.991229, 40.99904, 40.9988679, 40.999776, 40.9996393, 40.993647, 40.993511, 40.992717, 40.992499, 40.992033, 40.99183970000001, 40.9923819, 40.9922119, 40.9952148, 40.99683579999999, 40.998875, 40.99867, 41.002142, 41.0019948, 41.00721400000001, 41.00711920000001, 41.013169, 41.03252970000001, 41.013052, 41.01882, 41.018699, 41.028786, 41.0283639, 41.0352343, 41.0351452, 41.042122, 41.0419854, 41.047595, 41.0513571, 41.054649, 41.0533585, 41.0609532, 41.0608913, 41.0667219, 41.0666177, 41.0670222, 41.06260200000001, 41.0584, 41.0582566, 41.0531853, 41.053088, 41.0460156, 41.045859, 41.0387419, 41.038556, 41.0300025, 41.030039, 41.0229701, 41.0183004, 41.0146317, 41.0144568, 41.0118482, 41.0016283, 40.99716770000001, 40.9973223, 40.993217, 40.993362, 40.9890227, 41.061675, 41.065106, 41.064978, 41.069135, 41.06895170000001, 41.0754955, 41.075173, 41.083472, 41.08337, 41.089181, 41.089053, 41.091312, 41.091172, 41.091085, 41.090945, 41.09416, 41.0939433, 41.0939943, 41.0938224, 41.0917696, 41.0915815, 41.0964931, 41.09640170000001, 41.0998141, 41.0996615, 41.09997120000001, 41.0998191, 41.1009121, 41.1008231, 41.1018256, 41.1016518, 41.098885, 41.0988149, 41.095251, 41.0950338, 41.0923122, 41.0919426, 41.0908291, 41.0906019, 41.0910866, 41.0909433, 41.091892, 41.0870382, 41.0828616, 41.0780085, 41.07463679999999, 41.0745149, 41.0711191, 41.067382, 41.06407760000001, 41.060195, 41.0562851, 41.0518507, 41.0473757, 41.0384183, 41.033908, 41.033911, 41.029376, 41.024911, 41.0204324, 41.015923, 41.0114162, 41.006965, 41.00252620000001, 40.998487, 40.9944795, 40.9909305, 40.9872106, 41.0590006, 41.0564896, 41.0563515, 41.0549025, 41.05380820000001, 41.0505593, 41.050441, 41.0460252, 41.0458128, 41.04417, 41.044035, 41.040952, 41.04081400000001, 41.03843300000001, 41.038311, 41.0304256, 41.030585, 41.0248125, 41.021094, 41.01745, 41.013965, 41.0869277, 41.0889613, 40.98083, 40.9653468, 40.9639971, 40.9639074, 40.96316420000001, 40.9632644, 40.9643239, 40.968207, 40.9699945, 40.9727598, 40.9761954, 40.976332, 40.97568320000001, 40.974342, 40.9748634, 40.97988970000001, 40.980298, 40.980178, 40.982982, 40.982851, 40.988457, 40.989705, 40.992794, 40.992643, 40.99771, 41.001851, 41.002147, 41.002009, 41.00793, 41.1330986, 41.1259708, 41.00787, 41.015647, 41.016116, 41.017665, 41.02285300000001, 41.027963, 41.028095, 41.033868, 41.040424, 41.040554, 41.0481477, 41.0557162, 41.061567, 41.07006320000001, 41.1258542, 41.1194014, 41.0701046, 41.0738117, 41.0839576, 41.0793309, 41.0586307, 41.0516284, 41.0461782, 41.0435906, 41.042308, 41.040304600000006, 41.04029370000001, 41.0334482, 41.0336138, 41.0279707, 41.0257294, 41.1081178, 41.1041991, 41.1043029, 41.09552160000001, 41.0393064, 41.0349667, 41.0958505, 41.0888888, 40.951437, 40.944919, 40.94478, 40.938235, 40.930507, 40.922881, 40.922793, 40.915099, 40.915025, 40.907113, 40.902228, 40.902088, 40.899623, 40.899497, 40.894593, 41.0804807, 41.0889965, 41.0888568, 41.092135999999996, 40.9742725, 41.0223633, 41.0239115, 41.0238093, 41.02043, 41.0203451, 41.0227053, 41.02262879999999, 41.02908920000001, 41.02896550000001, 41.030782, 41.030645, 41.02920200000001, 41.029065, 41.030486, 41.030354, 41.028419, 41.028295, 41.034056, 41.0338157, 41.03662050000001, 41.0364297, 41.03486, 41.03468170000001, 41.02965510000001, 41.029717100000006, 41.022689, 41.02255200000001, 41.0162467, 41.0060031, 41.0070148, 41.0069531, 41.0095651, 41.0094479, 41.005597, 41.0055308, 40.99922, 40.999105, 40.995829, 40.995689, 40.996961999999996, 40.9967433, 40.99618, 40.9960874, 40.994768, 40.9945569, 40.9938, 40.9937066, 40.991261, 40.991097, 40.9905191, 40.9897938, 40.9871483, 40.9837333, 40.982418, 40.982278, 40.979239, 40.979109, 40.976222, 40.976082, 40.975905, 41.050658, 41.05521, 40.975765, 40.972858, 40.972726, 40.970515, 40.970377, 40.964861, 40.964753, 40.959893, 40.959763, 40.955011999999996, 40.95489, 40.95062, 40.950496, 40.944975, 40.944857, 40.94040800000001, 40.940278, 40.935348, 40.935222, 40.931047, 41.065418, 41.0583103, 40.930929, 40.923598, 40.923551, 40.915086, 40.91500900000001, 40.90766, 40.907558, 40.900175, 40.900111, 40.89176, 40.89169, 40.884094, 40.883991, 40.87768300000001, 41.052829, 41.047653, 41.047638, 41.042321, 41.148944, 41.1398967, 41.122259, 41.118508, 41.118386, 41.11303, 41.112908, 41.108195, 41.108062, 41.10642100000001, 41.106281, 41.106379, 41.106239, 41.104675, 41.104538, 41.102202, 41.139964, 41.1317037, 41.102065, 41.10048, 41.10034, 41.099322, 41.099182, 41.09699000000001, 41.096857, 41.091463, 41.091357, 41.083846, 41.083762, 41.076218, 41.076115, 41.070094, 41.069964, 41.066957, 41.0668676, 41.0634223, 41.0633068, 41.05812, 41.1318451, 41.1228625, 40.968029, 41.057986, 41.055074, 41.0549589, 41.05116339999999, 41.051048, 41.05176210000001, 41.0515283, 41.056328, 41.056088, 41.058563, 41.0583319, 41.05934970000001, 41.059167, 41.06077, 41.0605685, 41.066097, 41.0659841, 41.074389, 41.074345, 41.083387, 41.1228908, 41.1139717, 41.08336420000001, 41.091992, 41.0919808, 41.0989239, 41.09887020000001, 41.1038289, 41.1036952, 41.1063944, 41.106251, 41.10648670000001, 41.1063495, 41.1061265, 41.1060048, 41.10683220000001, 41.1066495, 41.1049374, 41.104778, 41.1028312, 41.10264229999999, 41.100868, 41.1138828, 41.1079818, 41.1006811, 41.0974759, 41.09727, 41.0919816, 41.091851, 41.085005, 41.084909, 41.0776079, 41.0775161, 41.0695636, 41.0695099, 41.061411, 41.061311, 41.05571, 41.055578, 41.0539569, 41.0537956, 41.0563657, 41.056281, 41.059207, 41.1080586, 41.1061467, 41.059069, 41.057424, 41.057292, 41.054534, 41.054394, 41.057311, 41.057197, 41.062054, 41.061914, 41.0611008, 41.0609205, 41.062434, 41.06221710000001, 41.0623266, 41.06215260000001, 41.064017, 41.0638228, 41.063729, 41.06183720000001, 41.0613732, 41.0993732, 41.094526, 41.0611777, 41.06352, 41.063382, 41.064018, 41.06388, 41.061805, 41.0665771, 41.07217720000001, 41.0766302, 41.094544, 41.0858737, 41.0278821, 41.0257527, 41.023871, 41.0278885, 41.015348, 41.0818288, 41.078281, 41.0781112, 41.108471, 41.109824, 41.022475, 41.018858, 41.009308, 41.003437, 41.089803, 41.0862787, 41.07896450000001, 41.1088289, 41.08997700000001, 41.098543, 41.1759419, 41.180989, 41.1694499, 41.17389, 41.163588, 41.1692715, 41.1602584, 41.1635119, 41.153903, 41.1600969, 41.1464528, 41.1539879, 41.1409758, 41.1462273, 41.1363092, 41.1408415, 41.13596550000001, 41.136125, 41.1290461, 41.1357759, 41.123535, 41.1288613, 41.1159529, 41.123347, 41.1159342, 41.061461, 41.229617, 41.232835, 41.2210409, 41.229515, 41.2109638, 41.2209644, 41.2067339, 41.2109718, 41.2016708, 41.2065629, 41.195514, 41.201524, 41.1851746, 41.19546679999999, 41.1768217, 41.18513170000001, 41.040595, 41.0324449, 40.998055, 41.072672], \"legendgroup\": \"cluster=14\", \"lon\": [28.9365657, 28.92955, 28.929454, 28.922682000000002, 28.922559000000003, 28.921622, 28.920229, 28.919945, 29.051202000000004, 28.945864, 28.8876966, 28.8846768, 28.7939511, 28.801023, 28.8008835, 28.8051786, 28.805057300000005, 28.8066001, 28.8015873, 28.8046887, 28.900554600000003, 28.900002500000006, 28.804428, 28.8094946, 28.891812, 28.88318, 28.874745, 28.881094, 28.866082, 28.87466, 28.857683, 28.86601, 28.8092451, 28.8105184, 28.812013, 28.810823, 29.060985, 28.810689, 28.808344, 28.808208, 28.80805, 28.809407, 28.810762, 28.810634000000004, 28.811655, 28.811517, 28.812257, 28.812117, 28.814061, 28.813927000000003, 28.8198703, 28.819641, 28.8188726, 28.818654, 28.826769, 28.8251007, 28.836453, 29.0706086, 28.835992600000004, 28.8385609, 28.838413, 28.8349919, 28.8755117, 28.8786452, 28.8785172, 28.8843353, 28.8840979, 28.8859967, 28.8857617, 28.8848059, 28.884601, 28.886949, 28.8918653, 28.8968592, 28.8990147, 28.8995093, 29.080108000000006, 29.34321, 29.333751, 29.338383, 29.334146, 29.342286, 29.327421, 29.33417, 29.332869, 29.327562, 29.333612, 29.332981, 29.327242, 29.33375, 29.317120000000006, 29.327289, 29.307293, 29.317169, 29.298261, 29.307302000000004, 29.288108, 29.298302000000003, 29.278454, 29.288146, 29.272245, 29.278457, 29.273118, 29.272383, 29.0901098, 29.030312, 29.025351, 29.037529, 29.0605387, 29.060899100000004, 28.83026, 28.8302343, 28.835432, 28.834266, 28.834402, 28.830119, 29.0475406, 29.052039, 28.838385, 28.838694, 28.9845218, 28.9906641, 28.972615500000003, 28.9845701, 28.996768100000004, 29.0029131, 29.0707505, 29.0778242, 29.0892516, 29.0931779, 29.0124985, 29.0156902, 28.913165000000006, 28.919013, 28.986478, 28.979715, 28.957873, 28.954254, 28.945104, 28.9503947, 29.015889, 29.0126882, 28.954123, 28.953401, 28.9483363, 28.8636603, 28.869097, 28.966079, 28.961021, 28.928975, 28.934351, 28.926372, 28.9930331, 28.896969, 28.891871, 28.9762003, 28.9730782, 29.012662, 29.01776, 29.01023, 29.009117100000005, 28.8661842, 28.873232, 28.6267168, 28.622624600000005, 28.8825287, 29.1212122, 29.1213498, 28.9005139, 28.9007453, 28.7965462, 28.8033799, 28.81215, 28.8149759, 28.6255558, 28.6235204, 28.8153387, 28.8132882, 28.813567, 28.8137738, 28.813324, 28.8135956, 28.814665500000004, 28.8150002, 28.8150648, 28.8155092, 28.8101377, 28.810493, 28.8045332, 28.8049824, 28.8064299, 28.8069124, 28.806478, 28.80661, 28.809987300000003, 28.810243300000003, 28.8086294, 28.808894899999995, 28.811314199999998, 28.811518, 28.8185153, 28.8187675, 28.824250300000006, 28.8245126, 28.8238647, 28.8241594, 28.8247529, 28.825029200000003, 28.832144300000003, 28.8323035, 28.8391267, 28.8393673, 28.843118, 28.816203, 28.827824, 28.827819, 28.8391927, 28.839115000000003, 28.849871000000004, 28.861273200000007, 28.861318, 28.872472700000007, 28.872579, 28.883829, 28.883916, 28.8955228, 28.895515000000003, 28.9071549, 28.907141, 28.9198844, 28.919818, 28.929999, 28.929964, 28.941499, 28.941522, 28.952973, 28.952993, 28.964557, 28.964503000000004, 28.975495, 28.975446, 28.986366, 28.986319, 28.997506, 28.997484000000004, 29.008984, 29.009027000000003, 29.019936, 29.019964, 29.031522, 28.689187, 28.689107, 29.031522, 29.044341, 29.044346, 29.054688, 29.054699, 29.065132, 29.065121, 29.077388, 29.077333000000007, 29.086887, 29.086801, 29.095313, 29.095241, 29.103684, 29.1035715, 29.113194, 29.1130896, 29.1217, 29.1215867, 29.132802, 28.689094800000003, 28.6867794, 29.1329273, 29.1432647, 29.1432179, 29.1536216, 29.1535463, 29.1629803, 29.162912, 29.1744602, 29.1743349, 29.1840803, 29.183882500000006, 29.192989, 29.193016600000004, 29.204431, 29.204386, 29.2155016, 29.2153062, 29.2244443, 29.2243261, 29.2343436, 28.6866443, 28.6811791, 29.234166, 29.2425792, 29.2425264, 29.2511238, 29.250985, 29.258689, 29.258515600000006, 29.266661, 29.2665017, 29.275093800000004, 29.2749274, 29.2838523, 29.2836503, 29.286948100000004, 29.2867282, 29.2868887, 29.286617, 29.2912002, 29.290984, 29.2924695, 28.681041, 28.6788742, 29.2922207, 29.287673100000006, 29.28745, 29.284203, 29.283913, 29.2786598, 29.278404, 29.2756365, 29.275353000000006, 29.2764399, 29.2761346, 29.2774096, 29.2771043, 29.2739727, 29.273772, 29.269043, 29.268913, 29.270273, 29.270148, 29.276005, 28.678736600000004, 28.6779223, 29.129036600000006, 29.140677, 29.140677, 29.152204, 29.152286199999995, 29.1636921, 29.163742, 29.1744162, 29.1858105, 29.195857300000004, 29.195672, 29.2058113, 29.2056045, 29.217083, 29.2172057, 29.229534, 29.2295769, 29.239842, 29.2398019, 29.251299, 29.2513317, 29.2614497, 29.2615781, 29.2720635, 28.961329, 28.968495, 29.270846, 29.277428600000004, 29.272705, 29.2762376, 29.1300184, 29.141272999999998, 28.986388, 28.983495, 29.1983437, 29.2066961, 29.2066363, 29.2141521, 29.2142884, 29.21806, 28.9780604, 28.971693, 28.971493, 28.9686483, 28.978371000000006, 28.9762968, 28.9729119, 28.9684594, 28.9683682, 28.968216700000006, 28.968031300000003, 28.9682642, 28.968155, 28.9786271, 28.919091, 28.92421, 28.937183, 28.932985, 28.937489000000006, 28.947219, 28.947371, 28.956382, 28.956498, 28.965390000000006, 28.965343, 28.971297, 28.93735, 28.945523, 28.945554, 28.952685, 28.952727000000007, 28.959343, 28.959306, 28.970665000000004, 28.970628, 28.982172, 28.982197, 28.993218, 28.993232, 29.004998, 29.005018, 29.015467200000003, 29.015536, 29.0264886, 29.0269738, 29.033965, 28.985062, 28.9788928, 28.9785777, 28.970439, 28.9703954, 28.964712100000003, 28.9646678, 28.9632276, 28.9611592, 28.9610167, 28.9588745, 28.958818800000003, 28.957181800000004, 28.9573368, 28.96033, 29.325129, 29.317745, 28.8193206, 28.824435, 28.5907295, 28.6011454, 28.8511812, 28.853625399999995, 29.294695, 29.283106, 28.8781097, 28.8882219, 28.88808, 28.8938227, 28.893680100000005, 28.9010704, 28.9008778, 28.907325, 28.9071847, 28.9198358, 28.9196979, 28.93269, 28.9325901, 28.9443505, 28.9441984, 28.946647100000003, 28.9464522, 28.950347999999998, 28.950234, 28.9543224, 29.283096, 29.272296, 29.128352000000003, 29.182556, 29.193608, 29.1935369, 29.2050354, 29.2049669, 29.2145278, 29.2145501, 29.2252092, 29.225256400000006, 29.2365507, 29.236543800000003, 29.2482837, 29.2482853, 29.2601131, 29.313056, 29.324214, 29.0579578, 29.0669599, 29.121014, 29.1204898, 29.129278000000006, 29.0365712, 28.9523307, 28.951544899999995, 28.962093199999998, 28.9690951, 28.975399, 28.9818651, 29.03183, 29.043359, 29.043329, 29.054643, 29.212339, 29.218122, 29.054595000000006, 29.065313, 29.065265000000004, 29.0764509, 29.075832, 29.086366100000006, 29.086411, 29.0951613, 29.094921600000006, 29.100245, 29.10011, 29.105279100000004, 29.105132, 29.112418, 29.112324, 29.120095000000006, 29.120004, 29.128243, 29.128155, 29.136326, 29.217994, 29.221325, 29.136238, 29.144475, 29.144387, 29.152758, 29.152686, 29.163579, 29.163538, 29.174617, 29.174576, 29.185602000000006, 29.18556, 29.196557, 29.196515, 29.207484, 29.207435, 29.216986, 29.21691, 29.226015000000004, 29.225939, 29.234981, 29.234905, 29.244017, 29.24394, 29.254114, 29.254087, 29.263774, 29.263667, 29.270612, 29.270519, 29.278246000000006, 29.278172, 29.288503, 29.288439, 29.296579, 29.296491, 29.30523, 29.305172, 29.315372, 29.315314, 29.325512, 29.325454, 29.335708, 29.33565, 29.345912, 29.345855, 29.355987, 29.212838, 29.213509, 28.377671000000007, 28.3889045, 28.388807, 28.4000577, 28.39995, 28.4111929, 28.454804, 28.4650868, 28.464981, 28.4752714, 28.4749654, 28.485432199999998, 29.213369, 29.211148, 28.4853401, 28.495547, 28.4954332, 28.5058667, 28.5056653, 28.5172338, 28.517273600000006, 28.5285651, 28.5286323, 28.5399441, 28.5400266, 28.5513408, 28.551364000000003, 28.5627554, 28.5627655, 28.5743185, 28.5954304, 29.0364742, 29.0418884, 28.6067558, 28.617701, 28.6280282, 28.627881, 28.6378869, 28.6377455, 28.648475, 28.648384000000004, 28.6590404, 28.6589441, 28.6700747, 28.6695755, 28.681982, 28.6818826, 28.69116, 28.690845500000002, 28.701982, 28.70191, 28.711331, 28.71126, 28.720725, 28.720654, 28.730066, 28.729996000000003, 28.740488, 28.740486, 28.751534000000003, 28.75158, 28.762266, 28.762312, 28.7733155, 28.773369899999995, 28.785012, 28.7837393, 28.793631, 28.7939799, 28.799059000000003, 28.7991975, 28.810194, 28.8099644, 28.81845, 28.818416, 28.830183, 28.8301652, 28.841993, 28.841972, 28.8537295, 28.8537728, 28.8636321, 28.8690912, 28.875843, 28.8759067, 28.886849, 28.8870476, 28.896509000000002, 28.8968156, 28.905325, 29.0429364, 28.905402, 28.914534000000003, 28.914604, 28.923868, 28.9239994, 28.9322165, 28.9325483, 28.9404979, 28.9406223, 28.944954, 28.9503377, 28.957662, 28.9551331, 28.966382300000006, 28.9666308, 28.9725109, 29.0028809, 29.007727600000006, 29.015423, 29.01778, 29.0176095, 29.0264143, 29.026214000000003, 29.033967800000006, 29.033887, 29.0415427, 29.041437, 29.0457876, 29.0455516, 29.0477581, 29.0519111, 29.0573933, 29.0572031, 29.060816100000004, 29.0582905, 29.0543082, 29.053993, 29.045343, 29.045342, 29.037425800000005, 28.84137, 28.851653, 28.851711, 28.862265, 28.8625091, 28.8702859, 28.8703715, 28.876004, 28.8761, 28.885094, 28.88515, 28.896576, 28.896579, 28.908426, 28.90844, 28.919533, 28.9195973, 28.931164000000006, 28.9311853, 28.9426261, 28.942651, 28.952165, 28.9524277, 28.9630101, 28.9629197, 28.9748774, 28.9748417, 28.9863772, 28.986683000000006, 28.998423, 28.9983935, 29.009639, 29.0091955, 29.020528, 29.0204259, 29.030997, 29.031656899999994, 29.0434966, 29.0447516, 29.0551706, 29.0551587, 29.070728000000006, 29.0929022, 29.0951209, 29.0980413, 29.101934000000004, 29.1016393, 29.1056346, 29.109094, 29.1130143, 29.116225, 29.1191232, 29.120534000000006, 29.121417200000003, 29.1210006, 29.121091, 29.120951, 29.120939, 29.120664, 29.120871, 29.121232, 29.1217097, 29.121419, 29.120399300000006, 29.11785, 29.1149674, 29.1116265, 29.1078315, 28.8444636, 28.8492729, 28.8492435, 28.8560045, 28.8629224, 28.8726173, 28.8724081, 28.8825475, 28.8826236, 28.894149, 28.894113, 28.905123, 28.905102000000007, 28.916292, 28.916224, 28.921792600000003, 28.921748, 28.9287625, 28.934257, 28.939491, 28.944841, 29.0853272, 29.0914482, 29.041581, 28.8067522, 28.8141583, 28.8144387, 28.8245943, 28.8293617, 28.8339071, 28.8384839, 28.8412077, 28.846479100000003, 28.8519281, 28.8591309, 28.8662192, 28.873178000000006, 28.877719300000006, 28.8875702, 28.898115, 28.898043, 28.90844, 28.908596000000006, 28.913135, 28.924366, 28.927888, 28.928064000000006, 28.932718, 28.971337, 28.977936, 28.977956, 28.986211, 29.1290312, 29.134178, 28.986337, 28.986396000000006, 28.979717, 28.971687, 28.96115, 28.956448, 28.956492, 28.948041, 28.940728000000004, 28.940777, 28.9365364, 28.9376992, 28.9423913, 28.9422629, 29.1338672, 29.1265213, 28.9423495, 28.9458238, 29.0567703, 29.0475115, 29.035518100000004, 29.0332025, 29.0201222, 29.0137853, 29.00675, 28.9993463, 28.9991365, 28.991752, 28.9916757, 28.9842354, 28.9780141, 29.1100794, 29.099299100000003, 29.0992567, 29.0967607, 29.0366745, 29.0271553, 29.0967568, 29.0915701, 29.097424, 29.105093, 29.105076, 29.112776, 29.119418, 29.12611, 29.126, 29.132567, 29.132448, 29.138546, 29.147542, 29.147554, 29.158784000000004, 29.158724, 29.168923, 29.0116377, 29.018377, 29.0185196, 29.031932, 29.0468345, 29.045500300000004, 29.0570471, 29.0571148, 29.067821, 29.067691600000003, 29.078402, 29.0784701, 29.0864561, 29.0865773, 29.097133000000003, 29.097105, 29.108653000000004, 29.108675, 29.119911, 29.119867, 29.130471000000004, 29.130535, 29.139645, 29.139749, 29.1505939, 29.1504945, 29.161982, 29.1618886, 29.1716642, 29.1713471, 29.1787352, 29.178514, 29.1827223, 29.0668228, 29.0782832, 29.078494300000006, 29.0896772, 29.0893875, 29.099901000000006, 29.0997461, 29.108258000000006, 29.108179, 29.118888, 29.118874, 29.130625, 29.130623, 29.142341, 29.142124300000006, 29.154001, 29.153918, 29.166905, 29.166814, 29.175739, 29.1756841, 29.182781800000004, 29.1898441, 29.1959062, 29.2014724, 29.209554, 29.209538, 29.220505, 29.220451, 29.231581, 29.231565000000003, 29.2434, 29.0086834, 29.012592, 29.2434, 29.2545, 29.254452, 29.265873, 29.265845, 29.274968, 29.27488, 29.284743, 29.284689, 29.294686, 29.29462, 29.305001, 29.304935, 29.31422, 29.314144, 29.324375, 29.324323, 29.334161, 29.334099, 29.344547, 29.0125848, 29.0104338, 29.344471, 29.350824, 29.350693, 29.3545, 29.354383, 29.361064, 29.360968, 29.367574, 29.36745, 29.371686, 29.371566, 29.377668, 29.377573, 29.385875, 29.008895000000006, 29.0080523, 29.0077922, 29.006833, 29.0287, 29.027863, 28.242087, 28.252771000000006, 28.252702000000006, 28.262219, 28.262149, 28.272175, 28.272132, 28.283723, 28.283723, 28.295625, 28.295613, 28.307296, 28.307267, 28.318743, 29.027671, 29.0246564, 28.318716, 28.330409000000003, 28.330394, 28.342211, 28.342197, 28.353653, 28.353607, 28.362988, 28.362896000000006, 28.369304, 28.369191999999998, 28.375572, 28.375477000000004, 28.384198, 28.384144, 28.3952623, 28.3949032, 28.4061302, 28.4059862, 28.415613, 29.024511600000004, 29.0238142, 29.054825, 28.415575, 28.426772, 28.4266405, 28.4375514, 28.4373409, 28.4493467, 28.4491726, 28.4594184, 28.4593595, 28.470746, 28.470849, 28.482796500000006, 28.4826284, 28.494265, 28.4944125, 28.503595, 28.5038769, 28.507522, 28.5079175, 28.507776, 29.0236532, 29.0248495, 28.508079100000003, 28.5103357, 28.5105795, 28.5178654, 28.5180936, 28.5278852, 28.5279977, 28.5392641, 28.5392957, 28.5511149, 28.551144, 28.5633857, 28.5629804, 28.575074800000003, 28.5748704, 28.5865785, 28.586457300000006, 28.5979728, 28.5979966, 28.609655, 29.024693900000006, 29.0190184, 28.6096251, 28.6205239, 28.620556, 28.6301055, 28.630001, 28.637614000000006, 28.637512, 28.6444335, 28.6443117, 28.6497546, 28.6496072, 28.654572, 28.654474, 28.663573, 28.663527, 28.675111600000005, 28.675118800000003, 28.6865274, 28.686523, 28.697758, 29.0186643, 29.0137237, 28.697778000000003, 28.709298, 28.709254, 28.720433, 28.720437, 28.731432, 28.731514, 28.741311, 28.741319, 28.7530203, 28.7530689, 28.764765, 28.7647542, 28.7766742, 28.7766952, 28.788317, 28.7882559, 28.796601000000006, 28.8033153, 28.811622600000003, 29.0077836, 29.005434, 28.8115771, 28.823132, 28.82316, 28.834935, 28.834909000000003, 28.841422, 29.003113899999995, 29.016116600000004, 29.0212107, 29.005296, 29.0074514, 29.0262393, 29.015679, 29.036853000000004, 29.0265447, 29.028721, 29.0102912, 29.0131725, 29.013129600000006, 29.021589, 29.033029, 28.961269, 28.958003, 28.953259000000006, 28.954154, 28.8642812, 28.8695446, 28.8766786, 28.8489848, 28.864349, 28.856977, 28.7487197, 28.744826, 28.7615454, 28.754636, 28.770536, 28.7615278, 28.7805086, 28.770387300000003, 28.787291, 28.7804287, 28.7931028, 28.7871966, 28.8023937, 28.793224, 28.811485, 28.802301, 28.822323200000003, 28.812072, 28.830181300000003, 28.8226191, 28.839371000000003, 28.8302842, 28.8455183, 28.8392982, 28.8453234, 28.902193, 28.829105, 28.8188414, 28.8359665, 28.829009000000006, 28.8399485, 28.8357059, 28.849567200000006, 28.8397239, 28.8591417, 28.849537400000006, 28.8679876, 28.859017, 28.8712539, 28.8677271, 28.8782092, 28.8710471, 28.940399, 28.9365895, 28.933086, 29.016117600000005], \"marker\": {\"color\": \"#636efa\"}, \"mode\": \"markers\", \"name\": \"cluster=14\", \"showlegend\": true, \"subplot\": \"mapbox\", \"type\": \"scattermapbox\"}, {\"customdata\": [[1, \"17\"], [0, \"17\"], [1, \"17\"], [0, \"17\"]], \"hoverlabel\": {\"namelength\": 0}, \"hovertemplate\": \"<b>%{hovertext}</b><br><br>cluster=%{customdata[1]}<br>vSegDir=%{customdata[0]}<br>longitude=%{lat}<br>latitude=%{lon}\", \"hovertext\": [1026.0, 1826.0, 185.0, 284.0], \"lat\": [40.9909258, 40.9966141, 41.048063, 41.030001], \"legendgroup\": \"cluster=17\", \"lon\": [28.6798182, 29.0626712, 28.689275, 29.12326], \"marker\": {\"color\": \"#EF553B\"}, \"mode\": \"markers\", \"name\": \"cluster=17\", \"showlegend\": true, \"subplot\": \"mapbox\", \"type\": \"scattermapbox\"}, {\"customdata\": [[0, \"5\"], [1, \"5\"], [0, \"5\"], [1, \"5\"], [0, \"5\"], [1, \"5\"], [0, \"5\"], [1, \"5\"], [0, \"5\"], [0, \"5\"], [0, \"5\"]], \"hoverlabel\": {\"namelength\": 0}, \"hovertemplate\": \"<b>%{hovertext}</b><br><br>cluster=%{customdata[1]}<br>vSegDir=%{customdata[0]}<br>longitude=%{lat}<br>latitude=%{lon}\", \"hovertext\": [103.0, 103.0, 110.0, 110.0, 112.0, 112.0, 1752.0, 1752.0, 193.0, 194.0, 522.0], \"lat\": [41.009464, 41.000631, 41.0015933, 40.9930041, 40.9847176, 40.9787141, 41.0281635, 41.0256353, 41.0227932, 41.0253546, 41.017802], \"legendgroup\": \"cluster=5\", \"lon\": [28.921482, 28.919852, 28.884554100000006, 28.8878345, 28.8845094, 28.885757, 28.984176, 28.9780735, 28.974835100000004, 28.967624800000007, 28.971712], \"marker\": {\"color\": \"#00cc96\"}, \"mode\": \"markers\", \"name\": \"cluster=5\", \"showlegend\": true, \"subplot\": \"mapbox\", \"type\": \"scattermapbox\"}, {\"customdata\": [[0, \"12\"], [0, \"12\"]], \"hoverlabel\": {\"namelength\": 0}, \"hovertemplate\": \"<b>%{hovertext}</b><br><br>cluster=%{customdata[1]}<br>vSegDir=%{customdata[0]}<br>longitude=%{lat}<br>latitude=%{lon}\", \"hovertext\": [105.0, 1766.0], \"lat\": [41.01654600000001, 41.019089], \"legendgroup\": \"cluster=12\", \"lon\": [28.910908000000006, 28.919722], \"marker\": {\"color\": \"#ab63fa\"}, \"mode\": \"markers\", \"name\": \"cluster=12\", \"showlegend\": true, \"subplot\": \"mapbox\", \"type\": \"scattermapbox\"}, {\"customdata\": [[0, \"6\"], [1, \"6\"], [0, \"6\"], [1, \"6\"], [0, \"6\"], [1, \"6\"], [0, \"6\"], [0, \"6\"], [1, \"6\"], [0, \"6\"], [1, \"6\"], [0, \"6\"], [1, \"6\"], [0, \"6\"], [1, \"6\"], [0, \"6\"], [1, \"6\"]], \"hoverlabel\": {\"namelength\": 0}, \"hovertemplate\": \"<b>%{hovertext}</b><br><br>cluster=%{customdata[1]}<br>vSegDir=%{customdata[0]}<br>longitude=%{lat}<br>latitude=%{lon}\", \"hovertext\": [106.0, 106.0, 107.0, 107.0, 108.0, 108.0, 297.0, 298.0, 498.0, 93.0, 93.0, 94.0, 94.0, 95.0, 95.0, 96.0, 96.0], \"lat\": [41.01859, 41.015294, 41.015172, 41.011918, 41.011787, 41.009855, 41.060487, 41.0515149, 41.017584, 41.0336173, 41.0280471, 41.02796, 41.021401, 41.021301, 41.015012, 41.01489, 41.012078], \"legendgroup\": \"cluster=6\", \"lon\": [28.926306, 28.933397, 28.933328000000003, 28.940334000000004, 28.940286, 28.948166, 28.9874924, 28.9874977, 28.939588, 28.9297105, 28.9378891, 28.937834, 28.945798, 28.9457, 28.95392, 28.953851, 28.959848], \"marker\": {\"color\": \"#FFA15A\"}, \"mode\": \"markers\", \"name\": \"cluster=6\", \"showlegend\": true, \"subplot\": \"mapbox\", \"type\": \"scattermapbox\"}, {\"customdata\": [[0, \"18\"], [1, \"18\"], [0, \"18\"], [1, \"18\"], [0, \"18\"], [1, \"18\"], [0, \"18\"], [1, \"18\"], [0, \"18\"], [0, \"18\"], [0, \"18\"], [0, \"18\"], [1, \"18\"], [1, \"18\"], [1, \"18\"], [0, \"18\"], [0, \"18\"], [0, \"18\"], [1, \"18\"], [0, \"18\"], [1, \"18\"], [0, \"18\"], [1, \"18\"], [1, \"18\"], [1, \"18\"], [0, \"18\"], [1, \"18\"], [0, \"18\"], [1, \"18\"], [0, \"18\"], [1, \"18\"], [1, \"18\"], [0, \"18\"], [1, \"18\"], [0, \"18\"], [1, \"18\"], [0, \"18\"], [0, \"18\"], [0, \"18\"], [1, \"18\"], [0, \"18\"], [0, \"18\"], [0, \"18\"], [1, \"18\"], [0, \"18\"], [1, \"18\"], [0, \"18\"], [1, \"18\"], [0, \"18\"], [1, \"18\"], [0, \"18\"], [1, \"18\"], [0, \"18\"], [1, \"18\"], [1, \"18\"], [0, \"18\"], [1, \"18\"], [0, \"18\"], [1, \"18\"], [0, \"18\"], [0, \"18\"], [0, \"18\"], [1, \"18\"], [1, \"18\"], [1, \"18\"], [0, \"18\"], [1, \"18\"], [1, \"18\"], [0, \"18\"], [0, \"18\"], [1, \"18\"], [1, \"18\"], [0, \"18\"], [1, \"18\"], [0, \"18\"], [1, \"18\"], [0, \"18\"], [1, \"18\"], [0, \"18\"], [1, \"18\"], [0, \"18\"], [1, \"18\"], [0, \"18\"], [0, \"18\"], [1, \"18\"], [0, \"18\"], [1, \"18\"], [0, \"18\"], [1, \"18\"], [0, \"18\"], [1, \"18\"], [0, \"18\"], [1, \"18\"], [0, \"18\"], [1, \"18\"], [0, \"18\"], [1, \"18\"], [0, \"18\"], [1, \"18\"], [0, \"18\"], [1, \"18\"], [0, \"18\"], [1, \"18\"], [0, \"18\"], [1, \"18\"], [0, \"18\"], [1, \"18\"], [0, \"18\"], [1, \"18\"], [0, \"18\"], [1, \"18\"], [0, \"18\"], [1, \"18\"], [0, \"18\"], [0, \"18\"], [0, \"18\"], [0, \"18\"], [0, \"18\"], [0, \"18\"], [0, \"18\"], [1, \"18\"], [0, \"18\"], [0, \"18\"], [0, \"18\"], [0, \"18\"], [1, \"18\"], [0, \"18\"], [1, \"18\"], [0, \"18\"], [1, \"18\"], [0, \"18\"], [1, \"18\"], [0, \"18\"], [0, \"18\"], [1, \"18\"], [0, \"18\"], [1, \"18\"], [1, \"18\"], [1, \"18\"], [0, \"18\"], [1, \"18\"], [1, \"18\"], [0, \"18\"], [1, \"18\"], [0, \"18\"], [1, \"18\"], [0, \"18\"], [1, \"18\"], [0, \"18\"], [1, \"18\"], [0, \"18\"], [1, \"18\"], [0, \"18\"], [1, \"18\"], [0, \"18\"], [0, \"18\"], [1, \"18\"], [0, \"18\"], [1, \"18\"], [0, \"18\"], [1, \"18\"], [0, \"18\"], [1, \"18\"], [0, \"18\"], [1, \"18\"], [1, \"18\"], [0, \"18\"], [0, \"18\"], [1, \"18\"], [0, \"18\"], [1, \"18\"], [0, \"18\"], [0, \"18\"]], \"hoverlabel\": {\"namelength\": 0}, \"hovertemplate\": \"<b>%{hovertext}</b><br><br>cluster=%{customdata[1]}<br>vSegDir=%{customdata[0]}<br>longitude=%{lat}<br>latitude=%{lon}\", \"hovertext\": [1108.0, 1108.0, 1109.0, 1109.0, 1128.0, 1128.0, 1129.0, 1129.0, 1183.0, 1190.0, 1235.0, 1236.0, 1236.0, 1237.0, 1238.0, 1254.0, 1255.0, 1256.0, 1257.0, 1260.0, 1260.0, 16.0, 16.0, 1709.0, 1710.0, 1725.0, 1725.0, 1726.0, 1726.0, 1727.0, 1727.0, 1728.0, 1743.0, 1743.0, 1744.0, 1744.0, 1780.0, 1782.0, 178.0, 178.0, 1794.0, 1798.0, 179.0, 179.0, 17.0, 17.0, 180.0, 180.0, 181.0, 181.0, 18.0, 18.0, 19.0, 19.0, 214.0, 218.0, 218.0, 22.0, 22.0, 231.0, 233.0, 234.0, 237.0, 238.0, 239.0, 23.0, 23.0, 294.0, 299.0, 29.0, 29.0, 306.0, 307.0, 307.0, 32.0, 32.0, 33.0, 33.0, 34.0, 34.0, 356.0, 356.0, 357.0, 35.0, 35.0, 368.0, 368.0, 369.0, 369.0, 36.0, 36.0, 370.0, 370.0, 371.0, 371.0, 372.0, 372.0, 373.0, 373.0, 374.0, 374.0, 375.0, 375.0, 376.0, 376.0, 377.0, 377.0, 378.0, 378.0, 379.0, 379.0, 383.0, 383.0, 384.0, 385.0, 386.0, 399.0, 401.0, 402.0, 488.0, 488.0, 48.0, 501.0, 509.0, 510.0, 53.0, 556.0, 556.0, 557.0, 557.0, 558.0, 558.0, 568.0, 569.0, 569.0, 570.0, 570.0, 571.0, 572.0, 582.0, 582.0, 585.0, 589.0, 589.0, 590.0, 590.0, 591.0, 591.0, 592.0, 592.0, 593.0, 593.0, 594.0, 594.0, 595.0, 596.0, 596.0, 597.0, 597.0, 598.0, 598.0, 599.0, 61.0, 66.0, 66.0, 749.0, 7.0, 820.0, 820.0, 821.0, 821.0, 8.0, 9.0], \"lat\": [41.1007258, 41.102238, 41.10236, 41.09978570000001, 41.0838796, 41.0831118, 41.0831224, 41.0760645, 41.010254, 40.9920258, 41.0683956, 41.063675, 41.0683773, 41.063586, 41.058169, 40.981482, 40.9753756, 41.0454506, 41.051246, 40.981544, 40.981017, 40.937657, 40.927315, 41.07046500000001, 41.0689243, 41.0978454, 41.1072356, 41.0894049, 41.0980568, 41.0806124, 41.0894902, 41.0806089, 41.0723221, 41.0652377, 41.0653269, 41.068796, 40.9747233, 41.0800232, 41.0730717, 41.0647084, 40.9660514, 40.9644622, 41.06463400000001, 41.0564036, 40.927394, 40.918477, 41.056347, 41.0475995, 41.0476725, 41.0389985, 40.918433, 40.909414, 40.909396, 40.89951, 41.0636648, 41.0686763, 41.05962570000001, 40.881846, 40.877408, 41.060832, 41.061565, 41.062364, 41.0632683, 41.0645233, 41.0634971, 40.877546, 40.873994, 41.0949598, 41.0545449, 40.98085, 40.97591, 41.00563820000001, 41.0055318, 41.004594, 40.959269, 40.95056500000001, 40.950648, 40.943142, 40.943235, 40.935119, 41.066854, 41.071027, 41.070891, 40.93518, 40.926442, 41.078089, 41.075775, 41.075638, 41.073463, 40.926416, 40.919124, 41.073325, 41.071571, 41.071433, 41.0697818, 41.069665, 41.0680059, 41.067879, 41.066206, 41.066068, 41.064436, 41.064298, 41.062643, 41.062505, 41.060869, 41.060731, 41.0590657, 41.058805, 41.05872520000001, 41.0566193, 41.053992, 41.04468, 41.0417, 41.041614, 41.0385543, 41.0355021, 41.0228077, 41.0259734, 41.0258851, 40.984492, 40.9822659, 41.08007, 40.96459829999999, 40.9773824, 40.9798369, 41.113449, 41.064089, 41.0566868, 41.0566904, 41.0521818, 41.0521917, 41.0448793, 41.077114, 41.0757431, 41.0709398, 41.0708862, 41.0626304, 41.0546679, 41.047167, 40.938147, 40.9306, 40.907209, 40.894473, 40.887952, 40.887857, 40.887579, 40.887443, 40.884675, 40.884535, 40.882242, 40.882114, 40.877276, 40.877137, 40.871281, 40.871141, 40.875597, 40.872325, 40.872201, 40.867514, 40.867384, 40.866941, 40.866815, 41.097509, 41.154055, 41.148868, 41.091635, 40.9638965, 40.937598, 40.94325300000001, 40.933405, 40.937734000000006, 40.958238, 40.954825], \"legendgroup\": \"cluster=18\", \"lon\": [28.977490000000003, 28.967152, 28.967084000000003, 28.95598, 28.951971, 28.9485974, 28.9485393, 28.9472522, 28.881188, 28.8513178, 28.8594107, 28.867668, 28.859251500000006, 28.867559000000004, 28.875786, 28.859803000000007, 28.8684251, 28.968255600000006, 28.793325, 29.094675, 29.0884549, 29.329412, 29.32651, 28.823184, 28.8339522, 28.8491993, 28.849815600000003, 28.8449122, 28.8491144, 28.8414896, 28.844776799999998, 28.8413185, 28.854092600000005, 28.8453436, 28.8448944, 28.833807, 28.8777762, 29.0698946, 28.6223649, 28.6220922, 28.806179600000004, 28.8088457, 28.621912, 28.626612899999994, 29.326395, 29.321799, 28.626342, 28.6280485, 28.627885, 28.6258286, 29.321668, 29.327047, 29.326909000000004, 29.327752, 28.95123, 28.9570311, 28.957438, 29.317657, 29.306626, 28.748361, 28.771617, 28.78345, 28.778191600000003, 28.7896606, 28.8013933, 29.306602, 29.294727, 28.9634661, 28.9688778, 29.206268, 29.212162, 29.0202724, 29.020259600000006, 29.031854, 29.221191, 29.220304, 29.220192, 29.213645, 29.21354, 29.208516, 28.10336, 28.113866, 28.113902000000003, 29.20839, 29.206595, 28.242354, 28.25379, 28.253761, 28.265247, 29.206457, 29.212978000000003, 28.265222, 28.276833, 28.276811, 28.2884493, 28.288436, 28.3000519, 28.300056, 28.311691, 28.311669, 28.323314, 28.323292, 28.334931, 28.334909000000003, 28.346552000000006, 28.34653, 28.358151300000007, 28.358112, 28.3683239, 28.367583000000003, 28.377745500000003, 28.411084, 28.4222153, 28.422223, 28.4332942, 28.4443463, 28.5848091, 28.6084285, 28.6176059, 29.1036872, 29.0994751, 29.076703, 28.803754, 28.8824867, 28.8877385, 29.118967, 28.951394, 28.950756899999995, 28.9506333, 28.9415365, 28.9414208, 28.9456484, 29.0665892, 29.0633973, 29.0566744, 29.0565899, 29.0544535, 29.0522005, 29.052363, 29.112668, 29.119522, 29.138648, 29.168849, 29.177187, 29.177084000000004, 29.187398, 29.187428000000004, 29.198643, 29.198649, 29.210169, 29.210113, 29.219867, 29.21985, 29.228404, 29.2284, 29.237116, 29.248259, 29.248195000000006, 29.258406, 29.258456, 29.267976, 29.267914, 29.052657, 29.037198, 29.028818, 29.04706, 29.0651964, 29.12384, 29.129777, 29.117045, 29.123811, 29.073387, 29.083659], \"marker\": {\"color\": \"#19d3f3\"}, \"mode\": \"markers\", \"name\": \"cluster=18\", \"showlegend\": true, \"subplot\": \"mapbox\", \"type\": \"scattermapbox\"}, {\"customdata\": [[0, \"31\"]], \"hoverlabel\": {\"namelength\": 0}, \"hovertemplate\": \"<b>%{hovertext}</b><br><br>cluster=%{customdata[1]}<br>vSegDir=%{customdata[0]}<br>longitude=%{lat}<br>latitude=%{lon}\", \"hovertext\": [1118.0], \"lat\": [41.063704], \"legendgroup\": \"cluster=31\", \"lon\": [28.94966], \"marker\": {\"color\": \"#FF6692\"}, \"mode\": \"markers\", \"name\": \"cluster=31\", \"showlegend\": true, \"subplot\": \"mapbox\", \"type\": \"scattermapbox\"}, {\"customdata\": [[1, \"2\"], [1, \"2\"]], \"hoverlabel\": {\"namelength\": 0}, \"hovertemplate\": \"<b>%{hovertext}</b><br><br>cluster=%{customdata[1]}<br>vSegDir=%{customdata[0]}<br>longitude=%{lat}<br>latitude=%{lon}\", \"hovertext\": [1183.0, 1184.0], \"lat\": [41.019055, 41.0054445], \"legendgroup\": \"cluster=2\", \"lon\": [28.883132, 28.8818571], \"marker\": {\"color\": \"#B6E880\"}, \"mode\": \"markers\", \"name\": \"cluster=2\", \"showlegend\": true, \"subplot\": \"mapbox\", \"type\": \"scattermapbox\"}, {\"customdata\": [[1, \"15\"]], \"hoverlabel\": {\"namelength\": 0}, \"hovertemplate\": \"<b>%{hovertext}</b><br><br>cluster=%{customdata[1]}<br>vSegDir=%{customdata[0]}<br>longitude=%{lat}<br>latitude=%{lon}\", \"hovertext\": [1194.0], \"lat\": [41.029316], \"legendgroup\": \"cluster=15\", \"lon\": [28.805437], \"marker\": {\"color\": \"#FF97FF\"}, \"mode\": \"markers\", \"name\": \"cluster=15\", \"showlegend\": true, \"subplot\": \"mapbox\", \"type\": \"scattermapbox\"}, {\"customdata\": [[1, \"29\"]], \"hoverlabel\": {\"namelength\": 0}, \"hovertemplate\": \"<b>%{hovertext}</b><br><br>cluster=%{customdata[1]}<br>vSegDir=%{customdata[0]}<br>longitude=%{lat}<br>latitude=%{lon}\", \"hovertext\": [1204.0], \"lat\": [41.005255], \"legendgroup\": \"cluster=29\", \"lon\": [28.797051], \"marker\": {\"color\": \"#FECB52\"}, \"mode\": \"markers\", \"name\": \"cluster=29\", \"showlegend\": true, \"subplot\": \"mapbox\", \"type\": \"scattermapbox\"}, {\"customdata\": [[0, \"30\"]], \"hoverlabel\": {\"namelength\": 0}, \"hovertemplate\": \"<b>%{hovertext}</b><br><br>cluster=%{customdata[1]}<br>vSegDir=%{customdata[0]}<br>longitude=%{lat}<br>latitude=%{lon}\", \"hovertext\": [1423.0], \"lat\": [40.911017], \"legendgroup\": \"cluster=30\", \"lon\": [29.313979], \"marker\": {\"color\": \"#636efa\"}, \"mode\": \"markers\", \"name\": \"cluster=30\", \"showlegend\": true, \"subplot\": \"mapbox\", \"type\": \"scattermapbox\"}, {\"customdata\": [[0, \"11\"], [1, \"11\"], [0, \"11\"], [1, \"11\"], [0, \"11\"], [1, \"11\"]], \"hoverlabel\": {\"namelength\": 0}, \"hovertemplate\": \"<b>%{hovertext}</b><br><br>cluster=%{customdata[1]}<br>vSegDir=%{customdata[0]}<br>longitude=%{lat}<br>latitude=%{lon}\", \"hovertext\": [1442.0, 1442.0, 268.0, 268.0, 269.0, 269.0], \"lat\": [41.036307, 41.02673, 41.0279827, 41.0333531, 41.033254, 41.0425588], \"legendgroup\": \"cluster=11\", \"lon\": [29.27209, 29.273238, 29.260079, 29.2693933, 29.2695624, 29.2749328], \"marker\": {\"color\": \"#EF553B\"}, \"mode\": \"markers\", \"name\": \"cluster=11\", \"showlegend\": true, \"subplot\": \"mapbox\", \"type\": \"scattermapbox\"}, {\"customdata\": [[0, \"13\"], [1, \"13\"]], \"hoverlabel\": {\"namelength\": 0}, \"hovertemplate\": \"<b>%{hovertext}</b><br><br>cluster=%{customdata[1]}<br>vSegDir=%{customdata[0]}<br>longitude=%{lat}<br>latitude=%{lon}\", \"hovertext\": [15.0, 524.0], \"lat\": [40.951541, 41.033766], \"legendgroup\": \"cluster=13\", \"lon\": [29.097518, 28.947945], \"marker\": {\"color\": \"#00cc96\"}, \"mode\": \"markers\", \"name\": \"cluster=13\", \"showlegend\": true, \"subplot\": \"mapbox\", \"type\": \"scattermapbox\"}, {\"customdata\": [[0, \"26\"]], \"hoverlabel\": {\"namelength\": 0}, \"hovertemplate\": \"<b>%{hovertext}</b><br><br>cluster=%{customdata[1]}<br>vSegDir=%{customdata[0]}<br>longitude=%{lat}<br>latitude=%{lon}\", \"hovertext\": [1760.0], \"lat\": [41.013855], \"legendgroup\": \"cluster=26\", \"lon\": [28.944755], \"marker\": {\"color\": \"#ab63fa\"}, \"mode\": \"markers\", \"name\": \"cluster=26\", \"showlegend\": true, \"subplot\": \"mapbox\", \"type\": \"scattermapbox\"}, {\"customdata\": [[0, \"16\"], [1, \"16\"], [0, \"16\"], [0, \"16\"], [0, \"16\"], [1, \"16\"]], \"hoverlabel\": {\"namelength\": 0}, \"hovertemplate\": \"<b>%{hovertext}</b><br><br>cluster=%{customdata[1]}<br>vSegDir=%{customdata[0]}<br>longitude=%{lat}<br>latitude=%{lon}\", \"hovertext\": [1790.0, 1790.0, 1791.0, 1792.0, 185.0, 647.0], \"lat\": [41.10639329999999, 41.099477, 41.1018663, 41.1010859, 41.0540044, 40.871751], \"legendgroup\": \"cluster=16\", \"lon\": [29.013847100000003, 29.0083164, 29.0097539, 29.0036292, 28.6790482, 29.39468], \"marker\": {\"color\": \"#FFA15A\"}, \"mode\": \"markers\", \"name\": \"cluster=16\", \"showlegend\": true, \"subplot\": \"mapbox\", \"type\": \"scattermapbox\"}, {\"customdata\": [[1, \"25\"]], \"hoverlabel\": {\"namelength\": 0}, \"hovertemplate\": \"<b>%{hovertext}</b><br><br>cluster=%{customdata[1]}<br>vSegDir=%{customdata[0]}<br>longitude=%{lat}<br>latitude=%{lon}\", \"hovertext\": [1831.0], \"lat\": [41.0900384], \"legendgroup\": \"cluster=25\", \"lon\": [28.8134818], \"marker\": {\"color\": \"#19d3f3\"}, \"mode\": \"markers\", \"name\": \"cluster=25\", \"showlegend\": true, \"subplot\": \"mapbox\", \"type\": \"scattermapbox\"}, {\"customdata\": [[0, \"8\"]], \"hoverlabel\": {\"namelength\": 0}, \"hovertemplate\": \"<b>%{hovertext}</b><br><br>cluster=%{customdata[1]}<br>vSegDir=%{customdata[0]}<br>longitude=%{lat}<br>latitude=%{lon}\", \"hovertext\": [184.0], \"lat\": [41.022373], \"legendgroup\": \"cluster=8\", \"lon\": [28.6288847], \"marker\": {\"color\": \"#FF6692\"}, \"mode\": \"markers\", \"name\": \"cluster=8\", \"showlegend\": true, \"subplot\": \"mapbox\", \"type\": \"scattermapbox\"}, {\"customdata\": [[0, \"20\"]], \"hoverlabel\": {\"namelength\": 0}, \"hovertemplate\": \"<b>%{hovertext}</b><br><br>cluster=%{customdata[1]}<br>vSegDir=%{customdata[0]}<br>longitude=%{lat}<br>latitude=%{lon}\", \"hovertext\": [1989.0], \"lat\": [40.988614], \"legendgroup\": \"cluster=20\", \"lon\": [29.14549], \"marker\": {\"color\": \"#B6E880\"}, \"mode\": \"markers\", \"name\": \"cluster=20\", \"showlegend\": true, \"subplot\": \"mapbox\", \"type\": \"scattermapbox\"}, {\"customdata\": [[1, \"9\"]], \"hoverlabel\": {\"namelength\": 0}, \"hovertemplate\": \"<b>%{hovertext}</b><br><br>cluster=%{customdata[1]}<br>vSegDir=%{customdata[0]}<br>longitude=%{lat}<br>latitude=%{lon}\", \"hovertext\": [240.0], \"lat\": [41.06159], \"legendgroup\": \"cluster=9\", \"lon\": [28.807916], \"marker\": {\"color\": \"#FF97FF\"}, \"mode\": \"markers\", \"name\": \"cluster=9\", \"showlegend\": true, \"subplot\": \"mapbox\", \"type\": \"scattermapbox\"}, {\"customdata\": [[0, \"22\"], [1, \"22\"], [1, \"22\"], [1, \"22\"]], \"hoverlabel\": {\"namelength\": 0}, \"hovertemplate\": \"<b>%{hovertext}</b><br><br>cluster=%{customdata[1]}<br>vSegDir=%{customdata[0]}<br>longitude=%{lat}<br>latitude=%{lon}\", \"hovertext\": [306.0, 576.0, 577.0, 579.0], \"lat\": [41.00686470000001, 41.029423, 41.02508320000001, 41.012674], \"legendgroup\": \"cluster=22\", \"lon\": [29.0118314, 29.017868, 29.008675, 29.011524800000004], \"marker\": {\"color\": \"#FECB52\"}, \"mode\": \"markers\", \"name\": \"cluster=22\", \"showlegend\": true, \"subplot\": \"mapbox\", \"type\": \"scattermapbox\"}, {\"customdata\": [[0, \"3\"]], \"hoverlabel\": {\"namelength\": 0}, \"hovertemplate\": \"<b>%{hovertext}</b><br><br>cluster=%{customdata[1]}<br>vSegDir=%{customdata[0]}<br>longitude=%{lat}<br>latitude=%{lon}\", \"hovertext\": [46.0], \"lat\": [41.0214851], \"legendgroup\": \"cluster=3\", \"lon\": [29.0354287], \"marker\": {\"color\": \"#636efa\"}, \"mode\": \"markers\", \"name\": \"cluster=3\", \"showlegend\": true, \"subplot\": \"mapbox\", \"type\": \"scattermapbox\"}, {\"customdata\": [[1, \"7\"]], \"hoverlabel\": {\"namelength\": 0}, \"hovertemplate\": \"<b>%{hovertext}</b><br><br>cluster=%{customdata[1]}<br>vSegDir=%{customdata[0]}<br>longitude=%{lat}<br>latitude=%{lon}\", \"hovertext\": [500.0], \"lat\": [41.009731], \"legendgroup\": \"cluster=7\", \"lon\": [28.953346000000003], \"marker\": {\"color\": \"#EF553B\"}, \"mode\": \"markers\", \"name\": \"cluster=7\", \"showlegend\": true, \"subplot\": \"mapbox\", \"type\": \"scattermapbox\"}, {\"customdata\": [[0, \"24\"], [1, \"24\"], [0, \"24\"], [1, \"24\"], [0, \"24\"], [1, \"24\"], [0, \"24\"], [1, \"24\"], [0, \"24\"], [1, \"24\"], [0, \"24\"], [0, \"24\"], [0, \"24\"], [1, \"24\"]], \"hoverlabel\": {\"namelength\": 0}, \"hovertemplate\": \"<b>%{hovertext}</b><br><br>cluster=%{customdata[1]}<br>vSegDir=%{customdata[0]}<br>longitude=%{lat}<br>latitude=%{lon}\", \"hovertext\": [542.0, 542.0, 543.0, 543.0, 544.0, 544.0, 546.0, 546.0, 547.0, 547.0, 548.0, 571.0, 572.0, 573.0], \"lat\": [41.108695, 41.100504, 41.100555, 41.0924927, 41.092424, 41.08377279999999, 41.0794026, 41.0726032, 41.0725949, 41.06588350000001, 41.066058, 41.0627507, 41.0547215, 41.0429295], \"legendgroup\": \"cluster=24\", \"lon\": [29.058943, 29.054712, 29.054582, 29.0550007, 29.054925, 29.0568168, 29.0476612, 29.044725300000003, 29.0445595, 29.041497600000003, 29.041447100000006, 29.0544844, 29.052140100000006, 29.041957300000004], \"marker\": {\"color\": \"#00cc96\"}, \"mode\": \"markers\", \"name\": \"cluster=24\", \"showlegend\": true, \"subplot\": \"mapbox\", \"type\": \"scattermapbox\"}, {\"customdata\": [[0, \"1\"], [1, \"1\"]], \"hoverlabel\": {\"namelength\": 0}, \"hovertemplate\": \"<b>%{hovertext}</b><br><br>cluster=%{customdata[1]}<br>vSegDir=%{customdata[0]}<br>longitude=%{lat}<br>latitude=%{lon}\", \"hovertext\": [550.0, 550.0], \"lat\": [41.0486543, 41.0460455], \"legendgroup\": \"cluster=1\", \"lon\": [29.0266245, 29.0199994], \"marker\": {\"color\": \"#ab63fa\"}, \"mode\": \"markers\", \"name\": \"cluster=1\", \"showlegend\": true, \"subplot\": \"mapbox\", \"type\": \"scattermapbox\"}, {\"customdata\": [[0, \"21\"]], \"hoverlabel\": {\"namelength\": 0}, \"hovertemplate\": \"<b>%{hovertext}</b><br><br>cluster=%{customdata[1]}<br>vSegDir=%{customdata[0]}<br>longitude=%{lat}<br>latitude=%{lon}\", \"hovertext\": [573.0], \"lat\": [41.0472141], \"legendgroup\": \"cluster=21\", \"lon\": [29.0523077], \"marker\": {\"color\": \"#FFA15A\"}, \"mode\": \"markers\", \"name\": \"cluster=21\", \"showlegend\": true, \"subplot\": \"mapbox\", \"type\": \"scattermapbox\"}, {\"customdata\": [[1, \"19\"]], \"hoverlabel\": {\"namelength\": 0}, \"hovertemplate\": \"<b>%{hovertext}</b><br><br>cluster=%{customdata[1]}<br>vSegDir=%{customdata[0]}<br>longitude=%{lat}<br>latitude=%{lon}\", \"hovertext\": [743.0], \"lat\": [41.070513], \"legendgroup\": \"cluster=19\", \"lon\": [29.015109], \"marker\": {\"color\": \"#19d3f3\"}, \"mode\": \"markers\", \"name\": \"cluster=19\", \"showlegend\": true, \"subplot\": \"mapbox\", \"type\": \"scattermapbox\"}, {\"customdata\": [[0, \"4\"]], \"hoverlabel\": {\"namelength\": 0}, \"hovertemplate\": \"<b>%{hovertext}</b><br><br>cluster=%{customdata[1]}<br>vSegDir=%{customdata[0]}<br>longitude=%{lat}<br>latitude=%{lon}\", \"hovertext\": [759.0], \"lat\": [41.012588], \"legendgroup\": \"cluster=4\", \"lon\": [29.020281], \"marker\": {\"color\": \"#FF6692\"}, \"mode\": \"markers\", \"name\": \"cluster=4\", \"showlegend\": true, \"subplot\": \"mapbox\", \"type\": \"scattermapbox\"}, {\"customdata\": [[1, \"32\"]], \"hoverlabel\": {\"namelength\": 0}, \"hovertemplate\": \"<b>%{hovertext}</b><br><br>cluster=%{customdata[1]}<br>vSegDir=%{customdata[0]}<br>longitude=%{lat}<br>latitude=%{lon}\", \"hovertext\": [759.0], \"lat\": [41.0154266], \"legendgroup\": \"cluster=32\", \"lon\": [29.028667100000003], \"marker\": {\"color\": \"#B6E880\"}, \"mode\": \"markers\", \"name\": \"cluster=32\", \"showlegend\": true, \"subplot\": \"mapbox\", \"type\": \"scattermapbox\"}, {\"customdata\": [[1, \"28\"]], \"hoverlabel\": {\"namelength\": 0}, \"hovertemplate\": \"<b>%{hovertext}</b><br><br>cluster=%{customdata[1]}<br>vSegDir=%{customdata[0]}<br>longitude=%{lat}<br>latitude=%{lon}\", \"hovertext\": [768.0], \"lat\": [41.020856], \"legendgroup\": \"cluster=28\", \"lon\": [29.120802], \"marker\": {\"color\": \"#FF97FF\"}, \"mode\": \"markers\", \"name\": \"cluster=28\", \"showlegend\": true, \"subplot\": \"mapbox\", \"type\": \"scattermapbox\"}, {\"customdata\": [[0, \"23\"], [1, \"23\"], [1, \"23\"]], \"hoverlabel\": {\"namelength\": 0}, \"hovertemplate\": \"<b>%{hovertext}</b><br><br>cluster=%{customdata[1]}<br>vSegDir=%{customdata[0]}<br>longitude=%{lat}<br>latitude=%{lon}\", \"hovertext\": [80.0, 80.0, 81.0], \"lat\": [41.109694, 41.112457, 41.112462], \"legendgroup\": \"cluster=23\", \"lon\": [29.033081, 29.044127000000003, 29.055740000000004], \"marker\": {\"color\": \"#FECB52\"}, \"mode\": \"markers\", \"name\": \"cluster=23\", \"showlegend\": true, \"subplot\": \"mapbox\", \"type\": \"scattermapbox\"}, {\"customdata\": [[1, \"10\"], [1, \"10\"], [1, \"10\"], [1, \"10\"], [1, \"10\"]], \"hoverlabel\": {\"namelength\": 0}, \"hovertemplate\": \"<b>%{hovertext}</b><br><br>cluster=%{customdata[1]}<br>vSegDir=%{customdata[0]}<br>longitude=%{lat}<br>latitude=%{lon}\", \"hovertext\": [84.0, 85.0, 86.0, 87.0, 89.0], \"lat\": [41.086405, 41.079199, 41.073883, 41.06863, 41.054855], \"legendgroup\": \"cluster=10\", \"lon\": [28.869698, 28.876708, 28.885984000000004, 28.895512, 28.909952], \"marker\": {\"color\": \"#636efa\"}, \"mode\": \"markers\", \"name\": \"cluster=10\", \"showlegend\": true, \"subplot\": \"mapbox\", \"type\": \"scattermapbox\"}, {\"customdata\": [[0, \"27\"]], \"hoverlabel\": {\"namelength\": 0}, \"hovertemplate\": \"<b>%{hovertext}</b><br><br>cluster=%{customdata[1]}<br>vSegDir=%{customdata[0]}<br>longitude=%{lat}<br>latitude=%{lon}\", \"hovertext\": [88.0], \"lat\": [41.068517], \"legendgroup\": \"cluster=27\", \"lon\": [28.89543], \"marker\": {\"color\": \"#EF553B\"}, \"mode\": \"markers\", \"name\": \"cluster=27\", \"showlegend\": true, \"subplot\": \"mapbox\", \"type\": \"scattermapbox\"}],\n",
              "                        {\"height\": 600, \"legend\": {\"tracegroupgap\": 0}, \"mapbox\": {\"center\": {\"lat\": 41.04406665006823, \"lon\": 28.949562592087293}, \"domain\": {\"x\": [0.0, 1.0], \"y\": [0.0, 1.0]}, \"style\": \"open-street-map\", \"zoom\": 4}, \"margin\": {\"b\": 0, \"l\": 0, \"r\": 0, \"t\": 0}, \"template\": {\"data\": {\"bar\": [{\"error_x\": {\"color\": \"#2a3f5f\"}, \"error_y\": {\"color\": \"#2a3f5f\"}, \"marker\": {\"line\": {\"color\": \"#E5ECF6\", \"width\": 0.5}}, \"type\": \"bar\"}], \"barpolar\": [{\"marker\": {\"line\": {\"color\": \"#E5ECF6\", \"width\": 0.5}}, \"type\": \"barpolar\"}], \"carpet\": [{\"aaxis\": {\"endlinecolor\": \"#2a3f5f\", \"gridcolor\": \"white\", \"linecolor\": \"white\", \"minorgridcolor\": \"white\", \"startlinecolor\": \"#2a3f5f\"}, \"baxis\": {\"endlinecolor\": \"#2a3f5f\", \"gridcolor\": \"white\", \"linecolor\": \"white\", \"minorgridcolor\": \"white\", \"startlinecolor\": \"#2a3f5f\"}, \"type\": \"carpet\"}], \"choropleth\": [{\"colorbar\": {\"outlinewidth\": 0, \"ticks\": \"\"}, \"type\": \"choropleth\"}], \"contour\": [{\"colorbar\": {\"outlinewidth\": 0, \"ticks\": \"\"}, \"colorscale\": [[0.0, \"#0d0887\"], [0.1111111111111111, \"#46039f\"], [0.2222222222222222, \"#7201a8\"], [0.3333333333333333, \"#9c179e\"], [0.4444444444444444, \"#bd3786\"], [0.5555555555555556, \"#d8576b\"], [0.6666666666666666, \"#ed7953\"], [0.7777777777777778, \"#fb9f3a\"], [0.8888888888888888, \"#fdca26\"], [1.0, \"#f0f921\"]], \"type\": \"contour\"}], \"contourcarpet\": [{\"colorbar\": {\"outlinewidth\": 0, \"ticks\": \"\"}, \"type\": \"contourcarpet\"}], \"heatmap\": [{\"colorbar\": {\"outlinewidth\": 0, \"ticks\": \"\"}, \"colorscale\": [[0.0, \"#0d0887\"], [0.1111111111111111, \"#46039f\"], [0.2222222222222222, \"#7201a8\"], [0.3333333333333333, \"#9c179e\"], [0.4444444444444444, \"#bd3786\"], [0.5555555555555556, \"#d8576b\"], [0.6666666666666666, \"#ed7953\"], [0.7777777777777778, \"#fb9f3a\"], [0.8888888888888888, \"#fdca26\"], [1.0, \"#f0f921\"]], \"type\": \"heatmap\"}], \"heatmapgl\": [{\"colorbar\": {\"outlinewidth\": 0, \"ticks\": \"\"}, \"colorscale\": [[0.0, \"#0d0887\"], [0.1111111111111111, \"#46039f\"], [0.2222222222222222, \"#7201a8\"], [0.3333333333333333, \"#9c179e\"], [0.4444444444444444, \"#bd3786\"], [0.5555555555555556, \"#d8576b\"], [0.6666666666666666, \"#ed7953\"], [0.7777777777777778, \"#fb9f3a\"], [0.8888888888888888, \"#fdca26\"], [1.0, \"#f0f921\"]], \"type\": \"heatmapgl\"}], \"histogram\": [{\"marker\": {\"colorbar\": {\"outlinewidth\": 0, \"ticks\": \"\"}}, \"type\": \"histogram\"}], \"histogram2d\": [{\"colorbar\": {\"outlinewidth\": 0, \"ticks\": \"\"}, \"colorscale\": [[0.0, \"#0d0887\"], [0.1111111111111111, \"#46039f\"], [0.2222222222222222, \"#7201a8\"], [0.3333333333333333, \"#9c179e\"], [0.4444444444444444, \"#bd3786\"], [0.5555555555555556, \"#d8576b\"], [0.6666666666666666, \"#ed7953\"], [0.7777777777777778, \"#fb9f3a\"], [0.8888888888888888, \"#fdca26\"], [1.0, \"#f0f921\"]], \"type\": \"histogram2d\"}], \"histogram2dcontour\": [{\"colorbar\": {\"outlinewidth\": 0, \"ticks\": \"\"}, \"colorscale\": [[0.0, \"#0d0887\"], [0.1111111111111111, \"#46039f\"], [0.2222222222222222, \"#7201a8\"], [0.3333333333333333, \"#9c179e\"], [0.4444444444444444, \"#bd3786\"], [0.5555555555555556, \"#d8576b\"], [0.6666666666666666, \"#ed7953\"], [0.7777777777777778, \"#fb9f3a\"], [0.8888888888888888, \"#fdca26\"], [1.0, \"#f0f921\"]], \"type\": \"histogram2dcontour\"}], \"mesh3d\": [{\"colorbar\": {\"outlinewidth\": 0, \"ticks\": \"\"}, \"type\": \"mesh3d\"}], \"parcoords\": [{\"line\": {\"colorbar\": {\"outlinewidth\": 0, \"ticks\": \"\"}}, \"type\": \"parcoords\"}], \"pie\": [{\"automargin\": true, \"type\": \"pie\"}], \"scatter\": [{\"marker\": {\"colorbar\": {\"outlinewidth\": 0, \"ticks\": \"\"}}, \"type\": \"scatter\"}], \"scatter3d\": [{\"line\": {\"colorbar\": {\"outlinewidth\": 0, \"ticks\": \"\"}}, \"marker\": {\"colorbar\": {\"outlinewidth\": 0, \"ticks\": \"\"}}, \"type\": \"scatter3d\"}], \"scattercarpet\": [{\"marker\": {\"colorbar\": {\"outlinewidth\": 0, \"ticks\": \"\"}}, \"type\": \"scattercarpet\"}], \"scattergeo\": [{\"marker\": {\"colorbar\": {\"outlinewidth\": 0, \"ticks\": \"\"}}, \"type\": \"scattergeo\"}], \"scattergl\": [{\"marker\": {\"colorbar\": {\"outlinewidth\": 0, \"ticks\": \"\"}}, \"type\": \"scattergl\"}], \"scattermapbox\": [{\"marker\": {\"colorbar\": {\"outlinewidth\": 0, \"ticks\": \"\"}}, \"type\": \"scattermapbox\"}], \"scatterpolar\": [{\"marker\": {\"colorbar\": {\"outlinewidth\": 0, \"ticks\": \"\"}}, \"type\": \"scatterpolar\"}], \"scatterpolargl\": [{\"marker\": {\"colorbar\": {\"outlinewidth\": 0, \"ticks\": \"\"}}, \"type\": \"scatterpolargl\"}], \"scatterternary\": [{\"marker\": {\"colorbar\": {\"outlinewidth\": 0, \"ticks\": \"\"}}, \"type\": \"scatterternary\"}], \"surface\": [{\"colorbar\": {\"outlinewidth\": 0, \"ticks\": \"\"}, \"colorscale\": [[0.0, \"#0d0887\"], [0.1111111111111111, \"#46039f\"], [0.2222222222222222, \"#7201a8\"], [0.3333333333333333, \"#9c179e\"], [0.4444444444444444, \"#bd3786\"], [0.5555555555555556, \"#d8576b\"], [0.6666666666666666, \"#ed7953\"], [0.7777777777777778, \"#fb9f3a\"], [0.8888888888888888, \"#fdca26\"], [1.0, \"#f0f921\"]], \"type\": \"surface\"}], \"table\": [{\"cells\": {\"fill\": {\"color\": \"#EBF0F8\"}, \"line\": {\"color\": \"white\"}}, \"header\": {\"fill\": {\"color\": \"#C8D4E3\"}, \"line\": {\"color\": \"white\"}}, \"type\": \"table\"}]}, \"layout\": {\"annotationdefaults\": {\"arrowcolor\": \"#2a3f5f\", \"arrowhead\": 0, \"arrowwidth\": 1}, \"coloraxis\": {\"colorbar\": {\"outlinewidth\": 0, \"ticks\": \"\"}}, \"colorscale\": {\"diverging\": [[0, \"#8e0152\"], [0.1, \"#c51b7d\"], [0.2, \"#de77ae\"], [0.3, \"#f1b6da\"], [0.4, \"#fde0ef\"], [0.5, \"#f7f7f7\"], [0.6, \"#e6f5d0\"], [0.7, \"#b8e186\"], [0.8, \"#7fbc41\"], [0.9, \"#4d9221\"], [1, \"#276419\"]], \"sequential\": [[0.0, \"#0d0887\"], [0.1111111111111111, \"#46039f\"], [0.2222222222222222, \"#7201a8\"], [0.3333333333333333, \"#9c179e\"], [0.4444444444444444, \"#bd3786\"], [0.5555555555555556, \"#d8576b\"], [0.6666666666666666, \"#ed7953\"], [0.7777777777777778, \"#fb9f3a\"], [0.8888888888888888, \"#fdca26\"], [1.0, \"#f0f921\"]], \"sequentialminus\": [[0.0, \"#0d0887\"], [0.1111111111111111, \"#46039f\"], [0.2222222222222222, \"#7201a8\"], [0.3333333333333333, \"#9c179e\"], [0.4444444444444444, \"#bd3786\"], [0.5555555555555556, \"#d8576b\"], [0.6666666666666666, \"#ed7953\"], [0.7777777777777778, \"#fb9f3a\"], [0.8888888888888888, \"#fdca26\"], [1.0, \"#f0f921\"]]}, \"colorway\": [\"#636efa\", \"#EF553B\", \"#00cc96\", \"#ab63fa\", \"#FFA15A\", \"#19d3f3\", \"#FF6692\", \"#B6E880\", \"#FF97FF\", \"#FECB52\"], \"font\": {\"color\": \"#2a3f5f\"}, \"geo\": {\"bgcolor\": \"white\", \"lakecolor\": \"white\", \"landcolor\": \"#E5ECF6\", \"showlakes\": true, \"showland\": true, \"subunitcolor\": \"white\"}, \"hoverlabel\": {\"align\": \"left\"}, \"hovermode\": \"closest\", \"mapbox\": {\"style\": \"light\"}, \"paper_bgcolor\": \"white\", \"plot_bgcolor\": \"#E5ECF6\", \"polar\": {\"angularaxis\": {\"gridcolor\": \"white\", \"linecolor\": \"white\", \"ticks\": \"\"}, \"bgcolor\": \"#E5ECF6\", \"radialaxis\": {\"gridcolor\": \"white\", \"linecolor\": \"white\", \"ticks\": \"\"}}, \"scene\": {\"xaxis\": {\"backgroundcolor\": \"#E5ECF6\", \"gridcolor\": \"white\", \"gridwidth\": 2, \"linecolor\": \"white\", \"showbackground\": true, \"ticks\": \"\", \"zerolinecolor\": \"white\"}, \"yaxis\": {\"backgroundcolor\": \"#E5ECF6\", \"gridcolor\": \"white\", \"gridwidth\": 2, \"linecolor\": \"white\", \"showbackground\": true, \"ticks\": \"\", \"zerolinecolor\": \"white\"}, \"zaxis\": {\"backgroundcolor\": \"#E5ECF6\", \"gridcolor\": \"white\", \"gridwidth\": 2, \"linecolor\": \"white\", \"showbackground\": true, \"ticks\": \"\", \"zerolinecolor\": \"white\"}}, \"shapedefaults\": {\"line\": {\"color\": \"#2a3f5f\"}}, \"ternary\": {\"aaxis\": {\"gridcolor\": \"white\", \"linecolor\": \"white\", \"ticks\": \"\"}, \"baxis\": {\"gridcolor\": \"white\", \"linecolor\": \"white\", \"ticks\": \"\"}, \"bgcolor\": \"#E5ECF6\", \"caxis\": {\"gridcolor\": \"white\", \"linecolor\": \"white\", \"ticks\": \"\"}}, \"title\": {\"x\": 0.05}, \"xaxis\": {\"automargin\": true, \"gridcolor\": \"white\", \"linecolor\": \"white\", \"ticks\": \"\", \"title\": {\"standoff\": 15}, \"zerolinecolor\": \"white\", \"zerolinewidth\": 2}, \"yaxis\": {\"automargin\": true, \"gridcolor\": \"white\", \"linecolor\": \"white\", \"ticks\": \"\", \"title\": {\"standoff\": 15}, \"zerolinecolor\": \"white\", \"zerolinewidth\": 2}}}},\n",
              "                        {\"responsive\": true}\n",
              "                    ).then(function(){\n",
              "                            \n",
              "var gd = document.getElementById('b67aeb95-d242-48a0-8392-499002aa9c95');\n",
              "var x = new MutationObserver(function (mutations, observer) {{\n",
              "        var display = window.getComputedStyle(gd).display;\n",
              "        if (!display || display === 'none') {{\n",
              "            console.log([gd, 'removed!']);\n",
              "            Plotly.purge(gd);\n",
              "            observer.disconnect();\n",
              "        }}\n",
              "}});\n",
              "\n",
              "// Listen for the removal of the full notebook cells\n",
              "var notebookContainer = gd.closest('#notebook-container');\n",
              "if (notebookContainer) {{\n",
              "    x.observe(notebookContainer, {childList: true});\n",
              "}}\n",
              "\n",
              "// Listen for the clearing of the current output cell\n",
              "var outputEl = gd.closest('.output');\n",
              "if (outputEl) {{\n",
              "    x.observe(outputEl, {childList: true});\n",
              "}}\n",
              "\n",
              "                        })\n",
              "                };\n",
              "                \n",
              "            </script>\n",
              "        </div>\n",
              "</body>\n",
              "</html>"
            ]
          },
          "metadata": {}
        }
      ]
    }
  ]
}